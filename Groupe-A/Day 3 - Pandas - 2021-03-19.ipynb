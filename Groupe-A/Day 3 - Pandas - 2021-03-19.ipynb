{
 "cells": [
  {
   "cell_type": "markdown",
   "id": "automatic-bennett",
   "metadata": {},
   "source": [
    "# Pandas\n",
    "\n",
    "https://bedford-computing.co.uk/learning/wp-content/uploads/2015/10/Python-for-Data-Analysis.pdf"
   ]
  },
  {
   "cell_type": "code",
   "execution_count": 12,
   "id": "alien-immune",
   "metadata": {},
   "outputs": [],
   "source": [
    "import pandas as pd\n",
    "import numpy as np"
   ]
  },
  {
   "cell_type": "markdown",
   "id": "qualified-rings",
   "metadata": {},
   "source": [
    "## Series"
   ]
  },
  {
   "cell_type": "code",
   "execution_count": 4,
   "id": "cardiovascular-directory",
   "metadata": {},
   "outputs": [],
   "source": [
    "s = pd.Series([0.2, 0.4, 0.5])"
   ]
  },
  {
   "cell_type": "code",
   "execution_count": 5,
   "id": "arctic-split",
   "metadata": {},
   "outputs": [
    {
     "data": {
      "text/plain": [
       "0    0.2\n",
       "1    0.4\n",
       "2    0.5\n",
       "dtype: float64"
      ]
     },
     "execution_count": 5,
     "metadata": {},
     "output_type": "execute_result"
    }
   ],
   "source": [
    "s"
   ]
  },
  {
   "cell_type": "code",
   "execution_count": 6,
   "id": "applicable-logistics",
   "metadata": {},
   "outputs": [
    {
     "data": {
      "text/plain": [
       "'_ _ _ _ _ _ _ _ _ _ _ _ _ _ _ _ _ _ _ _ _ _ _ _ _ _ _ _ _ _ _ _ _ _ _ _ _ _ _ _ _ _ _ _ _ _ _ _ _ _ _ _ _ _ _ _ _ _ _ _ _ _ _ _ '"
      ]
     },
     "execution_count": 6,
     "metadata": {},
     "output_type": "execute_result"
    }
   ],
   "source": [
    "\"_ \" * 64"
   ]
  },
  {
   "cell_type": "code",
   "execution_count": 10,
   "id": "seven-motion",
   "metadata": {},
   "outputs": [
    {
     "data": {
      "text/plain": [
       "RangeIndex(start=0, stop=3, step=1)"
      ]
     },
     "execution_count": 10,
     "metadata": {},
     "output_type": "execute_result"
    }
   ],
   "source": [
    "s.index"
   ]
  },
  {
   "cell_type": "code",
   "execution_count": 11,
   "id": "medieval-billion",
   "metadata": {},
   "outputs": [
    {
     "data": {
      "text/plain": [
       "array([0.2, 0.4, 0.5])"
      ]
     },
     "execution_count": 11,
     "metadata": {},
     "output_type": "execute_result"
    }
   ],
   "source": [
    "s.values"
   ]
  },
  {
   "cell_type": "code",
   "execution_count": 14,
   "id": "impaired-klein",
   "metadata": {},
   "outputs": [
    {
     "data": {
      "text/plain": [
       "0.2"
      ]
     },
     "execution_count": 14,
     "metadata": {},
     "output_type": "execute_result"
    }
   ],
   "source": [
    "s[0]"
   ]
  },
  {
   "cell_type": "code",
   "execution_count": 23,
   "id": "lucky-voltage",
   "metadata": {},
   "outputs": [],
   "source": [
    "s1 = pd.Series([1, 2, 4, 8], index=[\"a\", \"b\", \"c\", \"d\"])"
   ]
  },
  {
   "cell_type": "code",
   "execution_count": 24,
   "id": "rotary-hollow",
   "metadata": {},
   "outputs": [
    {
     "data": {
      "text/plain": [
       "a    1\n",
       "b    2\n",
       "c    4\n",
       "d    8\n",
       "dtype: int64"
      ]
     },
     "execution_count": 24,
     "metadata": {},
     "output_type": "execute_result"
    }
   ],
   "source": [
    "s1"
   ]
  },
  {
   "cell_type": "code",
   "execution_count": 25,
   "id": "active-likelihood",
   "metadata": {},
   "outputs": [
    {
     "data": {
      "text/plain": [
       "1"
      ]
     },
     "execution_count": 25,
     "metadata": {},
     "output_type": "execute_result"
    }
   ],
   "source": [
    "s1[0]"
   ]
  },
  {
   "cell_type": "code",
   "execution_count": 26,
   "id": "geographic-instruction",
   "metadata": {},
   "outputs": [
    {
     "data": {
      "text/plain": [
       "1"
      ]
     },
     "execution_count": 26,
     "metadata": {},
     "output_type": "execute_result"
    }
   ],
   "source": [
    "s1[\"a\"]"
   ]
  },
  {
   "cell_type": "code",
   "execution_count": 27,
   "id": "developed-phone",
   "metadata": {},
   "outputs": [
    {
     "data": {
      "text/plain": [
       "a     2\n",
       "b     4\n",
       "c     8\n",
       "d    16\n",
       "dtype: int64"
      ]
     },
     "execution_count": 27,
     "metadata": {},
     "output_type": "execute_result"
    }
   ],
   "source": [
    "s1 * 2"
   ]
  },
  {
   "cell_type": "code",
   "execution_count": 28,
   "id": "lucky-spice",
   "metadata": {},
   "outputs": [
    {
     "data": {
      "text/plain": [
       "a       2.718282\n",
       "b       7.389056\n",
       "c      54.598150\n",
       "d    2980.957987\n",
       "dtype: float64"
      ]
     },
     "execution_count": 28,
     "metadata": {},
     "output_type": "execute_result"
    }
   ],
   "source": [
    "np.exp(s1)"
   ]
  },
  {
   "cell_type": "code",
   "execution_count": 29,
   "id": "alive-rover",
   "metadata": {},
   "outputs": [],
   "source": [
    "s2 = pd.Series({\"banane\": 2, \"kiwi\": 3, \"mangue\": 5, \"pomme\": 1, \"mandarine\": 1.5})"
   ]
  },
  {
   "cell_type": "code",
   "execution_count": 31,
   "id": "limited-timer",
   "metadata": {},
   "outputs": [
    {
     "data": {
      "text/plain": [
       "banane       2.0\n",
       "kiwi         3.0\n",
       "mangue       5.0\n",
       "pomme        1.0\n",
       "mandarine    1.5\n",
       "dtype: float64"
      ]
     },
     "execution_count": 31,
     "metadata": {},
     "output_type": "execute_result"
    }
   ],
   "source": [
    "s2"
   ]
  },
  {
   "cell_type": "code",
   "execution_count": 32,
   "id": "expired-circulation",
   "metadata": {},
   "outputs": [
    {
     "data": {
      "text/plain": [
       "banane       False\n",
       "kiwi          True\n",
       "mangue        True\n",
       "pomme        False\n",
       "mandarine    False\n",
       "dtype: bool"
      ]
     },
     "execution_count": 32,
     "metadata": {},
     "output_type": "execute_result"
    }
   ],
   "source": [
    "s2 > 2"
   ]
  },
  {
   "cell_type": "code",
   "execution_count": 38,
   "id": "direct-negotiation",
   "metadata": {},
   "outputs": [
    {
     "data": {
      "text/plain": [
       "kiwi      3.0\n",
       "mangue    5.0\n",
       "dtype: float64"
      ]
     },
     "execution_count": 38,
     "metadata": {},
     "output_type": "execute_result"
    }
   ],
   "source": [
    "s2[s2 > 2]"
   ]
  },
  {
   "cell_type": "code",
   "execution_count": 35,
   "id": "proud-wealth",
   "metadata": {},
   "outputs": [
    {
     "data": {
      "text/plain": [
       "kiwi      3.0\n",
       "mangue    5.0\n",
       "pomme     1.0\n",
       "dtype: float64"
      ]
     },
     "execution_count": 35,
     "metadata": {},
     "output_type": "execute_result"
    }
   ],
   "source": [
    "s2[(s2 > 2) | (s2 < 1.5)]"
   ]
  },
  {
   "cell_type": "code",
   "execution_count": 36,
   "id": "gothic-teacher",
   "metadata": {},
   "outputs": [
    {
     "data": {
      "text/plain": [
       "banane       False\n",
       "kiwi          True\n",
       "mangue        True\n",
       "pomme         True\n",
       "mandarine    False\n",
       "dtype: bool"
      ]
     },
     "execution_count": 36,
     "metadata": {},
     "output_type": "execute_result"
    }
   ],
   "source": [
    "(s2 > 2) | (s2 < 1.5)"
   ]
  },
  {
   "cell_type": "markdown",
   "id": "surrounded-advisory",
   "metadata": {},
   "source": [
    "`|` équivaut à \"ou\" et se tape en faisant:  sur Mac alt + shift + l ; sur windows : alt gr + 6 \n",
    "\n",
    "\n",
    "`&` équivaut à \"et\" "
   ]
  },
  {
   "cell_type": "code",
   "execution_count": 58,
   "id": "contained-reach",
   "metadata": {},
   "outputs": [
    {
     "data": {
      "text/plain": [
       "banane    2.0\n",
       "kiwi      3.0\n",
       "dtype: float64"
      ]
     },
     "execution_count": 58,
     "metadata": {},
     "output_type": "execute_result"
    }
   ],
   "source": [
    "s2[[\"banane\", \"kiwi\", \"pomme\"]][s2 >= 2]"
   ]
  },
  {
   "cell_type": "markdown",
   "id": "historical-housing",
   "metadata": {},
   "source": [
    "```\n",
    "SELECT *\n",
    "FROM s2\n",
    "WHERE \n",
    "    price >= 2\n",
    "    and name IN (\"banane\", \"kiwi\", \"pomme\")\n",
    "```"
   ]
  },
  {
   "cell_type": "code",
   "execution_count": 63,
   "id": "dense-shooting",
   "metadata": {},
   "outputs": [
    {
     "data": {
      "text/plain": [
       "1.0"
      ]
     },
     "execution_count": 63,
     "metadata": {},
     "output_type": "execute_result"
    }
   ],
   "source": [
    "s2.min() # sum, mean, min, max, median"
   ]
  },
  {
   "cell_type": "code",
   "execution_count": 64,
   "id": "becoming-exhaust",
   "metadata": {},
   "outputs": [
    {
     "data": {
      "text/plain": [
       "True"
      ]
     },
     "execution_count": 64,
     "metadata": {},
     "output_type": "execute_result"
    }
   ],
   "source": [
    "\"banane\" in s2"
   ]
  },
  {
   "cell_type": "code",
   "execution_count": 65,
   "id": "entertaining-cinema",
   "metadata": {},
   "outputs": [
    {
     "data": {
      "text/plain": [
       "False"
      ]
     },
     "execution_count": 65,
     "metadata": {},
     "output_type": "execute_result"
    }
   ],
   "source": [
    "\"tomate\" in s2"
   ]
  },
  {
   "cell_type": "code",
   "execution_count": 66,
   "id": "proud-deviation",
   "metadata": {},
   "outputs": [
    {
     "data": {
      "text/plain": [
       "banane       2.0\n",
       "kiwi         3.0\n",
       "mangue       5.0\n",
       "pomme        1.0\n",
       "mandarine    1.5\n",
       "dtype: float64"
      ]
     },
     "execution_count": 66,
     "metadata": {},
     "output_type": "execute_result"
    }
   ],
   "source": [
    "s2"
   ]
  },
  {
   "cell_type": "code",
   "execution_count": 67,
   "id": "involved-blame",
   "metadata": {},
   "outputs": [],
   "source": [
    "s3 = pd.Series({\"tomate\": 1, \"pomme\": 1.5, \"kiwi\": 4})"
   ]
  },
  {
   "cell_type": "code",
   "execution_count": 71,
   "id": "simple-minimum",
   "metadata": {},
   "outputs": [
    {
     "data": {
      "text/plain": [
       "tomate    1.0\n",
       "pomme     1.5\n",
       "kiwi      4.0\n",
       "dtype: float64"
      ]
     },
     "execution_count": 71,
     "metadata": {},
     "output_type": "execute_result"
    }
   ],
   "source": [
    "s3"
   ]
  },
  {
   "cell_type": "code",
   "execution_count": 74,
   "id": "chubby-freeze",
   "metadata": {},
   "outputs": [],
   "source": [
    "r1 = s2 + s3"
   ]
  },
  {
   "cell_type": "code",
   "execution_count": 70,
   "id": "outstanding-casting",
   "metadata": {},
   "outputs": [],
   "source": [
    "# NaN = Not A Number ------> c'est la valeur nulle en numpy (équivaut à None en Python)"
   ]
  },
  {
   "cell_type": "code",
   "execution_count": 73,
   "id": "legislative-truth",
   "metadata": {},
   "outputs": [
    {
     "data": {
      "text/plain": [
       "nan"
      ]
     },
     "execution_count": 73,
     "metadata": {},
     "output_type": "execute_result"
    }
   ],
   "source": [
    "np.NaN + 1.0"
   ]
  },
  {
   "cell_type": "code",
   "execution_count": 77,
   "id": "musical-joshua",
   "metadata": {},
   "outputs": [
    {
     "data": {
      "text/plain": [
       "kiwi     7.0\n",
       "pomme    2.5\n",
       "dtype: float64"
      ]
     },
     "execution_count": 77,
     "metadata": {},
     "output_type": "execute_result"
    }
   ],
   "source": [
    "r1[r1.notnull()]"
   ]
  },
  {
   "cell_type": "code",
   "execution_count": 78,
   "id": "necessary-humor",
   "metadata": {},
   "outputs": [
    {
     "data": {
      "text/plain": [
       "banane      NaN\n",
       "mandarine   NaN\n",
       "mangue      NaN\n",
       "tomate      NaN\n",
       "dtype: float64"
      ]
     },
     "execution_count": 78,
     "metadata": {},
     "output_type": "execute_result"
    }
   ],
   "source": [
    "r1[r1.isnull()]"
   ]
  },
  {
   "cell_type": "code",
   "execution_count": 79,
   "id": "fantastic-course",
   "metadata": {},
   "outputs": [
    {
     "data": {
      "text/plain": [
       "banane        NaN\n",
       "kiwi         12.0\n",
       "mandarine     NaN\n",
       "mangue        NaN\n",
       "pomme         1.5\n",
       "tomate        NaN\n",
       "dtype: float64"
      ]
     },
     "execution_count": 79,
     "metadata": {},
     "output_type": "execute_result"
    }
   ],
   "source": [
    "s2 * s3"
   ]
  },
  {
   "cell_type": "code",
   "execution_count": 83,
   "id": "revised-postage",
   "metadata": {},
   "outputs": [
    {
     "data": {
      "text/plain": [
       "Index(['banane', 'mandarine', 'mangue', 'tomate'], dtype='object')"
      ]
     },
     "execution_count": 83,
     "metadata": {},
     "output_type": "execute_result"
    }
   ],
   "source": [
    "r1[r1.isnull()].index"
   ]
  },
  {
   "cell_type": "markdown",
   "id": "loose-anger",
   "metadata": {},
   "source": [
    "## Dataframe"
   ]
  },
  {
   "cell_type": "code",
   "execution_count": 84,
   "id": "atomic-texture",
   "metadata": {},
   "outputs": [],
   "source": [
    "# Collection de pd.Series en lignes et colonnes"
   ]
  },
  {
   "cell_type": "code",
   "execution_count": 109,
   "id": "wound-postcard",
   "metadata": {},
   "outputs": [],
   "source": [
    "data = {\n",
    "    \"city\": [\"Paris\", \"London\", \"Berlin\"],\n",
    "    \"density\": [3550, 5100, 3750],\n",
    "    \"area\": [2723, 1623, 984],\n",
    "    \"population\": [9645000, 8278000, 3675000],\n",
    "}"
   ]
  },
  {
   "cell_type": "code",
   "execution_count": 110,
   "id": "tribal-computer",
   "metadata": {},
   "outputs": [],
   "source": [
    "df = pd.DataFrame(data)"
   ]
  },
  {
   "cell_type": "code",
   "execution_count": 87,
   "id": "worst-alarm",
   "metadata": {},
   "outputs": [
    {
     "data": {
      "text/html": [
       "<div>\n",
       "<style scoped>\n",
       "    .dataframe tbody tr th:only-of-type {\n",
       "        vertical-align: middle;\n",
       "    }\n",
       "\n",
       "    .dataframe tbody tr th {\n",
       "        vertical-align: top;\n",
       "    }\n",
       "\n",
       "    .dataframe thead th {\n",
       "        text-align: right;\n",
       "    }\n",
       "</style>\n",
       "<table border=\"1\" class=\"dataframe\">\n",
       "  <thead>\n",
       "    <tr style=\"text-align: right;\">\n",
       "      <th></th>\n",
       "      <th>city</th>\n",
       "      <th>density</th>\n",
       "      <th>area</th>\n",
       "      <th>population</th>\n",
       "    </tr>\n",
       "  </thead>\n",
       "  <tbody>\n",
       "    <tr>\n",
       "      <th>0</th>\n",
       "      <td>Paris</td>\n",
       "      <td>3550</td>\n",
       "      <td>2723</td>\n",
       "      <td>9645000</td>\n",
       "    </tr>\n",
       "    <tr>\n",
       "      <th>1</th>\n",
       "      <td>London</td>\n",
       "      <td>5100</td>\n",
       "      <td>1623</td>\n",
       "      <td>8278000</td>\n",
       "    </tr>\n",
       "    <tr>\n",
       "      <th>2</th>\n",
       "      <td>Berlin</td>\n",
       "      <td>3750</td>\n",
       "      <td>984</td>\n",
       "      <td>3675000</td>\n",
       "    </tr>\n",
       "  </tbody>\n",
       "</table>\n",
       "</div>"
      ],
      "text/plain": [
       "     city  density  area  population\n",
       "0   Paris     3550  2723     9645000\n",
       "1  London     5100  1623     8278000\n",
       "2  Berlin     3750   984     3675000"
      ]
     },
     "execution_count": 87,
     "metadata": {},
     "output_type": "execute_result"
    }
   ],
   "source": [
    "df"
   ]
  },
  {
   "cell_type": "code",
   "execution_count": 89,
   "id": "faced-client",
   "metadata": {},
   "outputs": [
    {
     "data": {
      "text/plain": [
       "pandas.core.series.Series"
      ]
     },
     "execution_count": 89,
     "metadata": {},
     "output_type": "execute_result"
    }
   ],
   "source": [
    "type(df[\"city\"])"
   ]
  },
  {
   "cell_type": "code",
   "execution_count": 90,
   "id": "iraqi-insertion",
   "metadata": {},
   "outputs": [
    {
     "data": {
      "text/plain": [
       "pandas.core.frame.DataFrame"
      ]
     },
     "execution_count": 90,
     "metadata": {},
     "output_type": "execute_result"
    }
   ],
   "source": [
    "type(df)"
   ]
  },
  {
   "cell_type": "code",
   "execution_count": 92,
   "id": "innocent-subject",
   "metadata": {},
   "outputs": [
    {
     "data": {
      "text/plain": [
       "city          object\n",
       "density        int64\n",
       "area           int64\n",
       "population     int64\n",
       "dtype: object"
      ]
     },
     "execution_count": 92,
     "metadata": {},
     "output_type": "execute_result"
    }
   ],
   "source": [
    "df.dtypes"
   ]
  },
  {
   "cell_type": "code",
   "execution_count": 93,
   "id": "incredible-brisbane",
   "metadata": {},
   "outputs": [
    {
     "name": "stdout",
     "output_type": "stream",
     "text": [
      "<class 'pandas.core.frame.DataFrame'>\n",
      "RangeIndex: 3 entries, 0 to 2\n",
      "Data columns (total 4 columns):\n",
      " #   Column      Non-Null Count  Dtype \n",
      "---  ------      --------------  ----- \n",
      " 0   city        3 non-null      object\n",
      " 1   density     3 non-null      int64 \n",
      " 2   area        3 non-null      int64 \n",
      " 3   population  3 non-null      int64 \n",
      "dtypes: int64(3), object(1)\n",
      "memory usage: 224.0+ bytes\n"
     ]
    }
   ],
   "source": [
    "df.info()"
   ]
  },
  {
   "cell_type": "code",
   "execution_count": 95,
   "id": "frank-blocking",
   "metadata": {},
   "outputs": [
    {
     "data": {
      "text/html": [
       "<div>\n",
       "<style scoped>\n",
       "    .dataframe tbody tr th:only-of-type {\n",
       "        vertical-align: middle;\n",
       "    }\n",
       "\n",
       "    .dataframe tbody tr th {\n",
       "        vertical-align: top;\n",
       "    }\n",
       "\n",
       "    .dataframe thead th {\n",
       "        text-align: right;\n",
       "    }\n",
       "</style>\n",
       "<table border=\"1\" class=\"dataframe\">\n",
       "  <thead>\n",
       "    <tr style=\"text-align: right;\">\n",
       "      <th></th>\n",
       "      <th>density</th>\n",
       "      <th>area</th>\n",
       "      <th>population</th>\n",
       "    </tr>\n",
       "  </thead>\n",
       "  <tbody>\n",
       "    <tr>\n",
       "      <th>count</th>\n",
       "      <td>3.000000</td>\n",
       "      <td>3.000000</td>\n",
       "      <td>3.000000e+00</td>\n",
       "    </tr>\n",
       "    <tr>\n",
       "      <th>mean</th>\n",
       "      <td>4133.333333</td>\n",
       "      <td>1776.666667</td>\n",
       "      <td>7.199333e+06</td>\n",
       "    </tr>\n",
       "    <tr>\n",
       "      <th>std</th>\n",
       "      <td>843.109325</td>\n",
       "      <td>879.625110</td>\n",
       "      <td>3.127757e+06</td>\n",
       "    </tr>\n",
       "    <tr>\n",
       "      <th>min</th>\n",
       "      <td>3550.000000</td>\n",
       "      <td>984.000000</td>\n",
       "      <td>3.675000e+06</td>\n",
       "    </tr>\n",
       "    <tr>\n",
       "      <th>25%</th>\n",
       "      <td>3650.000000</td>\n",
       "      <td>1303.500000</td>\n",
       "      <td>5.976500e+06</td>\n",
       "    </tr>\n",
       "    <tr>\n",
       "      <th>50%</th>\n",
       "      <td>3750.000000</td>\n",
       "      <td>1623.000000</td>\n",
       "      <td>8.278000e+06</td>\n",
       "    </tr>\n",
       "    <tr>\n",
       "      <th>75%</th>\n",
       "      <td>4425.000000</td>\n",
       "      <td>2173.000000</td>\n",
       "      <td>8.961500e+06</td>\n",
       "    </tr>\n",
       "    <tr>\n",
       "      <th>max</th>\n",
       "      <td>5100.000000</td>\n",
       "      <td>2723.000000</td>\n",
       "      <td>9.645000e+06</td>\n",
       "    </tr>\n",
       "  </tbody>\n",
       "</table>\n",
       "</div>"
      ],
      "text/plain": [
       "           density         area    population\n",
       "count     3.000000     3.000000  3.000000e+00\n",
       "mean   4133.333333  1776.666667  7.199333e+06\n",
       "std     843.109325   879.625110  3.127757e+06\n",
       "min    3550.000000   984.000000  3.675000e+06\n",
       "25%    3650.000000  1303.500000  5.976500e+06\n",
       "50%    3750.000000  1623.000000  8.278000e+06\n",
       "75%    4425.000000  2173.000000  8.961500e+06\n",
       "max    5100.000000  2723.000000  9.645000e+06"
      ]
     },
     "execution_count": 95,
     "metadata": {},
     "output_type": "execute_result"
    }
   ],
   "source": [
    "df.describe()"
   ]
  },
  {
   "cell_type": "code",
   "execution_count": 96,
   "id": "elementary-brass",
   "metadata": {},
   "outputs": [
    {
     "data": {
      "text/plain": [
       "array([['Paris', 3550, 2723, 9645000],\n",
       "       ['London', 5100, 1623, 8278000],\n",
       "       ['Berlin', 3750, 984, 3675000]], dtype=object)"
      ]
     },
     "execution_count": 96,
     "metadata": {},
     "output_type": "execute_result"
    }
   ],
   "source": [
    "df.values"
   ]
  },
  {
   "cell_type": "code",
   "execution_count": 97,
   "id": "marine-estate",
   "metadata": {},
   "outputs": [
    {
     "data": {
      "text/plain": [
       "RangeIndex(start=0, stop=3, step=1)"
      ]
     },
     "execution_count": 97,
     "metadata": {},
     "output_type": "execute_result"
    }
   ],
   "source": [
    "df.index"
   ]
  },
  {
   "cell_type": "code",
   "execution_count": 98,
   "id": "congressional-cabin",
   "metadata": {},
   "outputs": [
    {
     "data": {
      "text/plain": [
       "Index(['city', 'density', 'area', 'population'], dtype='object')"
      ]
     },
     "execution_count": 98,
     "metadata": {},
     "output_type": "execute_result"
    }
   ],
   "source": [
    "df.columns"
   ]
  },
  {
   "cell_type": "code",
   "execution_count": 111,
   "id": "gothic-glance",
   "metadata": {},
   "outputs": [],
   "source": [
    "df.columns = ['city_name', 'density', 'area', 'population']  # renommer une colonne"
   ]
  },
  {
   "cell_type": "code",
   "execution_count": 116,
   "id": "diverse-ideal",
   "metadata": {},
   "outputs": [
    {
     "data": {
      "text/html": [
       "<div>\n",
       "<style scoped>\n",
       "    .dataframe tbody tr th:only-of-type {\n",
       "        vertical-align: middle;\n",
       "    }\n",
       "\n",
       "    .dataframe tbody tr th {\n",
       "        vertical-align: top;\n",
       "    }\n",
       "\n",
       "    .dataframe thead th {\n",
       "        text-align: right;\n",
       "    }\n",
       "</style>\n",
       "<table border=\"1\" class=\"dataframe\">\n",
       "  <thead>\n",
       "    <tr style=\"text-align: right;\">\n",
       "      <th></th>\n",
       "      <th>city_name</th>\n",
       "      <th>density</th>\n",
       "      <th>area</th>\n",
       "      <th>population</th>\n",
       "    </tr>\n",
       "  </thead>\n",
       "  <tbody>\n",
       "    <tr>\n",
       "      <th>0</th>\n",
       "      <td>Paris</td>\n",
       "      <td>3550</td>\n",
       "      <td>2723</td>\n",
       "      <td>9645000</td>\n",
       "    </tr>\n",
       "    <tr>\n",
       "      <th>1</th>\n",
       "      <td>London</td>\n",
       "      <td>5100</td>\n",
       "      <td>1623</td>\n",
       "      <td>8278000</td>\n",
       "    </tr>\n",
       "    <tr>\n",
       "      <th>2</th>\n",
       "      <td>Berlin</td>\n",
       "      <td>3750</td>\n",
       "      <td>984</td>\n",
       "      <td>3675000</td>\n",
       "    </tr>\n",
       "  </tbody>\n",
       "</table>\n",
       "</div>"
      ],
      "text/plain": [
       "  city_name  density  area  population\n",
       "0     Paris     3550  2723     9645000\n",
       "1    London     5100  1623     8278000\n",
       "2    Berlin     3750   984     3675000"
      ]
     },
     "execution_count": 116,
     "metadata": {},
     "output_type": "execute_result"
    }
   ],
   "source": [
    "df"
   ]
  },
  {
   "cell_type": "code",
   "execution_count": 117,
   "id": "bright-mileage",
   "metadata": {},
   "outputs": [],
   "source": [
    "df = df.set_index(\"city_name\")  # df.set_index(\"city_name\", inplace=True)"
   ]
  },
  {
   "cell_type": "code",
   "execution_count": 118,
   "id": "collect-carolina",
   "metadata": {},
   "outputs": [
    {
     "data": {
      "text/html": [
       "<div>\n",
       "<style scoped>\n",
       "    .dataframe tbody tr th:only-of-type {\n",
       "        vertical-align: middle;\n",
       "    }\n",
       "\n",
       "    .dataframe tbody tr th {\n",
       "        vertical-align: top;\n",
       "    }\n",
       "\n",
       "    .dataframe thead th {\n",
       "        text-align: right;\n",
       "    }\n",
       "</style>\n",
       "<table border=\"1\" class=\"dataframe\">\n",
       "  <thead>\n",
       "    <tr style=\"text-align: right;\">\n",
       "      <th></th>\n",
       "      <th>density</th>\n",
       "      <th>area</th>\n",
       "      <th>population</th>\n",
       "    </tr>\n",
       "    <tr>\n",
       "      <th>city_name</th>\n",
       "      <th></th>\n",
       "      <th></th>\n",
       "      <th></th>\n",
       "    </tr>\n",
       "  </thead>\n",
       "  <tbody>\n",
       "    <tr>\n",
       "      <th>Paris</th>\n",
       "      <td>3550</td>\n",
       "      <td>2723</td>\n",
       "      <td>9645000</td>\n",
       "    </tr>\n",
       "    <tr>\n",
       "      <th>London</th>\n",
       "      <td>5100</td>\n",
       "      <td>1623</td>\n",
       "      <td>8278000</td>\n",
       "    </tr>\n",
       "    <tr>\n",
       "      <th>Berlin</th>\n",
       "      <td>3750</td>\n",
       "      <td>984</td>\n",
       "      <td>3675000</td>\n",
       "    </tr>\n",
       "  </tbody>\n",
       "</table>\n",
       "</div>"
      ],
      "text/plain": [
       "           density  area  population\n",
       "city_name                           \n",
       "Paris         3550  2723     9645000\n",
       "London        5100  1623     8278000\n",
       "Berlin        3750   984     3675000"
      ]
     },
     "execution_count": 118,
     "metadata": {},
     "output_type": "execute_result"
    }
   ],
   "source": [
    "df"
   ]
  },
  {
   "cell_type": "code",
   "execution_count": 133,
   "id": "returning-panel",
   "metadata": {},
   "outputs": [],
   "source": [
    "# df.loc[]                                         et df.iloc[]\n",
    "# ^ permet d'accéder à la donnée via les labels       ^ permet d'accéder à la donnée via les index numériques\n",
    "# loc commence par l donc labels                        iloc commence par i donc index"
   ]
  },
  {
   "cell_type": "code",
   "execution_count": 122,
   "id": "colored-absolute",
   "metadata": {},
   "outputs": [
    {
     "data": {
      "text/plain": [
       "2723"
      ]
     },
     "execution_count": 122,
     "metadata": {},
     "output_type": "execute_result"
    }
   ],
   "source": [
    "df.loc[\"Paris\", \"area\"]\n",
    "#      ^ lignes  ^ colonnes"
   ]
  },
  {
   "cell_type": "code",
   "execution_count": 127,
   "id": "imperial-surveillance",
   "metadata": {},
   "outputs": [
    {
     "data": {
      "text/plain": [
       "city_name\n",
       "Paris     2723\n",
       "London    1623\n",
       "Berlin     984\n",
       "Name: area, dtype: int64"
      ]
     },
     "execution_count": 127,
     "metadata": {},
     "output_type": "execute_result"
    }
   ],
   "source": [
    "df.loc[:, \"area\"]  # idem à df[\"area\"]\n",
    "#      ^ toutes les lignes et la colonne area"
   ]
  },
  {
   "cell_type": "code",
   "execution_count": 129,
   "id": "basic-empire",
   "metadata": {},
   "outputs": [
    {
     "data": {
      "text/plain": [
       "city_name\n",
       "Paris     2723\n",
       "London    1623\n",
       "Name: area, dtype: int64"
      ]
     },
     "execution_count": 129,
     "metadata": {},
     "output_type": "execute_result"
    }
   ],
   "source": [
    "df.loc[[\"Paris\", \"London\"], \"area\"]"
   ]
  },
  {
   "cell_type": "code",
   "execution_count": 131,
   "id": "celtic-neighbor",
   "metadata": {},
   "outputs": [
    {
     "data": {
      "text/html": [
       "<div>\n",
       "<style scoped>\n",
       "    .dataframe tbody tr th:only-of-type {\n",
       "        vertical-align: middle;\n",
       "    }\n",
       "\n",
       "    .dataframe tbody tr th {\n",
       "        vertical-align: top;\n",
       "    }\n",
       "\n",
       "    .dataframe thead th {\n",
       "        text-align: right;\n",
       "    }\n",
       "</style>\n",
       "<table border=\"1\" class=\"dataframe\">\n",
       "  <thead>\n",
       "    <tr style=\"text-align: right;\">\n",
       "      <th></th>\n",
       "      <th>density</th>\n",
       "      <th>area</th>\n",
       "      <th>population</th>\n",
       "    </tr>\n",
       "    <tr>\n",
       "      <th>city_name</th>\n",
       "      <th></th>\n",
       "      <th></th>\n",
       "      <th></th>\n",
       "    </tr>\n",
       "  </thead>\n",
       "  <tbody>\n",
       "    <tr>\n",
       "      <th>Paris</th>\n",
       "      <td>3550</td>\n",
       "      <td>2723</td>\n",
       "      <td>9645000</td>\n",
       "    </tr>\n",
       "    <tr>\n",
       "      <th>London</th>\n",
       "      <td>5100</td>\n",
       "      <td>1623</td>\n",
       "      <td>8278000</td>\n",
       "    </tr>\n",
       "  </tbody>\n",
       "</table>\n",
       "</div>"
      ],
      "text/plain": [
       "           density  area  population\n",
       "city_name                           \n",
       "Paris         3550  2723     9645000\n",
       "London        5100  1623     8278000"
      ]
     },
     "execution_count": 131,
     "metadata": {},
     "output_type": "execute_result"
    }
   ],
   "source": [
    "df.loc[[\"Paris\", \"London\"], [\"area\", \"population\"]]"
   ]
  },
  {
   "cell_type": "code",
   "execution_count": 149,
   "id": "swedish-graphic",
   "metadata": {},
   "outputs": [
    {
     "data": {
      "text/html": [
       "<div>\n",
       "<style scoped>\n",
       "    .dataframe tbody tr th:only-of-type {\n",
       "        vertical-align: middle;\n",
       "    }\n",
       "\n",
       "    .dataframe tbody tr th {\n",
       "        vertical-align: top;\n",
       "    }\n",
       "\n",
       "    .dataframe thead th {\n",
       "        text-align: right;\n",
       "    }\n",
       "</style>\n",
       "<table border=\"1\" class=\"dataframe\">\n",
       "  <thead>\n",
       "    <tr style=\"text-align: right;\">\n",
       "      <th></th>\n",
       "      <th>density</th>\n",
       "      <th>area</th>\n",
       "      <th>population</th>\n",
       "    </tr>\n",
       "    <tr>\n",
       "      <th>city_name</th>\n",
       "      <th></th>\n",
       "      <th></th>\n",
       "      <th></th>\n",
       "    </tr>\n",
       "  </thead>\n",
       "  <tbody>\n",
       "    <tr>\n",
       "      <th>Paris</th>\n",
       "      <td>3550</td>\n",
       "      <td>2723</td>\n",
       "      <td>9645000</td>\n",
       "    </tr>\n",
       "    <tr>\n",
       "      <th>London</th>\n",
       "      <td>5100</td>\n",
       "      <td>1623</td>\n",
       "      <td>8278000</td>\n",
       "    </tr>\n",
       "    <tr>\n",
       "      <th>Berlin</th>\n",
       "      <td>3750</td>\n",
       "      <td>984</td>\n",
       "      <td>3675000</td>\n",
       "    </tr>\n",
       "  </tbody>\n",
       "</table>\n",
       "</div>"
      ],
      "text/plain": [
       "           density  area  population\n",
       "city_name                           \n",
       "Paris         3550  2723     9645000\n",
       "London        5100  1623     8278000\n",
       "Berlin        3750   984     3675000"
      ]
     },
     "execution_count": 149,
     "metadata": {},
     "output_type": "execute_result"
    }
   ],
   "source": [
    "df.loc[:,\"density\":\"population\"]"
   ]
  },
  {
   "cell_type": "code",
   "execution_count": 138,
   "id": "hawaiian-contact",
   "metadata": {},
   "outputs": [
    {
     "data": {
      "text/plain": [
       "9645000"
      ]
     },
     "execution_count": 138,
     "metadata": {},
     "output_type": "execute_result"
    }
   ],
   "source": [
    "df.iloc[0,-1]"
   ]
  },
  {
   "cell_type": "code",
   "execution_count": 139,
   "id": "vertical-nurse",
   "metadata": {},
   "outputs": [
    {
     "data": {
      "text/plain": [
       "area             2723\n",
       "population    9645000\n",
       "Name: Paris, dtype: int64"
      ]
     },
     "execution_count": 139,
     "metadata": {},
     "output_type": "execute_result"
    }
   ],
   "source": [
    "df.iloc[0,1:]  # ligne 0 et toutes les colonnes sauf la premiere"
   ]
  },
  {
   "cell_type": "code",
   "execution_count": 155,
   "id": "sweet-nebraska",
   "metadata": {},
   "outputs": [
    {
     "data": {
      "text/plain": [
       "area             2723\n",
       "population    9645000\n",
       "Name: Paris, dtype: int64"
      ]
     },
     "execution_count": 155,
     "metadata": {},
     "output_type": "execute_result"
    }
   ],
   "source": [
    "df.iloc[0,1:5]  # je récupére la ligne 0 et les 5 premieres colonnes"
   ]
  },
  {
   "cell_type": "code",
   "execution_count": 150,
   "id": "fourth-mouth",
   "metadata": {},
   "outputs": [
    {
     "data": {
      "text/plain": [
       "city_name\n",
       "Paris     2723\n",
       "London    1623\n",
       "Berlin     984\n",
       "Name: area, dtype: int64"
      ]
     },
     "execution_count": 150,
     "metadata": {},
     "output_type": "execute_result"
    }
   ],
   "source": [
    "df[\"area\"]"
   ]
  },
  {
   "cell_type": "code",
   "execution_count": 151,
   "id": "cultural-truth",
   "metadata": {},
   "outputs": [
    {
     "data": {
      "text/html": [
       "<div>\n",
       "<style scoped>\n",
       "    .dataframe tbody tr th:only-of-type {\n",
       "        vertical-align: middle;\n",
       "    }\n",
       "\n",
       "    .dataframe tbody tr th {\n",
       "        vertical-align: top;\n",
       "    }\n",
       "\n",
       "    .dataframe thead th {\n",
       "        text-align: right;\n",
       "    }\n",
       "</style>\n",
       "<table border=\"1\" class=\"dataframe\">\n",
       "  <thead>\n",
       "    <tr style=\"text-align: right;\">\n",
       "      <th></th>\n",
       "      <th>area</th>\n",
       "      <th>population</th>\n",
       "    </tr>\n",
       "    <tr>\n",
       "      <th>city_name</th>\n",
       "      <th></th>\n",
       "      <th></th>\n",
       "    </tr>\n",
       "  </thead>\n",
       "  <tbody>\n",
       "    <tr>\n",
       "      <th>Paris</th>\n",
       "      <td>2723</td>\n",
       "      <td>9645000</td>\n",
       "    </tr>\n",
       "    <tr>\n",
       "      <th>London</th>\n",
       "      <td>1623</td>\n",
       "      <td>8278000</td>\n",
       "    </tr>\n",
       "    <tr>\n",
       "      <th>Berlin</th>\n",
       "      <td>984</td>\n",
       "      <td>3675000</td>\n",
       "    </tr>\n",
       "  </tbody>\n",
       "</table>\n",
       "</div>"
      ],
      "text/plain": [
       "           area  population\n",
       "city_name                  \n",
       "Paris      2723     9645000\n",
       "London     1623     8278000\n",
       "Berlin      984     3675000"
      ]
     },
     "execution_count": 151,
     "metadata": {},
     "output_type": "execute_result"
    }
   ],
   "source": [
    "df[[\"area\", \"population\"]]"
   ]
  },
  {
   "cell_type": "code",
   "execution_count": 160,
   "id": "agreed-formation",
   "metadata": {},
   "outputs": [
    {
     "data": {
      "text/plain": [
       "city_name\n",
       "Paris     3550\n",
       "London    5100\n",
       "Name: density, dtype: int64"
      ]
     },
     "execution_count": 160,
     "metadata": {},
     "output_type": "execute_result"
    }
   ],
   "source": [
    "df.loc[df[\"area\"] > 1500, \"density\"]"
   ]
  },
  {
   "cell_type": "code",
   "execution_count": 161,
   "id": "competitive-sussex",
   "metadata": {},
   "outputs": [
    {
     "data": {
      "text/plain": [
       "city_name\n",
       "Paris     3550\n",
       "London    5100\n",
       "Name: density, dtype: int64"
      ]
     },
     "execution_count": 161,
     "metadata": {},
     "output_type": "execute_result"
    }
   ],
   "source": [
    "df[df[\"area\"] > 1500][\"density\"]"
   ]
  },
  {
   "cell_type": "code",
   "execution_count": 162,
   "id": "needed-citizenship",
   "metadata": {},
   "outputs": [
    {
     "data": {
      "text/html": [
       "<div>\n",
       "<style scoped>\n",
       "    .dataframe tbody tr th:only-of-type {\n",
       "        vertical-align: middle;\n",
       "    }\n",
       "\n",
       "    .dataframe tbody tr th {\n",
       "        vertical-align: top;\n",
       "    }\n",
       "\n",
       "    .dataframe thead th {\n",
       "        text-align: right;\n",
       "    }\n",
       "</style>\n",
       "<table border=\"1\" class=\"dataframe\">\n",
       "  <thead>\n",
       "    <tr style=\"text-align: right;\">\n",
       "      <th></th>\n",
       "      <th>density</th>\n",
       "      <th>area</th>\n",
       "      <th>population</th>\n",
       "    </tr>\n",
       "    <tr>\n",
       "      <th>city_name</th>\n",
       "      <th></th>\n",
       "      <th></th>\n",
       "      <th></th>\n",
       "    </tr>\n",
       "  </thead>\n",
       "  <tbody>\n",
       "    <tr>\n",
       "      <th>Paris</th>\n",
       "      <td>3550</td>\n",
       "      <td>2723</td>\n",
       "      <td>9645000</td>\n",
       "    </tr>\n",
       "    <tr>\n",
       "      <th>London</th>\n",
       "      <td>5100</td>\n",
       "      <td>1623</td>\n",
       "      <td>8278000</td>\n",
       "    </tr>\n",
       "    <tr>\n",
       "      <th>Berlin</th>\n",
       "      <td>3750</td>\n",
       "      <td>984</td>\n",
       "      <td>3675000</td>\n",
       "    </tr>\n",
       "  </tbody>\n",
       "</table>\n",
       "</div>"
      ],
      "text/plain": [
       "           density  area  population\n",
       "city_name                           \n",
       "Paris         3550  2723     9645000\n",
       "London        5100  1623     8278000\n",
       "Berlin        3750   984     3675000"
      ]
     },
     "execution_count": 162,
     "metadata": {},
     "output_type": "execute_result"
    }
   ],
   "source": [
    "df"
   ]
  },
  {
   "cell_type": "code",
   "execution_count": 164,
   "id": "ranking-nicaragua",
   "metadata": {},
   "outputs": [],
   "source": [
    "df[\"computed_density\"] = df[\"population\"] / df[\"area\"]"
   ]
  },
  {
   "cell_type": "code",
   "execution_count": 166,
   "id": "prime-violence",
   "metadata": {},
   "outputs": [
    {
     "data": {
      "text/html": [
       "<div>\n",
       "<style scoped>\n",
       "    .dataframe tbody tr th:only-of-type {\n",
       "        vertical-align: middle;\n",
       "    }\n",
       "\n",
       "    .dataframe tbody tr th {\n",
       "        vertical-align: top;\n",
       "    }\n",
       "\n",
       "    .dataframe thead th {\n",
       "        text-align: right;\n",
       "    }\n",
       "</style>\n",
       "<table border=\"1\" class=\"dataframe\">\n",
       "  <thead>\n",
       "    <tr style=\"text-align: right;\">\n",
       "      <th></th>\n",
       "      <th>density</th>\n",
       "      <th>area</th>\n",
       "      <th>population</th>\n",
       "      <th>computed_density</th>\n",
       "    </tr>\n",
       "    <tr>\n",
       "      <th>city_name</th>\n",
       "      <th></th>\n",
       "      <th></th>\n",
       "      <th></th>\n",
       "      <th></th>\n",
       "    </tr>\n",
       "  </thead>\n",
       "  <tbody>\n",
       "    <tr>\n",
       "      <th>London</th>\n",
       "      <td>5100</td>\n",
       "      <td>1623</td>\n",
       "      <td>8278000</td>\n",
       "      <td>5100.4313</td>\n",
       "    </tr>\n",
       "  </tbody>\n",
       "</table>\n",
       "</div>"
      ],
      "text/plain": [
       "           density  area  population  computed_density\n",
       "city_name                                             \n",
       "London        5100  1623     8278000         5100.4313"
      ]
     },
     "execution_count": 166,
     "metadata": {},
     "output_type": "execute_result"
    }
   ],
   "source": [
    "df[df[\"density\"] > 4000]"
   ]
  },
  {
   "cell_type": "code",
   "execution_count": 173,
   "id": "professional-closer",
   "metadata": {},
   "outputs": [
    {
     "data": {
      "text/html": [
       "<div>\n",
       "<style scoped>\n",
       "    .dataframe tbody tr th:only-of-type {\n",
       "        vertical-align: middle;\n",
       "    }\n",
       "\n",
       "    .dataframe tbody tr th {\n",
       "        vertical-align: top;\n",
       "    }\n",
       "\n",
       "    .dataframe thead th {\n",
       "        text-align: right;\n",
       "    }\n",
       "</style>\n",
       "<table border=\"1\" class=\"dataframe\">\n",
       "  <thead>\n",
       "    <tr style=\"text-align: right;\">\n",
       "      <th></th>\n",
       "      <th>density</th>\n",
       "      <th>area</th>\n",
       "      <th>population</th>\n",
       "      <th>computed_density</th>\n",
       "    </tr>\n",
       "    <tr>\n",
       "      <th>city_name</th>\n",
       "      <th></th>\n",
       "      <th></th>\n",
       "      <th></th>\n",
       "      <th></th>\n",
       "    </tr>\n",
       "  </thead>\n",
       "  <tbody>\n",
       "    <tr>\n",
       "      <th>Paris</th>\n",
       "      <td>3550</td>\n",
       "      <td>2723</td>\n",
       "      <td>9645000</td>\n",
       "      <td>3542.049210</td>\n",
       "    </tr>\n",
       "    <tr>\n",
       "      <th>London</th>\n",
       "      <td>5100</td>\n",
       "      <td>1623</td>\n",
       "      <td>8278000</td>\n",
       "      <td>5100.431300</td>\n",
       "    </tr>\n",
       "    <tr>\n",
       "      <th>Berlin</th>\n",
       "      <td>3750</td>\n",
       "      <td>984</td>\n",
       "      <td>3675000</td>\n",
       "      <td>3734.756098</td>\n",
       "    </tr>\n",
       "  </tbody>\n",
       "</table>\n",
       "</div>"
      ],
      "text/plain": [
       "           density  area  population  computed_density\n",
       "city_name                                             \n",
       "Paris         3550  2723     9645000       3542.049210\n",
       "London        5100  1623     8278000       5100.431300\n",
       "Berlin        3750   984     3675000       3734.756098"
      ]
     },
     "execution_count": 173,
     "metadata": {},
     "output_type": "execute_result"
    }
   ],
   "source": [
    "df"
   ]
  },
  {
   "cell_type": "code",
   "execution_count": 168,
   "id": "whole-character",
   "metadata": {},
   "outputs": [
    {
     "data": {
      "text/html": [
       "<div>\n",
       "<style scoped>\n",
       "    .dataframe tbody tr th:only-of-type {\n",
       "        vertical-align: middle;\n",
       "    }\n",
       "\n",
       "    .dataframe tbody tr th {\n",
       "        vertical-align: top;\n",
       "    }\n",
       "\n",
       "    .dataframe thead th {\n",
       "        text-align: right;\n",
       "    }\n",
       "</style>\n",
       "<table border=\"1\" class=\"dataframe\">\n",
       "  <thead>\n",
       "    <tr style=\"text-align: right;\">\n",
       "      <th></th>\n",
       "      <th>density</th>\n",
       "      <th>area</th>\n",
       "      <th>population</th>\n",
       "      <th>computed_density</th>\n",
       "    </tr>\n",
       "    <tr>\n",
       "      <th>city_name</th>\n",
       "      <th></th>\n",
       "      <th></th>\n",
       "      <th></th>\n",
       "      <th></th>\n",
       "    </tr>\n",
       "  </thead>\n",
       "  <tbody>\n",
       "    <tr>\n",
       "      <th>London</th>\n",
       "      <td>5100</td>\n",
       "      <td>1623</td>\n",
       "      <td>8278000</td>\n",
       "      <td>5100.431300</td>\n",
       "    </tr>\n",
       "    <tr>\n",
       "      <th>Berlin</th>\n",
       "      <td>3750</td>\n",
       "      <td>984</td>\n",
       "      <td>3675000</td>\n",
       "      <td>3734.756098</td>\n",
       "    </tr>\n",
       "    <tr>\n",
       "      <th>Paris</th>\n",
       "      <td>3550</td>\n",
       "      <td>2723</td>\n",
       "      <td>9645000</td>\n",
       "      <td>3542.049210</td>\n",
       "    </tr>\n",
       "  </tbody>\n",
       "</table>\n",
       "</div>"
      ],
      "text/plain": [
       "           density  area  population  computed_density\n",
       "city_name                                             \n",
       "London        5100  1623     8278000       5100.431300\n",
       "Berlin        3750   984     3675000       3734.756098\n",
       "Paris         3550  2723     9645000       3542.049210"
      ]
     },
     "execution_count": 168,
     "metadata": {},
     "output_type": "execute_result"
    }
   ],
   "source": [
    "df.sort_values(\"density\", ascending=False)"
   ]
  },
  {
   "cell_type": "code",
   "execution_count": 172,
   "id": "liberal-shoot",
   "metadata": {},
   "outputs": [
    {
     "data": {
      "text/html": [
       "<div>\n",
       "<style scoped>\n",
       "    .dataframe tbody tr th:only-of-type {\n",
       "        vertical-align: middle;\n",
       "    }\n",
       "\n",
       "    .dataframe tbody tr th {\n",
       "        vertical-align: top;\n",
       "    }\n",
       "\n",
       "    .dataframe thead th {\n",
       "        text-align: right;\n",
       "    }\n",
       "</style>\n",
       "<table border=\"1\" class=\"dataframe\">\n",
       "  <thead>\n",
       "    <tr style=\"text-align: right;\">\n",
       "      <th></th>\n",
       "      <th>density</th>\n",
       "      <th>area</th>\n",
       "      <th>population</th>\n",
       "      <th>computed_density</th>\n",
       "    </tr>\n",
       "    <tr>\n",
       "      <th>city_name</th>\n",
       "      <th></th>\n",
       "      <th></th>\n",
       "      <th></th>\n",
       "      <th></th>\n",
       "    </tr>\n",
       "  </thead>\n",
       "  <tbody>\n",
       "    <tr>\n",
       "      <th>Berlin</th>\n",
       "      <td>3750</td>\n",
       "      <td>984</td>\n",
       "      <td>3675000</td>\n",
       "      <td>3734.756098</td>\n",
       "    </tr>\n",
       "    <tr>\n",
       "      <th>London</th>\n",
       "      <td>5100</td>\n",
       "      <td>1623</td>\n",
       "      <td>8278000</td>\n",
       "      <td>5100.431300</td>\n",
       "    </tr>\n",
       "    <tr>\n",
       "      <th>Paris</th>\n",
       "      <td>3550</td>\n",
       "      <td>2723</td>\n",
       "      <td>9645000</td>\n",
       "      <td>3542.049210</td>\n",
       "    </tr>\n",
       "  </tbody>\n",
       "</table>\n",
       "</div>"
      ],
      "text/plain": [
       "           density  area  population  computed_density\n",
       "city_name                                             \n",
       "Berlin        3750   984     3675000       3734.756098\n",
       "London        5100  1623     8278000       5100.431300\n",
       "Paris         3550  2723     9645000       3542.049210"
      ]
     },
     "execution_count": 172,
     "metadata": {},
     "output_type": "execute_result"
    }
   ],
   "source": [
    "df.sort_index()"
   ]
  },
  {
   "cell_type": "code",
   "execution_count": 174,
   "id": "palestinian-leather",
   "metadata": {},
   "outputs": [
    {
     "data": {
      "text/plain": [
       "['T',\n",
       " '_AXIS_LEN',\n",
       " '_AXIS_ORDERS',\n",
       " '_AXIS_REVERSED',\n",
       " '_AXIS_TO_AXIS_NUMBER',\n",
       " '_HANDLED_TYPES',\n",
       " '__abs__',\n",
       " '__add__',\n",
       " '__and__',\n",
       " '__annotations__',\n",
       " '__array__',\n",
       " '__array_priority__',\n",
       " '__array_ufunc__',\n",
       " '__array_wrap__',\n",
       " '__bool__',\n",
       " '__class__',\n",
       " '__contains__',\n",
       " '__copy__',\n",
       " '__deepcopy__',\n",
       " '__delattr__',\n",
       " '__delitem__',\n",
       " '__dict__',\n",
       " '__dir__',\n",
       " '__divmod__',\n",
       " '__doc__',\n",
       " '__eq__',\n",
       " '__finalize__',\n",
       " '__floordiv__',\n",
       " '__format__',\n",
       " '__ge__',\n",
       " '__getattr__',\n",
       " '__getattribute__',\n",
       " '__getitem__',\n",
       " '__getstate__',\n",
       " '__gt__',\n",
       " '__hash__',\n",
       " '__iadd__',\n",
       " '__iand__',\n",
       " '__ifloordiv__',\n",
       " '__imod__',\n",
       " '__imul__',\n",
       " '__init__',\n",
       " '__init_subclass__',\n",
       " '__invert__',\n",
       " '__ior__',\n",
       " '__ipow__',\n",
       " '__isub__',\n",
       " '__iter__',\n",
       " '__itruediv__',\n",
       " '__ixor__',\n",
       " '__le__',\n",
       " '__len__',\n",
       " '__lt__',\n",
       " '__matmul__',\n",
       " '__mod__',\n",
       " '__module__',\n",
       " '__mul__',\n",
       " '__ne__',\n",
       " '__neg__',\n",
       " '__new__',\n",
       " '__nonzero__',\n",
       " '__or__',\n",
       " '__pos__',\n",
       " '__pow__',\n",
       " '__radd__',\n",
       " '__rand__',\n",
       " '__rdivmod__',\n",
       " '__reduce__',\n",
       " '__reduce_ex__',\n",
       " '__repr__',\n",
       " '__rfloordiv__',\n",
       " '__rmatmul__',\n",
       " '__rmod__',\n",
       " '__rmul__',\n",
       " '__ror__',\n",
       " '__round__',\n",
       " '__rpow__',\n",
       " '__rsub__',\n",
       " '__rtruediv__',\n",
       " '__rxor__',\n",
       " '__setattr__',\n",
       " '__setitem__',\n",
       " '__setstate__',\n",
       " '__sizeof__',\n",
       " '__str__',\n",
       " '__sub__',\n",
       " '__subclasshook__',\n",
       " '__truediv__',\n",
       " '__weakref__',\n",
       " '__xor__',\n",
       " '_accessors',\n",
       " '_accum_func',\n",
       " '_add_numeric_operations',\n",
       " '_agg_by_level',\n",
       " '_agg_examples_doc',\n",
       " '_agg_summary_and_see_also_doc',\n",
       " '_aggregate',\n",
       " '_align_frame',\n",
       " '_align_series',\n",
       " '_arith_method',\n",
       " '_attrs',\n",
       " '_box_col_values',\n",
       " '_builtin_table',\n",
       " '_can_fast_transpose',\n",
       " '_check_inplace_and_allows_duplicate_labels',\n",
       " '_check_inplace_setting',\n",
       " '_check_is_chained_assignment_possible',\n",
       " '_check_label_or_level_ambiguity',\n",
       " '_check_setitem_copy',\n",
       " '_clear_item_cache',\n",
       " '_clip_with_one_bound',\n",
       " '_clip_with_scalar',\n",
       " '_cmp_method',\n",
       " '_combine_frame',\n",
       " '_consolidate',\n",
       " '_consolidate_inplace',\n",
       " '_construct_axes_dict',\n",
       " '_construct_axes_from_arguments',\n",
       " '_construct_result',\n",
       " '_constructor',\n",
       " '_constructor_expanddim',\n",
       " '_constructor_sliced',\n",
       " '_convert',\n",
       " '_count_level',\n",
       " '_cython_table',\n",
       " '_data',\n",
       " '_dir_additions',\n",
       " '_dir_deletions',\n",
       " '_dispatch_frame_op',\n",
       " '_drop_axis',\n",
       " '_drop_labels_or_levels',\n",
       " '_ensure_valid_index',\n",
       " '_find_valid_index',\n",
       " '_flags',\n",
       " '_from_arrays',\n",
       " '_get_agg_axis',\n",
       " '_get_axis',\n",
       " '_get_axis_name',\n",
       " '_get_axis_number',\n",
       " '_get_axis_resolvers',\n",
       " '_get_block_manager_axis',\n",
       " '_get_bool_data',\n",
       " '_get_cacher',\n",
       " '_get_cleaned_column_resolvers',\n",
       " '_get_column_array',\n",
       " '_get_cython_func',\n",
       " '_get_index_resolvers',\n",
       " '_get_item_cache',\n",
       " '_get_label_or_level_values',\n",
       " '_get_numeric_data',\n",
       " '_get_value',\n",
       " '_getitem_bool_array',\n",
       " '_getitem_multilevel',\n",
       " '_gotitem',\n",
       " '_hidden_attrs',\n",
       " '_indexed_same',\n",
       " '_info_axis',\n",
       " '_info_axis_name',\n",
       " '_info_axis_number',\n",
       " '_info_repr',\n",
       " '_init_mgr',\n",
       " '_inplace_method',\n",
       " '_internal_names',\n",
       " '_internal_names_set',\n",
       " '_is_builtin_func',\n",
       " '_is_cached',\n",
       " '_is_copy',\n",
       " '_is_homogeneous_type',\n",
       " '_is_label_or_level_reference',\n",
       " '_is_label_reference',\n",
       " '_is_level_reference',\n",
       " '_is_mixed_type',\n",
       " '_is_view',\n",
       " '_iset_item',\n",
       " '_item_cache',\n",
       " '_iter_column_arrays',\n",
       " '_ix',\n",
       " '_ixs',\n",
       " '_join_compat',\n",
       " '_logical_func',\n",
       " '_logical_method',\n",
       " '_maybe_cache_changed',\n",
       " '_maybe_update_cacher',\n",
       " '_metadata',\n",
       " '_mgr',\n",
       " '_min_count_stat_function',\n",
       " '_needs_reindex_multi',\n",
       " '_obj_with_exclusions',\n",
       " '_protect_consolidate',\n",
       " '_reduce',\n",
       " '_reindex_axes',\n",
       " '_reindex_columns',\n",
       " '_reindex_index',\n",
       " '_reindex_multi',\n",
       " '_reindex_with_indexers',\n",
       " '_replace_columnwise',\n",
       " '_repr_data_resource_',\n",
       " '_repr_fits_horizontal_',\n",
       " '_repr_fits_vertical_',\n",
       " '_repr_html_',\n",
       " '_repr_latex_',\n",
       " '_reset_cache',\n",
       " '_reset_cacher',\n",
       " '_sanitize_column',\n",
       " '_selected_obj',\n",
       " '_selection',\n",
       " '_selection_list',\n",
       " '_selection_name',\n",
       " '_series',\n",
       " '_set_as_cached',\n",
       " '_set_axis',\n",
       " '_set_axis_name',\n",
       " '_set_axis_nocheck',\n",
       " '_set_is_copy',\n",
       " '_set_item',\n",
       " '_set_value',\n",
       " '_setitem_array',\n",
       " '_setitem_frame',\n",
       " '_setitem_slice',\n",
       " '_slice',\n",
       " '_stat_axis',\n",
       " '_stat_axis_name',\n",
       " '_stat_axis_number',\n",
       " '_stat_function',\n",
       " '_stat_function_ddof',\n",
       " '_take_with_is_copy',\n",
       " '_to_dict_of_blocks',\n",
       " '_try_aggregate_string_function',\n",
       " '_typ',\n",
       " '_update_inplace',\n",
       " '_validate_dtype',\n",
       " '_values',\n",
       " '_where',\n",
       " 'abs',\n",
       " 'add',\n",
       " 'add_prefix',\n",
       " 'add_suffix',\n",
       " 'agg',\n",
       " 'aggregate',\n",
       " 'align',\n",
       " 'all',\n",
       " 'any',\n",
       " 'append',\n",
       " 'apply',\n",
       " 'applymap',\n",
       " 'area',\n",
       " 'asfreq',\n",
       " 'asof',\n",
       " 'assign',\n",
       " 'astype',\n",
       " 'at',\n",
       " 'at_time',\n",
       " 'attrs',\n",
       " 'axes',\n",
       " 'backfill',\n",
       " 'between_time',\n",
       " 'bfill',\n",
       " 'bool',\n",
       " 'boxplot',\n",
       " 'clip',\n",
       " 'columns',\n",
       " 'combine',\n",
       " 'combine_first',\n",
       " 'compare',\n",
       " 'computed_density',\n",
       " 'convert_dtypes',\n",
       " 'copy',\n",
       " 'corr',\n",
       " 'corrwith',\n",
       " 'count',\n",
       " 'cov',\n",
       " 'cummax',\n",
       " 'cummin',\n",
       " 'cumprod',\n",
       " 'cumsum',\n",
       " 'density',\n",
       " 'describe',\n",
       " 'diff',\n",
       " 'div',\n",
       " 'divide',\n",
       " 'dot',\n",
       " 'drop',\n",
       " 'drop_duplicates',\n",
       " 'droplevel',\n",
       " 'dropna',\n",
       " 'dtypes',\n",
       " 'duplicated',\n",
       " 'empty',\n",
       " 'eq',\n",
       " 'equals',\n",
       " 'eval',\n",
       " 'ewm',\n",
       " 'expanding',\n",
       " 'explode',\n",
       " 'ffill',\n",
       " 'fillna',\n",
       " 'filter',\n",
       " 'first',\n",
       " 'first_valid_index',\n",
       " 'flags',\n",
       " 'floordiv',\n",
       " 'from_dict',\n",
       " 'from_records',\n",
       " 'ge',\n",
       " 'get',\n",
       " 'groupby',\n",
       " 'gt',\n",
       " 'head',\n",
       " 'hist',\n",
       " 'iat',\n",
       " 'idxmax',\n",
       " 'idxmin',\n",
       " 'iloc',\n",
       " 'index',\n",
       " 'infer_objects',\n",
       " 'info',\n",
       " 'insert',\n",
       " 'interpolate',\n",
       " 'isin',\n",
       " 'isna',\n",
       " 'isnull',\n",
       " 'items',\n",
       " 'iteritems',\n",
       " 'iterrows',\n",
       " 'itertuples',\n",
       " 'join',\n",
       " 'keys',\n",
       " 'kurt',\n",
       " 'kurtosis',\n",
       " 'last',\n",
       " 'last_valid_index',\n",
       " 'le',\n",
       " 'loc',\n",
       " 'lookup',\n",
       " 'lt',\n",
       " 'mad',\n",
       " 'mask',\n",
       " 'max',\n",
       " 'mean',\n",
       " 'median',\n",
       " 'melt',\n",
       " 'memory_usage',\n",
       " 'merge',\n",
       " 'min',\n",
       " 'mod',\n",
       " 'mode',\n",
       " 'mul',\n",
       " 'multiply',\n",
       " 'ndim',\n",
       " 'ne',\n",
       " 'nlargest',\n",
       " 'notna',\n",
       " 'notnull',\n",
       " 'nsmallest',\n",
       " 'nunique',\n",
       " 'pad',\n",
       " 'pct_change',\n",
       " 'pipe',\n",
       " 'pivot',\n",
       " 'pivot_table',\n",
       " 'plot',\n",
       " 'pop',\n",
       " 'population',\n",
       " 'pow',\n",
       " 'prod',\n",
       " 'product',\n",
       " 'quantile',\n",
       " 'query',\n",
       " 'radd',\n",
       " 'rank',\n",
       " 'rdiv',\n",
       " 'reindex',\n",
       " 'reindex_like',\n",
       " 'rename',\n",
       " 'rename_axis',\n",
       " 'reorder_levels',\n",
       " 'replace',\n",
       " 'resample',\n",
       " 'reset_index',\n",
       " 'rfloordiv',\n",
       " 'rmod',\n",
       " 'rmul',\n",
       " 'rolling',\n",
       " 'round',\n",
       " 'rpow',\n",
       " 'rsub',\n",
       " 'rtruediv',\n",
       " 'sample',\n",
       " 'select_dtypes',\n",
       " 'sem',\n",
       " 'set_axis',\n",
       " 'set_flags',\n",
       " 'set_index',\n",
       " 'shape',\n",
       " 'shift',\n",
       " 'size',\n",
       " 'skew',\n",
       " 'slice_shift',\n",
       " 'sort_index',\n",
       " 'sort_values',\n",
       " 'squeeze',\n",
       " 'stack',\n",
       " 'std',\n",
       " 'style',\n",
       " 'sub',\n",
       " 'subtract',\n",
       " 'sum',\n",
       " 'swapaxes',\n",
       " 'swaplevel',\n",
       " 'tail',\n",
       " 'take',\n",
       " 'to_clipboard',\n",
       " 'to_csv',\n",
       " 'to_dict',\n",
       " 'to_excel',\n",
       " 'to_feather',\n",
       " 'to_gbq',\n",
       " 'to_hdf',\n",
       " 'to_html',\n",
       " 'to_json',\n",
       " 'to_latex',\n",
       " 'to_markdown',\n",
       " 'to_numpy',\n",
       " 'to_parquet',\n",
       " 'to_period',\n",
       " 'to_pickle',\n",
       " 'to_records',\n",
       " 'to_sql',\n",
       " 'to_stata',\n",
       " 'to_string',\n",
       " 'to_timestamp',\n",
       " 'to_xarray',\n",
       " 'transform',\n",
       " 'transpose',\n",
       " 'truediv',\n",
       " 'truncate',\n",
       " 'tz_convert',\n",
       " 'tz_localize',\n",
       " 'unstack',\n",
       " 'update',\n",
       " 'value_counts',\n",
       " 'values',\n",
       " 'var',\n",
       " 'where',\n",
       " 'xs']"
      ]
     },
     "execution_count": 174,
     "metadata": {},
     "output_type": "execute_result"
    }
   ],
   "source": [
    "df.sort_index()"
   ]
  },
  {
   "cell_type": "code",
   "execution_count": 180,
   "id": "liquid-answer",
   "metadata": {},
   "outputs": [
    {
     "data": {
      "text/plain": [
       "city_name\n",
       "Paris     False\n",
       "London     True\n",
       "Berlin    False\n",
       "Name: density, dtype: bool"
      ]
     },
     "execution_count": 180,
     "metadata": {},
     "output_type": "execute_result"
    }
   ],
   "source": [
    "~(df[\"density\"] != 5100)  # > < >= <= != ==\n",
    "# ~ est le negatif d'un masque booléen"
   ]
  },
  {
   "cell_type": "markdown",
   "id": "armed-exception",
   "metadata": {},
   "source": [
    "## Read `prenoms.csv`"
   ]
  },
  {
   "cell_type": "code",
   "execution_count": 257,
   "id": "settled-acquisition",
   "metadata": {},
   "outputs": [],
   "source": [
    "df = pd.read_csv(\"prenoms.csv\", sep=\";\")"
   ]
  },
  {
   "cell_type": "code",
   "execution_count": 192,
   "id": "found-puzzle",
   "metadata": {},
   "outputs": [
    {
     "data": {
      "text/html": [
       "<div>\n",
       "<style scoped>\n",
       "    .dataframe tbody tr th:only-of-type {\n",
       "        vertical-align: middle;\n",
       "    }\n",
       "\n",
       "    .dataframe tbody tr th {\n",
       "        vertical-align: top;\n",
       "    }\n",
       "\n",
       "    .dataframe thead th {\n",
       "        text-align: right;\n",
       "    }\n",
       "</style>\n",
       "<table border=\"1\" class=\"dataframe\">\n",
       "  <thead>\n",
       "    <tr style=\"text-align: right;\">\n",
       "      <th></th>\n",
       "      <th>prenom</th>\n",
       "      <th>genre</th>\n",
       "      <th>nb</th>\n",
       "    </tr>\n",
       "  </thead>\n",
       "  <tbody>\n",
       "    <tr>\n",
       "      <th>0</th>\n",
       "      <td>Michel</td>\n",
       "      <td>M</td>\n",
       "      <td>14136</td>\n",
       "    </tr>\n",
       "    <tr>\n",
       "      <th>1</th>\n",
       "      <td>Alain</td>\n",
       "      <td>M</td>\n",
       "      <td>10646</td>\n",
       "    </tr>\n",
       "    <tr>\n",
       "      <th>2</th>\n",
       "      <td>Philippe</td>\n",
       "      <td>M</td>\n",
       "      <td>9903</td>\n",
       "    </tr>\n",
       "    <tr>\n",
       "      <th>3</th>\n",
       "      <td>Bernard</td>\n",
       "      <td>M</td>\n",
       "      <td>8992</td>\n",
       "    </tr>\n",
       "    <tr>\n",
       "      <th>4</th>\n",
       "      <td>Christian</td>\n",
       "      <td>M</td>\n",
       "      <td>8102</td>\n",
       "    </tr>\n",
       "  </tbody>\n",
       "</table>\n",
       "</div>"
      ],
      "text/plain": [
       "      prenom genre     nb\n",
       "0     Michel     M  14136\n",
       "1      Alain     M  10646\n",
       "2   Philippe     M   9903\n",
       "3    Bernard     M   8992\n",
       "4  Christian     M   8102"
      ]
     },
     "execution_count": 192,
     "metadata": {},
     "output_type": "execute_result"
    }
   ],
   "source": [
    "df.head()"
   ]
  },
  {
   "cell_type": "code",
   "execution_count": 188,
   "id": "limited-insured",
   "metadata": {
    "collapsed": true
   },
   "outputs": [
    {
     "name": "stdout",
     "output_type": "stream",
     "text": [
      "Reverting to default Node version\n",
      "Now using node v14.15.4 (npm v7.6.0)\n",
      "Reverting to default Node version\n",
      "Now using node v14.15.4 (npm v7.6.0)\n",
      "Reverting to default Node version\n",
      "Now using node v14.15.4 (npm v7.6.0)\n",
      "\"prenom\";\"genre\";\"nb\"\n",
      "\"Michel\";\"M\";14136\n",
      "\"Alain\";\"M\";10646\n",
      "\"Philippe\";\"M\";9903\n",
      "\"Bernard\";\"M\";8992\n",
      "\"Christian\";\"M\";8102\n",
      "\"Daniel\";\"M\";7821\n",
      "\"Gérard\";\"M\";7009\n",
      "\"Jean-Pierre\";\"M\";6945\n",
      "\"Patrick\";\"M\";6884\n"
     ]
    }
   ],
   "source": [
    "!head prenoms.csv"
   ]
  },
  {
   "cell_type": "code",
   "execution_count": 196,
   "id": "controlling-venice",
   "metadata": {},
   "outputs": [
    {
     "data": {
      "text/plain": [
       "516331"
      ]
     },
     "execution_count": 196,
     "metadata": {},
     "output_type": "execute_result"
    }
   ],
   "source": [
    "df[df[\"prenom\"] != \"Alain\"][\"nb\"].sum()\n",
    "\n",
    "# SELECT SUM(nb)\n",
    "# FROM prenoms\n",
    "# WHERE prenom != \"Alain\""
   ]
  },
  {
   "cell_type": "code",
   "execution_count": 198,
   "id": "civil-winner",
   "metadata": {},
   "outputs": [
    {
     "data": {
      "text/plain": [
       "6581"
      ]
     },
     "execution_count": 198,
     "metadata": {},
     "output_type": "execute_result"
    }
   ],
   "source": [
    "df[df[\"genre\"] == \"M\"][\"genre\"].count()"
   ]
  },
  {
   "cell_type": "code",
   "execution_count": 201,
   "id": "expected-consortium",
   "metadata": {},
   "outputs": [
    {
     "data": {
      "text/plain": [
       "5886"
      ]
     },
     "execution_count": 201,
     "metadata": {},
     "output_type": "execute_result"
    }
   ],
   "source": [
    "df[df[\"genre\"] == \"F\"][\"genre\"].count()"
   ]
  },
  {
   "cell_type": "code",
   "execution_count": 213,
   "id": "dedicated-mentor",
   "metadata": {},
   "outputs": [
    {
     "data": {
      "text/plain": [
       "genre\n",
       "F    5885\n",
       "M    6580\n",
       "Name: prenom, dtype: int64"
      ]
     },
     "execution_count": 213,
     "metadata": {},
     "output_type": "execute_result"
    }
   ],
   "source": [
    "df.groupby(\"genre\")[\"prenom\"].count()\n",
    "\n",
    "# SELECT COUNT(nb)\n",
    "# FROM prenoms\n",
    "# GROUP BY genre"
   ]
  },
  {
   "cell_type": "code",
   "execution_count": 217,
   "id": "express-complement",
   "metadata": {},
   "outputs": [
    {
     "data": {
      "text/plain": [
       "M    6581\n",
       "F    5886\n",
       "Name: genre, dtype: int64"
      ]
     },
     "execution_count": 217,
     "metadata": {},
     "output_type": "execute_result"
    }
   ],
   "source": [
    "df[\"genre\"].value_counts()"
   ]
  },
  {
   "cell_type": "markdown",
   "id": "norwegian-county",
   "metadata": {},
   "source": [
    "```\n",
    "SELECT > []\n",
    "FROM read_csv\n",
    "WHERE []\n",
    "GROUP BY .groupby\n",
    "ORDER BY .sort_values\n",
    "```"
   ]
  },
  {
   "cell_type": "markdown",
   "id": "criminal-bleeding",
   "metadata": {},
   "source": [
    "### Jointures"
   ]
  },
  {
   "cell_type": "code",
   "execution_count": 219,
   "id": "recorded-there",
   "metadata": {},
   "outputs": [],
   "source": [
    "sex_reference = pd.DataFrame({\n",
    "    \"sex\": [\"M\", \"F\", \"O\"],\n",
    "    \"sex_label\": [\"Male\", \"Female\", \"Other\"],\n",
    "})"
   ]
  },
  {
   "cell_type": "code",
   "execution_count": 220,
   "id": "attended-emphasis",
   "metadata": {},
   "outputs": [
    {
     "data": {
      "text/html": [
       "<div>\n",
       "<style scoped>\n",
       "    .dataframe tbody tr th:only-of-type {\n",
       "        vertical-align: middle;\n",
       "    }\n",
       "\n",
       "    .dataframe tbody tr th {\n",
       "        vertical-align: top;\n",
       "    }\n",
       "\n",
       "    .dataframe thead th {\n",
       "        text-align: right;\n",
       "    }\n",
       "</style>\n",
       "<table border=\"1\" class=\"dataframe\">\n",
       "  <thead>\n",
       "    <tr style=\"text-align: right;\">\n",
       "      <th></th>\n",
       "      <th>sex</th>\n",
       "      <th>sex_label</th>\n",
       "    </tr>\n",
       "  </thead>\n",
       "  <tbody>\n",
       "    <tr>\n",
       "      <th>0</th>\n",
       "      <td>M</td>\n",
       "      <td>Male</td>\n",
       "    </tr>\n",
       "    <tr>\n",
       "      <th>1</th>\n",
       "      <td>F</td>\n",
       "      <td>Female</td>\n",
       "    </tr>\n",
       "    <tr>\n",
       "      <th>2</th>\n",
       "      <td>O</td>\n",
       "      <td>Other</td>\n",
       "    </tr>\n",
       "  </tbody>\n",
       "</table>\n",
       "</div>"
      ],
      "text/plain": [
       "  sex sex_label\n",
       "0   M      Male\n",
       "1   F    Female\n",
       "2   O     Other"
      ]
     },
     "execution_count": 220,
     "metadata": {},
     "output_type": "execute_result"
    }
   ],
   "source": [
    "sex_reference"
   ]
  },
  {
   "cell_type": "code",
   "execution_count": 221,
   "id": "advisory-observer",
   "metadata": {},
   "outputs": [
    {
     "data": {
      "text/html": [
       "<div>\n",
       "<style scoped>\n",
       "    .dataframe tbody tr th:only-of-type {\n",
       "        vertical-align: middle;\n",
       "    }\n",
       "\n",
       "    .dataframe tbody tr th {\n",
       "        vertical-align: top;\n",
       "    }\n",
       "\n",
       "    .dataframe thead th {\n",
       "        text-align: right;\n",
       "    }\n",
       "</style>\n",
       "<table border=\"1\" class=\"dataframe\">\n",
       "  <thead>\n",
       "    <tr style=\"text-align: right;\">\n",
       "      <th></th>\n",
       "      <th>prenom</th>\n",
       "      <th>genre</th>\n",
       "      <th>nb</th>\n",
       "    </tr>\n",
       "  </thead>\n",
       "  <tbody>\n",
       "    <tr>\n",
       "      <th>0</th>\n",
       "      <td>Michel</td>\n",
       "      <td>M</td>\n",
       "      <td>14136</td>\n",
       "    </tr>\n",
       "    <tr>\n",
       "      <th>1</th>\n",
       "      <td>Alain</td>\n",
       "      <td>M</td>\n",
       "      <td>10646</td>\n",
       "    </tr>\n",
       "    <tr>\n",
       "      <th>2</th>\n",
       "      <td>Philippe</td>\n",
       "      <td>M</td>\n",
       "      <td>9903</td>\n",
       "    </tr>\n",
       "    <tr>\n",
       "      <th>3</th>\n",
       "      <td>Bernard</td>\n",
       "      <td>M</td>\n",
       "      <td>8992</td>\n",
       "    </tr>\n",
       "    <tr>\n",
       "      <th>4</th>\n",
       "      <td>Christian</td>\n",
       "      <td>M</td>\n",
       "      <td>8102</td>\n",
       "    </tr>\n",
       "    <tr>\n",
       "      <th>...</th>\n",
       "      <td>...</td>\n",
       "      <td>...</td>\n",
       "      <td>...</td>\n",
       "    </tr>\n",
       "    <tr>\n",
       "      <th>12462</th>\n",
       "      <td>F.Jacques</td>\n",
       "      <td>M</td>\n",
       "      <td>1</td>\n",
       "    </tr>\n",
       "    <tr>\n",
       "      <th>12463</th>\n",
       "      <td>Frédie</td>\n",
       "      <td>F</td>\n",
       "      <td>1</td>\n",
       "    </tr>\n",
       "    <tr>\n",
       "      <th>12464</th>\n",
       "      <td>Efisia</td>\n",
       "      <td>F</td>\n",
       "      <td>1</td>\n",
       "    </tr>\n",
       "    <tr>\n",
       "      <th>12465</th>\n",
       "      <td>Cosima</td>\n",
       "      <td>F</td>\n",
       "      <td>1</td>\n",
       "    </tr>\n",
       "    <tr>\n",
       "      <th>12466</th>\n",
       "      <td>Florisse</td>\n",
       "      <td>F</td>\n",
       "      <td>1</td>\n",
       "    </tr>\n",
       "  </tbody>\n",
       "</table>\n",
       "<p>12467 rows × 3 columns</p>\n",
       "</div>"
      ],
      "text/plain": [
       "          prenom genre     nb\n",
       "0         Michel     M  14136\n",
       "1          Alain     M  10646\n",
       "2       Philippe     M   9903\n",
       "3        Bernard     M   8992\n",
       "4      Christian     M   8102\n",
       "...          ...   ...    ...\n",
       "12462  F.Jacques     M      1\n",
       "12463     Frédie     F      1\n",
       "12464     Efisia     F      1\n",
       "12465     Cosima     F      1\n",
       "12466   Florisse     F      1\n",
       "\n",
       "[12467 rows x 3 columns]"
      ]
     },
     "execution_count": 221,
     "metadata": {},
     "output_type": "execute_result"
    }
   ],
   "source": [
    "df"
   ]
  },
  {
   "cell_type": "code",
   "execution_count": 231,
   "id": "committed-airport",
   "metadata": {},
   "outputs": [
    {
     "data": {
      "text/html": [
       "<div>\n",
       "<style scoped>\n",
       "    .dataframe tbody tr th:only-of-type {\n",
       "        vertical-align: middle;\n",
       "    }\n",
       "\n",
       "    .dataframe tbody tr th {\n",
       "        vertical-align: top;\n",
       "    }\n",
       "\n",
       "    .dataframe thead th {\n",
       "        text-align: right;\n",
       "    }\n",
       "</style>\n",
       "<table border=\"1\" class=\"dataframe\">\n",
       "  <thead>\n",
       "    <tr style=\"text-align: right;\">\n",
       "      <th></th>\n",
       "      <th>prenom</th>\n",
       "      <th>genre</th>\n",
       "      <th>nb</th>\n",
       "      <th>sex</th>\n",
       "      <th>sex_label</th>\n",
       "    </tr>\n",
       "  </thead>\n",
       "  <tbody>\n",
       "    <tr>\n",
       "      <th>0</th>\n",
       "      <td>Daniel</td>\n",
       "      <td>M</td>\n",
       "      <td>7821</td>\n",
       "      <td>M</td>\n",
       "      <td>Male</td>\n",
       "    </tr>\n",
       "    <tr>\n",
       "      <th>1</th>\n",
       "      <td>Gérard</td>\n",
       "      <td>M</td>\n",
       "      <td>7009</td>\n",
       "      <td>M</td>\n",
       "      <td>Male</td>\n",
       "    </tr>\n",
       "    <tr>\n",
       "      <th>2</th>\n",
       "      <td>Jean-Pierre</td>\n",
       "      <td>M</td>\n",
       "      <td>6945</td>\n",
       "      <td>M</td>\n",
       "      <td>Male</td>\n",
       "    </tr>\n",
       "    <tr>\n",
       "      <th>3</th>\n",
       "      <td>Patrick</td>\n",
       "      <td>M</td>\n",
       "      <td>6884</td>\n",
       "      <td>M</td>\n",
       "      <td>Male</td>\n",
       "    </tr>\n",
       "    <tr>\n",
       "      <th>4</th>\n",
       "      <td>Pierre</td>\n",
       "      <td>M</td>\n",
       "      <td>6711</td>\n",
       "      <td>M</td>\n",
       "      <td>Male</td>\n",
       "    </tr>\n",
       "    <tr>\n",
       "      <th>...</th>\n",
       "      <td>...</td>\n",
       "      <td>...</td>\n",
       "      <td>...</td>\n",
       "      <td>...</td>\n",
       "      <td>...</td>\n",
       "    </tr>\n",
       "    <tr>\n",
       "      <th>12457</th>\n",
       "      <td>Kimberley</td>\n",
       "      <td>F</td>\n",
       "      <td>1</td>\n",
       "      <td>F</td>\n",
       "      <td>Female</td>\n",
       "    </tr>\n",
       "    <tr>\n",
       "      <th>12458</th>\n",
       "      <td>Frédie</td>\n",
       "      <td>F</td>\n",
       "      <td>1</td>\n",
       "      <td>F</td>\n",
       "      <td>Female</td>\n",
       "    </tr>\n",
       "    <tr>\n",
       "      <th>12459</th>\n",
       "      <td>Efisia</td>\n",
       "      <td>F</td>\n",
       "      <td>1</td>\n",
       "      <td>F</td>\n",
       "      <td>Female</td>\n",
       "    </tr>\n",
       "    <tr>\n",
       "      <th>12460</th>\n",
       "      <td>Cosima</td>\n",
       "      <td>F</td>\n",
       "      <td>1</td>\n",
       "      <td>F</td>\n",
       "      <td>Female</td>\n",
       "    </tr>\n",
       "    <tr>\n",
       "      <th>12461</th>\n",
       "      <td>Florisse</td>\n",
       "      <td>F</td>\n",
       "      <td>1</td>\n",
       "      <td>F</td>\n",
       "      <td>Female</td>\n",
       "    </tr>\n",
       "  </tbody>\n",
       "</table>\n",
       "<p>12462 rows × 5 columns</p>\n",
       "</div>"
      ],
      "text/plain": [
       "            prenom genre    nb sex sex_label\n",
       "0           Daniel     M  7821   M      Male\n",
       "1           Gérard     M  7009   M      Male\n",
       "2      Jean-Pierre     M  6945   M      Male\n",
       "3          Patrick     M  6884   M      Male\n",
       "4           Pierre     M  6711   M      Male\n",
       "...            ...   ...   ...  ..       ...\n",
       "12457    Kimberley     F     1   F    Female\n",
       "12458       Frédie     F     1   F    Female\n",
       "12459       Efisia     F     1   F    Female\n",
       "12460       Cosima     F     1   F    Female\n",
       "12461     Florisse     F     1   F    Female\n",
       "\n",
       "[12462 rows x 5 columns]"
      ]
     },
     "execution_count": 231,
     "metadata": {},
     "output_type": "execute_result"
    }
   ],
   "source": [
    "df.merge(sex_reference, left_on=\"genre\", right_on=\"sex\", how=\"inner\")"
   ]
  },
  {
   "cell_type": "markdown",
   "id": "chicken-optics",
   "metadata": {},
   "source": [
    "```\n",
    "A, B, C\n",
    "\n",
    "A join B > A'\n",
    "A' join C > resultat\n",
    "```"
   ]
  },
  {
   "cell_type": "code",
   "execution_count": 234,
   "id": "twelve-bowling",
   "metadata": {},
   "outputs": [],
   "source": [
    "sex_reference.columns = [\"genre\", \"genre_label\"]"
   ]
  },
  {
   "cell_type": "code",
   "execution_count": 235,
   "id": "driving-alberta",
   "metadata": {},
   "outputs": [
    {
     "data": {
      "text/html": [
       "<div>\n",
       "<style scoped>\n",
       "    .dataframe tbody tr th:only-of-type {\n",
       "        vertical-align: middle;\n",
       "    }\n",
       "\n",
       "    .dataframe tbody tr th {\n",
       "        vertical-align: top;\n",
       "    }\n",
       "\n",
       "    .dataframe thead th {\n",
       "        text-align: right;\n",
       "    }\n",
       "</style>\n",
       "<table border=\"1\" class=\"dataframe\">\n",
       "  <thead>\n",
       "    <tr style=\"text-align: right;\">\n",
       "      <th></th>\n",
       "      <th>genre</th>\n",
       "      <th>genre_label</th>\n",
       "    </tr>\n",
       "  </thead>\n",
       "  <tbody>\n",
       "    <tr>\n",
       "      <th>0</th>\n",
       "      <td>M</td>\n",
       "      <td>Male</td>\n",
       "    </tr>\n",
       "    <tr>\n",
       "      <th>1</th>\n",
       "      <td>F</td>\n",
       "      <td>Female</td>\n",
       "    </tr>\n",
       "    <tr>\n",
       "      <th>2</th>\n",
       "      <td>O</td>\n",
       "      <td>Other</td>\n",
       "    </tr>\n",
       "  </tbody>\n",
       "</table>\n",
       "</div>"
      ],
      "text/plain": [
       "  genre genre_label\n",
       "0     M        Male\n",
       "1     F      Female\n",
       "2     O       Other"
      ]
     },
     "execution_count": 235,
     "metadata": {},
     "output_type": "execute_result"
    }
   ],
   "source": [
    "sex_reference"
   ]
  },
  {
   "cell_type": "code",
   "execution_count": 243,
   "id": "promotional-diagram",
   "metadata": {},
   "outputs": [
    {
     "data": {
      "text/html": [
       "<div>\n",
       "<style scoped>\n",
       "    .dataframe tbody tr th:only-of-type {\n",
       "        vertical-align: middle;\n",
       "    }\n",
       "\n",
       "    .dataframe tbody tr th {\n",
       "        vertical-align: top;\n",
       "    }\n",
       "\n",
       "    .dataframe thead th {\n",
       "        text-align: right;\n",
       "    }\n",
       "</style>\n",
       "<table border=\"1\" class=\"dataframe\">\n",
       "  <thead>\n",
       "    <tr style=\"text-align: right;\">\n",
       "      <th></th>\n",
       "      <th>genre</th>\n",
       "      <th>prenom</th>\n",
       "      <th>nb</th>\n",
       "      <th>genre_label</th>\n",
       "    </tr>\n",
       "  </thead>\n",
       "  <tbody>\n",
       "    <tr>\n",
       "      <th>0</th>\n",
       "      <td>F</td>\n",
       "      <td>Catherine</td>\n",
       "      <td>4389</td>\n",
       "      <td>Female</td>\n",
       "    </tr>\n",
       "    <tr>\n",
       "      <th>1</th>\n",
       "      <td>F</td>\n",
       "      <td>Françoise</td>\n",
       "      <td>4334</td>\n",
       "      <td>Female</td>\n",
       "    </tr>\n",
       "    <tr>\n",
       "      <th>2</th>\n",
       "      <td>F</td>\n",
       "      <td>Isabelle</td>\n",
       "      <td>4295</td>\n",
       "      <td>Female</td>\n",
       "    </tr>\n",
       "    <tr>\n",
       "      <th>3</th>\n",
       "      <td>F</td>\n",
       "      <td>Sylvie</td>\n",
       "      <td>4197</td>\n",
       "      <td>Female</td>\n",
       "    </tr>\n",
       "    <tr>\n",
       "      <th>4</th>\n",
       "      <td>F</td>\n",
       "      <td>Martine</td>\n",
       "      <td>4094</td>\n",
       "      <td>Female</td>\n",
       "    </tr>\n",
       "    <tr>\n",
       "      <th>...</th>\n",
       "      <td>...</td>\n",
       "      <td>...</td>\n",
       "      <td>...</td>\n",
       "      <td>...</td>\n",
       "    </tr>\n",
       "    <tr>\n",
       "      <th>12457</th>\n",
       "      <td>M</td>\n",
       "      <td>Elefthérios</td>\n",
       "      <td>1</td>\n",
       "      <td>Male</td>\n",
       "    </tr>\n",
       "    <tr>\n",
       "      <th>12458</th>\n",
       "      <td>M</td>\n",
       "      <td>Patrice Bernard Jean</td>\n",
       "      <td>1</td>\n",
       "      <td>Male</td>\n",
       "    </tr>\n",
       "    <tr>\n",
       "      <th>12459</th>\n",
       "      <td>M</td>\n",
       "      <td>Desire</td>\n",
       "      <td>1</td>\n",
       "      <td>Male</td>\n",
       "    </tr>\n",
       "    <tr>\n",
       "      <th>12460</th>\n",
       "      <td>M</td>\n",
       "      <td>Pierre Emile</td>\n",
       "      <td>1</td>\n",
       "      <td>Male</td>\n",
       "    </tr>\n",
       "    <tr>\n",
       "      <th>12461</th>\n",
       "      <td>M</td>\n",
       "      <td>F.Jacques</td>\n",
       "      <td>1</td>\n",
       "      <td>Male</td>\n",
       "    </tr>\n",
       "  </tbody>\n",
       "</table>\n",
       "<p>12462 rows × 4 columns</p>\n",
       "</div>"
      ],
      "text/plain": [
       "      genre                prenom    nb genre_label\n",
       "0         F             Catherine  4389      Female\n",
       "1         F             Françoise  4334      Female\n",
       "2         F              Isabelle  4295      Female\n",
       "3         F                Sylvie  4197      Female\n",
       "4         F               Martine  4094      Female\n",
       "...     ...                   ...   ...         ...\n",
       "12457     M           Elefthérios     1        Male\n",
       "12458     M  Patrice Bernard Jean     1        Male\n",
       "12459     M                Desire     1        Male\n",
       "12460     M          Pierre Emile     1        Male\n",
       "12461     M             F.Jacques     1        Male\n",
       "\n",
       "[12462 rows x 4 columns]"
      ]
     },
     "execution_count": 243,
     "metadata": {},
     "output_type": "execute_result"
    }
   ],
   "source": [
    "df.set_index(\"genre\").join(sex_reference.set_index(\"genre\"), how=\"inner\")"
   ]
  },
  {
   "cell_type": "code",
   "execution_count": 252,
   "id": "compact-machinery",
   "metadata": {},
   "outputs": [
    {
     "data": {
      "text/html": [
       "<div>\n",
       "<style scoped>\n",
       "    .dataframe tbody tr th:only-of-type {\n",
       "        vertical-align: middle;\n",
       "    }\n",
       "\n",
       "    .dataframe tbody tr th {\n",
       "        vertical-align: top;\n",
       "    }\n",
       "\n",
       "    .dataframe thead th {\n",
       "        text-align: right;\n",
       "    }\n",
       "</style>\n",
       "<table border=\"1\" class=\"dataframe\">\n",
       "  <thead>\n",
       "    <tr style=\"text-align: right;\">\n",
       "      <th></th>\n",
       "      <th>genre</th>\n",
       "      <th>genre_label</th>\n",
       "    </tr>\n",
       "  </thead>\n",
       "  <tbody>\n",
       "    <tr>\n",
       "      <th>0</th>\n",
       "      <td>M</td>\n",
       "      <td>Male</td>\n",
       "    </tr>\n",
       "    <tr>\n",
       "      <th>1</th>\n",
       "      <td>F</td>\n",
       "      <td>Female</td>\n",
       "    </tr>\n",
       "    <tr>\n",
       "      <th>2</th>\n",
       "      <td>O</td>\n",
       "      <td>Other</td>\n",
       "    </tr>\n",
       "  </tbody>\n",
       "</table>\n",
       "</div>"
      ],
      "text/plain": [
       "  genre genre_label\n",
       "0     M        Male\n",
       "1     F      Female\n",
       "2     O       Other"
      ]
     },
     "execution_count": 252,
     "metadata": {},
     "output_type": "execute_result"
    }
   ],
   "source": [
    "sex_reference.set_index(\"genre\").reset_index()"
   ]
  },
  {
   "cell_type": "code",
   "execution_count": 253,
   "id": "super-scanning",
   "metadata": {},
   "outputs": [
    {
     "data": {
      "text/plain": [
       "array(['D', 'M', 'F'], dtype=object)"
      ]
     },
     "execution_count": 253,
     "metadata": {},
     "output_type": "execute_result"
    }
   ],
   "source": [
    "df[\"genre\"].unique()"
   ]
  },
  {
   "cell_type": "code",
   "execution_count": 254,
   "id": "boolean-english",
   "metadata": {},
   "outputs": [
    {
     "data": {
      "text/plain": [
       "3"
      ]
     },
     "execution_count": 254,
     "metadata": {},
     "output_type": "execute_result"
    }
   ],
   "source": [
    "df[\"genre\"].nunique()"
   ]
  },
  {
   "cell_type": "code",
   "execution_count": 255,
   "id": "applied-experiment",
   "metadata": {},
   "outputs": [
    {
     "data": {
      "text/html": [
       "<div>\n",
       "<style scoped>\n",
       "    .dataframe tbody tr th:only-of-type {\n",
       "        vertical-align: middle;\n",
       "    }\n",
       "\n",
       "    .dataframe tbody tr th {\n",
       "        vertical-align: top;\n",
       "    }\n",
       "\n",
       "    .dataframe thead th {\n",
       "        text-align: right;\n",
       "    }\n",
       "</style>\n",
       "<table border=\"1\" class=\"dataframe\">\n",
       "  <thead>\n",
       "    <tr style=\"text-align: right;\">\n",
       "      <th></th>\n",
       "      <th>prenom</th>\n",
       "      <th>genre</th>\n",
       "      <th>nb</th>\n",
       "    </tr>\n",
       "  </thead>\n",
       "  <tbody>\n",
       "    <tr>\n",
       "      <th>12462</th>\n",
       "      <td>F.Jacques</td>\n",
       "      <td>M</td>\n",
       "      <td>1</td>\n",
       "    </tr>\n",
       "    <tr>\n",
       "      <th>12463</th>\n",
       "      <td>Frédie</td>\n",
       "      <td>F</td>\n",
       "      <td>1</td>\n",
       "    </tr>\n",
       "    <tr>\n",
       "      <th>12464</th>\n",
       "      <td>Efisia</td>\n",
       "      <td>F</td>\n",
       "      <td>1</td>\n",
       "    </tr>\n",
       "    <tr>\n",
       "      <th>12465</th>\n",
       "      <td>Cosima</td>\n",
       "      <td>F</td>\n",
       "      <td>1</td>\n",
       "    </tr>\n",
       "    <tr>\n",
       "      <th>12466</th>\n",
       "      <td>Florisse</td>\n",
       "      <td>F</td>\n",
       "      <td>1</td>\n",
       "    </tr>\n",
       "  </tbody>\n",
       "</table>\n",
       "</div>"
      ],
      "text/plain": [
       "          prenom genre  nb\n",
       "12462  F.Jacques     M   1\n",
       "12463     Frédie     F   1\n",
       "12464     Efisia     F   1\n",
       "12465     Cosima     F   1\n",
       "12466   Florisse     F   1"
      ]
     },
     "execution_count": 255,
     "metadata": {},
     "output_type": "execute_result"
    }
   ],
   "source": [
    "df.tail()"
   ]
  },
  {
   "cell_type": "markdown",
   "id": "placed-affairs",
   "metadata": {},
   "source": [
    "### Question : trouver le nombre de prénoms qui sont androgynes"
   ]
  },
  {
   "cell_type": "code",
   "execution_count": 258,
   "id": "funded-pharmaceutical",
   "metadata": {},
   "outputs": [
    {
     "data": {
      "text/html": [
       "<div>\n",
       "<style scoped>\n",
       "    .dataframe tbody tr th:only-of-type {\n",
       "        vertical-align: middle;\n",
       "    }\n",
       "\n",
       "    .dataframe tbody tr th {\n",
       "        vertical-align: top;\n",
       "    }\n",
       "\n",
       "    .dataframe thead th {\n",
       "        text-align: right;\n",
       "    }\n",
       "</style>\n",
       "<table border=\"1\" class=\"dataframe\">\n",
       "  <thead>\n",
       "    <tr style=\"text-align: right;\">\n",
       "      <th></th>\n",
       "      <th>prenom</th>\n",
       "      <th>genre</th>\n",
       "      <th>nb</th>\n",
       "    </tr>\n",
       "  </thead>\n",
       "  <tbody>\n",
       "    <tr>\n",
       "      <th>0</th>\n",
       "      <td>Michel</td>\n",
       "      <td>M</td>\n",
       "      <td>14136</td>\n",
       "    </tr>\n",
       "    <tr>\n",
       "      <th>1</th>\n",
       "      <td>Alain</td>\n",
       "      <td>M</td>\n",
       "      <td>10646</td>\n",
       "    </tr>\n",
       "    <tr>\n",
       "      <th>2</th>\n",
       "      <td>Philippe</td>\n",
       "      <td>M</td>\n",
       "      <td>9903</td>\n",
       "    </tr>\n",
       "    <tr>\n",
       "      <th>3</th>\n",
       "      <td>Bernard</td>\n",
       "      <td>M</td>\n",
       "      <td>8992</td>\n",
       "    </tr>\n",
       "    <tr>\n",
       "      <th>4</th>\n",
       "      <td>Christian</td>\n",
       "      <td>M</td>\n",
       "      <td>8102</td>\n",
       "    </tr>\n",
       "    <tr>\n",
       "      <th>...</th>\n",
       "      <td>...</td>\n",
       "      <td>...</td>\n",
       "      <td>...</td>\n",
       "    </tr>\n",
       "    <tr>\n",
       "      <th>12462</th>\n",
       "      <td>F.Jacques</td>\n",
       "      <td>M</td>\n",
       "      <td>1</td>\n",
       "    </tr>\n",
       "    <tr>\n",
       "      <th>12463</th>\n",
       "      <td>Frédie</td>\n",
       "      <td>F</td>\n",
       "      <td>1</td>\n",
       "    </tr>\n",
       "    <tr>\n",
       "      <th>12464</th>\n",
       "      <td>Efisia</td>\n",
       "      <td>F</td>\n",
       "      <td>1</td>\n",
       "    </tr>\n",
       "    <tr>\n",
       "      <th>12465</th>\n",
       "      <td>Cosima</td>\n",
       "      <td>F</td>\n",
       "      <td>1</td>\n",
       "    </tr>\n",
       "    <tr>\n",
       "      <th>12466</th>\n",
       "      <td>Florisse</td>\n",
       "      <td>F</td>\n",
       "      <td>1</td>\n",
       "    </tr>\n",
       "  </tbody>\n",
       "</table>\n",
       "<p>12467 rows × 3 columns</p>\n",
       "</div>"
      ],
      "text/plain": [
       "          prenom genre     nb\n",
       "0         Michel     M  14136\n",
       "1          Alain     M  10646\n",
       "2       Philippe     M   9903\n",
       "3        Bernard     M   8992\n",
       "4      Christian     M   8102\n",
       "...          ...   ...    ...\n",
       "12462  F.Jacques     M      1\n",
       "12463     Frédie     F      1\n",
       "12464     Efisia     F      1\n",
       "12465     Cosima     F      1\n",
       "12466   Florisse     F      1\n",
       "\n",
       "[12467 rows x 3 columns]"
      ]
     },
     "execution_count": 258,
     "metadata": {},
     "output_type": "execute_result"
    }
   ],
   "source": [
    "df"
   ]
  },
  {
   "cell_type": "code",
   "execution_count": 264,
   "id": "visible-reflection",
   "metadata": {},
   "outputs": [
    {
     "data": {
      "text/plain": [
       "Jacky             True\n",
       "Marie-Danièle     True\n",
       "Marie-Anne        True\n",
       "Marianne          True\n",
       "Jean Paul         True\n",
       "                 ...  \n",
       "Jacque           False\n",
       "Gwennaelle       False\n",
       "Johanes          False\n",
       "Herbert          False\n",
       "Don Jean         False\n",
       "Name: prenom, Length: 11719, dtype: bool"
      ]
     },
     "execution_count": 264,
     "metadata": {},
     "output_type": "execute_result"
    }
   ],
   "source": [
    "df[\"prenom\"].value_counts() == 2"
   ]
  },
  {
   "cell_type": "code",
   "execution_count": 263,
   "id": "different-wisdom",
   "metadata": {},
   "outputs": [
    {
     "data": {
      "text/plain": [
       "746"
      ]
     },
     "execution_count": 263,
     "metadata": {},
     "output_type": "execute_result"
    }
   ],
   "source": [
    "(df[\"prenom\"].value_counts() == 2).sum()"
   ]
  },
  {
   "cell_type": "code",
   "execution_count": 271,
   "id": "accurate-prefix",
   "metadata": {},
   "outputs": [],
   "source": [
    "groups = df[\"prenom\"].value_counts()"
   ]
  },
  {
   "cell_type": "code",
   "execution_count": 278,
   "id": "thermal-passion",
   "metadata": {},
   "outputs": [
    {
     "data": {
      "text/plain": [
       "475951"
      ]
     },
     "execution_count": 278,
     "metadata": {},
     "output_type": "execute_result"
    }
   ],
   "source": [
    "df[df[\"prenom\"].isin(groups[groups == 2].index)][\"nb\"].sum()"
   ]
  },
  {
   "cell_type": "code",
   "execution_count": 279,
   "id": "coated-excerpt",
   "metadata": {},
   "outputs": [
    {
     "data": {
      "text/plain": [
       "746"
      ]
     },
     "execution_count": 279,
     "metadata": {},
     "output_type": "execute_result"
    }
   ],
   "source": [
    "groups[groups == 2].count()"
   ]
  },
  {
   "cell_type": "code",
   "execution_count": null,
   "id": "expanded-league",
   "metadata": {},
   "outputs": [],
   "source": []
  }
 ],
 "metadata": {
  "kernelspec": {
   "display_name": "Python 3",
   "language": "python",
   "name": "python3"
  },
  "language_info": {
   "codemirror_mode": {
    "name": "ipython",
    "version": 3
   },
   "file_extension": ".py",
   "mimetype": "text/x-python",
   "name": "python",
   "nbconvert_exporter": "python",
   "pygments_lexer": "ipython3",
   "version": "3.8.7"
  }
 },
 "nbformat": 4,
 "nbformat_minor": 5
}
