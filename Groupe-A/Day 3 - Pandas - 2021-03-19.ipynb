{
 "cells": [
  {
   "cell_type": "markdown",
   "id": "automatic-bennett",
   "metadata": {},
   "source": [
    "# Pandas\n",
    "\n",
    "https://bedford-computing.co.uk/learning/wp-content/uploads/2015/10/Python-for-Data-Analysis.pdf"
   ]
  },
  {
   "cell_type": "code",
   "execution_count": 4,
   "id": "alien-immune",
   "metadata": {},
   "outputs": [],
   "source": [
    "import pandas as pd\n",
    "import numpy as np"
   ]
  },
  {
   "cell_type": "markdown",
   "id": "qualified-rings",
   "metadata": {},
   "source": [
    "## Series"
   ]
  },
  {
   "cell_type": "code",
   "execution_count": 4,
   "id": "cardiovascular-directory",
   "metadata": {},
   "outputs": [],
   "source": [
    "s = pd.Series([0.2, 0.4, 0.5])"
   ]
  },
  {
   "cell_type": "code",
   "execution_count": 5,
   "id": "arctic-split",
   "metadata": {},
   "outputs": [
    {
     "data": {
      "text/plain": [
       "0    0.2\n",
       "1    0.4\n",
       "2    0.5\n",
       "dtype: float64"
      ]
     },
     "execution_count": 5,
     "metadata": {},
     "output_type": "execute_result"
    }
   ],
   "source": [
    "s"
   ]
  },
  {
   "cell_type": "code",
   "execution_count": 6,
   "id": "applicable-logistics",
   "metadata": {},
   "outputs": [
    {
     "data": {
      "text/plain": [
       "'_ _ _ _ _ _ _ _ _ _ _ _ _ _ _ _ _ _ _ _ _ _ _ _ _ _ _ _ _ _ _ _ _ _ _ _ _ _ _ _ _ _ _ _ _ _ _ _ _ _ _ _ _ _ _ _ _ _ _ _ _ _ _ _ '"
      ]
     },
     "execution_count": 6,
     "metadata": {},
     "output_type": "execute_result"
    }
   ],
   "source": [
    "\"_ \" * 64"
   ]
  },
  {
   "cell_type": "code",
   "execution_count": 10,
   "id": "seven-motion",
   "metadata": {},
   "outputs": [
    {
     "data": {
      "text/plain": [
       "RangeIndex(start=0, stop=3, step=1)"
      ]
     },
     "execution_count": 10,
     "metadata": {},
     "output_type": "execute_result"
    }
   ],
   "source": [
    "s.index"
   ]
  },
  {
   "cell_type": "code",
   "execution_count": 11,
   "id": "medieval-billion",
   "metadata": {},
   "outputs": [
    {
     "data": {
      "text/plain": [
       "array([0.2, 0.4, 0.5])"
      ]
     },
     "execution_count": 11,
     "metadata": {},
     "output_type": "execute_result"
    }
   ],
   "source": [
    "s.values"
   ]
  },
  {
   "cell_type": "code",
   "execution_count": 14,
   "id": "impaired-klein",
   "metadata": {},
   "outputs": [
    {
     "data": {
      "text/plain": [
       "0.2"
      ]
     },
     "execution_count": 14,
     "metadata": {},
     "output_type": "execute_result"
    }
   ],
   "source": [
    "s[0]"
   ]
  },
  {
   "cell_type": "code",
   "execution_count": 23,
   "id": "lucky-voltage",
   "metadata": {},
   "outputs": [],
   "source": [
    "s1 = pd.Series([1, 2, 4, 8], index=[\"a\", \"b\", \"c\", \"d\"])"
   ]
  },
  {
   "cell_type": "code",
   "execution_count": 24,
   "id": "rotary-hollow",
   "metadata": {},
   "outputs": [
    {
     "data": {
      "text/plain": [
       "a    1\n",
       "b    2\n",
       "c    4\n",
       "d    8\n",
       "dtype: int64"
      ]
     },
     "execution_count": 24,
     "metadata": {},
     "output_type": "execute_result"
    }
   ],
   "source": [
    "s1"
   ]
  },
  {
   "cell_type": "code",
   "execution_count": 25,
   "id": "active-likelihood",
   "metadata": {},
   "outputs": [
    {
     "data": {
      "text/plain": [
       "1"
      ]
     },
     "execution_count": 25,
     "metadata": {},
     "output_type": "execute_result"
    }
   ],
   "source": [
    "s1[0]"
   ]
  },
  {
   "cell_type": "code",
   "execution_count": 26,
   "id": "geographic-instruction",
   "metadata": {},
   "outputs": [
    {
     "data": {
      "text/plain": [
       "1"
      ]
     },
     "execution_count": 26,
     "metadata": {},
     "output_type": "execute_result"
    }
   ],
   "source": [
    "s1[\"a\"]"
   ]
  },
  {
   "cell_type": "code",
   "execution_count": 27,
   "id": "developed-phone",
   "metadata": {},
   "outputs": [
    {
     "data": {
      "text/plain": [
       "a     2\n",
       "b     4\n",
       "c     8\n",
       "d    16\n",
       "dtype: int64"
      ]
     },
     "execution_count": 27,
     "metadata": {},
     "output_type": "execute_result"
    }
   ],
   "source": [
    "s1 * 2"
   ]
  },
  {
   "cell_type": "code",
   "execution_count": 28,
   "id": "lucky-spice",
   "metadata": {},
   "outputs": [
    {
     "data": {
      "text/plain": [
       "a       2.718282\n",
       "b       7.389056\n",
       "c      54.598150\n",
       "d    2980.957987\n",
       "dtype: float64"
      ]
     },
     "execution_count": 28,
     "metadata": {},
     "output_type": "execute_result"
    }
   ],
   "source": [
    "np.exp(s1)"
   ]
  },
  {
   "cell_type": "code",
   "execution_count": 29,
   "id": "alive-rover",
   "metadata": {},
   "outputs": [],
   "source": [
    "s2 = pd.Series({\"banane\": 2, \"kiwi\": 3, \"mangue\": 5, \"pomme\": 1, \"mandarine\": 1.5})"
   ]
  },
  {
   "cell_type": "code",
   "execution_count": 31,
   "id": "limited-timer",
   "metadata": {},
   "outputs": [
    {
     "data": {
      "text/plain": [
       "banane       2.0\n",
       "kiwi         3.0\n",
       "mangue       5.0\n",
       "pomme        1.0\n",
       "mandarine    1.5\n",
       "dtype: float64"
      ]
     },
     "execution_count": 31,
     "metadata": {},
     "output_type": "execute_result"
    }
   ],
   "source": [
    "s2"
   ]
  },
  {
   "cell_type": "code",
   "execution_count": 32,
   "id": "expired-circulation",
   "metadata": {},
   "outputs": [
    {
     "data": {
      "text/plain": [
       "banane       False\n",
       "kiwi          True\n",
       "mangue        True\n",
       "pomme        False\n",
       "mandarine    False\n",
       "dtype: bool"
      ]
     },
     "execution_count": 32,
     "metadata": {},
     "output_type": "execute_result"
    }
   ],
   "source": [
    "s2 > 2"
   ]
  },
  {
   "cell_type": "code",
   "execution_count": 38,
   "id": "direct-negotiation",
   "metadata": {},
   "outputs": [
    {
     "data": {
      "text/plain": [
       "kiwi      3.0\n",
       "mangue    5.0\n",
       "dtype: float64"
      ]
     },
     "execution_count": 38,
     "metadata": {},
     "output_type": "execute_result"
    }
   ],
   "source": [
    "s2[s2 > 2]"
   ]
  },
  {
   "cell_type": "code",
   "execution_count": 35,
   "id": "proud-wealth",
   "metadata": {},
   "outputs": [
    {
     "data": {
      "text/plain": [
       "kiwi      3.0\n",
       "mangue    5.0\n",
       "pomme     1.0\n",
       "dtype: float64"
      ]
     },
     "execution_count": 35,
     "metadata": {},
     "output_type": "execute_result"
    }
   ],
   "source": [
    "s2[(s2 > 2) | (s2 < 1.5)]"
   ]
  },
  {
   "cell_type": "code",
   "execution_count": 36,
   "id": "gothic-teacher",
   "metadata": {},
   "outputs": [
    {
     "data": {
      "text/plain": [
       "banane       False\n",
       "kiwi          True\n",
       "mangue        True\n",
       "pomme         True\n",
       "mandarine    False\n",
       "dtype: bool"
      ]
     },
     "execution_count": 36,
     "metadata": {},
     "output_type": "execute_result"
    }
   ],
   "source": [
    "(s2 > 2) | (s2 < 1.5)"
   ]
  },
  {
   "cell_type": "markdown",
   "id": "surrounded-advisory",
   "metadata": {},
   "source": [
    "`|` équivaut à \"ou\" et se tape en faisant:  sur Mac alt + shift + l ; sur windows : alt gr + 6 \n",
    "\n",
    "\n",
    "`&` équivaut à \"et\" "
   ]
  },
  {
   "cell_type": "code",
   "execution_count": 58,
   "id": "contained-reach",
   "metadata": {},
   "outputs": [
    {
     "data": {
      "text/plain": [
       "banane    2.0\n",
       "kiwi      3.0\n",
       "dtype: float64"
      ]
     },
     "execution_count": 58,
     "metadata": {},
     "output_type": "execute_result"
    }
   ],
   "source": [
    "s2[[\"banane\", \"kiwi\", \"pomme\"]][s2 >= 2]"
   ]
  },
  {
   "cell_type": "markdown",
   "id": "historical-housing",
   "metadata": {},
   "source": [
    "```\n",
    "SELECT *\n",
    "FROM s2\n",
    "WHERE \n",
    "    price >= 2\n",
    "    and name IN (\"banane\", \"kiwi\", \"pomme\")\n",
    "```"
   ]
  },
  {
   "cell_type": "code",
   "execution_count": 63,
   "id": "dense-shooting",
   "metadata": {},
   "outputs": [
    {
     "data": {
      "text/plain": [
       "1.0"
      ]
     },
     "execution_count": 63,
     "metadata": {},
     "output_type": "execute_result"
    }
   ],
   "source": [
    "s2.min() # sum, mean, min, max, median"
   ]
  },
  {
   "cell_type": "code",
   "execution_count": 64,
   "id": "becoming-exhaust",
   "metadata": {},
   "outputs": [
    {
     "data": {
      "text/plain": [
       "True"
      ]
     },
     "execution_count": 64,
     "metadata": {},
     "output_type": "execute_result"
    }
   ],
   "source": [
    "\"banane\" in s2"
   ]
  },
  {
   "cell_type": "code",
   "execution_count": 65,
   "id": "entertaining-cinema",
   "metadata": {},
   "outputs": [
    {
     "data": {
      "text/plain": [
       "False"
      ]
     },
     "execution_count": 65,
     "metadata": {},
     "output_type": "execute_result"
    }
   ],
   "source": [
    "\"tomate\" in s2"
   ]
  },
  {
   "cell_type": "code",
   "execution_count": 66,
   "id": "proud-deviation",
   "metadata": {},
   "outputs": [
    {
     "data": {
      "text/plain": [
       "banane       2.0\n",
       "kiwi         3.0\n",
       "mangue       5.0\n",
       "pomme        1.0\n",
       "mandarine    1.5\n",
       "dtype: float64"
      ]
     },
     "execution_count": 66,
     "metadata": {},
     "output_type": "execute_result"
    }
   ],
   "source": [
    "s2"
   ]
  },
  {
   "cell_type": "code",
   "execution_count": 67,
   "id": "involved-blame",
   "metadata": {},
   "outputs": [],
   "source": [
    "s3 = pd.Series({\"tomate\": 1, \"pomme\": 1.5, \"kiwi\": 4})"
   ]
  },
  {
   "cell_type": "code",
   "execution_count": 71,
   "id": "simple-minimum",
   "metadata": {},
   "outputs": [
    {
     "data": {
      "text/plain": [
       "tomate    1.0\n",
       "pomme     1.5\n",
       "kiwi      4.0\n",
       "dtype: float64"
      ]
     },
     "execution_count": 71,
     "metadata": {},
     "output_type": "execute_result"
    }
   ],
   "source": [
    "s3"
   ]
  },
  {
   "cell_type": "code",
   "execution_count": 74,
   "id": "chubby-freeze",
   "metadata": {},
   "outputs": [],
   "source": [
    "r1 = s2 + s3"
   ]
  },
  {
   "cell_type": "code",
   "execution_count": 70,
   "id": "outstanding-casting",
   "metadata": {},
   "outputs": [],
   "source": [
    "# NaN = Not A Number ------> c'est la valeur nulle en numpy (équivaut à None en Python)"
   ]
  },
  {
   "cell_type": "code",
   "execution_count": 73,
   "id": "legislative-truth",
   "metadata": {},
   "outputs": [
    {
     "data": {
      "text/plain": [
       "nan"
      ]
     },
     "execution_count": 73,
     "metadata": {},
     "output_type": "execute_result"
    }
   ],
   "source": [
    "np.NaN + 1.0"
   ]
  },
  {
   "cell_type": "code",
   "execution_count": 77,
   "id": "musical-joshua",
   "metadata": {},
   "outputs": [
    {
     "data": {
      "text/plain": [
       "kiwi     7.0\n",
       "pomme    2.5\n",
       "dtype: float64"
      ]
     },
     "execution_count": 77,
     "metadata": {},
     "output_type": "execute_result"
    }
   ],
   "source": [
    "r1[r1.notnull()]"
   ]
  },
  {
   "cell_type": "code",
   "execution_count": 78,
   "id": "necessary-humor",
   "metadata": {},
   "outputs": [
    {
     "data": {
      "text/plain": [
       "banane      NaN\n",
       "mandarine   NaN\n",
       "mangue      NaN\n",
       "tomate      NaN\n",
       "dtype: float64"
      ]
     },
     "execution_count": 78,
     "metadata": {},
     "output_type": "execute_result"
    }
   ],
   "source": [
    "r1[r1.isnull()]"
   ]
  },
  {
   "cell_type": "code",
   "execution_count": 79,
   "id": "fantastic-course",
   "metadata": {},
   "outputs": [
    {
     "data": {
      "text/plain": [
       "banane        NaN\n",
       "kiwi         12.0\n",
       "mandarine     NaN\n",
       "mangue        NaN\n",
       "pomme         1.5\n",
       "tomate        NaN\n",
       "dtype: float64"
      ]
     },
     "execution_count": 79,
     "metadata": {},
     "output_type": "execute_result"
    }
   ],
   "source": [
    "s2 * s3"
   ]
  },
  {
   "cell_type": "code",
   "execution_count": 83,
   "id": "revised-postage",
   "metadata": {},
   "outputs": [
    {
     "data": {
      "text/plain": [
       "Index(['banane', 'mandarine', 'mangue', 'tomate'], dtype='object')"
      ]
     },
     "execution_count": 83,
     "metadata": {},
     "output_type": "execute_result"
    }
   ],
   "source": [
    "r1[r1.isnull()].index"
   ]
  },
  {
   "cell_type": "markdown",
   "id": "loose-anger",
   "metadata": {},
   "source": [
    "## Dataframe"
   ]
  },
  {
   "cell_type": "code",
   "execution_count": 5,
   "id": "atomic-texture",
   "metadata": {},
   "outputs": [],
   "source": [
    "# Collection de pd.Series en lignes et colonnes"
   ]
  },
  {
   "cell_type": "code",
   "execution_count": 6,
   "id": "wound-postcard",
   "metadata": {},
   "outputs": [],
   "source": [
    "data = {\n",
    "    \"city\": [\"Paris\", \"London\", \"Berlin\"],\n",
    "    \"density\": [3550, 5100, 3750],\n",
    "    \"area\": [2723, 1623, 984],\n",
    "    \"population\": [9645000, 8278000, 3675000],\n",
    "}"
   ]
  },
  {
   "cell_type": "code",
   "execution_count": 7,
   "id": "tribal-computer",
   "metadata": {},
   "outputs": [],
   "source": [
    "df = pd.DataFrame(data)"
   ]
  },
  {
   "cell_type": "code",
   "execution_count": 87,
   "id": "worst-alarm",
   "metadata": {},
   "outputs": [
    {
     "data": {
      "text/html": [
       "<div>\n",
       "<style scoped>\n",
       "    .dataframe tbody tr th:only-of-type {\n",
       "        vertical-align: middle;\n",
       "    }\n",
       "\n",
       "    .dataframe tbody tr th {\n",
       "        vertical-align: top;\n",
       "    }\n",
       "\n",
       "    .dataframe thead th {\n",
       "        text-align: right;\n",
       "    }\n",
       "</style>\n",
       "<table border=\"1\" class=\"dataframe\">\n",
       "  <thead>\n",
       "    <tr style=\"text-align: right;\">\n",
       "      <th></th>\n",
       "      <th>city</th>\n",
       "      <th>density</th>\n",
       "      <th>area</th>\n",
       "      <th>population</th>\n",
       "    </tr>\n",
       "  </thead>\n",
       "  <tbody>\n",
       "    <tr>\n",
       "      <th>0</th>\n",
       "      <td>Paris</td>\n",
       "      <td>3550</td>\n",
       "      <td>2723</td>\n",
       "      <td>9645000</td>\n",
       "    </tr>\n",
       "    <tr>\n",
       "      <th>1</th>\n",
       "      <td>London</td>\n",
       "      <td>5100</td>\n",
       "      <td>1623</td>\n",
       "      <td>8278000</td>\n",
       "    </tr>\n",
       "    <tr>\n",
       "      <th>2</th>\n",
       "      <td>Berlin</td>\n",
       "      <td>3750</td>\n",
       "      <td>984</td>\n",
       "      <td>3675000</td>\n",
       "    </tr>\n",
       "  </tbody>\n",
       "</table>\n",
       "</div>"
      ],
      "text/plain": [
       "     city  density  area  population\n",
       "0   Paris     3550  2723     9645000\n",
       "1  London     5100  1623     8278000\n",
       "2  Berlin     3750   984     3675000"
      ]
     },
     "execution_count": 87,
     "metadata": {},
     "output_type": "execute_result"
    }
   ],
   "source": [
    "df"
   ]
  },
  {
   "cell_type": "code",
   "execution_count": 89,
   "id": "faced-client",
   "metadata": {},
   "outputs": [
    {
     "data": {
      "text/plain": [
       "pandas.core.series.Series"
      ]
     },
     "execution_count": 89,
     "metadata": {},
     "output_type": "execute_result"
    }
   ],
   "source": [
    "type(df[\"city\"])"
   ]
  },
  {
   "cell_type": "code",
   "execution_count": 90,
   "id": "iraqi-insertion",
   "metadata": {},
   "outputs": [
    {
     "data": {
      "text/plain": [
       "pandas.core.frame.DataFrame"
      ]
     },
     "execution_count": 90,
     "metadata": {},
     "output_type": "execute_result"
    }
   ],
   "source": [
    "type(df)"
   ]
  },
  {
   "cell_type": "code",
   "execution_count": 92,
   "id": "innocent-subject",
   "metadata": {},
   "outputs": [
    {
     "data": {
      "text/plain": [
       "city          object\n",
       "density        int64\n",
       "area           int64\n",
       "population     int64\n",
       "dtype: object"
      ]
     },
     "execution_count": 92,
     "metadata": {},
     "output_type": "execute_result"
    }
   ],
   "source": [
    "df.dtypes"
   ]
  },
  {
   "cell_type": "code",
   "execution_count": 93,
   "id": "incredible-brisbane",
   "metadata": {},
   "outputs": [
    {
     "name": "stdout",
     "output_type": "stream",
     "text": [
      "<class 'pandas.core.frame.DataFrame'>\n",
      "RangeIndex: 3 entries, 0 to 2\n",
      "Data columns (total 4 columns):\n",
      " #   Column      Non-Null Count  Dtype \n",
      "---  ------      --------------  ----- \n",
      " 0   city        3 non-null      object\n",
      " 1   density     3 non-null      int64 \n",
      " 2   area        3 non-null      int64 \n",
      " 3   population  3 non-null      int64 \n",
      "dtypes: int64(3), object(1)\n",
      "memory usage: 224.0+ bytes\n"
     ]
    }
   ],
   "source": [
    "df.info()"
   ]
  },
  {
   "cell_type": "code",
   "execution_count": 95,
   "id": "frank-blocking",
   "metadata": {},
   "outputs": [
    {
     "data": {
      "text/html": [
       "<div>\n",
       "<style scoped>\n",
       "    .dataframe tbody tr th:only-of-type {\n",
       "        vertical-align: middle;\n",
       "    }\n",
       "\n",
       "    .dataframe tbody tr th {\n",
       "        vertical-align: top;\n",
       "    }\n",
       "\n",
       "    .dataframe thead th {\n",
       "        text-align: right;\n",
       "    }\n",
       "</style>\n",
       "<table border=\"1\" class=\"dataframe\">\n",
       "  <thead>\n",
       "    <tr style=\"text-align: right;\">\n",
       "      <th></th>\n",
       "      <th>density</th>\n",
       "      <th>area</th>\n",
       "      <th>population</th>\n",
       "    </tr>\n",
       "  </thead>\n",
       "  <tbody>\n",
       "    <tr>\n",
       "      <th>count</th>\n",
       "      <td>3.000000</td>\n",
       "      <td>3.000000</td>\n",
       "      <td>3.000000e+00</td>\n",
       "    </tr>\n",
       "    <tr>\n",
       "      <th>mean</th>\n",
       "      <td>4133.333333</td>\n",
       "      <td>1776.666667</td>\n",
       "      <td>7.199333e+06</td>\n",
       "    </tr>\n",
       "    <tr>\n",
       "      <th>std</th>\n",
       "      <td>843.109325</td>\n",
       "      <td>879.625110</td>\n",
       "      <td>3.127757e+06</td>\n",
       "    </tr>\n",
       "    <tr>\n",
       "      <th>min</th>\n",
       "      <td>3550.000000</td>\n",
       "      <td>984.000000</td>\n",
       "      <td>3.675000e+06</td>\n",
       "    </tr>\n",
       "    <tr>\n",
       "      <th>25%</th>\n",
       "      <td>3650.000000</td>\n",
       "      <td>1303.500000</td>\n",
       "      <td>5.976500e+06</td>\n",
       "    </tr>\n",
       "    <tr>\n",
       "      <th>50%</th>\n",
       "      <td>3750.000000</td>\n",
       "      <td>1623.000000</td>\n",
       "      <td>8.278000e+06</td>\n",
       "    </tr>\n",
       "    <tr>\n",
       "      <th>75%</th>\n",
       "      <td>4425.000000</td>\n",
       "      <td>2173.000000</td>\n",
       "      <td>8.961500e+06</td>\n",
       "    </tr>\n",
       "    <tr>\n",
       "      <th>max</th>\n",
       "      <td>5100.000000</td>\n",
       "      <td>2723.000000</td>\n",
       "      <td>9.645000e+06</td>\n",
       "    </tr>\n",
       "  </tbody>\n",
       "</table>\n",
       "</div>"
      ],
      "text/plain": [
       "           density         area    population\n",
       "count     3.000000     3.000000  3.000000e+00\n",
       "mean   4133.333333  1776.666667  7.199333e+06\n",
       "std     843.109325   879.625110  3.127757e+06\n",
       "min    3550.000000   984.000000  3.675000e+06\n",
       "25%    3650.000000  1303.500000  5.976500e+06\n",
       "50%    3750.000000  1623.000000  8.278000e+06\n",
       "75%    4425.000000  2173.000000  8.961500e+06\n",
       "max    5100.000000  2723.000000  9.645000e+06"
      ]
     },
     "execution_count": 95,
     "metadata": {},
     "output_type": "execute_result"
    }
   ],
   "source": [
    "df.describe()"
   ]
  },
  {
   "cell_type": "code",
   "execution_count": 96,
   "id": "elementary-brass",
   "metadata": {},
   "outputs": [
    {
     "data": {
      "text/plain": [
       "array([['Paris', 3550, 2723, 9645000],\n",
       "       ['London', 5100, 1623, 8278000],\n",
       "       ['Berlin', 3750, 984, 3675000]], dtype=object)"
      ]
     },
     "execution_count": 96,
     "metadata": {},
     "output_type": "execute_result"
    }
   ],
   "source": [
    "df.values"
   ]
  },
  {
   "cell_type": "code",
   "execution_count": 97,
   "id": "marine-estate",
   "metadata": {},
   "outputs": [
    {
     "data": {
      "text/plain": [
       "RangeIndex(start=0, stop=3, step=1)"
      ]
     },
     "execution_count": 97,
     "metadata": {},
     "output_type": "execute_result"
    }
   ],
   "source": [
    "df.index"
   ]
  },
  {
   "cell_type": "code",
   "execution_count": 98,
   "id": "congressional-cabin",
   "metadata": {},
   "outputs": [
    {
     "data": {
      "text/plain": [
       "Index(['city', 'density', 'area', 'population'], dtype='object')"
      ]
     },
     "execution_count": 98,
     "metadata": {},
     "output_type": "execute_result"
    }
   ],
   "source": [
    "df.columns"
   ]
  },
  {
   "cell_type": "code",
   "execution_count": 111,
   "id": "gothic-glance",
   "metadata": {},
   "outputs": [],
   "source": [
    "df.columns = ['city_name', 'density', 'area', 'population']  # renommer une colonne"
   ]
  },
  {
   "cell_type": "code",
   "execution_count": 116,
   "id": "diverse-ideal",
   "metadata": {},
   "outputs": [
    {
     "data": {
      "text/html": [
       "<div>\n",
       "<style scoped>\n",
       "    .dataframe tbody tr th:only-of-type {\n",
       "        vertical-align: middle;\n",
       "    }\n",
       "\n",
       "    .dataframe tbody tr th {\n",
       "        vertical-align: top;\n",
       "    }\n",
       "\n",
       "    .dataframe thead th {\n",
       "        text-align: right;\n",
       "    }\n",
       "</style>\n",
       "<table border=\"1\" class=\"dataframe\">\n",
       "  <thead>\n",
       "    <tr style=\"text-align: right;\">\n",
       "      <th></th>\n",
       "      <th>city_name</th>\n",
       "      <th>density</th>\n",
       "      <th>area</th>\n",
       "      <th>population</th>\n",
       "    </tr>\n",
       "  </thead>\n",
       "  <tbody>\n",
       "    <tr>\n",
       "      <th>0</th>\n",
       "      <td>Paris</td>\n",
       "      <td>3550</td>\n",
       "      <td>2723</td>\n",
       "      <td>9645000</td>\n",
       "    </tr>\n",
       "    <tr>\n",
       "      <th>1</th>\n",
       "      <td>London</td>\n",
       "      <td>5100</td>\n",
       "      <td>1623</td>\n",
       "      <td>8278000</td>\n",
       "    </tr>\n",
       "    <tr>\n",
       "      <th>2</th>\n",
       "      <td>Berlin</td>\n",
       "      <td>3750</td>\n",
       "      <td>984</td>\n",
       "      <td>3675000</td>\n",
       "    </tr>\n",
       "  </tbody>\n",
       "</table>\n",
       "</div>"
      ],
      "text/plain": [
       "  city_name  density  area  population\n",
       "0     Paris     3550  2723     9645000\n",
       "1    London     5100  1623     8278000\n",
       "2    Berlin     3750   984     3675000"
      ]
     },
     "execution_count": 116,
     "metadata": {},
     "output_type": "execute_result"
    }
   ],
   "source": [
    "df"
   ]
  },
  {
   "cell_type": "code",
   "execution_count": 117,
   "id": "bright-mileage",
   "metadata": {},
   "outputs": [],
   "source": [
    "df = df.set_index(\"city_name\")  # df.set_index(\"city_name\", inplace=True)"
   ]
  },
  {
   "cell_type": "code",
   "execution_count": 118,
   "id": "collect-carolina",
   "metadata": {},
   "outputs": [
    {
     "data": {
      "text/html": [
       "<div>\n",
       "<style scoped>\n",
       "    .dataframe tbody tr th:only-of-type {\n",
       "        vertical-align: middle;\n",
       "    }\n",
       "\n",
       "    .dataframe tbody tr th {\n",
       "        vertical-align: top;\n",
       "    }\n",
       "\n",
       "    .dataframe thead th {\n",
       "        text-align: right;\n",
       "    }\n",
       "</style>\n",
       "<table border=\"1\" class=\"dataframe\">\n",
       "  <thead>\n",
       "    <tr style=\"text-align: right;\">\n",
       "      <th></th>\n",
       "      <th>density</th>\n",
       "      <th>area</th>\n",
       "      <th>population</th>\n",
       "    </tr>\n",
       "    <tr>\n",
       "      <th>city_name</th>\n",
       "      <th></th>\n",
       "      <th></th>\n",
       "      <th></th>\n",
       "    </tr>\n",
       "  </thead>\n",
       "  <tbody>\n",
       "    <tr>\n",
       "      <th>Paris</th>\n",
       "      <td>3550</td>\n",
       "      <td>2723</td>\n",
       "      <td>9645000</td>\n",
       "    </tr>\n",
       "    <tr>\n",
       "      <th>London</th>\n",
       "      <td>5100</td>\n",
       "      <td>1623</td>\n",
       "      <td>8278000</td>\n",
       "    </tr>\n",
       "    <tr>\n",
       "      <th>Berlin</th>\n",
       "      <td>3750</td>\n",
       "      <td>984</td>\n",
       "      <td>3675000</td>\n",
       "    </tr>\n",
       "  </tbody>\n",
       "</table>\n",
       "</div>"
      ],
      "text/plain": [
       "           density  area  population\n",
       "city_name                           \n",
       "Paris         3550  2723     9645000\n",
       "London        5100  1623     8278000\n",
       "Berlin        3750   984     3675000"
      ]
     },
     "execution_count": 118,
     "metadata": {},
     "output_type": "execute_result"
    }
   ],
   "source": [
    "df"
   ]
  },
  {
   "cell_type": "code",
   "execution_count": 133,
   "id": "returning-panel",
   "metadata": {},
   "outputs": [],
   "source": [
    "# df.loc[]                                         et df.iloc[]\n",
    "# ^ permet d'accéder à la donnée via les labels       ^ permet d'accéder à la donnée via les index numériques\n",
    "# loc commence par l donc labels                        iloc commence par i donc index"
   ]
  },
  {
   "cell_type": "code",
   "execution_count": 122,
   "id": "colored-absolute",
   "metadata": {},
   "outputs": [
    {
     "data": {
      "text/plain": [
       "2723"
      ]
     },
     "execution_count": 122,
     "metadata": {},
     "output_type": "execute_result"
    }
   ],
   "source": [
    "df.loc[\"Paris\", \"area\"]\n",
    "#      ^ lignes  ^ colonnes"
   ]
  },
  {
   "cell_type": "code",
   "execution_count": 127,
   "id": "imperial-surveillance",
   "metadata": {},
   "outputs": [
    {
     "data": {
      "text/plain": [
       "city_name\n",
       "Paris     2723\n",
       "London    1623\n",
       "Berlin     984\n",
       "Name: area, dtype: int64"
      ]
     },
     "execution_count": 127,
     "metadata": {},
     "output_type": "execute_result"
    }
   ],
   "source": [
    "df.loc[:, \"area\"]  # idem à df[\"area\"]\n",
    "#      ^ toutes les lignes et la colonne area"
   ]
  },
  {
   "cell_type": "code",
   "execution_count": 129,
   "id": "basic-empire",
   "metadata": {},
   "outputs": [
    {
     "data": {
      "text/plain": [
       "city_name\n",
       "Paris     2723\n",
       "London    1623\n",
       "Name: area, dtype: int64"
      ]
     },
     "execution_count": 129,
     "metadata": {},
     "output_type": "execute_result"
    }
   ],
   "source": [
    "df.loc[[\"Paris\", \"London\"], \"area\"]"
   ]
  },
  {
   "cell_type": "code",
   "execution_count": 131,
   "id": "celtic-neighbor",
   "metadata": {},
   "outputs": [
    {
     "data": {
      "text/html": [
       "<div>\n",
       "<style scoped>\n",
       "    .dataframe tbody tr th:only-of-type {\n",
       "        vertical-align: middle;\n",
       "    }\n",
       "\n",
       "    .dataframe tbody tr th {\n",
       "        vertical-align: top;\n",
       "    }\n",
       "\n",
       "    .dataframe thead th {\n",
       "        text-align: right;\n",
       "    }\n",
       "</style>\n",
       "<table border=\"1\" class=\"dataframe\">\n",
       "  <thead>\n",
       "    <tr style=\"text-align: right;\">\n",
       "      <th></th>\n",
       "      <th>density</th>\n",
       "      <th>area</th>\n",
       "      <th>population</th>\n",
       "    </tr>\n",
       "    <tr>\n",
       "      <th>city_name</th>\n",
       "      <th></th>\n",
       "      <th></th>\n",
       "      <th></th>\n",
       "    </tr>\n",
       "  </thead>\n",
       "  <tbody>\n",
       "    <tr>\n",
       "      <th>Paris</th>\n",
       "      <td>3550</td>\n",
       "      <td>2723</td>\n",
       "      <td>9645000</td>\n",
       "    </tr>\n",
       "    <tr>\n",
       "      <th>London</th>\n",
       "      <td>5100</td>\n",
       "      <td>1623</td>\n",
       "      <td>8278000</td>\n",
       "    </tr>\n",
       "  </tbody>\n",
       "</table>\n",
       "</div>"
      ],
      "text/plain": [
       "           density  area  population\n",
       "city_name                           \n",
       "Paris         3550  2723     9645000\n",
       "London        5100  1623     8278000"
      ]
     },
     "execution_count": 131,
     "metadata": {},
     "output_type": "execute_result"
    }
   ],
   "source": [
    "df.loc[[\"Paris\", \"London\"], [\"area\", \"population\"]]"
   ]
  },
  {
   "cell_type": "code",
   "execution_count": 149,
   "id": "swedish-graphic",
   "metadata": {},
   "outputs": [
    {
     "data": {
      "text/html": [
       "<div>\n",
       "<style scoped>\n",
       "    .dataframe tbody tr th:only-of-type {\n",
       "        vertical-align: middle;\n",
       "    }\n",
       "\n",
       "    .dataframe tbody tr th {\n",
       "        vertical-align: top;\n",
       "    }\n",
       "\n",
       "    .dataframe thead th {\n",
       "        text-align: right;\n",
       "    }\n",
       "</style>\n",
       "<table border=\"1\" class=\"dataframe\">\n",
       "  <thead>\n",
       "    <tr style=\"text-align: right;\">\n",
       "      <th></th>\n",
       "      <th>density</th>\n",
       "      <th>area</th>\n",
       "      <th>population</th>\n",
       "    </tr>\n",
       "    <tr>\n",
       "      <th>city_name</th>\n",
       "      <th></th>\n",
       "      <th></th>\n",
       "      <th></th>\n",
       "    </tr>\n",
       "  </thead>\n",
       "  <tbody>\n",
       "    <tr>\n",
       "      <th>Paris</th>\n",
       "      <td>3550</td>\n",
       "      <td>2723</td>\n",
       "      <td>9645000</td>\n",
       "    </tr>\n",
       "    <tr>\n",
       "      <th>London</th>\n",
       "      <td>5100</td>\n",
       "      <td>1623</td>\n",
       "      <td>8278000</td>\n",
       "    </tr>\n",
       "    <tr>\n",
       "      <th>Berlin</th>\n",
       "      <td>3750</td>\n",
       "      <td>984</td>\n",
       "      <td>3675000</td>\n",
       "    </tr>\n",
       "  </tbody>\n",
       "</table>\n",
       "</div>"
      ],
      "text/plain": [
       "           density  area  population\n",
       "city_name                           \n",
       "Paris         3550  2723     9645000\n",
       "London        5100  1623     8278000\n",
       "Berlin        3750   984     3675000"
      ]
     },
     "execution_count": 149,
     "metadata": {},
     "output_type": "execute_result"
    }
   ],
   "source": [
    "df.loc[:,\"density\":\"population\"]"
   ]
  },
  {
   "cell_type": "code",
   "execution_count": 138,
   "id": "hawaiian-contact",
   "metadata": {},
   "outputs": [
    {
     "data": {
      "text/plain": [
       "9645000"
      ]
     },
     "execution_count": 138,
     "metadata": {},
     "output_type": "execute_result"
    }
   ],
   "source": [
    "df.iloc[0,-1]"
   ]
  },
  {
   "cell_type": "code",
   "execution_count": 9,
   "id": "vertical-nurse",
   "metadata": {},
   "outputs": [
    {
     "data": {
      "text/plain": [
       "city       Paris\n",
       "density     3550\n",
       "Name: 0, dtype: object"
      ]
     },
     "execution_count": 9,
     "metadata": {},
     "output_type": "execute_result"
    }
   ],
   "source": [
    "df.iloc[0,1:]  # ligne 0 et toutes les colonnes sauf la premiere"
   ]
  },
  {
   "cell_type": "code",
   "execution_count": 155,
   "id": "sweet-nebraska",
   "metadata": {},
   "outputs": [
    {
     "data": {
      "text/plain": [
       "area             2723\n",
       "population    9645000\n",
       "Name: Paris, dtype: int64"
      ]
     },
     "execution_count": 155,
     "metadata": {},
     "output_type": "execute_result"
    }
   ],
   "source": [
    "df.iloc[0,1:5]  # je récupére la ligne 0 et les colonnes de 1 à 4"
   ]
  },
  {
   "cell_type": "code",
   "execution_count": 150,
   "id": "fourth-mouth",
   "metadata": {},
   "outputs": [
    {
     "data": {
      "text/plain": [
       "city_name\n",
       "Paris     2723\n",
       "London    1623\n",
       "Berlin     984\n",
       "Name: area, dtype: int64"
      ]
     },
     "execution_count": 150,
     "metadata": {},
     "output_type": "execute_result"
    }
   ],
   "source": [
    "df[\"area\"]"
   ]
  },
  {
   "cell_type": "code",
   "execution_count": 151,
   "id": "cultural-truth",
   "metadata": {},
   "outputs": [
    {
     "data": {
      "text/html": [
       "<div>\n",
       "<style scoped>\n",
       "    .dataframe tbody tr th:only-of-type {\n",
       "        vertical-align: middle;\n",
       "    }\n",
       "\n",
       "    .dataframe tbody tr th {\n",
       "        vertical-align: top;\n",
       "    }\n",
       "\n",
       "    .dataframe thead th {\n",
       "        text-align: right;\n",
       "    }\n",
       "</style>\n",
       "<table border=\"1\" class=\"dataframe\">\n",
       "  <thead>\n",
       "    <tr style=\"text-align: right;\">\n",
       "      <th></th>\n",
       "      <th>area</th>\n",
       "      <th>population</th>\n",
       "    </tr>\n",
       "    <tr>\n",
       "      <th>city_name</th>\n",
       "      <th></th>\n",
       "      <th></th>\n",
       "    </tr>\n",
       "  </thead>\n",
       "  <tbody>\n",
       "    <tr>\n",
       "      <th>Paris</th>\n",
       "      <td>2723</td>\n",
       "      <td>9645000</td>\n",
       "    </tr>\n",
       "    <tr>\n",
       "      <th>London</th>\n",
       "      <td>1623</td>\n",
       "      <td>8278000</td>\n",
       "    </tr>\n",
       "    <tr>\n",
       "      <th>Berlin</th>\n",
       "      <td>984</td>\n",
       "      <td>3675000</td>\n",
       "    </tr>\n",
       "  </tbody>\n",
       "</table>\n",
       "</div>"
      ],
      "text/plain": [
       "           area  population\n",
       "city_name                  \n",
       "Paris      2723     9645000\n",
       "London     1623     8278000\n",
       "Berlin      984     3675000"
      ]
     },
     "execution_count": 151,
     "metadata": {},
     "output_type": "execute_result"
    }
   ],
   "source": [
    "df[[\"area\", \"population\"]]"
   ]
  },
  {
   "cell_type": "code",
   "execution_count": 160,
   "id": "agreed-formation",
   "metadata": {},
   "outputs": [
    {
     "data": {
      "text/plain": [
       "city_name\n",
       "Paris     3550\n",
       "London    5100\n",
       "Name: density, dtype: int64"
      ]
     },
     "execution_count": 160,
     "metadata": {},
     "output_type": "execute_result"
    }
   ],
   "source": [
    "df.loc[df[\"area\"] > 1500, \"density\"]"
   ]
  },
  {
   "cell_type": "code",
   "execution_count": 161,
   "id": "competitive-sussex",
   "metadata": {},
   "outputs": [
    {
     "data": {
      "text/plain": [
       "city_name\n",
       "Paris     3550\n",
       "London    5100\n",
       "Name: density, dtype: int64"
      ]
     },
     "execution_count": 161,
     "metadata": {},
     "output_type": "execute_result"
    }
   ],
   "source": [
    "df[df[\"area\"] > 1500][\"density\"]"
   ]
  },
  {
   "cell_type": "code",
   "execution_count": 162,
   "id": "needed-citizenship",
   "metadata": {},
   "outputs": [
    {
     "data": {
      "text/html": [
       "<div>\n",
       "<style scoped>\n",
       "    .dataframe tbody tr th:only-of-type {\n",
       "        vertical-align: middle;\n",
       "    }\n",
       "\n",
       "    .dataframe tbody tr th {\n",
       "        vertical-align: top;\n",
       "    }\n",
       "\n",
       "    .dataframe thead th {\n",
       "        text-align: right;\n",
       "    }\n",
       "</style>\n",
       "<table border=\"1\" class=\"dataframe\">\n",
       "  <thead>\n",
       "    <tr style=\"text-align: right;\">\n",
       "      <th></th>\n",
       "      <th>density</th>\n",
       "      <th>area</th>\n",
       "      <th>population</th>\n",
       "    </tr>\n",
       "    <tr>\n",
       "      <th>city_name</th>\n",
       "      <th></th>\n",
       "      <th></th>\n",
       "      <th></th>\n",
       "    </tr>\n",
       "  </thead>\n",
       "  <tbody>\n",
       "    <tr>\n",
       "      <th>Paris</th>\n",
       "      <td>3550</td>\n",
       "      <td>2723</td>\n",
       "      <td>9645000</td>\n",
       "    </tr>\n",
       "    <tr>\n",
       "      <th>London</th>\n",
       "      <td>5100</td>\n",
       "      <td>1623</td>\n",
       "      <td>8278000</td>\n",
       "    </tr>\n",
       "    <tr>\n",
       "      <th>Berlin</th>\n",
       "      <td>3750</td>\n",
       "      <td>984</td>\n",
       "      <td>3675000</td>\n",
       "    </tr>\n",
       "  </tbody>\n",
       "</table>\n",
       "</div>"
      ],
      "text/plain": [
       "           density  area  population\n",
       "city_name                           \n",
       "Paris         3550  2723     9645000\n",
       "London        5100  1623     8278000\n",
       "Berlin        3750   984     3675000"
      ]
     },
     "execution_count": 162,
     "metadata": {},
     "output_type": "execute_result"
    }
   ],
   "source": [
    "df"
   ]
  },
  {
   "cell_type": "code",
   "execution_count": 164,
   "id": "ranking-nicaragua",
   "metadata": {},
   "outputs": [],
   "source": [
    "df[\"computed_density\"] = df[\"population\"] / df[\"area\"]"
   ]
  },
  {
   "cell_type": "code",
   "execution_count": 166,
   "id": "prime-violence",
   "metadata": {},
   "outputs": [
    {
     "data": {
      "text/html": [
       "<div>\n",
       "<style scoped>\n",
       "    .dataframe tbody tr th:only-of-type {\n",
       "        vertical-align: middle;\n",
       "    }\n",
       "\n",
       "    .dataframe tbody tr th {\n",
       "        vertical-align: top;\n",
       "    }\n",
       "\n",
       "    .dataframe thead th {\n",
       "        text-align: right;\n",
       "    }\n",
       "</style>\n",
       "<table border=\"1\" class=\"dataframe\">\n",
       "  <thead>\n",
       "    <tr style=\"text-align: right;\">\n",
       "      <th></th>\n",
       "      <th>density</th>\n",
       "      <th>area</th>\n",
       "      <th>population</th>\n",
       "      <th>computed_density</th>\n",
       "    </tr>\n",
       "    <tr>\n",
       "      <th>city_name</th>\n",
       "      <th></th>\n",
       "      <th></th>\n",
       "      <th></th>\n",
       "      <th></th>\n",
       "    </tr>\n",
       "  </thead>\n",
       "  <tbody>\n",
       "    <tr>\n",
       "      <th>London</th>\n",
       "      <td>5100</td>\n",
       "      <td>1623</td>\n",
       "      <td>8278000</td>\n",
       "      <td>5100.4313</td>\n",
       "    </tr>\n",
       "  </tbody>\n",
       "</table>\n",
       "</div>"
      ],
      "text/plain": [
       "           density  area  population  computed_density\n",
       "city_name                                             \n",
       "London        5100  1623     8278000         5100.4313"
      ]
     },
     "execution_count": 166,
     "metadata": {},
     "output_type": "execute_result"
    }
   ],
   "source": [
    "df[df[\"density\"] > 4000]"
   ]
  },
  {
   "cell_type": "code",
   "execution_count": 173,
   "id": "professional-closer",
   "metadata": {},
   "outputs": [
    {
     "data": {
      "text/html": [
       "<div>\n",
       "<style scoped>\n",
       "    .dataframe tbody tr th:only-of-type {\n",
       "        vertical-align: middle;\n",
       "    }\n",
       "\n",
       "    .dataframe tbody tr th {\n",
       "        vertical-align: top;\n",
       "    }\n",
       "\n",
       "    .dataframe thead th {\n",
       "        text-align: right;\n",
       "    }\n",
       "</style>\n",
       "<table border=\"1\" class=\"dataframe\">\n",
       "  <thead>\n",
       "    <tr style=\"text-align: right;\">\n",
       "      <th></th>\n",
       "      <th>density</th>\n",
       "      <th>area</th>\n",
       "      <th>population</th>\n",
       "      <th>computed_density</th>\n",
       "    </tr>\n",
       "    <tr>\n",
       "      <th>city_name</th>\n",
       "      <th></th>\n",
       "      <th></th>\n",
       "      <th></th>\n",
       "      <th></th>\n",
       "    </tr>\n",
       "  </thead>\n",
       "  <tbody>\n",
       "    <tr>\n",
       "      <th>Paris</th>\n",
       "      <td>3550</td>\n",
       "      <td>2723</td>\n",
       "      <td>9645000</td>\n",
       "      <td>3542.049210</td>\n",
       "    </tr>\n",
       "    <tr>\n",
       "      <th>London</th>\n",
       "      <td>5100</td>\n",
       "      <td>1623</td>\n",
       "      <td>8278000</td>\n",
       "      <td>5100.431300</td>\n",
       "    </tr>\n",
       "    <tr>\n",
       "      <th>Berlin</th>\n",
       "      <td>3750</td>\n",
       "      <td>984</td>\n",
       "      <td>3675000</td>\n",
       "      <td>3734.756098</td>\n",
       "    </tr>\n",
       "  </tbody>\n",
       "</table>\n",
       "</div>"
      ],
      "text/plain": [
       "           density  area  population  computed_density\n",
       "city_name                                             \n",
       "Paris         3550  2723     9645000       3542.049210\n",
       "London        5100  1623     8278000       5100.431300\n",
       "Berlin        3750   984     3675000       3734.756098"
      ]
     },
     "execution_count": 173,
     "metadata": {},
     "output_type": "execute_result"
    }
   ],
   "source": [
    "df"
   ]
  },
  {
   "cell_type": "code",
   "execution_count": 168,
   "id": "whole-character",
   "metadata": {},
   "outputs": [
    {
     "data": {
      "text/html": [
       "<div>\n",
       "<style scoped>\n",
       "    .dataframe tbody tr th:only-of-type {\n",
       "        vertical-align: middle;\n",
       "    }\n",
       "\n",
       "    .dataframe tbody tr th {\n",
       "        vertical-align: top;\n",
       "    }\n",
       "\n",
       "    .dataframe thead th {\n",
       "        text-align: right;\n",
       "    }\n",
       "</style>\n",
       "<table border=\"1\" class=\"dataframe\">\n",
       "  <thead>\n",
       "    <tr style=\"text-align: right;\">\n",
       "      <th></th>\n",
       "      <th>density</th>\n",
       "      <th>area</th>\n",
       "      <th>population</th>\n",
       "      <th>computed_density</th>\n",
       "    </tr>\n",
       "    <tr>\n",
       "      <th>city_name</th>\n",
       "      <th></th>\n",
       "      <th></th>\n",
       "      <th></th>\n",
       "      <th></th>\n",
       "    </tr>\n",
       "  </thead>\n",
       "  <tbody>\n",
       "    <tr>\n",
       "      <th>London</th>\n",
       "      <td>5100</td>\n",
       "      <td>1623</td>\n",
       "      <td>8278000</td>\n",
       "      <td>5100.431300</td>\n",
       "    </tr>\n",
       "    <tr>\n",
       "      <th>Berlin</th>\n",
       "      <td>3750</td>\n",
       "      <td>984</td>\n",
       "      <td>3675000</td>\n",
       "      <td>3734.756098</td>\n",
       "    </tr>\n",
       "    <tr>\n",
       "      <th>Paris</th>\n",
       "      <td>3550</td>\n",
       "      <td>2723</td>\n",
       "      <td>9645000</td>\n",
       "      <td>3542.049210</td>\n",
       "    </tr>\n",
       "  </tbody>\n",
       "</table>\n",
       "</div>"
      ],
      "text/plain": [
       "           density  area  population  computed_density\n",
       "city_name                                             \n",
       "London        5100  1623     8278000       5100.431300\n",
       "Berlin        3750   984     3675000       3734.756098\n",
       "Paris         3550  2723     9645000       3542.049210"
      ]
     },
     "execution_count": 168,
     "metadata": {},
     "output_type": "execute_result"
    }
   ],
   "source": [
    "df.sort_values(\"density\", ascending=False)"
   ]
  },
  {
   "cell_type": "code",
   "execution_count": 172,
   "id": "liberal-shoot",
   "metadata": {},
   "outputs": [
    {
     "data": {
      "text/html": [
       "<div>\n",
       "<style scoped>\n",
       "    .dataframe tbody tr th:only-of-type {\n",
       "        vertical-align: middle;\n",
       "    }\n",
       "\n",
       "    .dataframe tbody tr th {\n",
       "        vertical-align: top;\n",
       "    }\n",
       "\n",
       "    .dataframe thead th {\n",
       "        text-align: right;\n",
       "    }\n",
       "</style>\n",
       "<table border=\"1\" class=\"dataframe\">\n",
       "  <thead>\n",
       "    <tr style=\"text-align: right;\">\n",
       "      <th></th>\n",
       "      <th>density</th>\n",
       "      <th>area</th>\n",
       "      <th>population</th>\n",
       "      <th>computed_density</th>\n",
       "    </tr>\n",
       "    <tr>\n",
       "      <th>city_name</th>\n",
       "      <th></th>\n",
       "      <th></th>\n",
       "      <th></th>\n",
       "      <th></th>\n",
       "    </tr>\n",
       "  </thead>\n",
       "  <tbody>\n",
       "    <tr>\n",
       "      <th>Berlin</th>\n",
       "      <td>3750</td>\n",
       "      <td>984</td>\n",
       "      <td>3675000</td>\n",
       "      <td>3734.756098</td>\n",
       "    </tr>\n",
       "    <tr>\n",
       "      <th>London</th>\n",
       "      <td>5100</td>\n",
       "      <td>1623</td>\n",
       "      <td>8278000</td>\n",
       "      <td>5100.431300</td>\n",
       "    </tr>\n",
       "    <tr>\n",
       "      <th>Paris</th>\n",
       "      <td>3550</td>\n",
       "      <td>2723</td>\n",
       "      <td>9645000</td>\n",
       "      <td>3542.049210</td>\n",
       "    </tr>\n",
       "  </tbody>\n",
       "</table>\n",
       "</div>"
      ],
      "text/plain": [
       "           density  area  population  computed_density\n",
       "city_name                                             \n",
       "Berlin        3750   984     3675000       3734.756098\n",
       "London        5100  1623     8278000       5100.431300\n",
       "Paris         3550  2723     9645000       3542.049210"
      ]
     },
     "execution_count": 172,
     "metadata": {},
     "output_type": "execute_result"
    }
   ],
   "source": [
    "df.sort_index()"
   ]
  },
  {
   "cell_type": "code",
   "execution_count": 174,
   "id": "palestinian-leather",
   "metadata": {
    "collapsed": true
   },
   "outputs": [
    {
     "data": {
      "text/plain": [
       "['T',\n",
       " '_AXIS_LEN',\n",
       " '_AXIS_ORDERS',\n",
       " '_AXIS_REVERSED',\n",
       " '_AXIS_TO_AXIS_NUMBER',\n",
       " '_HANDLED_TYPES',\n",
       " '__abs__',\n",
       " '__add__',\n",
       " '__and__',\n",
       " '__annotations__',\n",
       " '__array__',\n",
       " '__array_priority__',\n",
       " '__array_ufunc__',\n",
       " '__array_wrap__',\n",
       " '__bool__',\n",
       " '__class__',\n",
       " '__contains__',\n",
       " '__copy__',\n",
       " '__deepcopy__',\n",
       " '__delattr__',\n",
       " '__delitem__',\n",
       " '__dict__',\n",
       " '__dir__',\n",
       " '__divmod__',\n",
       " '__doc__',\n",
       " '__eq__',\n",
       " '__finalize__',\n",
       " '__floordiv__',\n",
       " '__format__',\n",
       " '__ge__',\n",
       " '__getattr__',\n",
       " '__getattribute__',\n",
       " '__getitem__',\n",
       " '__getstate__',\n",
       " '__gt__',\n",
       " '__hash__',\n",
       " '__iadd__',\n",
       " '__iand__',\n",
       " '__ifloordiv__',\n",
       " '__imod__',\n",
       " '__imul__',\n",
       " '__init__',\n",
       " '__init_subclass__',\n",
       " '__invert__',\n",
       " '__ior__',\n",
       " '__ipow__',\n",
       " '__isub__',\n",
       " '__iter__',\n",
       " '__itruediv__',\n",
       " '__ixor__',\n",
       " '__le__',\n",
       " '__len__',\n",
       " '__lt__',\n",
       " '__matmul__',\n",
       " '__mod__',\n",
       " '__module__',\n",
       " '__mul__',\n",
       " '__ne__',\n",
       " '__neg__',\n",
       " '__new__',\n",
       " '__nonzero__',\n",
       " '__or__',\n",
       " '__pos__',\n",
       " '__pow__',\n",
       " '__radd__',\n",
       " '__rand__',\n",
       " '__rdivmod__',\n",
       " '__reduce__',\n",
       " '__reduce_ex__',\n",
       " '__repr__',\n",
       " '__rfloordiv__',\n",
       " '__rmatmul__',\n",
       " '__rmod__',\n",
       " '__rmul__',\n",
       " '__ror__',\n",
       " '__round__',\n",
       " '__rpow__',\n",
       " '__rsub__',\n",
       " '__rtruediv__',\n",
       " '__rxor__',\n",
       " '__setattr__',\n",
       " '__setitem__',\n",
       " '__setstate__',\n",
       " '__sizeof__',\n",
       " '__str__',\n",
       " '__sub__',\n",
       " '__subclasshook__',\n",
       " '__truediv__',\n",
       " '__weakref__',\n",
       " '__xor__',\n",
       " '_accessors',\n",
       " '_accum_func',\n",
       " '_add_numeric_operations',\n",
       " '_agg_by_level',\n",
       " '_agg_examples_doc',\n",
       " '_agg_summary_and_see_also_doc',\n",
       " '_aggregate',\n",
       " '_align_frame',\n",
       " '_align_series',\n",
       " '_arith_method',\n",
       " '_attrs',\n",
       " '_box_col_values',\n",
       " '_builtin_table',\n",
       " '_can_fast_transpose',\n",
       " '_check_inplace_and_allows_duplicate_labels',\n",
       " '_check_inplace_setting',\n",
       " '_check_is_chained_assignment_possible',\n",
       " '_check_label_or_level_ambiguity',\n",
       " '_check_setitem_copy',\n",
       " '_clear_item_cache',\n",
       " '_clip_with_one_bound',\n",
       " '_clip_with_scalar',\n",
       " '_cmp_method',\n",
       " '_combine_frame',\n",
       " '_consolidate',\n",
       " '_consolidate_inplace',\n",
       " '_construct_axes_dict',\n",
       " '_construct_axes_from_arguments',\n",
       " '_construct_result',\n",
       " '_constructor',\n",
       " '_constructor_expanddim',\n",
       " '_constructor_sliced',\n",
       " '_convert',\n",
       " '_count_level',\n",
       " '_cython_table',\n",
       " '_data',\n",
       " '_dir_additions',\n",
       " '_dir_deletions',\n",
       " '_dispatch_frame_op',\n",
       " '_drop_axis',\n",
       " '_drop_labels_or_levels',\n",
       " '_ensure_valid_index',\n",
       " '_find_valid_index',\n",
       " '_flags',\n",
       " '_from_arrays',\n",
       " '_get_agg_axis',\n",
       " '_get_axis',\n",
       " '_get_axis_name',\n",
       " '_get_axis_number',\n",
       " '_get_axis_resolvers',\n",
       " '_get_block_manager_axis',\n",
       " '_get_bool_data',\n",
       " '_get_cacher',\n",
       " '_get_cleaned_column_resolvers',\n",
       " '_get_column_array',\n",
       " '_get_cython_func',\n",
       " '_get_index_resolvers',\n",
       " '_get_item_cache',\n",
       " '_get_label_or_level_values',\n",
       " '_get_numeric_data',\n",
       " '_get_value',\n",
       " '_getitem_bool_array',\n",
       " '_getitem_multilevel',\n",
       " '_gotitem',\n",
       " '_hidden_attrs',\n",
       " '_indexed_same',\n",
       " '_info_axis',\n",
       " '_info_axis_name',\n",
       " '_info_axis_number',\n",
       " '_info_repr',\n",
       " '_init_mgr',\n",
       " '_inplace_method',\n",
       " '_internal_names',\n",
       " '_internal_names_set',\n",
       " '_is_builtin_func',\n",
       " '_is_cached',\n",
       " '_is_copy',\n",
       " '_is_homogeneous_type',\n",
       " '_is_label_or_level_reference',\n",
       " '_is_label_reference',\n",
       " '_is_level_reference',\n",
       " '_is_mixed_type',\n",
       " '_is_view',\n",
       " '_iset_item',\n",
       " '_item_cache',\n",
       " '_iter_column_arrays',\n",
       " '_ix',\n",
       " '_ixs',\n",
       " '_join_compat',\n",
       " '_logical_func',\n",
       " '_logical_method',\n",
       " '_maybe_cache_changed',\n",
       " '_maybe_update_cacher',\n",
       " '_metadata',\n",
       " '_mgr',\n",
       " '_min_count_stat_function',\n",
       " '_needs_reindex_multi',\n",
       " '_obj_with_exclusions',\n",
       " '_protect_consolidate',\n",
       " '_reduce',\n",
       " '_reindex_axes',\n",
       " '_reindex_columns',\n",
       " '_reindex_index',\n",
       " '_reindex_multi',\n",
       " '_reindex_with_indexers',\n",
       " '_replace_columnwise',\n",
       " '_repr_data_resource_',\n",
       " '_repr_fits_horizontal_',\n",
       " '_repr_fits_vertical_',\n",
       " '_repr_html_',\n",
       " '_repr_latex_',\n",
       " '_reset_cache',\n",
       " '_reset_cacher',\n",
       " '_sanitize_column',\n",
       " '_selected_obj',\n",
       " '_selection',\n",
       " '_selection_list',\n",
       " '_selection_name',\n",
       " '_series',\n",
       " '_set_as_cached',\n",
       " '_set_axis',\n",
       " '_set_axis_name',\n",
       " '_set_axis_nocheck',\n",
       " '_set_is_copy',\n",
       " '_set_item',\n",
       " '_set_value',\n",
       " '_setitem_array',\n",
       " '_setitem_frame',\n",
       " '_setitem_slice',\n",
       " '_slice',\n",
       " '_stat_axis',\n",
       " '_stat_axis_name',\n",
       " '_stat_axis_number',\n",
       " '_stat_function',\n",
       " '_stat_function_ddof',\n",
       " '_take_with_is_copy',\n",
       " '_to_dict_of_blocks',\n",
       " '_try_aggregate_string_function',\n",
       " '_typ',\n",
       " '_update_inplace',\n",
       " '_validate_dtype',\n",
       " '_values',\n",
       " '_where',\n",
       " 'abs',\n",
       " 'add',\n",
       " 'add_prefix',\n",
       " 'add_suffix',\n",
       " 'agg',\n",
       " 'aggregate',\n",
       " 'align',\n",
       " 'all',\n",
       " 'any',\n",
       " 'append',\n",
       " 'apply',\n",
       " 'applymap',\n",
       " 'area',\n",
       " 'asfreq',\n",
       " 'asof',\n",
       " 'assign',\n",
       " 'astype',\n",
       " 'at',\n",
       " 'at_time',\n",
       " 'attrs',\n",
       " 'axes',\n",
       " 'backfill',\n",
       " 'between_time',\n",
       " 'bfill',\n",
       " 'bool',\n",
       " 'boxplot',\n",
       " 'clip',\n",
       " 'columns',\n",
       " 'combine',\n",
       " 'combine_first',\n",
       " 'compare',\n",
       " 'computed_density',\n",
       " 'convert_dtypes',\n",
       " 'copy',\n",
       " 'corr',\n",
       " 'corrwith',\n",
       " 'count',\n",
       " 'cov',\n",
       " 'cummax',\n",
       " 'cummin',\n",
       " 'cumprod',\n",
       " 'cumsum',\n",
       " 'density',\n",
       " 'describe',\n",
       " 'diff',\n",
       " 'div',\n",
       " 'divide',\n",
       " 'dot',\n",
       " 'drop',\n",
       " 'drop_duplicates',\n",
       " 'droplevel',\n",
       " 'dropna',\n",
       " 'dtypes',\n",
       " 'duplicated',\n",
       " 'empty',\n",
       " 'eq',\n",
       " 'equals',\n",
       " 'eval',\n",
       " 'ewm',\n",
       " 'expanding',\n",
       " 'explode',\n",
       " 'ffill',\n",
       " 'fillna',\n",
       " 'filter',\n",
       " 'first',\n",
       " 'first_valid_index',\n",
       " 'flags',\n",
       " 'floordiv',\n",
       " 'from_dict',\n",
       " 'from_records',\n",
       " 'ge',\n",
       " 'get',\n",
       " 'groupby',\n",
       " 'gt',\n",
       " 'head',\n",
       " 'hist',\n",
       " 'iat',\n",
       " 'idxmax',\n",
       " 'idxmin',\n",
       " 'iloc',\n",
       " 'index',\n",
       " 'infer_objects',\n",
       " 'info',\n",
       " 'insert',\n",
       " 'interpolate',\n",
       " 'isin',\n",
       " 'isna',\n",
       " 'isnull',\n",
       " 'items',\n",
       " 'iteritems',\n",
       " 'iterrows',\n",
       " 'itertuples',\n",
       " 'join',\n",
       " 'keys',\n",
       " 'kurt',\n",
       " 'kurtosis',\n",
       " 'last',\n",
       " 'last_valid_index',\n",
       " 'le',\n",
       " 'loc',\n",
       " 'lookup',\n",
       " 'lt',\n",
       " 'mad',\n",
       " 'mask',\n",
       " 'max',\n",
       " 'mean',\n",
       " 'median',\n",
       " 'melt',\n",
       " 'memory_usage',\n",
       " 'merge',\n",
       " 'min',\n",
       " 'mod',\n",
       " 'mode',\n",
       " 'mul',\n",
       " 'multiply',\n",
       " 'ndim',\n",
       " 'ne',\n",
       " 'nlargest',\n",
       " 'notna',\n",
       " 'notnull',\n",
       " 'nsmallest',\n",
       " 'nunique',\n",
       " 'pad',\n",
       " 'pct_change',\n",
       " 'pipe',\n",
       " 'pivot',\n",
       " 'pivot_table',\n",
       " 'plot',\n",
       " 'pop',\n",
       " 'population',\n",
       " 'pow',\n",
       " 'prod',\n",
       " 'product',\n",
       " 'quantile',\n",
       " 'query',\n",
       " 'radd',\n",
       " 'rank',\n",
       " 'rdiv',\n",
       " 'reindex',\n",
       " 'reindex_like',\n",
       " 'rename',\n",
       " 'rename_axis',\n",
       " 'reorder_levels',\n",
       " 'replace',\n",
       " 'resample',\n",
       " 'reset_index',\n",
       " 'rfloordiv',\n",
       " 'rmod',\n",
       " 'rmul',\n",
       " 'rolling',\n",
       " 'round',\n",
       " 'rpow',\n",
       " 'rsub',\n",
       " 'rtruediv',\n",
       " 'sample',\n",
       " 'select_dtypes',\n",
       " 'sem',\n",
       " 'set_axis',\n",
       " 'set_flags',\n",
       " 'set_index',\n",
       " 'shape',\n",
       " 'shift',\n",
       " 'size',\n",
       " 'skew',\n",
       " 'slice_shift',\n",
       " 'sort_index',\n",
       " 'sort_values',\n",
       " 'squeeze',\n",
       " 'stack',\n",
       " 'std',\n",
       " 'style',\n",
       " 'sub',\n",
       " 'subtract',\n",
       " 'sum',\n",
       " 'swapaxes',\n",
       " 'swaplevel',\n",
       " 'tail',\n",
       " 'take',\n",
       " 'to_clipboard',\n",
       " 'to_csv',\n",
       " 'to_dict',\n",
       " 'to_excel',\n",
       " 'to_feather',\n",
       " 'to_gbq',\n",
       " 'to_hdf',\n",
       " 'to_html',\n",
       " 'to_json',\n",
       " 'to_latex',\n",
       " 'to_markdown',\n",
       " 'to_numpy',\n",
       " 'to_parquet',\n",
       " 'to_period',\n",
       " 'to_pickle',\n",
       " 'to_records',\n",
       " 'to_sql',\n",
       " 'to_stata',\n",
       " 'to_string',\n",
       " 'to_timestamp',\n",
       " 'to_xarray',\n",
       " 'transform',\n",
       " 'transpose',\n",
       " 'truediv',\n",
       " 'truncate',\n",
       " 'tz_convert',\n",
       " 'tz_localize',\n",
       " 'unstack',\n",
       " 'update',\n",
       " 'value_counts',\n",
       " 'values',\n",
       " 'var',\n",
       " 'where',\n",
       " 'xs']"
      ]
     },
     "execution_count": 174,
     "metadata": {},
     "output_type": "execute_result"
    }
   ],
   "source": [
    "dir(df)"
   ]
  },
  {
   "cell_type": "code",
   "execution_count": 180,
   "id": "liquid-answer",
   "metadata": {},
   "outputs": [
    {
     "data": {
      "text/plain": [
       "city_name\n",
       "Paris     False\n",
       "London     True\n",
       "Berlin    False\n",
       "Name: density, dtype: bool"
      ]
     },
     "execution_count": 180,
     "metadata": {},
     "output_type": "execute_result"
    }
   ],
   "source": [
    "~(df[\"density\"] != 5100)  # > < >= <= != ==\n",
    "# ~ est le negatif d'un masque booléen"
   ]
  },
  {
   "cell_type": "markdown",
   "id": "literary-reservoir",
   "metadata": {},
   "source": [
    "```\n",
    "Vrai   -> Faux\n",
    "Faux   -> Vrai\n",
    "Vrai   -> Faux\n",
    "```"
   ]
  },
  {
   "cell_type": "code",
   "execution_count": 18,
   "id": "coated-matter",
   "metadata": {},
   "outputs": [],
   "source": [
    "mask = df[\"population\"] > 4000000"
   ]
  },
  {
   "cell_type": "code",
   "execution_count": 20,
   "id": "random-craft",
   "metadata": {},
   "outputs": [
    {
     "data": {
      "text/html": [
       "<div>\n",
       "<style scoped>\n",
       "    .dataframe tbody tr th:only-of-type {\n",
       "        vertical-align: middle;\n",
       "    }\n",
       "\n",
       "    .dataframe tbody tr th {\n",
       "        vertical-align: top;\n",
       "    }\n",
       "\n",
       "    .dataframe thead th {\n",
       "        text-align: right;\n",
       "    }\n",
       "</style>\n",
       "<table border=\"1\" class=\"dataframe\">\n",
       "  <thead>\n",
       "    <tr style=\"text-align: right;\">\n",
       "      <th></th>\n",
       "      <th>city</th>\n",
       "      <th>density</th>\n",
       "      <th>area</th>\n",
       "      <th>population</th>\n",
       "    </tr>\n",
       "  </thead>\n",
       "  <tbody>\n",
       "    <tr>\n",
       "      <th>2</th>\n",
       "      <td>Berlin</td>\n",
       "      <td>3750</td>\n",
       "      <td>984</td>\n",
       "      <td>3675000</td>\n",
       "    </tr>\n",
       "  </tbody>\n",
       "</table>\n",
       "</div>"
      ],
      "text/plain": [
       "     city  density  area  population\n",
       "2  Berlin     3750   984     3675000"
      ]
     },
     "execution_count": 20,
     "metadata": {},
     "output_type": "execute_result"
    }
   ],
   "source": [
    "df[~mask]"
   ]
  },
  {
   "cell_type": "markdown",
   "id": "armed-exception",
   "metadata": {},
   "source": [
    "## Read `prenoms.csv`"
   ]
  },
  {
   "cell_type": "code",
   "execution_count": 22,
   "id": "settled-acquisition",
   "metadata": {},
   "outputs": [],
   "source": [
    "df = pd.read_csv(\"prenoms.csv\", sep=\";\")"
   ]
  },
  {
   "cell_type": "code",
   "execution_count": 23,
   "id": "found-puzzle",
   "metadata": {},
   "outputs": [
    {
     "data": {
      "text/html": [
       "<div>\n",
       "<style scoped>\n",
       "    .dataframe tbody tr th:only-of-type {\n",
       "        vertical-align: middle;\n",
       "    }\n",
       "\n",
       "    .dataframe tbody tr th {\n",
       "        vertical-align: top;\n",
       "    }\n",
       "\n",
       "    .dataframe thead th {\n",
       "        text-align: right;\n",
       "    }\n",
       "</style>\n",
       "<table border=\"1\" class=\"dataframe\">\n",
       "  <thead>\n",
       "    <tr style=\"text-align: right;\">\n",
       "      <th></th>\n",
       "      <th>prenom</th>\n",
       "      <th>genre</th>\n",
       "      <th>nb</th>\n",
       "    </tr>\n",
       "  </thead>\n",
       "  <tbody>\n",
       "    <tr>\n",
       "      <th>0</th>\n",
       "      <td>Michel</td>\n",
       "      <td>M</td>\n",
       "      <td>14136</td>\n",
       "    </tr>\n",
       "    <tr>\n",
       "      <th>1</th>\n",
       "      <td>Alain</td>\n",
       "      <td>M</td>\n",
       "      <td>10646</td>\n",
       "    </tr>\n",
       "    <tr>\n",
       "      <th>2</th>\n",
       "      <td>Philippe</td>\n",
       "      <td>M</td>\n",
       "      <td>9903</td>\n",
       "    </tr>\n",
       "    <tr>\n",
       "      <th>3</th>\n",
       "      <td>Bernard</td>\n",
       "      <td>M</td>\n",
       "      <td>8992</td>\n",
       "    </tr>\n",
       "    <tr>\n",
       "      <th>4</th>\n",
       "      <td>Christian</td>\n",
       "      <td>M</td>\n",
       "      <td>8102</td>\n",
       "    </tr>\n",
       "  </tbody>\n",
       "</table>\n",
       "</div>"
      ],
      "text/plain": [
       "      prenom genre     nb\n",
       "0     Michel     M  14136\n",
       "1      Alain     M  10646\n",
       "2   Philippe     M   9903\n",
       "3    Bernard     M   8992\n",
       "4  Christian     M   8102"
      ]
     },
     "execution_count": 23,
     "metadata": {},
     "output_type": "execute_result"
    }
   ],
   "source": [
    "df.head()"
   ]
  },
  {
   "cell_type": "code",
   "execution_count": 188,
   "id": "limited-insured",
   "metadata": {
    "collapsed": true
   },
   "outputs": [
    {
     "name": "stdout",
     "output_type": "stream",
     "text": [
      "Reverting to default Node version\n",
      "Now using node v14.15.4 (npm v7.6.0)\n",
      "Reverting to default Node version\n",
      "Now using node v14.15.4 (npm v7.6.0)\n",
      "Reverting to default Node version\n",
      "Now using node v14.15.4 (npm v7.6.0)\n",
      "\"prenom\";\"genre\";\"nb\"\n",
      "\"Michel\";\"M\";14136\n",
      "\"Alain\";\"M\";10646\n",
      "\"Philippe\";\"M\";9903\n",
      "\"Bernard\";\"M\";8992\n",
      "\"Christian\";\"M\";8102\n",
      "\"Daniel\";\"M\";7821\n",
      "\"Gérard\";\"M\";7009\n",
      "\"Jean-Pierre\";\"M\";6945\n",
      "\"Patrick\";\"M\";6884\n"
     ]
    }
   ],
   "source": [
    "!head prenoms.csv"
   ]
  },
  {
   "cell_type": "code",
   "execution_count": 24,
   "id": "controlling-venice",
   "metadata": {},
   "outputs": [
    {
     "data": {
      "text/plain": [
       "516331"
      ]
     },
     "execution_count": 24,
     "metadata": {},
     "output_type": "execute_result"
    }
   ],
   "source": [
    "df[df[\"prenom\"] != \"Alain\"][\"nb\"].sum()\n",
    "\n",
    "# SELECT SUM(nb)\n",
    "# FROM prenoms\n",
    "# WHERE prenom != \"Alain\""
   ]
  },
  {
   "cell_type": "code",
   "execution_count": 25,
   "id": "civil-winner",
   "metadata": {},
   "outputs": [
    {
     "data": {
      "text/plain": [
       "6581"
      ]
     },
     "execution_count": 25,
     "metadata": {},
     "output_type": "execute_result"
    }
   ],
   "source": [
    "df[df[\"genre\"] == \"M\"][\"genre\"].count()"
   ]
  },
  {
   "cell_type": "code",
   "execution_count": 26,
   "id": "expected-consortium",
   "metadata": {},
   "outputs": [
    {
     "data": {
      "text/plain": [
       "5886"
      ]
     },
     "execution_count": 26,
     "metadata": {},
     "output_type": "execute_result"
    }
   ],
   "source": [
    "df[df[\"genre\"] == \"F\"][\"genre\"].count()"
   ]
  },
  {
   "cell_type": "code",
   "execution_count": 29,
   "id": "dedicated-mentor",
   "metadata": {},
   "outputs": [
    {
     "data": {
      "text/plain": [
       "genre\n",
       "F    5885\n",
       "M    6580\n",
       "Name: prenom, dtype: int64"
      ]
     },
     "execution_count": 29,
     "metadata": {},
     "output_type": "execute_result"
    }
   ],
   "source": [
    "df.groupby(\"genre\")[\"prenom\"].count()\n",
    "\n",
    "# SELECT COUNT(nb)\n",
    "# FROM prenoms\n",
    "# GROUP BY genre"
   ]
  },
  {
   "cell_type": "code",
   "execution_count": 217,
   "id": "express-complement",
   "metadata": {},
   "outputs": [
    {
     "data": {
      "text/plain": [
       "M    6581\n",
       "F    5886\n",
       "Name: genre, dtype: int64"
      ]
     },
     "execution_count": 217,
     "metadata": {},
     "output_type": "execute_result"
    }
   ],
   "source": [
    "df[\"genre\"].value_counts()"
   ]
  },
  {
   "cell_type": "markdown",
   "id": "norwegian-county",
   "metadata": {},
   "source": [
    "```\n",
    "SELECT > []\n",
    "FROM read_csv\n",
    "WHERE []\n",
    "GROUP BY .groupby\n",
    "ORDER BY .sort_values\n",
    "```"
   ]
  },
  {
   "cell_type": "markdown",
   "id": "criminal-bleeding",
   "metadata": {},
   "source": [
    "### Jointures"
   ]
  },
  {
   "cell_type": "code",
   "execution_count": 31,
   "id": "recorded-there",
   "metadata": {},
   "outputs": [],
   "source": [
    "sex_reference = pd.DataFrame({\n",
    "    \"sex\": [\"M\", \"F\", \"O\"],\n",
    "    \"sex_label\": [\"Male\", \"Female\", \"Other\"],\n",
    "})"
   ]
  },
  {
   "cell_type": "code",
   "execution_count": 32,
   "id": "attended-emphasis",
   "metadata": {},
   "outputs": [
    {
     "data": {
      "text/html": [
       "<div>\n",
       "<style scoped>\n",
       "    .dataframe tbody tr th:only-of-type {\n",
       "        vertical-align: middle;\n",
       "    }\n",
       "\n",
       "    .dataframe tbody tr th {\n",
       "        vertical-align: top;\n",
       "    }\n",
       "\n",
       "    .dataframe thead th {\n",
       "        text-align: right;\n",
       "    }\n",
       "</style>\n",
       "<table border=\"1\" class=\"dataframe\">\n",
       "  <thead>\n",
       "    <tr style=\"text-align: right;\">\n",
       "      <th></th>\n",
       "      <th>sex</th>\n",
       "      <th>sex_label</th>\n",
       "    </tr>\n",
       "  </thead>\n",
       "  <tbody>\n",
       "    <tr>\n",
       "      <th>0</th>\n",
       "      <td>M</td>\n",
       "      <td>Male</td>\n",
       "    </tr>\n",
       "    <tr>\n",
       "      <th>1</th>\n",
       "      <td>F</td>\n",
       "      <td>Female</td>\n",
       "    </tr>\n",
       "    <tr>\n",
       "      <th>2</th>\n",
       "      <td>O</td>\n",
       "      <td>Other</td>\n",
       "    </tr>\n",
       "  </tbody>\n",
       "</table>\n",
       "</div>"
      ],
      "text/plain": [
       "  sex sex_label\n",
       "0   M      Male\n",
       "1   F    Female\n",
       "2   O     Other"
      ]
     },
     "execution_count": 32,
     "metadata": {},
     "output_type": "execute_result"
    }
   ],
   "source": [
    "sex_reference"
   ]
  },
  {
   "cell_type": "code",
   "execution_count": 33,
   "id": "advisory-observer",
   "metadata": {},
   "outputs": [
    {
     "data": {
      "text/html": [
       "<div>\n",
       "<style scoped>\n",
       "    .dataframe tbody tr th:only-of-type {\n",
       "        vertical-align: middle;\n",
       "    }\n",
       "\n",
       "    .dataframe tbody tr th {\n",
       "        vertical-align: top;\n",
       "    }\n",
       "\n",
       "    .dataframe thead th {\n",
       "        text-align: right;\n",
       "    }\n",
       "</style>\n",
       "<table border=\"1\" class=\"dataframe\">\n",
       "  <thead>\n",
       "    <tr style=\"text-align: right;\">\n",
       "      <th></th>\n",
       "      <th>prenom</th>\n",
       "      <th>genre</th>\n",
       "      <th>nb</th>\n",
       "    </tr>\n",
       "  </thead>\n",
       "  <tbody>\n",
       "    <tr>\n",
       "      <th>0</th>\n",
       "      <td>Michel</td>\n",
       "      <td>M</td>\n",
       "      <td>14136</td>\n",
       "    </tr>\n",
       "    <tr>\n",
       "      <th>1</th>\n",
       "      <td>Alain</td>\n",
       "      <td>M</td>\n",
       "      <td>10646</td>\n",
       "    </tr>\n",
       "    <tr>\n",
       "      <th>2</th>\n",
       "      <td>Philippe</td>\n",
       "      <td>M</td>\n",
       "      <td>9903</td>\n",
       "    </tr>\n",
       "    <tr>\n",
       "      <th>3</th>\n",
       "      <td>Bernard</td>\n",
       "      <td>M</td>\n",
       "      <td>8992</td>\n",
       "    </tr>\n",
       "    <tr>\n",
       "      <th>4</th>\n",
       "      <td>Christian</td>\n",
       "      <td>M</td>\n",
       "      <td>8102</td>\n",
       "    </tr>\n",
       "    <tr>\n",
       "      <th>...</th>\n",
       "      <td>...</td>\n",
       "      <td>...</td>\n",
       "      <td>...</td>\n",
       "    </tr>\n",
       "    <tr>\n",
       "      <th>12462</th>\n",
       "      <td>F.Jacques</td>\n",
       "      <td>M</td>\n",
       "      <td>1</td>\n",
       "    </tr>\n",
       "    <tr>\n",
       "      <th>12463</th>\n",
       "      <td>Frédie</td>\n",
       "      <td>F</td>\n",
       "      <td>1</td>\n",
       "    </tr>\n",
       "    <tr>\n",
       "      <th>12464</th>\n",
       "      <td>Efisia</td>\n",
       "      <td>F</td>\n",
       "      <td>1</td>\n",
       "    </tr>\n",
       "    <tr>\n",
       "      <th>12465</th>\n",
       "      <td>Cosima</td>\n",
       "      <td>F</td>\n",
       "      <td>1</td>\n",
       "    </tr>\n",
       "    <tr>\n",
       "      <th>12466</th>\n",
       "      <td>Florisse</td>\n",
       "      <td>F</td>\n",
       "      <td>1</td>\n",
       "    </tr>\n",
       "  </tbody>\n",
       "</table>\n",
       "<p>12467 rows × 3 columns</p>\n",
       "</div>"
      ],
      "text/plain": [
       "          prenom genre     nb\n",
       "0         Michel     M  14136\n",
       "1          Alain     M  10646\n",
       "2       Philippe     M   9903\n",
       "3        Bernard     M   8992\n",
       "4      Christian     M   8102\n",
       "...          ...   ...    ...\n",
       "12462  F.Jacques     M      1\n",
       "12463     Frédie     F      1\n",
       "12464     Efisia     F      1\n",
       "12465     Cosima     F      1\n",
       "12466   Florisse     F      1\n",
       "\n",
       "[12467 rows x 3 columns]"
      ]
     },
     "execution_count": 33,
     "metadata": {},
     "output_type": "execute_result"
    }
   ],
   "source": [
    "df"
   ]
  },
  {
   "cell_type": "code",
   "execution_count": 35,
   "id": "committed-airport",
   "metadata": {},
   "outputs": [
    {
     "data": {
      "text/html": [
       "<div>\n",
       "<style scoped>\n",
       "    .dataframe tbody tr th:only-of-type {\n",
       "        vertical-align: middle;\n",
       "    }\n",
       "\n",
       "    .dataframe tbody tr th {\n",
       "        vertical-align: top;\n",
       "    }\n",
       "\n",
       "    .dataframe thead th {\n",
       "        text-align: right;\n",
       "    }\n",
       "</style>\n",
       "<table border=\"1\" class=\"dataframe\">\n",
       "  <thead>\n",
       "    <tr style=\"text-align: right;\">\n",
       "      <th></th>\n",
       "      <th>prenom</th>\n",
       "      <th>genre</th>\n",
       "      <th>nb</th>\n",
       "      <th>sex</th>\n",
       "      <th>sex_label</th>\n",
       "    </tr>\n",
       "  </thead>\n",
       "  <tbody>\n",
       "    <tr>\n",
       "      <th>0</th>\n",
       "      <td>Michel</td>\n",
       "      <td>M</td>\n",
       "      <td>14136</td>\n",
       "      <td>M</td>\n",
       "      <td>Male</td>\n",
       "    </tr>\n",
       "    <tr>\n",
       "      <th>1</th>\n",
       "      <td>Alain</td>\n",
       "      <td>M</td>\n",
       "      <td>10646</td>\n",
       "      <td>M</td>\n",
       "      <td>Male</td>\n",
       "    </tr>\n",
       "    <tr>\n",
       "      <th>2</th>\n",
       "      <td>Philippe</td>\n",
       "      <td>M</td>\n",
       "      <td>9903</td>\n",
       "      <td>M</td>\n",
       "      <td>Male</td>\n",
       "    </tr>\n",
       "    <tr>\n",
       "      <th>3</th>\n",
       "      <td>Bernard</td>\n",
       "      <td>M</td>\n",
       "      <td>8992</td>\n",
       "      <td>M</td>\n",
       "      <td>Male</td>\n",
       "    </tr>\n",
       "    <tr>\n",
       "      <th>4</th>\n",
       "      <td>Christian</td>\n",
       "      <td>M</td>\n",
       "      <td>8102</td>\n",
       "      <td>M</td>\n",
       "      <td>Male</td>\n",
       "    </tr>\n",
       "    <tr>\n",
       "      <th>...</th>\n",
       "      <td>...</td>\n",
       "      <td>...</td>\n",
       "      <td>...</td>\n",
       "      <td>...</td>\n",
       "      <td>...</td>\n",
       "    </tr>\n",
       "    <tr>\n",
       "      <th>12462</th>\n",
       "      <td>Kimberley</td>\n",
       "      <td>F</td>\n",
       "      <td>1</td>\n",
       "      <td>F</td>\n",
       "      <td>Female</td>\n",
       "    </tr>\n",
       "    <tr>\n",
       "      <th>12463</th>\n",
       "      <td>Frédie</td>\n",
       "      <td>F</td>\n",
       "      <td>1</td>\n",
       "      <td>F</td>\n",
       "      <td>Female</td>\n",
       "    </tr>\n",
       "    <tr>\n",
       "      <th>12464</th>\n",
       "      <td>Efisia</td>\n",
       "      <td>F</td>\n",
       "      <td>1</td>\n",
       "      <td>F</td>\n",
       "      <td>Female</td>\n",
       "    </tr>\n",
       "    <tr>\n",
       "      <th>12465</th>\n",
       "      <td>Cosima</td>\n",
       "      <td>F</td>\n",
       "      <td>1</td>\n",
       "      <td>F</td>\n",
       "      <td>Female</td>\n",
       "    </tr>\n",
       "    <tr>\n",
       "      <th>12466</th>\n",
       "      <td>Florisse</td>\n",
       "      <td>F</td>\n",
       "      <td>1</td>\n",
       "      <td>F</td>\n",
       "      <td>Female</td>\n",
       "    </tr>\n",
       "  </tbody>\n",
       "</table>\n",
       "<p>12467 rows × 5 columns</p>\n",
       "</div>"
      ],
      "text/plain": [
       "          prenom genre     nb sex sex_label\n",
       "0         Michel     M  14136   M      Male\n",
       "1          Alain     M  10646   M      Male\n",
       "2       Philippe     M   9903   M      Male\n",
       "3        Bernard     M   8992   M      Male\n",
       "4      Christian     M   8102   M      Male\n",
       "...          ...   ...    ...  ..       ...\n",
       "12462  Kimberley     F      1   F    Female\n",
       "12463     Frédie     F      1   F    Female\n",
       "12464     Efisia     F      1   F    Female\n",
       "12465     Cosima     F      1   F    Female\n",
       "12466   Florisse     F      1   F    Female\n",
       "\n",
       "[12467 rows x 5 columns]"
      ]
     },
     "execution_count": 35,
     "metadata": {},
     "output_type": "execute_result"
    }
   ],
   "source": [
    "df.merge(sex_reference, left_on=\"genre\", right_on=\"sex\", how=\"inner\")"
   ]
  },
  {
   "cell_type": "markdown",
   "id": "chicken-optics",
   "metadata": {},
   "source": [
    "```\n",
    "A, B, C\n",
    "\n",
    "A join B > A'\n",
    "A' join C > resultat\n",
    "```"
   ]
  },
  {
   "cell_type": "code",
   "execution_count": 36,
   "id": "twelve-bowling",
   "metadata": {},
   "outputs": [],
   "source": [
    "sex_reference.columns = [\"genre\", \"genre_label\"]"
   ]
  },
  {
   "cell_type": "code",
   "execution_count": 37,
   "id": "driving-alberta",
   "metadata": {},
   "outputs": [
    {
     "data": {
      "text/html": [
       "<div>\n",
       "<style scoped>\n",
       "    .dataframe tbody tr th:only-of-type {\n",
       "        vertical-align: middle;\n",
       "    }\n",
       "\n",
       "    .dataframe tbody tr th {\n",
       "        vertical-align: top;\n",
       "    }\n",
       "\n",
       "    .dataframe thead th {\n",
       "        text-align: right;\n",
       "    }\n",
       "</style>\n",
       "<table border=\"1\" class=\"dataframe\">\n",
       "  <thead>\n",
       "    <tr style=\"text-align: right;\">\n",
       "      <th></th>\n",
       "      <th>genre</th>\n",
       "      <th>genre_label</th>\n",
       "    </tr>\n",
       "  </thead>\n",
       "  <tbody>\n",
       "    <tr>\n",
       "      <th>0</th>\n",
       "      <td>M</td>\n",
       "      <td>Male</td>\n",
       "    </tr>\n",
       "    <tr>\n",
       "      <th>1</th>\n",
       "      <td>F</td>\n",
       "      <td>Female</td>\n",
       "    </tr>\n",
       "    <tr>\n",
       "      <th>2</th>\n",
       "      <td>O</td>\n",
       "      <td>Other</td>\n",
       "    </tr>\n",
       "  </tbody>\n",
       "</table>\n",
       "</div>"
      ],
      "text/plain": [
       "  genre genre_label\n",
       "0     M        Male\n",
       "1     F      Female\n",
       "2     O       Other"
      ]
     },
     "execution_count": 37,
     "metadata": {},
     "output_type": "execute_result"
    }
   ],
   "source": [
    "sex_reference"
   ]
  },
  {
   "cell_type": "code",
   "execution_count": 40,
   "id": "promotional-diagram",
   "metadata": {},
   "outputs": [
    {
     "data": {
      "text/html": [
       "<div>\n",
       "<style scoped>\n",
       "    .dataframe tbody tr th:only-of-type {\n",
       "        vertical-align: middle;\n",
       "    }\n",
       "\n",
       "    .dataframe tbody tr th {\n",
       "        vertical-align: top;\n",
       "    }\n",
       "\n",
       "    .dataframe thead th {\n",
       "        text-align: right;\n",
       "    }\n",
       "</style>\n",
       "<table border=\"1\" class=\"dataframe\">\n",
       "  <thead>\n",
       "    <tr style=\"text-align: right;\">\n",
       "      <th></th>\n",
       "      <th>prenom</th>\n",
       "      <th>nb</th>\n",
       "      <th>genre_label</th>\n",
       "    </tr>\n",
       "    <tr>\n",
       "      <th>genre</th>\n",
       "      <th></th>\n",
       "      <th></th>\n",
       "      <th></th>\n",
       "    </tr>\n",
       "  </thead>\n",
       "  <tbody>\n",
       "    <tr>\n",
       "      <th>F</th>\n",
       "      <td>Catherine</td>\n",
       "      <td>4389</td>\n",
       "      <td>Female</td>\n",
       "    </tr>\n",
       "    <tr>\n",
       "      <th>F</th>\n",
       "      <td>Françoise</td>\n",
       "      <td>4334</td>\n",
       "      <td>Female</td>\n",
       "    </tr>\n",
       "    <tr>\n",
       "      <th>F</th>\n",
       "      <td>Isabelle</td>\n",
       "      <td>4295</td>\n",
       "      <td>Female</td>\n",
       "    </tr>\n",
       "    <tr>\n",
       "      <th>F</th>\n",
       "      <td>Sylvie</td>\n",
       "      <td>4197</td>\n",
       "      <td>Female</td>\n",
       "    </tr>\n",
       "    <tr>\n",
       "      <th>F</th>\n",
       "      <td>Martine</td>\n",
       "      <td>4094</td>\n",
       "      <td>Female</td>\n",
       "    </tr>\n",
       "    <tr>\n",
       "      <th>...</th>\n",
       "      <td>...</td>\n",
       "      <td>...</td>\n",
       "      <td>...</td>\n",
       "    </tr>\n",
       "    <tr>\n",
       "      <th>M</th>\n",
       "      <td>Elefthérios</td>\n",
       "      <td>1</td>\n",
       "      <td>Male</td>\n",
       "    </tr>\n",
       "    <tr>\n",
       "      <th>M</th>\n",
       "      <td>Patrice Bernard Jean</td>\n",
       "      <td>1</td>\n",
       "      <td>Male</td>\n",
       "    </tr>\n",
       "    <tr>\n",
       "      <th>M</th>\n",
       "      <td>Desire</td>\n",
       "      <td>1</td>\n",
       "      <td>Male</td>\n",
       "    </tr>\n",
       "    <tr>\n",
       "      <th>M</th>\n",
       "      <td>Pierre Emile</td>\n",
       "      <td>1</td>\n",
       "      <td>Male</td>\n",
       "    </tr>\n",
       "    <tr>\n",
       "      <th>M</th>\n",
       "      <td>F.Jacques</td>\n",
       "      <td>1</td>\n",
       "      <td>Male</td>\n",
       "    </tr>\n",
       "  </tbody>\n",
       "</table>\n",
       "<p>12467 rows × 3 columns</p>\n",
       "</div>"
      ],
      "text/plain": [
       "                     prenom    nb genre_label\n",
       "genre                                        \n",
       "F                 Catherine  4389      Female\n",
       "F                 Françoise  4334      Female\n",
       "F                  Isabelle  4295      Female\n",
       "F                    Sylvie  4197      Female\n",
       "F                   Martine  4094      Female\n",
       "...                     ...   ...         ...\n",
       "M               Elefthérios     1        Male\n",
       "M      Patrice Bernard Jean     1        Male\n",
       "M                    Desire     1        Male\n",
       "M              Pierre Emile     1        Male\n",
       "M                 F.Jacques     1        Male\n",
       "\n",
       "[12467 rows x 3 columns]"
      ]
     },
     "execution_count": 40,
     "metadata": {},
     "output_type": "execute_result"
    }
   ],
   "source": [
    "df.set_index(\"genre\").join(sex_reference.set_index(\"genre\"), how=\"inner\")  # .reset_index()"
   ]
  },
  {
   "cell_type": "code",
   "execution_count": 252,
   "id": "compact-machinery",
   "metadata": {},
   "outputs": [
    {
     "data": {
      "text/html": [
       "<div>\n",
       "<style scoped>\n",
       "    .dataframe tbody tr th:only-of-type {\n",
       "        vertical-align: middle;\n",
       "    }\n",
       "\n",
       "    .dataframe tbody tr th {\n",
       "        vertical-align: top;\n",
       "    }\n",
       "\n",
       "    .dataframe thead th {\n",
       "        text-align: right;\n",
       "    }\n",
       "</style>\n",
       "<table border=\"1\" class=\"dataframe\">\n",
       "  <thead>\n",
       "    <tr style=\"text-align: right;\">\n",
       "      <th></th>\n",
       "      <th>genre</th>\n",
       "      <th>genre_label</th>\n",
       "    </tr>\n",
       "  </thead>\n",
       "  <tbody>\n",
       "    <tr>\n",
       "      <th>0</th>\n",
       "      <td>M</td>\n",
       "      <td>Male</td>\n",
       "    </tr>\n",
       "    <tr>\n",
       "      <th>1</th>\n",
       "      <td>F</td>\n",
       "      <td>Female</td>\n",
       "    </tr>\n",
       "    <tr>\n",
       "      <th>2</th>\n",
       "      <td>O</td>\n",
       "      <td>Other</td>\n",
       "    </tr>\n",
       "  </tbody>\n",
       "</table>\n",
       "</div>"
      ],
      "text/plain": [
       "  genre genre_label\n",
       "0     M        Male\n",
       "1     F      Female\n",
       "2     O       Other"
      ]
     },
     "execution_count": 252,
     "metadata": {},
     "output_type": "execute_result"
    }
   ],
   "source": [
    "sex_reference.set_index(\"genre\").reset_index()"
   ]
  },
  {
   "cell_type": "code",
   "execution_count": 253,
   "id": "super-scanning",
   "metadata": {},
   "outputs": [
    {
     "data": {
      "text/plain": [
       "array(['D', 'M', 'F'], dtype=object)"
      ]
     },
     "execution_count": 253,
     "metadata": {},
     "output_type": "execute_result"
    }
   ],
   "source": [
    "df[\"genre\"].unique()"
   ]
  },
  {
   "cell_type": "code",
   "execution_count": 254,
   "id": "boolean-english",
   "metadata": {},
   "outputs": [
    {
     "data": {
      "text/plain": [
       "3"
      ]
     },
     "execution_count": 254,
     "metadata": {},
     "output_type": "execute_result"
    }
   ],
   "source": [
    "df[\"genre\"].nunique()"
   ]
  },
  {
   "cell_type": "code",
   "execution_count": 255,
   "id": "applied-experiment",
   "metadata": {},
   "outputs": [
    {
     "data": {
      "text/html": [
       "<div>\n",
       "<style scoped>\n",
       "    .dataframe tbody tr th:only-of-type {\n",
       "        vertical-align: middle;\n",
       "    }\n",
       "\n",
       "    .dataframe tbody tr th {\n",
       "        vertical-align: top;\n",
       "    }\n",
       "\n",
       "    .dataframe thead th {\n",
       "        text-align: right;\n",
       "    }\n",
       "</style>\n",
       "<table border=\"1\" class=\"dataframe\">\n",
       "  <thead>\n",
       "    <tr style=\"text-align: right;\">\n",
       "      <th></th>\n",
       "      <th>prenom</th>\n",
       "      <th>genre</th>\n",
       "      <th>nb</th>\n",
       "    </tr>\n",
       "  </thead>\n",
       "  <tbody>\n",
       "    <tr>\n",
       "      <th>12462</th>\n",
       "      <td>F.Jacques</td>\n",
       "      <td>M</td>\n",
       "      <td>1</td>\n",
       "    </tr>\n",
       "    <tr>\n",
       "      <th>12463</th>\n",
       "      <td>Frédie</td>\n",
       "      <td>F</td>\n",
       "      <td>1</td>\n",
       "    </tr>\n",
       "    <tr>\n",
       "      <th>12464</th>\n",
       "      <td>Efisia</td>\n",
       "      <td>F</td>\n",
       "      <td>1</td>\n",
       "    </tr>\n",
       "    <tr>\n",
       "      <th>12465</th>\n",
       "      <td>Cosima</td>\n",
       "      <td>F</td>\n",
       "      <td>1</td>\n",
       "    </tr>\n",
       "    <tr>\n",
       "      <th>12466</th>\n",
       "      <td>Florisse</td>\n",
       "      <td>F</td>\n",
       "      <td>1</td>\n",
       "    </tr>\n",
       "  </tbody>\n",
       "</table>\n",
       "</div>"
      ],
      "text/plain": [
       "          prenom genre  nb\n",
       "12462  F.Jacques     M   1\n",
       "12463     Frédie     F   1\n",
       "12464     Efisia     F   1\n",
       "12465     Cosima     F   1\n",
       "12466   Florisse     F   1"
      ]
     },
     "execution_count": 255,
     "metadata": {},
     "output_type": "execute_result"
    }
   ],
   "source": [
    "df.tail() # contraire de .head()"
   ]
  },
  {
   "cell_type": "markdown",
   "id": "placed-affairs",
   "metadata": {},
   "source": [
    "### Question : trouver le nombre de prénoms qui sont androgynes"
   ]
  },
  {
   "cell_type": "code",
   "execution_count": 47,
   "id": "funded-pharmaceutical",
   "metadata": {},
   "outputs": [
    {
     "data": {
      "text/html": [
       "<div>\n",
       "<style scoped>\n",
       "    .dataframe tbody tr th:only-of-type {\n",
       "        vertical-align: middle;\n",
       "    }\n",
       "\n",
       "    .dataframe tbody tr th {\n",
       "        vertical-align: top;\n",
       "    }\n",
       "\n",
       "    .dataframe thead th {\n",
       "        text-align: right;\n",
       "    }\n",
       "</style>\n",
       "<table border=\"1\" class=\"dataframe\">\n",
       "  <thead>\n",
       "    <tr style=\"text-align: right;\">\n",
       "      <th></th>\n",
       "      <th>prenom</th>\n",
       "      <th>genre</th>\n",
       "      <th>nb</th>\n",
       "    </tr>\n",
       "  </thead>\n",
       "  <tbody>\n",
       "    <tr>\n",
       "      <th>0</th>\n",
       "      <td>Michel</td>\n",
       "      <td>M</td>\n",
       "      <td>14136</td>\n",
       "    </tr>\n",
       "    <tr>\n",
       "      <th>1</th>\n",
       "      <td>Alain</td>\n",
       "      <td>M</td>\n",
       "      <td>10646</td>\n",
       "    </tr>\n",
       "    <tr>\n",
       "      <th>2</th>\n",
       "      <td>Philippe</td>\n",
       "      <td>M</td>\n",
       "      <td>9903</td>\n",
       "    </tr>\n",
       "    <tr>\n",
       "      <th>3</th>\n",
       "      <td>Bernard</td>\n",
       "      <td>M</td>\n",
       "      <td>8992</td>\n",
       "    </tr>\n",
       "    <tr>\n",
       "      <th>4</th>\n",
       "      <td>Christian</td>\n",
       "      <td>M</td>\n",
       "      <td>8102</td>\n",
       "    </tr>\n",
       "    <tr>\n",
       "      <th>...</th>\n",
       "      <td>...</td>\n",
       "      <td>...</td>\n",
       "      <td>...</td>\n",
       "    </tr>\n",
       "    <tr>\n",
       "      <th>12462</th>\n",
       "      <td>F.Jacques</td>\n",
       "      <td>M</td>\n",
       "      <td>1</td>\n",
       "    </tr>\n",
       "    <tr>\n",
       "      <th>12463</th>\n",
       "      <td>Frédie</td>\n",
       "      <td>F</td>\n",
       "      <td>1</td>\n",
       "    </tr>\n",
       "    <tr>\n",
       "      <th>12464</th>\n",
       "      <td>Efisia</td>\n",
       "      <td>F</td>\n",
       "      <td>1</td>\n",
       "    </tr>\n",
       "    <tr>\n",
       "      <th>12465</th>\n",
       "      <td>Cosima</td>\n",
       "      <td>F</td>\n",
       "      <td>1</td>\n",
       "    </tr>\n",
       "    <tr>\n",
       "      <th>12466</th>\n",
       "      <td>Florisse</td>\n",
       "      <td>F</td>\n",
       "      <td>1</td>\n",
       "    </tr>\n",
       "  </tbody>\n",
       "</table>\n",
       "<p>12467 rows × 3 columns</p>\n",
       "</div>"
      ],
      "text/plain": [
       "          prenom genre     nb\n",
       "0         Michel     M  14136\n",
       "1          Alain     M  10646\n",
       "2       Philippe     M   9903\n",
       "3        Bernard     M   8992\n",
       "4      Christian     M   8102\n",
       "...          ...   ...    ...\n",
       "12462  F.Jacques     M      1\n",
       "12463     Frédie     F      1\n",
       "12464     Efisia     F      1\n",
       "12465     Cosima     F      1\n",
       "12466   Florisse     F      1\n",
       "\n",
       "[12467 rows x 3 columns]"
      ]
     },
     "execution_count": 47,
     "metadata": {},
     "output_type": "execute_result"
    }
   ],
   "source": [
    "df"
   ]
  },
  {
   "cell_type": "code",
   "execution_count": 48,
   "id": "visible-reflection",
   "metadata": {},
   "outputs": [
    {
     "data": {
      "text/plain": [
       "Gyslaine            True\n",
       "Gwenaelle           True\n",
       "Josian              True\n",
       "Sandy               True\n",
       "Ivy                 True\n",
       "                   ...  \n",
       "Antoni             False\n",
       "Louazna            False\n",
       "Savine             False\n",
       "Marguerite-Mari    False\n",
       "Anne-François      False\n",
       "Name: prenom, Length: 11719, dtype: bool"
      ]
     },
     "execution_count": 48,
     "metadata": {},
     "output_type": "execute_result"
    }
   ],
   "source": [
    "df[\"prenom\"].value_counts() == 2"
   ]
  },
  {
   "cell_type": "code",
   "execution_count": 49,
   "id": "different-wisdom",
   "metadata": {},
   "outputs": [
    {
     "data": {
      "text/plain": [
       "746"
      ]
     },
     "execution_count": 49,
     "metadata": {},
     "output_type": "execute_result"
    }
   ],
   "source": [
    "(df[\"prenom\"].value_counts() == 2).sum()"
   ]
  },
  {
   "cell_type": "code",
   "execution_count": 50,
   "id": "accurate-prefix",
   "metadata": {},
   "outputs": [],
   "source": [
    "groups = df[\"prenom\"].value_counts()"
   ]
  },
  {
   "cell_type": "code",
   "execution_count": 53,
   "id": "thermal-passion",
   "metadata": {},
   "outputs": [
    {
     "data": {
      "text/plain": [
       "475951"
      ]
     },
     "execution_count": 53,
     "metadata": {},
     "output_type": "execute_result"
    }
   ],
   "source": [
    "df[df[\"prenom\"].isin(groups[groups == 2].index)][\"nb\"].sum()"
   ]
  },
  {
   "cell_type": "code",
   "execution_count": 52,
   "id": "coated-excerpt",
   "metadata": {},
   "outputs": [
    {
     "data": {
      "text/plain": [
       "746"
      ]
     },
     "execution_count": 52,
     "metadata": {},
     "output_type": "execute_result"
    }
   ],
   "source": [
    "groups[groups == 2].count()"
   ]
  },
  {
   "cell_type": "code",
   "execution_count": 56,
   "id": "expanded-league",
   "metadata": {},
   "outputs": [
    {
     "data": {
      "text/plain": [
       "Index(['Gyslaine', 'Gwenaelle', 'Josian', 'Sandy', 'Ivy', 'Paule', 'Séverine',\n",
       "       'Ilda', 'Marie-Laure', 'Agnès',\n",
       "       ...\n",
       "       'Sophie', 'Gillette', 'Nicole', 'Claudine', 'Marie-Reine', 'Léandre',\n",
       "       'Lise', 'Narcisse', 'Regine', 'Gervais'],\n",
       "      dtype='object', length=746)"
      ]
     },
     "execution_count": 56,
     "metadata": {},
     "output_type": "execute_result"
    }
   ],
   "source": [
    "groups[groups == 2].index"
   ]
  },
  {
   "cell_type": "markdown",
   "id": "accompanied-dylan",
   "metadata": {},
   "source": [
    "## Question : Trouver le prénom le plus long"
   ]
  },
  {
   "cell_type": "code",
   "execution_count": 65,
   "id": "committed-spyware",
   "metadata": {
    "collapsed": true
   },
   "outputs": [
    {
     "data": {
      "text/plain": [
       "[6,\n",
       " 5,\n",
       " 8,\n",
       " 7,\n",
       " 9,\n",
       " 6,\n",
       " 6,\n",
       " 11,\n",
       " 7,\n",
       " 6,\n",
       " 6,\n",
       " 7,\n",
       " 11,\n",
       " 6,\n",
       " 7,\n",
       " 4,\n",
       " 4,\n",
       " 9,\n",
       " 5,\n",
       " 6,\n",
       " 10,\n",
       " 7,\n",
       " 9,\n",
       " 9,\n",
       " 8,\n",
       " 8,\n",
       " 6,\n",
       " 3,\n",
       " 7,\n",
       " 8,\n",
       " 9,\n",
       " 6,\n",
       " 5,\n",
       " 9,\n",
       " 4,\n",
       " 7,\n",
       " 8,\n",
       " 5,\n",
       " 8,\n",
       " 5,\n",
       " 7,\n",
       " 8,\n",
       " 10,\n",
       " 4,\n",
       " 7,\n",
       " 6,\n",
       " 10,\n",
       " 4,\n",
       " 7,\n",
       " 6,\n",
       " 4,\n",
       " 13,\n",
       " 11,\n",
       " 9,\n",
       " 5,\n",
       " 7,\n",
       " 5,\n",
       " 7,\n",
       " 5,\n",
       " 8,\n",
       " 5,\n",
       " 9,\n",
       " 9,\n",
       " 7,\n",
       " 7,\n",
       " 7,\n",
       " 6,\n",
       " 8,\n",
       " 7,\n",
       " 9,\n",
       " 7,\n",
       " 8,\n",
       " 5,\n",
       " 8,\n",
       " 10,\n",
       " 7,\n",
       " 6,\n",
       " 10,\n",
       " 6,\n",
       " 7,\n",
       " 6,\n",
       " 4,\n",
       " 6,\n",
       " 6,\n",
       " 4,\n",
       " 10,\n",
       " 12,\n",
       " 5,\n",
       " 7,\n",
       " 9,\n",
       " 7,\n",
       " 7,\n",
       " 8,\n",
       " 8,\n",
       " 8,\n",
       " 8,\n",
       " 10,\n",
       " 7,\n",
       " 8,\n",
       " 7,\n",
       " 5,\n",
       " 6,\n",
       " 6,\n",
       " 6,\n",
       " 6,\n",
       " 10,\n",
       " 9,\n",
       " 5,\n",
       " 6,\n",
       " 6,\n",
       " 9,\n",
       " 8,\n",
       " 6,\n",
       " 15,\n",
       " 7,\n",
       " 8,\n",
       " 6,\n",
       " 8,\n",
       " 9,\n",
       " 12,\n",
       " 7,\n",
       " 8,\n",
       " 13,\n",
       " 7,\n",
       " 5,\n",
       " 6,\n",
       " 7,\n",
       " 5,\n",
       " 7,\n",
       " 7,\n",
       " 5,\n",
       " 6,\n",
       " 6,\n",
       " 3,\n",
       " 7,\n",
       " 6,\n",
       " 7,\n",
       " 9,\n",
       " 6,\n",
       " 8,\n",
       " 6,\n",
       " 6,\n",
       " 6,\n",
       " 7,\n",
       " 12,\n",
       " 6,\n",
       " 6,\n",
       " 8,\n",
       " 6,\n",
       " 8,\n",
       " 6,\n",
       " 6,\n",
       " 9,\n",
       " 8,\n",
       " 6,\n",
       " 4,\n",
       " 6,\n",
       " 6,\n",
       " 8,\n",
       " 4,\n",
       " 6,\n",
       " 7,\n",
       " 9,\n",
       " 7,\n",
       " 6,\n",
       " 13,\n",
       " 6,\n",
       " 12,\n",
       " 7,\n",
       " 6,\n",
       " 12,\n",
       " 6,\n",
       " 8,\n",
       " 7,\n",
       " 4,\n",
       " 5,\n",
       " 5,\n",
       " 5,\n",
       " 4,\n",
       " 5,\n",
       " 4,\n",
       " 7,\n",
       " 6,\n",
       " 12,\n",
       " 15,\n",
       " 6,\n",
       " 6,\n",
       " 4,\n",
       " 10,\n",
       " 10,\n",
       " 7,\n",
       " 7,\n",
       " 5,\n",
       " 8,\n",
       " 9,\n",
       " 6,\n",
       " 6,\n",
       " 7,\n",
       " 10,\n",
       " 7,\n",
       " 8,\n",
       " 15,\n",
       " 7,\n",
       " 6,\n",
       " 8,\n",
       " 6,\n",
       " 9,\n",
       " 9,\n",
       " 7,\n",
       " 5,\n",
       " 9,\n",
       " 6,\n",
       " 8,\n",
       " 11,\n",
       " 11,\n",
       " 7,\n",
       " 6,\n",
       " 7,\n",
       " 4,\n",
       " 8,\n",
       " 4,\n",
       " 6,\n",
       " 11,\n",
       " 3,\n",
       " 12,\n",
       " 5,\n",
       " 7,\n",
       " 5,\n",
       " 7,\n",
       " 9,\n",
       " 5,\n",
       " 8,\n",
       " 7,\n",
       " 6,\n",
       " 7,\n",
       " 7,\n",
       " 7,\n",
       " 7,\n",
       " 5,\n",
       " 6,\n",
       " 7,\n",
       " 6,\n",
       " 12,\n",
       " 6,\n",
       " 13,\n",
       " 9,\n",
       " 7,\n",
       " 6,\n",
       " 8,\n",
       " 9,\n",
       " 11,\n",
       " 6,\n",
       " 9,\n",
       " 6,\n",
       " 12,\n",
       " 4,\n",
       " 9,\n",
       " 6,\n",
       " 7,\n",
       " 7,\n",
       " 12,\n",
       " 6,\n",
       " 5,\n",
       " 6,\n",
       " 7,\n",
       " 7,\n",
       " 6,\n",
       " 7,\n",
       " 8,\n",
       " 5,\n",
       " 6,\n",
       " 5,\n",
       " 9,\n",
       " 8,\n",
       " 8,\n",
       " 6,\n",
       " 7,\n",
       " 5,\n",
       " 11,\n",
       " 6,\n",
       " 7,\n",
       " 5,\n",
       " 8,\n",
       " 6,\n",
       " 8,\n",
       " 6,\n",
       " 4,\n",
       " 10,\n",
       " 12,\n",
       " 11,\n",
       " 6,\n",
       " 10,\n",
       " 9,\n",
       " 10,\n",
       " 6,\n",
       " 6,\n",
       " 15,\n",
       " 8,\n",
       " 6,\n",
       " 5,\n",
       " 7,\n",
       " 8,\n",
       " 7,\n",
       " 5,\n",
       " 8,\n",
       " 10,\n",
       " 10,\n",
       " 8,\n",
       " 6,\n",
       " 6,\n",
       " 8,\n",
       " 8,\n",
       " 6,\n",
       " 8,\n",
       " 8,\n",
       " 7,\n",
       " 6,\n",
       " 8,\n",
       " 9,\n",
       " 7,\n",
       " 5,\n",
       " 7,\n",
       " 7,\n",
       " 7,\n",
       " 5,\n",
       " 9,\n",
       " 4,\n",
       " 10,\n",
       " 6,\n",
       " 6,\n",
       " 6,\n",
       " 7,\n",
       " 5,\n",
       " 7,\n",
       " 4,\n",
       " 6,\n",
       " 6,\n",
       " 9,\n",
       " 7,\n",
       " 10,\n",
       " 13,\n",
       " 8,\n",
       " 12,\n",
       " 5,\n",
       " 11,\n",
       " 11,\n",
       " 5,\n",
       " 6,\n",
       " 8,\n",
       " 8,\n",
       " 5,\n",
       " 4,\n",
       " 5,\n",
       " 11,\n",
       " 6,\n",
       " 5,\n",
       " 7,\n",
       " 6,\n",
       " 10,\n",
       " 8,\n",
       " 10,\n",
       " 8,\n",
       " 9,\n",
       " 6,\n",
       " 6,\n",
       " 7,\n",
       " 9,\n",
       " 6,\n",
       " 13,\n",
       " 4,\n",
       " 7,\n",
       " 4,\n",
       " 11,\n",
       " 5,\n",
       " 6,\n",
       " 8,\n",
       " 7,\n",
       " 10,\n",
       " 6,\n",
       " 7,\n",
       " 6,\n",
       " 5,\n",
       " 7,\n",
       " 9,\n",
       " 5,\n",
       " 10,\n",
       " 9,\n",
       " 6,\n",
       " 7,\n",
       " 6,\n",
       " 4,\n",
       " 4,\n",
       " 7,\n",
       " 8,\n",
       " 6,\n",
       " 7,\n",
       " 9,\n",
       " 4,\n",
       " 7,\n",
       " 9,\n",
       " 8,\n",
       " 12,\n",
       " 6,\n",
       " 8,\n",
       " 9,\n",
       " 6,\n",
       " 7,\n",
       " 9,\n",
       " 15,\n",
       " 5,\n",
       " 4,\n",
       " 5,\n",
       " 8,\n",
       " 5,\n",
       " 4,\n",
       " 5,\n",
       " 4,\n",
       " 5,\n",
       " 8,\n",
       " 5,\n",
       " 5,\n",
       " 5,\n",
       " 4,\n",
       " 7,\n",
       " 7,\n",
       " 8,\n",
       " 10,\n",
       " 11,\n",
       " 6,\n",
       " 8,\n",
       " 5,\n",
       " 8,\n",
       " 6,\n",
       " 8,\n",
       " 16,\n",
       " 4,\n",
       " 9,\n",
       " 4,\n",
       " 6,\n",
       " 8,\n",
       " 7,\n",
       " 7,\n",
       " 8,\n",
       " 6,\n",
       " 5,\n",
       " 9,\n",
       " 7,\n",
       " 6,\n",
       " 8,\n",
       " 7,\n",
       " 9,\n",
       " 12,\n",
       " 4,\n",
       " 8,\n",
       " 7,\n",
       " 6,\n",
       " 8,\n",
       " 8,\n",
       " 7,\n",
       " 6,\n",
       " 5,\n",
       " 6,\n",
       " 4,\n",
       " 12,\n",
       " 6,\n",
       " 8,\n",
       " 15,\n",
       " 5,\n",
       " 11,\n",
       " 8,\n",
       " 5,\n",
       " 5,\n",
       " 6,\n",
       " 3,\n",
       " 9,\n",
       " 4,\n",
       " 4,\n",
       " 6,\n",
       " 12,\n",
       " 6,\n",
       " 6,\n",
       " 13,\n",
       " 5,\n",
       " 12,\n",
       " 8,\n",
       " 8,\n",
       " 5,\n",
       " 7,\n",
       " 6,\n",
       " 12,\n",
       " 11,\n",
       " 8,\n",
       " 9,\n",
       " 6,\n",
       " 9,\n",
       " 5,\n",
       " 6,\n",
       " 5,\n",
       " 4,\n",
       " 7,\n",
       " 8,\n",
       " 6,\n",
       " 4,\n",
       " 9,\n",
       " 7,\n",
       " 7,\n",
       " 9,\n",
       " 6,\n",
       " 5,\n",
       " 7,\n",
       " 7,\n",
       " 9,\n",
       " 5,\n",
       " 6,\n",
       " 4,\n",
       " 10,\n",
       " 8,\n",
       " 4,\n",
       " 15,\n",
       " 5,\n",
       " 7,\n",
       " 4,\n",
       " 5,\n",
       " 8,\n",
       " 5,\n",
       " 8,\n",
       " 8,\n",
       " 11,\n",
       " 5,\n",
       " 7,\n",
       " 12,\n",
       " 8,\n",
       " 7,\n",
       " 8,\n",
       " 9,\n",
       " 6,\n",
       " 9,\n",
       " 7,\n",
       " 8,\n",
       " 5,\n",
       " 6,\n",
       " 11,\n",
       " 6,\n",
       " 6,\n",
       " 8,\n",
       " 14,\n",
       " 6,\n",
       " 6,\n",
       " 4,\n",
       " 6,\n",
       " 8,\n",
       " 9,\n",
       " 5,\n",
       " 6,\n",
       " 9,\n",
       " 10,\n",
       " 7,\n",
       " 9,\n",
       " 4,\n",
       " 10,\n",
       " 15,\n",
       " 7,\n",
       " 7,\n",
       " 8,\n",
       " 13,\n",
       " 8,\n",
       " 6,\n",
       " 5,\n",
       " 6,\n",
       " 13,\n",
       " 12,\n",
       " 4,\n",
       " 6,\n",
       " 5,\n",
       " 8,\n",
       " 6,\n",
       " 7,\n",
       " 3,\n",
       " 7,\n",
       " 6,\n",
       " 10,\n",
       " 5,\n",
       " 9,\n",
       " 8,\n",
       " 4,\n",
       " 7,\n",
       " 5,\n",
       " 6,\n",
       " 15,\n",
       " 6,\n",
       " 7,\n",
       " 5,\n",
       " 5,\n",
       " 7,\n",
       " 9,\n",
       " 12,\n",
       " 13,\n",
       " 9,\n",
       " 3,\n",
       " 7,\n",
       " 4,\n",
       " 6,\n",
       " 14,\n",
       " 9,\n",
       " 11,\n",
       " 12,\n",
       " 9,\n",
       " 7,\n",
       " 12,\n",
       " 5,\n",
       " 5,\n",
       " 12,\n",
       " 7,\n",
       " 4,\n",
       " 5,\n",
       " 7,\n",
       " 8,\n",
       " 6,\n",
       " 7,\n",
       " 6,\n",
       " 14,\n",
       " 6,\n",
       " 4,\n",
       " 5,\n",
       " 12,\n",
       " 4,\n",
       " 5,\n",
       " 4,\n",
       " 8,\n",
       " 7,\n",
       " 6,\n",
       " 12,\n",
       " 16,\n",
       " 8,\n",
       " 4,\n",
       " 8,\n",
       " 6,\n",
       " 13,\n",
       " 9,\n",
       " 4,\n",
       " 9,\n",
       " 8,\n",
       " 15,\n",
       " 5,\n",
       " 3,\n",
       " 8,\n",
       " 7,\n",
       " 6,\n",
       " 4,\n",
       " 7,\n",
       " 6,\n",
       " 7,\n",
       " 7,\n",
       " 13,\n",
       " 11,\n",
       " 11,\n",
       " 6,\n",
       " 7,\n",
       " 8,\n",
       " 8,\n",
       " 7,\n",
       " 6,\n",
       " 4,\n",
       " 11,\n",
       " 12,\n",
       " 7,\n",
       " 14,\n",
       " 7,\n",
       " 7,\n",
       " 6,\n",
       " 4,\n",
       " 7,\n",
       " 4,\n",
       " 7,\n",
       " 6,\n",
       " 7,\n",
       " 11,\n",
       " 6,\n",
       " 7,\n",
       " 9,\n",
       " 7,\n",
       " 10,\n",
       " 6,\n",
       " 6,\n",
       " 7,\n",
       " 6,\n",
       " 8,\n",
       " 15,\n",
       " 4,\n",
       " 9,\n",
       " 8,\n",
       " 8,\n",
       " 7,\n",
       " 5,\n",
       " 6,\n",
       " 5,\n",
       " 6,\n",
       " 7,\n",
       " 5,\n",
       " 5,\n",
       " 6,\n",
       " 11,\n",
       " 5,\n",
       " 6,\n",
       " 7,\n",
       " 7,\n",
       " 5,\n",
       " 5,\n",
       " 12,\n",
       " 7,\n",
       " 7,\n",
       " 4,\n",
       " 12,\n",
       " 8,\n",
       " 8,\n",
       " 11,\n",
       " 9,\n",
       " 6,\n",
       " 8,\n",
       " 9,\n",
       " 7,\n",
       " 5,\n",
       " 8,\n",
       " 12,\n",
       " 8,\n",
       " 7,\n",
       " 5,\n",
       " 5,\n",
       " 6,\n",
       " 14,\n",
       " 5,\n",
       " 10,\n",
       " 6,\n",
       " 9,\n",
       " 12,\n",
       " 6,\n",
       " 6,\n",
       " 6,\n",
       " 7,\n",
       " 6,\n",
       " 8,\n",
       " 7,\n",
       " 6,\n",
       " 5,\n",
       " 7,\n",
       " 7,\n",
       " 7,\n",
       " 7,\n",
       " 14,\n",
       " 5,\n",
       " 8,\n",
       " 9,\n",
       " 5,\n",
       " 8,\n",
       " 4,\n",
       " 10,\n",
       " 6,\n",
       " 3,\n",
       " 7,\n",
       " 13,\n",
       " 6,\n",
       " 5,\n",
       " 7,\n",
       " 8,\n",
       " 13,\n",
       " 9,\n",
       " 9,\n",
       " 10,\n",
       " 8,\n",
       " 3,\n",
       " 6,\n",
       " 6,\n",
       " 4,\n",
       " 6,\n",
       " 10,\n",
       " 6,\n",
       " 5,\n",
       " 6,\n",
       " 12,\n",
       " 11,\n",
       " 10,\n",
       " 9,\n",
       " 5,\n",
       " 6,\n",
       " 4,\n",
       " 7,\n",
       " 5,\n",
       " 6,\n",
       " 8,\n",
       " 7,\n",
       " 9,\n",
       " 15,\n",
       " 8,\n",
       " 8,\n",
       " 7,\n",
       " 5,\n",
       " 11,\n",
       " 5,\n",
       " 4,\n",
       " 5,\n",
       " 7,\n",
       " 12,\n",
       " 5,\n",
       " 12,\n",
       " 5,\n",
       " 7,\n",
       " 8,\n",
       " 7,\n",
       " 6,\n",
       " 10,\n",
       " 4,\n",
       " 11,\n",
       " 12,\n",
       " 4,\n",
       " 7,\n",
       " 8,\n",
       " 7,\n",
       " 8,\n",
       " 6,\n",
       " 7,\n",
       " 6,\n",
       " 6,\n",
       " 4,\n",
       " 8,\n",
       " 4,\n",
       " 7,\n",
       " 9,\n",
       " 5,\n",
       " 5,\n",
       " 7,\n",
       " 8,\n",
       " 6,\n",
       " 6,\n",
       " 5,\n",
       " 6,\n",
       " 8,\n",
       " 5,\n",
       " 8,\n",
       " 6,\n",
       " 7,\n",
       " 10,\n",
       " 8,\n",
       " 5,\n",
       " 7,\n",
       " 6,\n",
       " 6,\n",
       " 12,\n",
       " 9,\n",
       " 8,\n",
       " 4,\n",
       " 7,\n",
       " 8,\n",
       " 9,\n",
       " 8,\n",
       " 7,\n",
       " 7,\n",
       " 6,\n",
       " 4,\n",
       " 6,\n",
       " 8,\n",
       " 7,\n",
       " 6,\n",
       " 9,\n",
       " 7,\n",
       " 7,\n",
       " 10,\n",
       " 10,\n",
       " 7,\n",
       " 4,\n",
       " 6,\n",
       " 6,\n",
       " 10,\n",
       " 9,\n",
       " 7,\n",
       " 7,\n",
       " 8,\n",
       " 9,\n",
       " 5,\n",
       " 4,\n",
       " 7,\n",
       " 6,\n",
       " 5,\n",
       " 7,\n",
       " 5,\n",
       " 7,\n",
       " 12,\n",
       " 4,\n",
       " 15,\n",
       " 14,\n",
       " 13,\n",
       " 5,\n",
       " 12,\n",
       " 4,\n",
       " 4,\n",
       " 7,\n",
       " 4,\n",
       " 12,\n",
       " 6,\n",
       " 6,\n",
       " 6,\n",
       " 6,\n",
       " 7,\n",
       " 5,\n",
       " 12,\n",
       " 7,\n",
       " 6,\n",
       " 7,\n",
       " 6,\n",
       " 6,\n",
       " 7,\n",
       " 6,\n",
       " 6,\n",
       " 9,\n",
       " 10,\n",
       " 5,\n",
       " 6,\n",
       " 5,\n",
       " 7,\n",
       " 14,\n",
       " 12,\n",
       " 10,\n",
       " 7,\n",
       " 9,\n",
       " 9,\n",
       " 8,\n",
       " 12,\n",
       " 5,\n",
       " 8,\n",
       " 6,\n",
       " 10,\n",
       " 10,\n",
       " 8,\n",
       " 4,\n",
       " 6,\n",
       " 7,\n",
       " 13,\n",
       " 10,\n",
       " 4,\n",
       " 7,\n",
       " 12,\n",
       " 8,\n",
       " 15,\n",
       " 15,\n",
       " 4,\n",
       " 5,\n",
       " 6,\n",
       " 12,\n",
       " 10,\n",
       " 4,\n",
       " 14,\n",
       " 4,\n",
       " 7,\n",
       " 12,\n",
       " 6,\n",
       " 7,\n",
       " 9,\n",
       " 5,\n",
       " 5,\n",
       " 7,\n",
       " 9,\n",
       " 6,\n",
       " 6,\n",
       " 6,\n",
       " 15,\n",
       " 7,\n",
       " 11,\n",
       " 9,\n",
       " 5,\n",
       " 7,\n",
       " 6,\n",
       " 11,\n",
       " 5,\n",
       " 5,\n",
       " 7,\n",
       " 6,\n",
       " 14,\n",
       " 7,\n",
       " 7,\n",
       " 4,\n",
       " 6,\n",
       " 7,\n",
       " 11,\n",
       " 5,\n",
       " 6,\n",
       " 12,\n",
       " 12,\n",
       " 5,\n",
       " 5,\n",
       " 10,\n",
       " 5,\n",
       " 3,\n",
       " 6,\n",
       " 8,\n",
       " 8,\n",
       " 12,\n",
       " 7,\n",
       " 8,\n",
       " 5,\n",
       " 9,\n",
       " 3,\n",
       " ...]"
      ]
     },
     "execution_count": 65,
     "metadata": {},
     "output_type": "execute_result"
    }
   ],
   "source": [
    "[len(item) for item in df[\"prenom\"].fillna(\"\")]"
   ]
  },
  {
   "cell_type": "code",
   "execution_count": 80,
   "id": "turned-winning",
   "metadata": {},
   "outputs": [],
   "source": [
    "# ça n'est pas la solution juste un snippet\n",
    "import requests\n",
    "import io\n",
    "\n",
    "response = requests.get(\"https://raw.githubusercontent.com/Bl3f/amse2021/main/Groupe-A/prenoms.csv\")\n",
    "\n",
    "df = pd.read_csv(io.StringIO(response.content.decode(\"utf-8\")), sep=\";\")"
   ]
  },
  {
   "cell_type": "markdown",
   "id": "amended-zimbabwe",
   "metadata": {},
   "source": [
    "### Solution 1"
   ]
  },
  {
   "cell_type": "code",
   "execution_count": 81,
   "id": "expected-sterling",
   "metadata": {},
   "outputs": [],
   "source": [
    "df[\"len_prenom\"] = df[\"prenom\"].str.len()"
   ]
  },
  {
   "cell_type": "code",
   "execution_count": 84,
   "id": "expensive-cyprus",
   "metadata": {},
   "outputs": [
    {
     "data": {
      "text/html": [
       "<div>\n",
       "<style scoped>\n",
       "    .dataframe tbody tr th:only-of-type {\n",
       "        vertical-align: middle;\n",
       "    }\n",
       "\n",
       "    .dataframe tbody tr th {\n",
       "        vertical-align: top;\n",
       "    }\n",
       "\n",
       "    .dataframe thead th {\n",
       "        text-align: right;\n",
       "    }\n",
       "</style>\n",
       "<table border=\"1\" class=\"dataframe\">\n",
       "  <thead>\n",
       "    <tr style=\"text-align: right;\">\n",
       "      <th></th>\n",
       "      <th>prenom</th>\n",
       "      <th>genre</th>\n",
       "      <th>nb</th>\n",
       "      <th>len_prenom</th>\n",
       "    </tr>\n",
       "  </thead>\n",
       "  <tbody>\n",
       "    <tr>\n",
       "      <th>4874</th>\n",
       "      <td>Christiane, Victoire Marie-Emm</td>\n",
       "      <td>F</td>\n",
       "      <td>1</td>\n",
       "      <td>30.0</td>\n",
       "    </tr>\n",
       "  </tbody>\n",
       "</table>\n",
       "</div>"
      ],
      "text/plain": [
       "                              prenom genre  nb  len_prenom\n",
       "4874  Christiane, Victoire Marie-Emm     F   1        30.0"
      ]
     },
     "execution_count": 84,
     "metadata": {},
     "output_type": "execute_result"
    }
   ],
   "source": [
    "df.sort_values(\"len_prenom\", ascending=False).head(1)"
   ]
  },
  {
   "cell_type": "markdown",
   "id": "successful-technical",
   "metadata": {},
   "source": [
    "### Solution 2"
   ]
  },
  {
   "cell_type": "code",
   "execution_count": 91,
   "id": "seeing-newark",
   "metadata": {},
   "outputs": [
    {
     "data": {
      "text/plain": [
       "('Christiane, Victoire Marie-Emm', 30)"
      ]
     },
     "execution_count": 91,
     "metadata": {},
     "output_type": "execute_result"
    }
   ],
   "source": [
    "max([(item, len(item)) for item in df[\"prenom\"].fillna(\"\")], key=lambda x: x[1])"
   ]
  },
  {
   "cell_type": "markdown",
   "id": "drawn-little",
   "metadata": {},
   "source": [
    "![image](pic1.png \"\")"
   ]
  },
  {
   "cell_type": "code",
   "execution_count": 95,
   "id": "wicked-spider",
   "metadata": {},
   "outputs": [
    {
     "data": {
      "text/html": [
       "<div>\n",
       "<style scoped>\n",
       "    .dataframe tbody tr th:only-of-type {\n",
       "        vertical-align: middle;\n",
       "    }\n",
       "\n",
       "    .dataframe tbody tr th {\n",
       "        vertical-align: top;\n",
       "    }\n",
       "\n",
       "    .dataframe thead th {\n",
       "        text-align: right;\n",
       "    }\n",
       "</style>\n",
       "<table border=\"1\" class=\"dataframe\">\n",
       "  <thead>\n",
       "    <tr style=\"text-align: right;\">\n",
       "      <th></th>\n",
       "      <th>prenom</th>\n",
       "      <th>genre</th>\n",
       "      <th>nb</th>\n",
       "      <th>len_prenom</th>\n",
       "    </tr>\n",
       "  </thead>\n",
       "  <tbody>\n",
       "    <tr>\n",
       "      <th>2090</th>\n",
       "      <td>NaN</td>\n",
       "      <td>M</td>\n",
       "      <td>5</td>\n",
       "      <td>NaN</td>\n",
       "    </tr>\n",
       "    <tr>\n",
       "      <th>4224</th>\n",
       "      <td>NaN</td>\n",
       "      <td>F</td>\n",
       "      <td>2</td>\n",
       "      <td>NaN</td>\n",
       "    </tr>\n",
       "  </tbody>\n",
       "</table>\n",
       "</div>"
      ],
      "text/plain": [
       "     prenom genre  nb  len_prenom\n",
       "2090    NaN     M   5         NaN\n",
       "4224    NaN     F   2         NaN"
      ]
     },
     "execution_count": 95,
     "metadata": {},
     "output_type": "execute_result"
    }
   ],
   "source": [
    "df[df[\"prenom\"].isnull()]"
   ]
  },
  {
   "cell_type": "markdown",
   "id": "blessed-rabbit",
   "metadata": {},
   "source": [
    "## Afficher un pie chart (diagramme en camembert) des genres"
   ]
  },
  {
   "cell_type": "code",
   "execution_count": 104,
   "id": "immediate-lloyd",
   "metadata": {},
   "outputs": [],
   "source": [
    "%matplotlib inline"
   ]
  },
  {
   "cell_type": "code",
   "execution_count": 98,
   "id": "injured-membrane",
   "metadata": {},
   "outputs": [
    {
     "data": {
      "text/plain": [
       "<AxesSubplot:ylabel='genre'>"
      ]
     },
     "execution_count": 98,
     "metadata": {},
     "output_type": "execute_result"
    },
    {
     "data": {
      "image/png": "[encoded data removed]",
      "text/plain": [
       "<Figure size 432x288 with 1 Axes>"
      ]
     },
     "metadata": {},
     "output_type": "display_data"
    }
   ],
   "source": [
    "df[\"genre\"].value_counts().plot(kind=\"pie\")"
   ]
  },
  {
   "cell_type": "code",
   "execution_count": 99,
   "id": "wrong-individual",
   "metadata": {},
   "outputs": [
    {
     "data": {
      "text/plain": [
       "<AxesSubplot:>"
      ]
     },
     "execution_count": 99,
     "metadata": {},
     "output_type": "execute_result"
    },
    {
     "data": {
      "image/png": "[encoded data removed]",
      "text/plain": [
       "<Figure size 432x288 with 1 Axes>"
      ]
     },
     "metadata": {
      "needs_background": "light"
     },
     "output_type": "display_data"
    }
   ],
   "source": [
    "df[\"genre\"].value_counts().plot(kind=\"bar\")"
   ]
  },
  {
   "cell_type": "code",
   "execution_count": 108,
   "id": "recognized-hours",
   "metadata": {},
   "outputs": [
    {
     "data": {
      "text/plain": [
       "<AxesSubplot:>"
      ]
     },
     "execution_count": 108,
     "metadata": {},
     "output_type": "execute_result"
    },
    {
     "data": {
      "image/png": "[encoded data removed]",
      "text/plain": [
       "<Figure size 432x288 with 1 Axes>"
      ]
     },
     "metadata": {
      "needs_background": "light"
     },
     "output_type": "display_data"
    }
   ],
   "source": [
    "df[df[\"nb\"] > 2000].plot()"
   ]
  },
  {
   "cell_type": "code",
   "execution_count": 109,
   "id": "perfect-cooperative",
   "metadata": {},
   "outputs": [
    {
     "data": {
      "text/plain": [
       "<AxesSubplot:xlabel='nb', ylabel='len_prenom'>"
      ]
     },
     "execution_count": 109,
     "metadata": {},
     "output_type": "execute_result"
    },
    {
     "data": {
      "image/png": "[encoded data removed]",
      "text/plain": [
       "<Figure size 432x288 with 1 Axes>"
      ]
     },
     "metadata": {
      "needs_background": "light"
     },
     "output_type": "display_data"
    }
   ],
   "source": [
    "df.plot.scatter(x='nb',y='len_prenom')"
   ]
  },
  {
   "cell_type": "code",
   "execution_count": 113,
   "id": "beginning-rebel",
   "metadata": {},
   "outputs": [
    {
     "data": {
      "text/plain": [
       "<AxesSubplot:xlabel='len_prenom', ylabel='nb'>"
      ]
     },
     "execution_count": 113,
     "metadata": {},
     "output_type": "execute_result"
    },
    {
     "data": {
      "image/png": "[encoded data removed]",
      "text/plain": [
       "<Figure size 432x288 with 1 Axes>"
      ]
     },
     "metadata": {
      "needs_background": "light"
     },
     "output_type": "display_data"
    }
   ],
   "source": [
    "df.groupby(\"len_prenom\")[\"nb\"].sum().reset_index().plot.scatter(x=\"len_prenom\", y=\"nb\")"
   ]
  },
  {
   "cell_type": "code",
   "execution_count": 115,
   "id": "wrong-identification",
   "metadata": {},
   "outputs": [
    {
     "data": {
      "text/plain": [
       "<AxesSubplot:>"
      ]
     },
     "execution_count": 115,
     "metadata": {},
     "output_type": "execute_result"
    },
    {
     "data": {
      "image/png": "[encoded data removed]",
      "text/plain": [
       "<Figure size 432x288 with 1 Axes>"
      ]
     },
     "metadata": {
      "needs_background": "light"
     },
     "output_type": "display_data"
    }
   ],
   "source": [
    "df[\"len_prenom\"].hist(bins=30)"
   ]
  },
  {
   "cell_type": "code",
   "execution_count": 118,
   "id": "union-thursday",
   "metadata": {},
   "outputs": [
    {
     "data": {
      "text/plain": [
       "<AxesSubplot:ylabel='Frequency'>"
      ]
     },
     "execution_count": 118,
     "metadata": {},
     "output_type": "execute_result"
    },
    {
     "data": {
      "image/png": "[encoded data removed]",
      "text/plain": [
       "<Figure size 432x288 with 1 Axes>"
      ]
     },
     "metadata": {
      "needs_background": "light"
     },
     "output_type": "display_data"
    }
   ],
   "source": [
    "df[\"len_prenom\"].plot(kind=\"hist\", bins=30)"
   ]
  },
  {
   "cell_type": "code",
   "execution_count": 121,
   "id": "acute-helmet",
   "metadata": {},
   "outputs": [
    {
     "data": {
      "text/plain": [
       "<AxesSubplot:ylabel='Frequency'>"
      ]
     },
     "execution_count": 121,
     "metadata": {},
     "output_type": "execute_result"
    },
    {
     "data": {
      "image/png": "[encoded data removed]",
      "text/plain": [
       "<Figure size 432x288 with 1 Axes>"
      ]
     },
     "metadata": {
      "needs_background": "light"
     },
     "output_type": "display_data"
    }
   ],
   "source": [
    "df[df[\"genre\"] == \"M\"][\"len_prenom\"].plot(kind=\"hist\", bins=30)"
   ]
  },
  {
   "cell_type": "code",
   "execution_count": 123,
   "id": "anonymous-child",
   "metadata": {},
   "outputs": [
    {
     "ename": "ModuleNotFoundError",
     "evalue": "No module named 'seaborn'",
     "output_type": "error",
     "traceback": [
      "\u001b[0;31m---------------------------------------------------------------------------\u001b[0m",
      "\u001b[0;31mModuleNotFoundError\u001b[0m                       Traceback (most recent call last)",
      "\u001b[0;32m<ipython-input-123-a84c0541e888>\u001b[0m in \u001b[0;36m<module>\u001b[0;34m\u001b[0m\n\u001b[0;32m----> 1\u001b[0;31m \u001b[0;32mimport\u001b[0m \u001b[0mseaborn\u001b[0m \u001b[0;32mas\u001b[0m \u001b[0msns\u001b[0m\u001b[0;34m\u001b[0m\u001b[0;34m\u001b[0m\u001b[0m\n\u001b[0m",
      "\u001b[0;31mModuleNotFoundError\u001b[0m: No module named 'seaborn'"
     ]
    }
   ],
   "source": [
    "import seaborn as sns"
   ]
  },
  {
   "cell_type": "markdown",
   "id": "altered-theory",
   "metadata": {},
   "source": [
    "## Analyse population"
   ]
  },
  {
   "cell_type": "code",
   "execution_count": 209,
   "id": "cognitive-failure",
   "metadata": {},
   "outputs": [],
   "source": [
    "# ça n'est pas la solution juste un snippet\n",
    "import requests\n",
    "import io\n",
    "\n",
    "URL = \"https://raw.githubusercontent.com/Bl3f/amse2021/main/Groupe-A/population.csv\"\n",
    "response = requests.get(URL)\n",
    "\n",
    "df = pd.read_csv(io.StringIO(response.content.decode(\"utf-8\")))"
   ]
  },
  {
   "cell_type": "code",
   "execution_count": 125,
   "id": "continuous-abortion",
   "metadata": {},
   "outputs": [
    {
     "data": {
      "text/html": [
       "<div>\n",
       "<style scoped>\n",
       "    .dataframe tbody tr th:only-of-type {\n",
       "        vertical-align: middle;\n",
       "    }\n",
       "\n",
       "    .dataframe tbody tr th {\n",
       "        vertical-align: top;\n",
       "    }\n",
       "\n",
       "    .dataframe thead th {\n",
       "        text-align: right;\n",
       "    }\n",
       "</style>\n",
       "<table border=\"1\" class=\"dataframe\">\n",
       "  <thead>\n",
       "    <tr style=\"text-align: right;\">\n",
       "      <th></th>\n",
       "      <th>Country Name</th>\n",
       "      <th>Country Code</th>\n",
       "      <th>Indicator Name</th>\n",
       "      <th>Indicator Code</th>\n",
       "      <th>1960</th>\n",
       "      <th>1961</th>\n",
       "      <th>1962</th>\n",
       "      <th>1963</th>\n",
       "      <th>1964</th>\n",
       "      <th>1965</th>\n",
       "      <th>...</th>\n",
       "      <th>2009</th>\n",
       "      <th>2010</th>\n",
       "      <th>2011</th>\n",
       "      <th>2012</th>\n",
       "      <th>2013</th>\n",
       "      <th>2014</th>\n",
       "      <th>2015</th>\n",
       "      <th>2016</th>\n",
       "      <th>2017</th>\n",
       "      <th>Unnamed: 62</th>\n",
       "    </tr>\n",
       "  </thead>\n",
       "  <tbody>\n",
       "    <tr>\n",
       "      <th>0</th>\n",
       "      <td>Aruba</td>\n",
       "      <td>ABW</td>\n",
       "      <td>Population, total</td>\n",
       "      <td>SP.POP.TOTL</td>\n",
       "      <td>54211.0</td>\n",
       "      <td>55438.0</td>\n",
       "      <td>56225.0</td>\n",
       "      <td>56695.0</td>\n",
       "      <td>57032.0</td>\n",
       "      <td>57360.0</td>\n",
       "      <td>...</td>\n",
       "      <td>101453.0</td>\n",
       "      <td>101669.0</td>\n",
       "      <td>102053.0</td>\n",
       "      <td>102577.0</td>\n",
       "      <td>103187.0</td>\n",
       "      <td>103795.0</td>\n",
       "      <td>104341.0</td>\n",
       "      <td>104822.0</td>\n",
       "      <td>105000.0</td>\n",
       "      <td>NaN</td>\n",
       "    </tr>\n",
       "    <tr>\n",
       "      <th>1</th>\n",
       "      <td>Afghanistan</td>\n",
       "      <td>AFG</td>\n",
       "      <td>Population, total</td>\n",
       "      <td>SP.POP.TOTL</td>\n",
       "      <td>8996351.0</td>\n",
       "      <td>9166764.0</td>\n",
       "      <td>9345868.0</td>\n",
       "      <td>9533954.0</td>\n",
       "      <td>9731361.0</td>\n",
       "      <td>9938414.0</td>\n",
       "      <td>...</td>\n",
       "      <td>28004331.0</td>\n",
       "      <td>28803167.0</td>\n",
       "      <td>29708599.0</td>\n",
       "      <td>30696958.0</td>\n",
       "      <td>31731688.0</td>\n",
       "      <td>32758020.0</td>\n",
       "      <td>33736494.0</td>\n",
       "      <td>34656032.0</td>\n",
       "      <td>35530000.0</td>\n",
       "      <td>NaN</td>\n",
       "    </tr>\n",
       "    <tr>\n",
       "      <th>2</th>\n",
       "      <td>Angola</td>\n",
       "      <td>AGO</td>\n",
       "      <td>Population, total</td>\n",
       "      <td>SP.POP.TOTL</td>\n",
       "      <td>5643182.0</td>\n",
       "      <td>5753024.0</td>\n",
       "      <td>5866061.0</td>\n",
       "      <td>5980417.0</td>\n",
       "      <td>6093321.0</td>\n",
       "      <td>6203299.0</td>\n",
       "      <td>...</td>\n",
       "      <td>22549547.0</td>\n",
       "      <td>23369131.0</td>\n",
       "      <td>24218565.0</td>\n",
       "      <td>25096150.0</td>\n",
       "      <td>25998340.0</td>\n",
       "      <td>26920466.0</td>\n",
       "      <td>27859305.0</td>\n",
       "      <td>28813463.0</td>\n",
       "      <td>29784000.0</td>\n",
       "      <td>NaN</td>\n",
       "    </tr>\n",
       "    <tr>\n",
       "      <th>3</th>\n",
       "      <td>Albania</td>\n",
       "      <td>ALB</td>\n",
       "      <td>Population, total</td>\n",
       "      <td>SP.POP.TOTL</td>\n",
       "      <td>1608800.0</td>\n",
       "      <td>1659800.0</td>\n",
       "      <td>1711319.0</td>\n",
       "      <td>1762621.0</td>\n",
       "      <td>1814135.0</td>\n",
       "      <td>1864791.0</td>\n",
       "      <td>...</td>\n",
       "      <td>2927519.0</td>\n",
       "      <td>2913021.0</td>\n",
       "      <td>2905195.0</td>\n",
       "      <td>2900401.0</td>\n",
       "      <td>2895092.0</td>\n",
       "      <td>2889104.0</td>\n",
       "      <td>2880703.0</td>\n",
       "      <td>2876101.0</td>\n",
       "      <td>2879000.0</td>\n",
       "      <td>NaN</td>\n",
       "    </tr>\n",
       "    <tr>\n",
       "      <th>4</th>\n",
       "      <td>Andorra</td>\n",
       "      <td>AND</td>\n",
       "      <td>Population, total</td>\n",
       "      <td>SP.POP.TOTL</td>\n",
       "      <td>13411.0</td>\n",
       "      <td>14375.0</td>\n",
       "      <td>15370.0</td>\n",
       "      <td>16412.0</td>\n",
       "      <td>17469.0</td>\n",
       "      <td>18549.0</td>\n",
       "      <td>...</td>\n",
       "      <td>84462.0</td>\n",
       "      <td>84449.0</td>\n",
       "      <td>83751.0</td>\n",
       "      <td>82431.0</td>\n",
       "      <td>80788.0</td>\n",
       "      <td>79223.0</td>\n",
       "      <td>78014.0</td>\n",
       "      <td>77281.0</td>\n",
       "      <td>77000.0</td>\n",
       "      <td>NaN</td>\n",
       "    </tr>\n",
       "  </tbody>\n",
       "</table>\n",
       "<p>5 rows × 63 columns</p>\n",
       "</div>"
      ],
      "text/plain": [
       "  Country Name Country Code     Indicator Name Indicator Code       1960  \\\n",
       "0        Aruba          ABW  Population, total    SP.POP.TOTL    54211.0   \n",
       "1  Afghanistan          AFG  Population, total    SP.POP.TOTL  8996351.0   \n",
       "2       Angola          AGO  Population, total    SP.POP.TOTL  5643182.0   \n",
       "3      Albania          ALB  Population, total    SP.POP.TOTL  1608800.0   \n",
       "4      Andorra          AND  Population, total    SP.POP.TOTL    13411.0   \n",
       "\n",
       "        1961       1962       1963       1964       1965  ...        2009  \\\n",
       "0    55438.0    56225.0    56695.0    57032.0    57360.0  ...    101453.0   \n",
       "1  9166764.0  9345868.0  9533954.0  9731361.0  9938414.0  ...  28004331.0   \n",
       "2  5753024.0  5866061.0  5980417.0  6093321.0  6203299.0  ...  22549547.0   \n",
       "3  1659800.0  1711319.0  1762621.0  1814135.0  1864791.0  ...   2927519.0   \n",
       "4    14375.0    15370.0    16412.0    17469.0    18549.0  ...     84462.0   \n",
       "\n",
       "         2010        2011        2012        2013        2014        2015  \\\n",
       "0    101669.0    102053.0    102577.0    103187.0    103795.0    104341.0   \n",
       "1  28803167.0  29708599.0  30696958.0  31731688.0  32758020.0  33736494.0   \n",
       "2  23369131.0  24218565.0  25096150.0  25998340.0  26920466.0  27859305.0   \n",
       "3   2913021.0   2905195.0   2900401.0   2895092.0   2889104.0   2880703.0   \n",
       "4     84449.0     83751.0     82431.0     80788.0     79223.0     78014.0   \n",
       "\n",
       "         2016        2017  Unnamed: 62  \n",
       "0    104822.0    105000.0          NaN  \n",
       "1  34656032.0  35530000.0          NaN  \n",
       "2  28813463.0  29784000.0          NaN  \n",
       "3   2876101.0   2879000.0          NaN  \n",
       "4     77281.0     77000.0          NaN  \n",
       "\n",
       "[5 rows x 63 columns]"
      ]
     },
     "execution_count": 125,
     "metadata": {},
     "output_type": "execute_result"
    }
   ],
   "source": [
    "df.head()"
   ]
  },
  {
   "cell_type": "markdown",
   "id": "willing-kenya",
   "metadata": {},
   "source": [
    "## Afficher l'évolution de la population française depuis 1960"
   ]
  },
  {
   "cell_type": "code",
   "execution_count": 133,
   "id": "motivated-folks",
   "metadata": {
    "collapsed": true
   },
   "outputs": [
    {
     "data": {
      "text/html": [
       "<div>\n",
       "<style scoped>\n",
       "    .dataframe tbody tr th:only-of-type {\n",
       "        vertical-align: middle;\n",
       "    }\n",
       "\n",
       "    .dataframe tbody tr th {\n",
       "        vertical-align: top;\n",
       "    }\n",
       "\n",
       "    .dataframe thead th {\n",
       "        text-align: right;\n",
       "    }\n",
       "</style>\n",
       "<table border=\"1\" class=\"dataframe\">\n",
       "  <thead>\n",
       "    <tr style=\"text-align: right;\">\n",
       "      <th></th>\n",
       "      <th>0</th>\n",
       "      <th>1</th>\n",
       "      <th>2</th>\n",
       "      <th>3</th>\n",
       "      <th>4</th>\n",
       "      <th>5</th>\n",
       "      <th>6</th>\n",
       "      <th>7</th>\n",
       "      <th>8</th>\n",
       "      <th>9</th>\n",
       "      <th>...</th>\n",
       "      <th>254</th>\n",
       "      <th>255</th>\n",
       "      <th>256</th>\n",
       "      <th>257</th>\n",
       "      <th>258</th>\n",
       "      <th>259</th>\n",
       "      <th>260</th>\n",
       "      <th>261</th>\n",
       "      <th>262</th>\n",
       "      <th>263</th>\n",
       "    </tr>\n",
       "  </thead>\n",
       "  <tbody>\n",
       "    <tr>\n",
       "      <th>Country Name</th>\n",
       "      <td>Aruba</td>\n",
       "      <td>Afghanistan</td>\n",
       "      <td>Angola</td>\n",
       "      <td>Albania</td>\n",
       "      <td>Andorra</td>\n",
       "      <td>Arab World</td>\n",
       "      <td>United Arab Emirates</td>\n",
       "      <td>Argentina</td>\n",
       "      <td>Armenia</td>\n",
       "      <td>American Samoa</td>\n",
       "      <td>...</td>\n",
       "      <td>Virgin Islands (U.S.)</td>\n",
       "      <td>Vietnam</td>\n",
       "      <td>Vanuatu</td>\n",
       "      <td>World</td>\n",
       "      <td>Samoa</td>\n",
       "      <td>Kosovo</td>\n",
       "      <td>Yemen, Rep.</td>\n",
       "      <td>South Africa</td>\n",
       "      <td>Zambia</td>\n",
       "      <td>Zimbabwe</td>\n",
       "    </tr>\n",
       "    <tr>\n",
       "      <th>Country Code</th>\n",
       "      <td>ABW</td>\n",
       "      <td>AFG</td>\n",
       "      <td>AGO</td>\n",
       "      <td>ALB</td>\n",
       "      <td>AND</td>\n",
       "      <td>ARB</td>\n",
       "      <td>ARE</td>\n",
       "      <td>ARG</td>\n",
       "      <td>ARM</td>\n",
       "      <td>ASM</td>\n",
       "      <td>...</td>\n",
       "      <td>VIR</td>\n",
       "      <td>VNM</td>\n",
       "      <td>VUT</td>\n",
       "      <td>WLD</td>\n",
       "      <td>WSM</td>\n",
       "      <td>XKX</td>\n",
       "      <td>YEM</td>\n",
       "      <td>ZAF</td>\n",
       "      <td>ZMB</td>\n",
       "      <td>ZWE</td>\n",
       "    </tr>\n",
       "    <tr>\n",
       "      <th>Indicator Name</th>\n",
       "      <td>Population, total</td>\n",
       "      <td>Population, total</td>\n",
       "      <td>Population, total</td>\n",
       "      <td>Population, total</td>\n",
       "      <td>Population, total</td>\n",
       "      <td>Population, total</td>\n",
       "      <td>Population, total</td>\n",
       "      <td>Population, total</td>\n",
       "      <td>Population, total</td>\n",
       "      <td>Population, total</td>\n",
       "      <td>...</td>\n",
       "      <td>Population, total</td>\n",
       "      <td>Population, total</td>\n",
       "      <td>Population, total</td>\n",
       "      <td>Population, total</td>\n",
       "      <td>Population, total</td>\n",
       "      <td>Population, total</td>\n",
       "      <td>Population, total</td>\n",
       "      <td>Population, total</td>\n",
       "      <td>Population, total</td>\n",
       "      <td>Population, total</td>\n",
       "    </tr>\n",
       "    <tr>\n",
       "      <th>Indicator Code</th>\n",
       "      <td>SP.POP.TOTL</td>\n",
       "      <td>SP.POP.TOTL</td>\n",
       "      <td>SP.POP.TOTL</td>\n",
       "      <td>SP.POP.TOTL</td>\n",
       "      <td>SP.POP.TOTL</td>\n",
       "      <td>SP.POP.TOTL</td>\n",
       "      <td>SP.POP.TOTL</td>\n",
       "      <td>SP.POP.TOTL</td>\n",
       "      <td>SP.POP.TOTL</td>\n",
       "      <td>SP.POP.TOTL</td>\n",
       "      <td>...</td>\n",
       "      <td>SP.POP.TOTL</td>\n",
       "      <td>SP.POP.TOTL</td>\n",
       "      <td>SP.POP.TOTL</td>\n",
       "      <td>SP.POP.TOTL</td>\n",
       "      <td>SP.POP.TOTL</td>\n",
       "      <td>SP.POP.TOTL</td>\n",
       "      <td>SP.POP.TOTL</td>\n",
       "      <td>SP.POP.TOTL</td>\n",
       "      <td>SP.POP.TOTL</td>\n",
       "      <td>SP.POP.TOTL</td>\n",
       "    </tr>\n",
       "    <tr>\n",
       "      <th>1960</th>\n",
       "      <td>54211.0</td>\n",
       "      <td>8996351.0</td>\n",
       "      <td>5643182.0</td>\n",
       "      <td>1608800.0</td>\n",
       "      <td>13411.0</td>\n",
       "      <td>92490932.0</td>\n",
       "      <td>92634.0</td>\n",
       "      <td>20619075.0</td>\n",
       "      <td>1874120.0</td>\n",
       "      <td>20013.0</td>\n",
       "      <td>...</td>\n",
       "      <td>32000.0</td>\n",
       "      <td>34743000.0</td>\n",
       "      <td>63699.0</td>\n",
       "      <td>3034193297.0</td>\n",
       "      <td>108646.0</td>\n",
       "      <td>947000.0</td>\n",
       "      <td>5172135.0</td>\n",
       "      <td>17396367.0</td>\n",
       "      <td>3044846.0</td>\n",
       "      <td>3747369.0</td>\n",
       "    </tr>\n",
       "    <tr>\n",
       "      <th>...</th>\n",
       "      <td>...</td>\n",
       "      <td>...</td>\n",
       "      <td>...</td>\n",
       "      <td>...</td>\n",
       "      <td>...</td>\n",
       "      <td>...</td>\n",
       "      <td>...</td>\n",
       "      <td>...</td>\n",
       "      <td>...</td>\n",
       "      <td>...</td>\n",
       "      <td>...</td>\n",
       "      <td>...</td>\n",
       "      <td>...</td>\n",
       "      <td>...</td>\n",
       "      <td>...</td>\n",
       "      <td>...</td>\n",
       "      <td>...</td>\n",
       "      <td>...</td>\n",
       "      <td>...</td>\n",
       "      <td>...</td>\n",
       "      <td>...</td>\n",
       "    </tr>\n",
       "    <tr>\n",
       "      <th>2014</th>\n",
       "      <td>103795.0</td>\n",
       "      <td>32758020.0</td>\n",
       "      <td>26920466.0</td>\n",
       "      <td>2889104.0</td>\n",
       "      <td>79223.0</td>\n",
       "      <td>390043028.0</td>\n",
       "      <td>9070867.0</td>\n",
       "      <td>42981515.0</td>\n",
       "      <td>2906220.0</td>\n",
       "      <td>55437.0</td>\n",
       "      <td>...</td>\n",
       "      <td>104170.0</td>\n",
       "      <td>90728900.0</td>\n",
       "      <td>258850.0</td>\n",
       "      <td>7268986175.73916</td>\n",
       "      <td>192290.0</td>\n",
       "      <td>1821800.0</td>\n",
       "      <td>26246327.0</td>\n",
       "      <td>54146734.739162</td>\n",
       "      <td>15620974.0</td>\n",
       "      <td>15411675.0</td>\n",
       "    </tr>\n",
       "    <tr>\n",
       "      <th>2015</th>\n",
       "      <td>104341.0</td>\n",
       "      <td>33736494.0</td>\n",
       "      <td>27859305.0</td>\n",
       "      <td>2880703.0</td>\n",
       "      <td>78014.0</td>\n",
       "      <td>398304960.0</td>\n",
       "      <td>9154302.0</td>\n",
       "      <td>43417765.0</td>\n",
       "      <td>2916950.0</td>\n",
       "      <td>55537.0</td>\n",
       "      <td>...</td>\n",
       "      <td>103574.0</td>\n",
       "      <td>91713300.0</td>\n",
       "      <td>264603.0</td>\n",
       "      <td>7355220411.68203</td>\n",
       "      <td>193759.0</td>\n",
       "      <td>1801800.0</td>\n",
       "      <td>26916207.0</td>\n",
       "      <td>55011976.682029</td>\n",
       "      <td>16100587.0</td>\n",
       "      <td>15777451.0</td>\n",
       "    </tr>\n",
       "    <tr>\n",
       "      <th>2016</th>\n",
       "      <td>104822.0</td>\n",
       "      <td>34656032.0</td>\n",
       "      <td>28813463.0</td>\n",
       "      <td>2876101.0</td>\n",
       "      <td>77281.0</td>\n",
       "      <td>406452690.0</td>\n",
       "      <td>9269612.0</td>\n",
       "      <td>43847430.0</td>\n",
       "      <td>2924816.0</td>\n",
       "      <td>55599.0</td>\n",
       "      <td>...</td>\n",
       "      <td>102951.0</td>\n",
       "      <td>92701100.0</td>\n",
       "      <td>270402.0</td>\n",
       "      <td>7442135578.0</td>\n",
       "      <td>195125.0</td>\n",
       "      <td>1816200.0</td>\n",
       "      <td>27584213.0</td>\n",
       "      <td>55908865.0</td>\n",
       "      <td>16591390.0</td>\n",
       "      <td>16150362.0</td>\n",
       "    </tr>\n",
       "    <tr>\n",
       "      <th>2017</th>\n",
       "      <td>105000.0</td>\n",
       "      <td>35530000.0</td>\n",
       "      <td>29784000.0</td>\n",
       "      <td>2879000.0</td>\n",
       "      <td>77000.0</td>\n",
       "      <td>414481000.0</td>\n",
       "      <td>9400000.0</td>\n",
       "      <td>44271000.0</td>\n",
       "      <td>2930000.0</td>\n",
       "      <td>56000.0</td>\n",
       "      <td>...</td>\n",
       "      <td>103000.0</td>\n",
       "      <td>93652000.0</td>\n",
       "      <td>276000.0</td>\n",
       "      <td>7523997000.0</td>\n",
       "      <td>196000.0</td>\n",
       "      <td>1814000.0</td>\n",
       "      <td>28250000.0</td>\n",
       "      <td>56639000.0</td>\n",
       "      <td>17094000.0</td>\n",
       "      <td>16530000.0</td>\n",
       "    </tr>\n",
       "    <tr>\n",
       "      <th>Unnamed: 62</th>\n",
       "      <td>NaN</td>\n",
       "      <td>NaN</td>\n",
       "      <td>NaN</td>\n",
       "      <td>NaN</td>\n",
       "      <td>NaN</td>\n",
       "      <td>NaN</td>\n",
       "      <td>NaN</td>\n",
       "      <td>NaN</td>\n",
       "      <td>NaN</td>\n",
       "      <td>NaN</td>\n",
       "      <td>...</td>\n",
       "      <td>NaN</td>\n",
       "      <td>NaN</td>\n",
       "      <td>NaN</td>\n",
       "      <td>NaN</td>\n",
       "      <td>NaN</td>\n",
       "      <td>NaN</td>\n",
       "      <td>NaN</td>\n",
       "      <td>NaN</td>\n",
       "      <td>NaN</td>\n",
       "      <td>NaN</td>\n",
       "    </tr>\n",
       "  </tbody>\n",
       "</table>\n",
       "<p>63 rows × 264 columns</p>\n",
       "</div>"
      ],
      "text/plain": [
       "                              0                  1                  2    \\\n",
       "Country Name                Aruba        Afghanistan             Angola   \n",
       "Country Code                  ABW                AFG                AGO   \n",
       "Indicator Name  Population, total  Population, total  Population, total   \n",
       "Indicator Code        SP.POP.TOTL        SP.POP.TOTL        SP.POP.TOTL   \n",
       "1960                      54211.0          8996351.0          5643182.0   \n",
       "...                           ...                ...                ...   \n",
       "2014                     103795.0         32758020.0         26920466.0   \n",
       "2015                     104341.0         33736494.0         27859305.0   \n",
       "2016                     104822.0         34656032.0         28813463.0   \n",
       "2017                     105000.0         35530000.0         29784000.0   \n",
       "Unnamed: 62                   NaN                NaN                NaN   \n",
       "\n",
       "                              3                  4                  5    \\\n",
       "Country Name              Albania            Andorra         Arab World   \n",
       "Country Code                  ALB                AND                ARB   \n",
       "Indicator Name  Population, total  Population, total  Population, total   \n",
       "Indicator Code        SP.POP.TOTL        SP.POP.TOTL        SP.POP.TOTL   \n",
       "1960                    1608800.0            13411.0         92490932.0   \n",
       "...                           ...                ...                ...   \n",
       "2014                    2889104.0            79223.0        390043028.0   \n",
       "2015                    2880703.0            78014.0        398304960.0   \n",
       "2016                    2876101.0            77281.0        406452690.0   \n",
       "2017                    2879000.0            77000.0        414481000.0   \n",
       "Unnamed: 62                   NaN                NaN                NaN   \n",
       "\n",
       "                                 6                  7                  8    \\\n",
       "Country Name    United Arab Emirates          Argentina            Armenia   \n",
       "Country Code                     ARE                ARG                ARM   \n",
       "Indicator Name     Population, total  Population, total  Population, total   \n",
       "Indicator Code           SP.POP.TOTL        SP.POP.TOTL        SP.POP.TOTL   \n",
       "1960                         92634.0         20619075.0          1874120.0   \n",
       "...                              ...                ...                ...   \n",
       "2014                       9070867.0         42981515.0          2906220.0   \n",
       "2015                       9154302.0         43417765.0          2916950.0   \n",
       "2016                       9269612.0         43847430.0          2924816.0   \n",
       "2017                       9400000.0         44271000.0          2930000.0   \n",
       "Unnamed: 62                      NaN                NaN                NaN   \n",
       "\n",
       "                              9    ...                    254  \\\n",
       "Country Name       American Samoa  ...  Virgin Islands (U.S.)   \n",
       "Country Code                  ASM  ...                    VIR   \n",
       "Indicator Name  Population, total  ...      Population, total   \n",
       "Indicator Code        SP.POP.TOTL  ...            SP.POP.TOTL   \n",
       "1960                      20013.0  ...                32000.0   \n",
       "...                           ...  ...                    ...   \n",
       "2014                      55437.0  ...               104170.0   \n",
       "2015                      55537.0  ...               103574.0   \n",
       "2016                      55599.0  ...               102951.0   \n",
       "2017                      56000.0  ...               103000.0   \n",
       "Unnamed: 62                   NaN  ...                    NaN   \n",
       "\n",
       "                              255                256                257  \\\n",
       "Country Name              Vietnam            Vanuatu              World   \n",
       "Country Code                  VNM                VUT                WLD   \n",
       "Indicator Name  Population, total  Population, total  Population, total   \n",
       "Indicator Code        SP.POP.TOTL        SP.POP.TOTL        SP.POP.TOTL   \n",
       "1960                   34743000.0            63699.0       3034193297.0   \n",
       "...                           ...                ...                ...   \n",
       "2014                   90728900.0           258850.0   7268986175.73916   \n",
       "2015                   91713300.0           264603.0   7355220411.68203   \n",
       "2016                   92701100.0           270402.0       7442135578.0   \n",
       "2017                   93652000.0           276000.0       7523997000.0   \n",
       "Unnamed: 62                   NaN                NaN                NaN   \n",
       "\n",
       "                              258                259                260  \\\n",
       "Country Name                Samoa             Kosovo        Yemen, Rep.   \n",
       "Country Code                  WSM                XKX                YEM   \n",
       "Indicator Name  Population, total  Population, total  Population, total   \n",
       "Indicator Code        SP.POP.TOTL        SP.POP.TOTL        SP.POP.TOTL   \n",
       "1960                     108646.0           947000.0          5172135.0   \n",
       "...                           ...                ...                ...   \n",
       "2014                     192290.0          1821800.0         26246327.0   \n",
       "2015                     193759.0          1801800.0         26916207.0   \n",
       "2016                     195125.0          1816200.0         27584213.0   \n",
       "2017                     196000.0          1814000.0         28250000.0   \n",
       "Unnamed: 62                   NaN                NaN                NaN   \n",
       "\n",
       "                              261                262                263  \n",
       "Country Name         South Africa             Zambia           Zimbabwe  \n",
       "Country Code                  ZAF                ZMB                ZWE  \n",
       "Indicator Name  Population, total  Population, total  Population, total  \n",
       "Indicator Code        SP.POP.TOTL        SP.POP.TOTL        SP.POP.TOTL  \n",
       "1960                   17396367.0          3044846.0          3747369.0  \n",
       "...                           ...                ...                ...  \n",
       "2014              54146734.739162         15620974.0         15411675.0  \n",
       "2015              55011976.682029         16100587.0         15777451.0  \n",
       "2016                   55908865.0         16591390.0         16150362.0  \n",
       "2017                   56639000.0         17094000.0         16530000.0  \n",
       "Unnamed: 62                   NaN                NaN                NaN  \n",
       "\n",
       "[63 rows x 264 columns]"
      ]
     },
     "execution_count": 133,
     "metadata": {},
     "output_type": "execute_result"
    }
   ],
   "source": [
    "df.T  # fonction .T permet de transposer"
   ]
  },
  {
   "cell_type": "code",
   "execution_count": 168,
   "id": "ahead-willow",
   "metadata": {},
   "outputs": [
    {
     "data": {
      "text/html": [
       "<div>\n",
       "<style scoped>\n",
       "    .dataframe tbody tr th:only-of-type {\n",
       "        vertical-align: middle;\n",
       "    }\n",
       "\n",
       "    .dataframe tbody tr th {\n",
       "        vertical-align: top;\n",
       "    }\n",
       "\n",
       "    .dataframe thead th {\n",
       "        text-align: right;\n",
       "    }\n",
       "</style>\n",
       "<table border=\"1\" class=\"dataframe\">\n",
       "  <thead>\n",
       "    <tr style=\"text-align: right;\">\n",
       "      <th></th>\n",
       "      <th>Country Code</th>\n",
       "      <th>Indicator Name</th>\n",
       "      <th>Indicator Code</th>\n",
       "      <th>1960</th>\n",
       "      <th>1961</th>\n",
       "      <th>1962</th>\n",
       "      <th>1963</th>\n",
       "      <th>1964</th>\n",
       "      <th>1965</th>\n",
       "      <th>1966</th>\n",
       "      <th>...</th>\n",
       "      <th>2009</th>\n",
       "      <th>2010</th>\n",
       "      <th>2011</th>\n",
       "      <th>2012</th>\n",
       "      <th>2013</th>\n",
       "      <th>2014</th>\n",
       "      <th>2015</th>\n",
       "      <th>2016</th>\n",
       "      <th>2017</th>\n",
       "      <th>Unnamed: 62</th>\n",
       "    </tr>\n",
       "    <tr>\n",
       "      <th>Country Name</th>\n",
       "      <th></th>\n",
       "      <th></th>\n",
       "      <th></th>\n",
       "      <th></th>\n",
       "      <th></th>\n",
       "      <th></th>\n",
       "      <th></th>\n",
       "      <th></th>\n",
       "      <th></th>\n",
       "      <th></th>\n",
       "      <th></th>\n",
       "      <th></th>\n",
       "      <th></th>\n",
       "      <th></th>\n",
       "      <th></th>\n",
       "      <th></th>\n",
       "      <th></th>\n",
       "      <th></th>\n",
       "      <th></th>\n",
       "      <th></th>\n",
       "      <th></th>\n",
       "    </tr>\n",
       "  </thead>\n",
       "  <tbody>\n",
       "    <tr>\n",
       "      <th>Aruba</th>\n",
       "      <td>ABW</td>\n",
       "      <td>Population, total</td>\n",
       "      <td>SP.POP.TOTL</td>\n",
       "      <td>54211.0</td>\n",
       "      <td>55438.0</td>\n",
       "      <td>56225.0</td>\n",
       "      <td>56695.0</td>\n",
       "      <td>57032.0</td>\n",
       "      <td>57360.0</td>\n",
       "      <td>57715.0</td>\n",
       "      <td>...</td>\n",
       "      <td>101453.0</td>\n",
       "      <td>101669.0</td>\n",
       "      <td>102053.0</td>\n",
       "      <td>102577.0</td>\n",
       "      <td>103187.0</td>\n",
       "      <td>103795.0</td>\n",
       "      <td>104341.0</td>\n",
       "      <td>104822.0</td>\n",
       "      <td>105000.0</td>\n",
       "      <td>NaN</td>\n",
       "    </tr>\n",
       "    <tr>\n",
       "      <th>Afghanistan</th>\n",
       "      <td>AFG</td>\n",
       "      <td>Population, total</td>\n",
       "      <td>SP.POP.TOTL</td>\n",
       "      <td>8996351.0</td>\n",
       "      <td>9166764.0</td>\n",
       "      <td>9345868.0</td>\n",
       "      <td>9533954.0</td>\n",
       "      <td>9731361.0</td>\n",
       "      <td>9938414.0</td>\n",
       "      <td>10152331.0</td>\n",
       "      <td>...</td>\n",
       "      <td>28004331.0</td>\n",
       "      <td>28803167.0</td>\n",
       "      <td>29708599.0</td>\n",
       "      <td>30696958.0</td>\n",
       "      <td>31731688.0</td>\n",
       "      <td>32758020.0</td>\n",
       "      <td>33736494.0</td>\n",
       "      <td>34656032.0</td>\n",
       "      <td>35530000.0</td>\n",
       "      <td>NaN</td>\n",
       "    </tr>\n",
       "    <tr>\n",
       "      <th>Angola</th>\n",
       "      <td>AGO</td>\n",
       "      <td>Population, total</td>\n",
       "      <td>SP.POP.TOTL</td>\n",
       "      <td>5643182.0</td>\n",
       "      <td>5753024.0</td>\n",
       "      <td>5866061.0</td>\n",
       "      <td>5980417.0</td>\n",
       "      <td>6093321.0</td>\n",
       "      <td>6203299.0</td>\n",
       "      <td>6309770.0</td>\n",
       "      <td>...</td>\n",
       "      <td>22549547.0</td>\n",
       "      <td>23369131.0</td>\n",
       "      <td>24218565.0</td>\n",
       "      <td>25096150.0</td>\n",
       "      <td>25998340.0</td>\n",
       "      <td>26920466.0</td>\n",
       "      <td>27859305.0</td>\n",
       "      <td>28813463.0</td>\n",
       "      <td>29784000.0</td>\n",
       "      <td>NaN</td>\n",
       "    </tr>\n",
       "    <tr>\n",
       "      <th>Albania</th>\n",
       "      <td>ALB</td>\n",
       "      <td>Population, total</td>\n",
       "      <td>SP.POP.TOTL</td>\n",
       "      <td>1608800.0</td>\n",
       "      <td>1659800.0</td>\n",
       "      <td>1711319.0</td>\n",
       "      <td>1762621.0</td>\n",
       "      <td>1814135.0</td>\n",
       "      <td>1864791.0</td>\n",
       "      <td>1914573.0</td>\n",
       "      <td>...</td>\n",
       "      <td>2927519.0</td>\n",
       "      <td>2913021.0</td>\n",
       "      <td>2905195.0</td>\n",
       "      <td>2900401.0</td>\n",
       "      <td>2895092.0</td>\n",
       "      <td>2889104.0</td>\n",
       "      <td>2880703.0</td>\n",
       "      <td>2876101.0</td>\n",
       "      <td>2879000.0</td>\n",
       "      <td>NaN</td>\n",
       "    </tr>\n",
       "    <tr>\n",
       "      <th>Andorra</th>\n",
       "      <td>AND</td>\n",
       "      <td>Population, total</td>\n",
       "      <td>SP.POP.TOTL</td>\n",
       "      <td>13411.0</td>\n",
       "      <td>14375.0</td>\n",
       "      <td>15370.0</td>\n",
       "      <td>16412.0</td>\n",
       "      <td>17469.0</td>\n",
       "      <td>18549.0</td>\n",
       "      <td>19647.0</td>\n",
       "      <td>...</td>\n",
       "      <td>84462.0</td>\n",
       "      <td>84449.0</td>\n",
       "      <td>83751.0</td>\n",
       "      <td>82431.0</td>\n",
       "      <td>80788.0</td>\n",
       "      <td>79223.0</td>\n",
       "      <td>78014.0</td>\n",
       "      <td>77281.0</td>\n",
       "      <td>77000.0</td>\n",
       "      <td>NaN</td>\n",
       "    </tr>\n",
       "  </tbody>\n",
       "</table>\n",
       "<p>5 rows × 62 columns</p>\n",
       "</div>"
      ],
      "text/plain": [
       "             Country Code     Indicator Name Indicator Code       1960  \\\n",
       "Country Name                                                             \n",
       "Aruba                 ABW  Population, total    SP.POP.TOTL    54211.0   \n",
       "Afghanistan           AFG  Population, total    SP.POP.TOTL  8996351.0   \n",
       "Angola                AGO  Population, total    SP.POP.TOTL  5643182.0   \n",
       "Albania               ALB  Population, total    SP.POP.TOTL  1608800.0   \n",
       "Andorra               AND  Population, total    SP.POP.TOTL    13411.0   \n",
       "\n",
       "                   1961       1962       1963       1964       1965  \\\n",
       "Country Name                                                          \n",
       "Aruba           55438.0    56225.0    56695.0    57032.0    57360.0   \n",
       "Afghanistan   9166764.0  9345868.0  9533954.0  9731361.0  9938414.0   \n",
       "Angola        5753024.0  5866061.0  5980417.0  6093321.0  6203299.0   \n",
       "Albania       1659800.0  1711319.0  1762621.0  1814135.0  1864791.0   \n",
       "Andorra         14375.0    15370.0    16412.0    17469.0    18549.0   \n",
       "\n",
       "                    1966  ...        2009        2010        2011        2012  \\\n",
       "Country Name              ...                                                   \n",
       "Aruba            57715.0  ...    101453.0    101669.0    102053.0    102577.0   \n",
       "Afghanistan   10152331.0  ...  28004331.0  28803167.0  29708599.0  30696958.0   \n",
       "Angola         6309770.0  ...  22549547.0  23369131.0  24218565.0  25096150.0   \n",
       "Albania        1914573.0  ...   2927519.0   2913021.0   2905195.0   2900401.0   \n",
       "Andorra          19647.0  ...     84462.0     84449.0     83751.0     82431.0   \n",
       "\n",
       "                    2013        2014        2015        2016        2017  \\\n",
       "Country Name                                                               \n",
       "Aruba           103187.0    103795.0    104341.0    104822.0    105000.0   \n",
       "Afghanistan   31731688.0  32758020.0  33736494.0  34656032.0  35530000.0   \n",
       "Angola        25998340.0  26920466.0  27859305.0  28813463.0  29784000.0   \n",
       "Albania        2895092.0   2889104.0   2880703.0   2876101.0   2879000.0   \n",
       "Andorra          80788.0     79223.0     78014.0     77281.0     77000.0   \n",
       "\n",
       "              Unnamed: 62  \n",
       "Country Name               \n",
       "Aruba                 NaN  \n",
       "Afghanistan           NaN  \n",
       "Angola                NaN  \n",
       "Albania               NaN  \n",
       "Andorra               NaN  \n",
       "\n",
       "[5 rows x 62 columns]"
      ]
     },
     "execution_count": 168,
     "metadata": {},
     "output_type": "execute_result"
    }
   ],
   "source": [
    "df.set_index(\"Country Name\").head()"
   ]
  },
  {
   "cell_type": "code",
   "execution_count": 146,
   "id": "delayed-monday",
   "metadata": {},
   "outputs": [
    {
     "data": {
      "text/plain": [
       "0      [54211.0, 55438.0, 56225.0, 56695.0, 57032.0, ...\n",
       "1      [8996351.0, 9166764.0, 9345868.0, 9533954.0, 9...\n",
       "2      [5643182.0, 5753024.0, 5866061.0, 5980417.0, 6...\n",
       "3      [1608800.0, 1659800.0, 1711319.0, 1762621.0, 1...\n",
       "4      [13411.0, 14375.0, 15370.0, 16412.0, 17469.0, ...\n",
       "                             ...                        \n",
       "259    [947000.0, 966000.0, 994000.0, 1022000.0, 1050...\n",
       "260    [5172135.0, 5260501.0, 5351799.0, 5446063.0, 5...\n",
       "261    [17396367.0, 17850045.0, 18322335.0, 18809939....\n",
       "262    [3044846.0, 3140264.0, 3240587.0, 3345145.0, 3...\n",
       "263    [3747369.0, 3870756.0, 3999419.0, 4132756.0, 4...\n",
       "Length: 264, dtype: object"
      ]
     },
     "execution_count": 146,
     "metadata": {},
     "output_type": "execute_result"
    }
   ],
   "source": [
    "df.loc[:,\"1960\":\"2017\"].apply(lambda x: x.tolist(), axis=1)"
   ]
  },
  {
   "cell_type": "code",
   "execution_count": 150,
   "id": "sunrise-wealth",
   "metadata": {},
   "outputs": [
    {
     "data": {
      "text/plain": [
       "<AxesSubplot:>"
      ]
     },
     "execution_count": 150,
     "metadata": {},
     "output_type": "execute_result"
    },
    {
     "data": {
      "image/png": "[encoded data removed]",
      "text/plain": [
       "<Figure size 432x288 with 1 Axes>"
      ]
     },
     "metadata": {
      "needs_background": "light"
     },
     "output_type": "display_data"
    }
   ],
   "source": [
    "df.loc[df[\"Country Name\"] == \"France\",\"1960\":\"2017\"].T.plot()"
   ]
  },
  {
   "cell_type": "markdown",
   "id": "expected-gentleman",
   "metadata": {},
   "source": [
    "## Dans le même graphique comparer la France, l'Allemagne et le Japon"
   ]
  },
  {
   "cell_type": "code",
   "execution_count": 169,
   "id": "spatial-arbor",
   "metadata": {},
   "outputs": [],
   "source": [
    "df = df.set_index(\"Country Name\")"
   ]
  },
  {
   "cell_type": "code",
   "execution_count": 171,
   "id": "czech-access",
   "metadata": {},
   "outputs": [
    {
     "data": {
      "text/plain": [
       "<AxesSubplot:>"
      ]
     },
     "execution_count": 171,
     "metadata": {},
     "output_type": "execute_result"
    },
    {
     "data": {
      "image/png": "[encoded data removed]",
      "text/plain": [
       "<Figure size 432x288 with 1 Axes>"
      ]
     },
     "metadata": {
      "needs_background": "light"
     },
     "output_type": "display_data"
    }
   ],
   "source": [
    "df.loc[[\"France\",\"Germany\",\"Japan\", \"Indonesia\"] ,\"1960\":\"2017\"].T.plot()"
   ]
  },
  {
   "cell_type": "code",
   "execution_count": 175,
   "id": "insured-convergence",
   "metadata": {},
   "outputs": [
    {
     "data": {
      "text/plain": [
       "<AxesSubplot:>"
      ]
     },
     "execution_count": 175,
     "metadata": {},
     "output_type": "execute_result"
    },
    {
     "data": {
      "image/png": "[encoded data removed]",
      "text/plain": [
       "<Figure size 432x288 with 1 Axes>"
      ]
     },
     "metadata": {
      "needs_background": "light"
     },
     "output_type": "display_data"
    }
   ],
   "source": [
    "df.loc[df.index.isin([\"France\", \"Germany\", \"Japan\"]), \"1960\":\"2017\"].T.plot()\n",
    "\n",
    "# or\n",
    "\n",
    "# df.loc[df[\"Country Name\"].isin([\"France\", \"Germany\", \"Japan\"]), \"1960\":\"2017\"].T.plot()"
   ]
  },
  {
   "cell_type": "markdown",
   "id": "arbitrary-accent",
   "metadata": {},
   "source": [
    "## Afficher dans une grille 4 x 4 l'évolution de la population des 16 pays les plus peuplés en 1960"
   ]
  },
  {
   "cell_type": "code",
   "execution_count": 198,
   "id": "olive-kennedy",
   "metadata": {
    "collapsed": true
   },
   "outputs": [
    {
     "data": {
      "text/html": [
       "<div>\n",
       "<style scoped>\n",
       "    .dataframe tbody tr th:only-of-type {\n",
       "        vertical-align: middle;\n",
       "    }\n",
       "\n",
       "    .dataframe tbody tr th {\n",
       "        vertical-align: top;\n",
       "    }\n",
       "\n",
       "    .dataframe thead th {\n",
       "        text-align: right;\n",
       "    }\n",
       "</style>\n",
       "<table border=\"1\" class=\"dataframe\">\n",
       "  <thead>\n",
       "    <tr style=\"text-align: right;\">\n",
       "      <th></th>\n",
       "      <th>Country Code</th>\n",
       "      <th>Indicator Name</th>\n",
       "      <th>Indicator Code</th>\n",
       "      <th>1960</th>\n",
       "      <th>1961</th>\n",
       "      <th>1962</th>\n",
       "      <th>1963</th>\n",
       "      <th>1964</th>\n",
       "      <th>1965</th>\n",
       "      <th>1966</th>\n",
       "      <th>...</th>\n",
       "      <th>2009</th>\n",
       "      <th>2010</th>\n",
       "      <th>2011</th>\n",
       "      <th>2012</th>\n",
       "      <th>2013</th>\n",
       "      <th>2014</th>\n",
       "      <th>2015</th>\n",
       "      <th>2016</th>\n",
       "      <th>2017</th>\n",
       "      <th>Unnamed: 62</th>\n",
       "    </tr>\n",
       "    <tr>\n",
       "      <th>Country Name</th>\n",
       "      <th></th>\n",
       "      <th></th>\n",
       "      <th></th>\n",
       "      <th></th>\n",
       "      <th></th>\n",
       "      <th></th>\n",
       "      <th></th>\n",
       "      <th></th>\n",
       "      <th></th>\n",
       "      <th></th>\n",
       "      <th></th>\n",
       "      <th></th>\n",
       "      <th></th>\n",
       "      <th></th>\n",
       "      <th></th>\n",
       "      <th></th>\n",
       "      <th></th>\n",
       "      <th></th>\n",
       "      <th></th>\n",
       "      <th></th>\n",
       "      <th></th>\n",
       "    </tr>\n",
       "  </thead>\n",
       "  <tbody>\n",
       "    <tr>\n",
       "      <th>World</th>\n",
       "      <td>WLD</td>\n",
       "      <td>Population, total</td>\n",
       "      <td>SP.POP.TOTL</td>\n",
       "      <td>3.034193e+09</td>\n",
       "      <td>3.075115e+09</td>\n",
       "      <td>3.127961e+09</td>\n",
       "      <td>3.192794e+09</td>\n",
       "      <td>3.258201e+09</td>\n",
       "      <td>3.324952e+09</td>\n",
       "      <td>3.394865e+09</td>\n",
       "      <td>...</td>\n",
       "      <td>6.847215e+09</td>\n",
       "      <td>6.930657e+09</td>\n",
       "      <td>7.012844e+09</td>\n",
       "      <td>7.097401e+09</td>\n",
       "      <td>7.182860e+09</td>\n",
       "      <td>7.268986e+09</td>\n",
       "      <td>7.355220e+09</td>\n",
       "      <td>7.442136e+09</td>\n",
       "      <td>7.523997e+09</td>\n",
       "      <td>NaN</td>\n",
       "    </tr>\n",
       "    <tr>\n",
       "      <th>IDA &amp; IBRD total</th>\n",
       "      <td>IBT</td>\n",
       "      <td>Population, total</td>\n",
       "      <td>SP.POP.TOTL</td>\n",
       "      <td>2.301898e+09</td>\n",
       "      <td>2.331636e+09</td>\n",
       "      <td>2.374689e+09</td>\n",
       "      <td>2.429878e+09</td>\n",
       "      <td>2.485749e+09</td>\n",
       "      <td>2.543191e+09</td>\n",
       "      <td>2.604312e+09</td>\n",
       "      <td>...</td>\n",
       "      <td>5.725607e+09</td>\n",
       "      <td>5.801349e+09</td>\n",
       "      <td>5.877978e+09</td>\n",
       "      <td>5.955532e+09</td>\n",
       "      <td>6.033915e+09</td>\n",
       "      <td>6.112778e+09</td>\n",
       "      <td>6.191917e+09</td>\n",
       "      <td>6.271593e+09</td>\n",
       "      <td>6.348082e+09</td>\n",
       "      <td>NaN</td>\n",
       "    </tr>\n",
       "    <tr>\n",
       "      <th>Low &amp; middle income</th>\n",
       "      <td>LMY</td>\n",
       "      <td>Population, total</td>\n",
       "      <td>SP.POP.TOTL</td>\n",
       "      <td>2.279584e+09</td>\n",
       "      <td>2.309160e+09</td>\n",
       "      <td>2.352010e+09</td>\n",
       "      <td>2.406932e+09</td>\n",
       "      <td>2.462536e+09</td>\n",
       "      <td>2.519876e+09</td>\n",
       "      <td>2.581011e+09</td>\n",
       "      <td>...</td>\n",
       "      <td>5.705229e+09</td>\n",
       "      <td>5.781145e+09</td>\n",
       "      <td>5.857845e+09</td>\n",
       "      <td>5.935501e+09</td>\n",
       "      <td>6.014016e+09</td>\n",
       "      <td>6.093020e+09</td>\n",
       "      <td>6.172291e+09</td>\n",
       "      <td>6.252106e+09</td>\n",
       "      <td>6.328725e+09</td>\n",
       "      <td>NaN</td>\n",
       "    </tr>\n",
       "    <tr>\n",
       "      <th>Middle income</th>\n",
       "      <td>MIC</td>\n",
       "      <td>Population, total</td>\n",
       "      <td>SP.POP.TOTL</td>\n",
       "      <td>2.124914e+09</td>\n",
       "      <td>2.151091e+09</td>\n",
       "      <td>2.190460e+09</td>\n",
       "      <td>2.241781e+09</td>\n",
       "      <td>2.293605e+09</td>\n",
       "      <td>2.346946e+09</td>\n",
       "      <td>2.403852e+09</td>\n",
       "      <td>...</td>\n",
       "      <td>5.160329e+09</td>\n",
       "      <td>5.221138e+09</td>\n",
       "      <td>5.282272e+09</td>\n",
       "      <td>5.343924e+09</td>\n",
       "      <td>5.406029e+09</td>\n",
       "      <td>5.468260e+09</td>\n",
       "      <td>5.530432e+09</td>\n",
       "      <td>5.592833e+09</td>\n",
       "      <td>5.651718e+09</td>\n",
       "      <td>NaN</td>\n",
       "    </tr>\n",
       "    <tr>\n",
       "      <th>IBRD only</th>\n",
       "      <td>IBD</td>\n",
       "      <td>Population, total</td>\n",
       "      <td>SP.POP.TOTL</td>\n",
       "      <td>1.919408e+09</td>\n",
       "      <td>1.939836e+09</td>\n",
       "      <td>1.973218e+09</td>\n",
       "      <td>2.018350e+09</td>\n",
       "      <td>2.063747e+09</td>\n",
       "      <td>2.110280e+09</td>\n",
       "      <td>2.160019e+09</td>\n",
       "      <td>...</td>\n",
       "      <td>4.383581e+09</td>\n",
       "      <td>4.427798e+09</td>\n",
       "      <td>4.472296e+09</td>\n",
       "      <td>4.517417e+09</td>\n",
       "      <td>4.562691e+09</td>\n",
       "      <td>4.607808e+09</td>\n",
       "      <td>4.652578e+09</td>\n",
       "      <td>4.697247e+09</td>\n",
       "      <td>4.738332e+09</td>\n",
       "      <td>NaN</td>\n",
       "    </tr>\n",
       "    <tr>\n",
       "      <th>...</th>\n",
       "      <td>...</td>\n",
       "      <td>...</td>\n",
       "      <td>...</td>\n",
       "      <td>...</td>\n",
       "      <td>...</td>\n",
       "      <td>...</td>\n",
       "      <td>...</td>\n",
       "      <td>...</td>\n",
       "      <td>...</td>\n",
       "      <td>...</td>\n",
       "      <td>...</td>\n",
       "      <td>...</td>\n",
       "      <td>...</td>\n",
       "      <td>...</td>\n",
       "      <td>...</td>\n",
       "      <td>...</td>\n",
       "      <td>...</td>\n",
       "      <td>...</td>\n",
       "      <td>...</td>\n",
       "      <td>...</td>\n",
       "      <td>...</td>\n",
       "    </tr>\n",
       "    <tr>\n",
       "      <th>St. Martin (French part)</th>\n",
       "      <td>MAF</td>\n",
       "      <td>Population, total</td>\n",
       "      <td>SP.POP.TOTL</td>\n",
       "      <td>4.279000e+03</td>\n",
       "      <td>4.453000e+03</td>\n",
       "      <td>4.566000e+03</td>\n",
       "      <td>4.656000e+03</td>\n",
       "      <td>4.748000e+03</td>\n",
       "      <td>4.841000e+03</td>\n",
       "      <td>4.936000e+03</td>\n",
       "      <td>...</td>\n",
       "      <td>2.982000e+04</td>\n",
       "      <td>3.023500e+04</td>\n",
       "      <td>3.061500e+04</td>\n",
       "      <td>3.095900e+04</td>\n",
       "      <td>3.126400e+04</td>\n",
       "      <td>3.153000e+04</td>\n",
       "      <td>3.175400e+04</td>\n",
       "      <td>3.194900e+04</td>\n",
       "      <td>NaN</td>\n",
       "      <td>NaN</td>\n",
       "    </tr>\n",
       "    <tr>\n",
       "      <th>Not classified</th>\n",
       "      <td>INX</td>\n",
       "      <td>Population, total</td>\n",
       "      <td>SP.POP.TOTL</td>\n",
       "      <td>NaN</td>\n",
       "      <td>NaN</td>\n",
       "      <td>NaN</td>\n",
       "      <td>NaN</td>\n",
       "      <td>NaN</td>\n",
       "      <td>NaN</td>\n",
       "      <td>NaN</td>\n",
       "      <td>...</td>\n",
       "      <td>NaN</td>\n",
       "      <td>NaN</td>\n",
       "      <td>NaN</td>\n",
       "      <td>NaN</td>\n",
       "      <td>NaN</td>\n",
       "      <td>NaN</td>\n",
       "      <td>NaN</td>\n",
       "      <td>NaN</td>\n",
       "      <td>NaN</td>\n",
       "      <td>NaN</td>\n",
       "    </tr>\n",
       "    <tr>\n",
       "      <th>West Bank and Gaza</th>\n",
       "      <td>PSE</td>\n",
       "      <td>Population, total</td>\n",
       "      <td>SP.POP.TOTL</td>\n",
       "      <td>NaN</td>\n",
       "      <td>NaN</td>\n",
       "      <td>NaN</td>\n",
       "      <td>NaN</td>\n",
       "      <td>NaN</td>\n",
       "      <td>NaN</td>\n",
       "      <td>NaN</td>\n",
       "      <td>...</td>\n",
       "      <td>3.702218e+06</td>\n",
       "      <td>3.811102e+06</td>\n",
       "      <td>3.927051e+06</td>\n",
       "      <td>4.046901e+06</td>\n",
       "      <td>4.169506e+06</td>\n",
       "      <td>4.294682e+06</td>\n",
       "      <td>4.422143e+06</td>\n",
       "      <td>4.551566e+06</td>\n",
       "      <td>4.674000e+06</td>\n",
       "      <td>NaN</td>\n",
       "    </tr>\n",
       "    <tr>\n",
       "      <th>Serbia</th>\n",
       "      <td>SRB</td>\n",
       "      <td>Population, total</td>\n",
       "      <td>SP.POP.TOTL</td>\n",
       "      <td>NaN</td>\n",
       "      <td>NaN</td>\n",
       "      <td>NaN</td>\n",
       "      <td>NaN</td>\n",
       "      <td>NaN</td>\n",
       "      <td>NaN</td>\n",
       "      <td>NaN</td>\n",
       "      <td>...</td>\n",
       "      <td>7.320807e+06</td>\n",
       "      <td>7.291436e+06</td>\n",
       "      <td>7.234099e+06</td>\n",
       "      <td>7.199077e+06</td>\n",
       "      <td>7.164132e+06</td>\n",
       "      <td>7.130576e+06</td>\n",
       "      <td>7.095383e+06</td>\n",
       "      <td>7.057412e+06</td>\n",
       "      <td>7.031000e+06</td>\n",
       "      <td>NaN</td>\n",
       "    </tr>\n",
       "    <tr>\n",
       "      <th>Sint Maarten (Dutch part)</th>\n",
       "      <td>SXM</td>\n",
       "      <td>Population, total</td>\n",
       "      <td>SP.POP.TOTL</td>\n",
       "      <td>NaN</td>\n",
       "      <td>NaN</td>\n",
       "      <td>NaN</td>\n",
       "      <td>NaN</td>\n",
       "      <td>NaN</td>\n",
       "      <td>NaN</td>\n",
       "      <td>NaN</td>\n",
       "      <td>...</td>\n",
       "      <td>3.913300e+04</td>\n",
       "      <td>3.547400e+04</td>\n",
       "      <td>3.343500e+04</td>\n",
       "      <td>3.464000e+04</td>\n",
       "      <td>3.660700e+04</td>\n",
       "      <td>3.768500e+04</td>\n",
       "      <td>3.882400e+04</td>\n",
       "      <td>4.000500e+04</td>\n",
       "      <td>NaN</td>\n",
       "      <td>NaN</td>\n",
       "    </tr>\n",
       "  </tbody>\n",
       "</table>\n",
       "<p>264 rows × 62 columns</p>\n",
       "</div>"
      ],
      "text/plain": [
       "                          Country Code     Indicator Name Indicator Code  \\\n",
       "Country Name                                                               \n",
       "World                              WLD  Population, total    SP.POP.TOTL   \n",
       "IDA & IBRD total                   IBT  Population, total    SP.POP.TOTL   \n",
       "Low & middle income                LMY  Population, total    SP.POP.TOTL   \n",
       "Middle income                      MIC  Population, total    SP.POP.TOTL   \n",
       "IBRD only                          IBD  Population, total    SP.POP.TOTL   \n",
       "...                                ...                ...            ...   \n",
       "St. Martin (French part)           MAF  Population, total    SP.POP.TOTL   \n",
       "Not classified                     INX  Population, total    SP.POP.TOTL   \n",
       "West Bank and Gaza                 PSE  Population, total    SP.POP.TOTL   \n",
       "Serbia                             SRB  Population, total    SP.POP.TOTL   \n",
       "Sint Maarten (Dutch part)          SXM  Population, total    SP.POP.TOTL   \n",
       "\n",
       "                                   1960          1961          1962  \\\n",
       "Country Name                                                          \n",
       "World                      3.034193e+09  3.075115e+09  3.127961e+09   \n",
       "IDA & IBRD total           2.301898e+09  2.331636e+09  2.374689e+09   \n",
       "Low & middle income        2.279584e+09  2.309160e+09  2.352010e+09   \n",
       "Middle income              2.124914e+09  2.151091e+09  2.190460e+09   \n",
       "IBRD only                  1.919408e+09  1.939836e+09  1.973218e+09   \n",
       "...                                 ...           ...           ...   \n",
       "St. Martin (French part)   4.279000e+03  4.453000e+03  4.566000e+03   \n",
       "Not classified                      NaN           NaN           NaN   \n",
       "West Bank and Gaza                  NaN           NaN           NaN   \n",
       "Serbia                              NaN           NaN           NaN   \n",
       "Sint Maarten (Dutch part)           NaN           NaN           NaN   \n",
       "\n",
       "                                   1963          1964          1965  \\\n",
       "Country Name                                                          \n",
       "World                      3.192794e+09  3.258201e+09  3.324952e+09   \n",
       "IDA & IBRD total           2.429878e+09  2.485749e+09  2.543191e+09   \n",
       "Low & middle income        2.406932e+09  2.462536e+09  2.519876e+09   \n",
       "Middle income              2.241781e+09  2.293605e+09  2.346946e+09   \n",
       "IBRD only                  2.018350e+09  2.063747e+09  2.110280e+09   \n",
       "...                                 ...           ...           ...   \n",
       "St. Martin (French part)   4.656000e+03  4.748000e+03  4.841000e+03   \n",
       "Not classified                      NaN           NaN           NaN   \n",
       "West Bank and Gaza                  NaN           NaN           NaN   \n",
       "Serbia                              NaN           NaN           NaN   \n",
       "Sint Maarten (Dutch part)           NaN           NaN           NaN   \n",
       "\n",
       "                                   1966  ...          2009          2010  \\\n",
       "Country Name                             ...                               \n",
       "World                      3.394865e+09  ...  6.847215e+09  6.930657e+09   \n",
       "IDA & IBRD total           2.604312e+09  ...  5.725607e+09  5.801349e+09   \n",
       "Low & middle income        2.581011e+09  ...  5.705229e+09  5.781145e+09   \n",
       "Middle income              2.403852e+09  ...  5.160329e+09  5.221138e+09   \n",
       "IBRD only                  2.160019e+09  ...  4.383581e+09  4.427798e+09   \n",
       "...                                 ...  ...           ...           ...   \n",
       "St. Martin (French part)   4.936000e+03  ...  2.982000e+04  3.023500e+04   \n",
       "Not classified                      NaN  ...           NaN           NaN   \n",
       "West Bank and Gaza                  NaN  ...  3.702218e+06  3.811102e+06   \n",
       "Serbia                              NaN  ...  7.320807e+06  7.291436e+06   \n",
       "Sint Maarten (Dutch part)           NaN  ...  3.913300e+04  3.547400e+04   \n",
       "\n",
       "                                   2011          2012          2013  \\\n",
       "Country Name                                                          \n",
       "World                      7.012844e+09  7.097401e+09  7.182860e+09   \n",
       "IDA & IBRD total           5.877978e+09  5.955532e+09  6.033915e+09   \n",
       "Low & middle income        5.857845e+09  5.935501e+09  6.014016e+09   \n",
       "Middle income              5.282272e+09  5.343924e+09  5.406029e+09   \n",
       "IBRD only                  4.472296e+09  4.517417e+09  4.562691e+09   \n",
       "...                                 ...           ...           ...   \n",
       "St. Martin (French part)   3.061500e+04  3.095900e+04  3.126400e+04   \n",
       "Not classified                      NaN           NaN           NaN   \n",
       "West Bank and Gaza         3.927051e+06  4.046901e+06  4.169506e+06   \n",
       "Serbia                     7.234099e+06  7.199077e+06  7.164132e+06   \n",
       "Sint Maarten (Dutch part)  3.343500e+04  3.464000e+04  3.660700e+04   \n",
       "\n",
       "                                   2014          2015          2016  \\\n",
       "Country Name                                                          \n",
       "World                      7.268986e+09  7.355220e+09  7.442136e+09   \n",
       "IDA & IBRD total           6.112778e+09  6.191917e+09  6.271593e+09   \n",
       "Low & middle income        6.093020e+09  6.172291e+09  6.252106e+09   \n",
       "Middle income              5.468260e+09  5.530432e+09  5.592833e+09   \n",
       "IBRD only                  4.607808e+09  4.652578e+09  4.697247e+09   \n",
       "...                                 ...           ...           ...   \n",
       "St. Martin (French part)   3.153000e+04  3.175400e+04  3.194900e+04   \n",
       "Not classified                      NaN           NaN           NaN   \n",
       "West Bank and Gaza         4.294682e+06  4.422143e+06  4.551566e+06   \n",
       "Serbia                     7.130576e+06  7.095383e+06  7.057412e+06   \n",
       "Sint Maarten (Dutch part)  3.768500e+04  3.882400e+04  4.000500e+04   \n",
       "\n",
       "                                   2017  Unnamed: 62  \n",
       "Country Name                                          \n",
       "World                      7.523997e+09          NaN  \n",
       "IDA & IBRD total           6.348082e+09          NaN  \n",
       "Low & middle income        6.328725e+09          NaN  \n",
       "Middle income              5.651718e+09          NaN  \n",
       "IBRD only                  4.738332e+09          NaN  \n",
       "...                                 ...          ...  \n",
       "St. Martin (French part)            NaN          NaN  \n",
       "Not classified                      NaN          NaN  \n",
       "West Bank and Gaza         4.674000e+06          NaN  \n",
       "Serbia                     7.031000e+06          NaN  \n",
       "Sint Maarten (Dutch part)           NaN          NaN  \n",
       "\n",
       "[264 rows x 62 columns]"
      ]
     },
     "execution_count": 198,
     "metadata": {},
     "output_type": "execute_result"
    }
   ],
   "source": [
    "df.sort_values(\"1960\", ascending=False)"
   ]
  },
  {
   "cell_type": "code",
   "execution_count": 180,
   "id": "fourth-slide",
   "metadata": {},
   "outputs": [],
   "source": [
    "ref = pd.read_csv(\"country_ref.csv\")"
   ]
  },
  {
   "cell_type": "code",
   "execution_count": 210,
   "id": "ideal-checklist",
   "metadata": {},
   "outputs": [],
   "source": [
    "population = df.merge(ref, left_on=\"Country Code\", right_on=\"isocode_3\")"
   ]
  },
  {
   "cell_type": "code",
   "execution_count": 211,
   "id": "transsexual-houston",
   "metadata": {
    "scrolled": true
   },
   "outputs": [
    {
     "data": {
      "text/html": [
       "<div>\n",
       "<style scoped>\n",
       "    .dataframe tbody tr th:only-of-type {\n",
       "        vertical-align: middle;\n",
       "    }\n",
       "\n",
       "    .dataframe tbody tr th {\n",
       "        vertical-align: top;\n",
       "    }\n",
       "\n",
       "    .dataframe thead th {\n",
       "        text-align: right;\n",
       "    }\n",
       "</style>\n",
       "<table border=\"1\" class=\"dataframe\">\n",
       "  <thead>\n",
       "    <tr style=\"text-align: right;\">\n",
       "      <th></th>\n",
       "      <th>Country Name</th>\n",
       "      <th>Country Code</th>\n",
       "      <th>Indicator Name</th>\n",
       "      <th>Indicator Code</th>\n",
       "      <th>1960</th>\n",
       "      <th>1961</th>\n",
       "      <th>1962</th>\n",
       "      <th>1963</th>\n",
       "      <th>1964</th>\n",
       "      <th>1965</th>\n",
       "      <th>...</th>\n",
       "      <th>2013</th>\n",
       "      <th>2014</th>\n",
       "      <th>2015</th>\n",
       "      <th>2016</th>\n",
       "      <th>2017</th>\n",
       "      <th>Unnamed: 62</th>\n",
       "      <th>name</th>\n",
       "      <th>isocode_2</th>\n",
       "      <th>isocode_3</th>\n",
       "      <th>numeric_code</th>\n",
       "    </tr>\n",
       "  </thead>\n",
       "  <tbody>\n",
       "    <tr>\n",
       "      <th>35</th>\n",
       "      <td>China</td>\n",
       "      <td>CHN</td>\n",
       "      <td>Population, total</td>\n",
       "      <td>SP.POP.TOTL</td>\n",
       "      <td>667070000.0</td>\n",
       "      <td>660330000.0</td>\n",
       "      <td>665770000.0</td>\n",
       "      <td>682335000.0</td>\n",
       "      <td>698355000.0</td>\n",
       "      <td>715185000.0</td>\n",
       "      <td>...</td>\n",
       "      <td>1.357380e+09</td>\n",
       "      <td>1.364270e+09</td>\n",
       "      <td>1.371220e+09</td>\n",
       "      <td>1.378665e+09</td>\n",
       "      <td>1.383981e+09</td>\n",
       "      <td>NaN</td>\n",
       "      <td>China</td>\n",
       "      <td>CN</td>\n",
       "      <td>CHN</td>\n",
       "      <td>156</td>\n",
       "    </tr>\n",
       "    <tr>\n",
       "      <th>88</th>\n",
       "      <td>India</td>\n",
       "      <td>IND</td>\n",
       "      <td>Population, total</td>\n",
       "      <td>SP.POP.TOTL</td>\n",
       "      <td>449480608.0</td>\n",
       "      <td>458494963.0</td>\n",
       "      <td>467852537.0</td>\n",
       "      <td>477527970.0</td>\n",
       "      <td>487484535.0</td>\n",
       "      <td>497702365.0</td>\n",
       "      <td>...</td>\n",
       "      <td>1.278562e+09</td>\n",
       "      <td>1.293859e+09</td>\n",
       "      <td>1.309054e+09</td>\n",
       "      <td>1.324171e+09</td>\n",
       "      <td>1.339180e+09</td>\n",
       "      <td>NaN</td>\n",
       "      <td>India</td>\n",
       "      <td>IN</td>\n",
       "      <td>IND</td>\n",
       "      <td>356</td>\n",
       "    </tr>\n",
       "    <tr>\n",
       "      <th>202</th>\n",
       "      <td>United States</td>\n",
       "      <td>USA</td>\n",
       "      <td>Population, total</td>\n",
       "      <td>SP.POP.TOTL</td>\n",
       "      <td>180671000.0</td>\n",
       "      <td>183691000.0</td>\n",
       "      <td>186538000.0</td>\n",
       "      <td>189242000.0</td>\n",
       "      <td>191889000.0</td>\n",
       "      <td>194303000.0</td>\n",
       "      <td>...</td>\n",
       "      <td>3.162049e+08</td>\n",
       "      <td>3.185635e+08</td>\n",
       "      <td>3.208966e+08</td>\n",
       "      <td>3.231275e+08</td>\n",
       "      <td>3.255240e+08</td>\n",
       "      <td>NaN</td>\n",
       "      <td>United States of America (the)</td>\n",
       "      <td>US</td>\n",
       "      <td>USA</td>\n",
       "      <td>840</td>\n",
       "    </tr>\n",
       "    <tr>\n",
       "      <th>164</th>\n",
       "      <td>Russian Federation</td>\n",
       "      <td>RUS</td>\n",
       "      <td>Population, total</td>\n",
       "      <td>SP.POP.TOTL</td>\n",
       "      <td>119897000.0</td>\n",
       "      <td>121236000.0</td>\n",
       "      <td>122591000.0</td>\n",
       "      <td>123960000.0</td>\n",
       "      <td>125345000.0</td>\n",
       "      <td>126745000.0</td>\n",
       "      <td>...</td>\n",
       "      <td>1.435069e+08</td>\n",
       "      <td>1.438197e+08</td>\n",
       "      <td>1.440969e+08</td>\n",
       "      <td>1.443424e+08</td>\n",
       "      <td>1.442310e+08</td>\n",
       "      <td>NaN</td>\n",
       "      <td>Russian Federation (the)</td>\n",
       "      <td>RU</td>\n",
       "      <td>RUS</td>\n",
       "      <td>643</td>\n",
       "    </tr>\n",
       "    <tr>\n",
       "      <th>97</th>\n",
       "      <td>Japan</td>\n",
       "      <td>JPN</td>\n",
       "      <td>Population, total</td>\n",
       "      <td>SP.POP.TOTL</td>\n",
       "      <td>92500572.0</td>\n",
       "      <td>94943000.0</td>\n",
       "      <td>95832000.0</td>\n",
       "      <td>96812000.0</td>\n",
       "      <td>97826000.0</td>\n",
       "      <td>98883000.0</td>\n",
       "      <td>...</td>\n",
       "      <td>1.274450e+08</td>\n",
       "      <td>1.272760e+08</td>\n",
       "      <td>1.271410e+08</td>\n",
       "      <td>1.269945e+08</td>\n",
       "      <td>1.266410e+08</td>\n",
       "      <td>NaN</td>\n",
       "      <td>Japan</td>\n",
       "      <td>JP</td>\n",
       "      <td>JPN</td>\n",
       "      <td>392</td>\n",
       "    </tr>\n",
       "    <tr>\n",
       "      <th>...</th>\n",
       "      <td>...</td>\n",
       "      <td>...</td>\n",
       "      <td>...</td>\n",
       "      <td>...</td>\n",
       "      <td>...</td>\n",
       "      <td>...</td>\n",
       "      <td>...</td>\n",
       "      <td>...</td>\n",
       "      <td>...</td>\n",
       "      <td>...</td>\n",
       "      <td>...</td>\n",
       "      <td>...</td>\n",
       "      <td>...</td>\n",
       "      <td>...</td>\n",
       "      <td>...</td>\n",
       "      <td>...</td>\n",
       "      <td>...</td>\n",
       "      <td>...</td>\n",
       "      <td>...</td>\n",
       "      <td>...</td>\n",
       "      <td>...</td>\n",
       "    </tr>\n",
       "    <tr>\n",
       "      <th>63</th>\n",
       "      <td>France</td>\n",
       "      <td>FRA</td>\n",
       "      <td>Population, total</td>\n",
       "      <td>SP.POP.TOTL</td>\n",
       "      <td>46814237.0</td>\n",
       "      <td>47444751.0</td>\n",
       "      <td>48119649.0</td>\n",
       "      <td>48803680.0</td>\n",
       "      <td>49449403.0</td>\n",
       "      <td>50023774.0</td>\n",
       "      <td>...</td>\n",
       "      <td>6.599857e+07</td>\n",
       "      <td>6.633196e+07</td>\n",
       "      <td>6.662407e+07</td>\n",
       "      <td>6.689611e+07</td>\n",
       "      <td>6.714300e+07</td>\n",
       "      <td>NaN</td>\n",
       "      <td>France</td>\n",
       "      <td>FR</td>\n",
       "      <td>FRA</td>\n",
       "      <td>250</td>\n",
       "    </tr>\n",
       "    <tr>\n",
       "      <th>141</th>\n",
       "      <td>Nigeria</td>\n",
       "      <td>NGA</td>\n",
       "      <td>Population, total</td>\n",
       "      <td>SP.POP.TOTL</td>\n",
       "      <td>45137812.0</td>\n",
       "      <td>46062905.0</td>\n",
       "      <td>47029140.0</td>\n",
       "      <td>48032246.0</td>\n",
       "      <td>49066059.0</td>\n",
       "      <td>50127214.0</td>\n",
       "      <td>...</td>\n",
       "      <td>1.718293e+08</td>\n",
       "      <td>1.764605e+08</td>\n",
       "      <td>1.811817e+08</td>\n",
       "      <td>1.859896e+08</td>\n",
       "      <td>1.908860e+08</td>\n",
       "      <td>NaN</td>\n",
       "      <td>Nigeria</td>\n",
       "      <td>NG</td>\n",
       "      <td>NGA</td>\n",
       "      <td>566</td>\n",
       "    </tr>\n",
       "    <tr>\n",
       "      <th>149</th>\n",
       "      <td>Pakistan</td>\n",
       "      <td>PAK</td>\n",
       "      <td>Population, total</td>\n",
       "      <td>SP.POP.TOTL</td>\n",
       "      <td>44908293.0</td>\n",
       "      <td>45984892.0</td>\n",
       "      <td>47119361.0</td>\n",
       "      <td>48309315.0</td>\n",
       "      <td>49551904.0</td>\n",
       "      <td>50845221.0</td>\n",
       "      <td>...</td>\n",
       "      <td>1.817126e+08</td>\n",
       "      <td>1.855463e+08</td>\n",
       "      <td>1.893805e+08</td>\n",
       "      <td>1.932035e+08</td>\n",
       "      <td>1.970160e+08</td>\n",
       "      <td>NaN</td>\n",
       "      <td>Pakistan</td>\n",
       "      <td>PK</td>\n",
       "      <td>PAK</td>\n",
       "      <td>586</td>\n",
       "    </tr>\n",
       "    <tr>\n",
       "      <th>200</th>\n",
       "      <td>Ukraine</td>\n",
       "      <td>UKR</td>\n",
       "      <td>Population, total</td>\n",
       "      <td>SP.POP.TOTL</td>\n",
       "      <td>42662149.0</td>\n",
       "      <td>43203635.0</td>\n",
       "      <td>43749470.0</td>\n",
       "      <td>44285899.0</td>\n",
       "      <td>44794327.0</td>\n",
       "      <td>45261935.0</td>\n",
       "      <td>...</td>\n",
       "      <td>4.548960e+07</td>\n",
       "      <td>4.527195e+07</td>\n",
       "      <td>4.515403e+07</td>\n",
       "      <td>4.500464e+07</td>\n",
       "      <td>4.477600e+07</td>\n",
       "      <td>NaN</td>\n",
       "      <td>Ukraine</td>\n",
       "      <td>UA</td>\n",
       "      <td>UKR</td>\n",
       "      <td>804</td>\n",
       "    </tr>\n",
       "    <tr>\n",
       "      <th>124</th>\n",
       "      <td>Mexico</td>\n",
       "      <td>MEX</td>\n",
       "      <td>Population, total</td>\n",
       "      <td>SP.POP.TOTL</td>\n",
       "      <td>38174112.0</td>\n",
       "      <td>39394126.0</td>\n",
       "      <td>40649588.0</td>\n",
       "      <td>41939880.0</td>\n",
       "      <td>43264272.0</td>\n",
       "      <td>44623043.0</td>\n",
       "      <td>...</td>\n",
       "      <td>1.225360e+08</td>\n",
       "      <td>1.242216e+08</td>\n",
       "      <td>1.258909e+08</td>\n",
       "      <td>1.275404e+08</td>\n",
       "      <td>1.291630e+08</td>\n",
       "      <td>NaN</td>\n",
       "      <td>Mexico</td>\n",
       "      <td>MX</td>\n",
       "      <td>MEX</td>\n",
       "      <td>484</td>\n",
       "    </tr>\n",
       "  </tbody>\n",
       "</table>\n",
       "<p>16 rows × 67 columns</p>\n",
       "</div>"
      ],
      "text/plain": [
       "           Country Name Country Code     Indicator Name Indicator Code  \\\n",
       "35                China          CHN  Population, total    SP.POP.TOTL   \n",
       "88                India          IND  Population, total    SP.POP.TOTL   \n",
       "202       United States          USA  Population, total    SP.POP.TOTL   \n",
       "164  Russian Federation          RUS  Population, total    SP.POP.TOTL   \n",
       "97                Japan          JPN  Population, total    SP.POP.TOTL   \n",
       "..                  ...          ...                ...            ...   \n",
       "63               France          FRA  Population, total    SP.POP.TOTL   \n",
       "141             Nigeria          NGA  Population, total    SP.POP.TOTL   \n",
       "149            Pakistan          PAK  Population, total    SP.POP.TOTL   \n",
       "200             Ukraine          UKR  Population, total    SP.POP.TOTL   \n",
       "124              Mexico          MEX  Population, total    SP.POP.TOTL   \n",
       "\n",
       "            1960         1961         1962         1963         1964  \\\n",
       "35   667070000.0  660330000.0  665770000.0  682335000.0  698355000.0   \n",
       "88   449480608.0  458494963.0  467852537.0  477527970.0  487484535.0   \n",
       "202  180671000.0  183691000.0  186538000.0  189242000.0  191889000.0   \n",
       "164  119897000.0  121236000.0  122591000.0  123960000.0  125345000.0   \n",
       "97    92500572.0   94943000.0   95832000.0   96812000.0   97826000.0   \n",
       "..           ...          ...          ...          ...          ...   \n",
       "63    46814237.0   47444751.0   48119649.0   48803680.0   49449403.0   \n",
       "141   45137812.0   46062905.0   47029140.0   48032246.0   49066059.0   \n",
       "149   44908293.0   45984892.0   47119361.0   48309315.0   49551904.0   \n",
       "200   42662149.0   43203635.0   43749470.0   44285899.0   44794327.0   \n",
       "124   38174112.0   39394126.0   40649588.0   41939880.0   43264272.0   \n",
       "\n",
       "            1965  ...          2013          2014          2015          2016  \\\n",
       "35   715185000.0  ...  1.357380e+09  1.364270e+09  1.371220e+09  1.378665e+09   \n",
       "88   497702365.0  ...  1.278562e+09  1.293859e+09  1.309054e+09  1.324171e+09   \n",
       "202  194303000.0  ...  3.162049e+08  3.185635e+08  3.208966e+08  3.231275e+08   \n",
       "164  126745000.0  ...  1.435069e+08  1.438197e+08  1.440969e+08  1.443424e+08   \n",
       "97    98883000.0  ...  1.274450e+08  1.272760e+08  1.271410e+08  1.269945e+08   \n",
       "..           ...  ...           ...           ...           ...           ...   \n",
       "63    50023774.0  ...  6.599857e+07  6.633196e+07  6.662407e+07  6.689611e+07   \n",
       "141   50127214.0  ...  1.718293e+08  1.764605e+08  1.811817e+08  1.859896e+08   \n",
       "149   50845221.0  ...  1.817126e+08  1.855463e+08  1.893805e+08  1.932035e+08   \n",
       "200   45261935.0  ...  4.548960e+07  4.527195e+07  4.515403e+07  4.500464e+07   \n",
       "124   44623043.0  ...  1.225360e+08  1.242216e+08  1.258909e+08  1.275404e+08   \n",
       "\n",
       "             2017  Unnamed: 62                            name  isocode_2  \\\n",
       "35   1.383981e+09          NaN                           China         CN   \n",
       "88   1.339180e+09          NaN                           India         IN   \n",
       "202  3.255240e+08          NaN  United States of America (the)         US   \n",
       "164  1.442310e+08          NaN        Russian Federation (the)         RU   \n",
       "97   1.266410e+08          NaN                           Japan         JP   \n",
       "..            ...          ...                             ...        ...   \n",
       "63   6.714300e+07          NaN                          France         FR   \n",
       "141  1.908860e+08          NaN                         Nigeria         NG   \n",
       "149  1.970160e+08          NaN                        Pakistan         PK   \n",
       "200  4.477600e+07          NaN                         Ukraine         UA   \n",
       "124  1.291630e+08          NaN                          Mexico         MX   \n",
       "\n",
       "     isocode_3  numeric_code  \n",
       "35         CHN           156  \n",
       "88         IND           356  \n",
       "202        USA           840  \n",
       "164        RUS           643  \n",
       "97         JPN           392  \n",
       "..         ...           ...  \n",
       "63         FRA           250  \n",
       "141        NGA           566  \n",
       "149        PAK           586  \n",
       "200        UKR           804  \n",
       "124        MEX           484  \n",
       "\n",
       "[16 rows x 67 columns]"
      ]
     },
     "execution_count": 211,
     "metadata": {},
     "output_type": "execute_result"
    }
   ],
   "source": [
    "population.sort_values(\"1960\", ascending=False).iloc[:16]"
   ]
  },
  {
   "cell_type": "code",
   "execution_count": 195,
   "id": "hollywood-press",
   "metadata": {},
   "outputs": [],
   "source": [
    "import matplotlib.pyplot as plt"
   ]
  },
  {
   "cell_type": "code",
   "execution_count": 197,
   "id": "ongoing-democrat",
   "metadata": {},
   "outputs": [
    {
     "data": {
      "text/plain": [
       "[<matplotlib.lines.Line2D at 0x7f87096b69d0>]"
      ]
     },
     "execution_count": 197,
     "metadata": {},
     "output_type": "execute_result"
    },
    {
     "data": {
      "image/png": "[encoded data removed]",
      "text/plain": [
       "<Figure size 432x288 with 4 Axes>"
      ]
     },
     "metadata": {
      "needs_background": "light"
     },
     "output_type": "display_data"
    }
   ],
   "source": [
    "fig, ((ax1, ax2), (ax3, ax4)) = plt.subplots(2, 2)\n",
    "fig.suptitle(\"comparaison de l'évolution des 16 plus grandes populations mondiales\")\n",
    "ax1.plot(df.loc[df.index.isin([\"France\"]), \"1960\":\"2017\"].T.index, df.loc[df.index.isin([\"France\"]), \"1960\":\"2017\"].T)"
   ]
  },
  {
   "cell_type": "code",
   "execution_count": 215,
   "id": "specialized-video",
   "metadata": {},
   "outputs": [],
   "source": [
    "top_16 = population.sort_values(\"1960\", ascending=False).iloc[:16].set_index(\"Country Name\").T"
   ]
  },
  {
   "cell_type": "code",
   "execution_count": 232,
   "id": "convinced-orchestra",
   "metadata": {},
   "outputs": [
    {
     "data": {
      "image/png": "[encoded data removed]",
      "text/plain": [
       "<Figure size 1440x720 with 16 Axes>"
      ]
     },
     "metadata": {
      "needs_background": "light"
     },
     "output_type": "display_data"
    }
   ],
   "source": [
    "fig, ax = plt.subplots(4, 4, figsize=(20, 10))\n",
    "\n",
    "for index, country in enumerate(top_16.columns):\n",
    "    ax[index // 4][index % 4].set_title(country)\n",
    "    ax[index // 4][index % 4].plot(top_16.loc[\"1960\":\"2017\", country])\n",
    "    \n",
    "plt.setp(ax, xticks=[\"1960\", \"1970\", \"1980\", \"1990\", \"2000\", \"2017\"])\n",
    "plt.subplots_adjust(top=1.5)\n",
    "plt.savefig(\"top16.jpg\")\n",
    "plt.show()"
   ]
  },
  {
   "cell_type": "code",
   "execution_count": null,
   "id": "daily-cincinnati",
   "metadata": {},
   "outputs": [],
   "source": []
  }
 ],
 "metadata": {
  "kernelspec": {
   "display_name": "Python 3",
   "language": "python",
   "name": "python3"
  },
  "language_info": {
   "codemirror_mode": {
    "name": "ipython",
    "version": 3
   },
   "file_extension": ".py",
   "mimetype": "text/x-python",
   "name": "python",
   "nbconvert_exporter": "python",
   "pygments_lexer": "ipython3",
   "version": "3.8.7"
  }
 },
 "nbformat": 4,
 "nbformat_minor": 5
}
