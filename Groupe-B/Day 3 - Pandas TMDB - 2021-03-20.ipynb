{
 "cells": [
  {
   "cell_type": "code",
   "execution_count": 1,
   "id": "competent-briefing",
   "metadata": {},
   "outputs": [],
   "source": [
    "import pandas as pd"
   ]
  },
  {
   "cell_type": "code",
   "execution_count": 39,
   "id": "local-winner",
   "metadata": {},
   "outputs": [],
   "source": [
    "movies = pd.read_csv(\"../The movie database/tmdb_5000_movies.csv\")\n",
    "credits = pd.read_csv(\"../The movie database/tmdb_5000_credits.csv\")"
   ]
  },
  {
   "cell_type": "code",
   "execution_count": 40,
   "id": "specified-devon",
   "metadata": {},
   "outputs": [
    {
     "data": {
      "text/html": [
       "<div>\n",
       "<style scoped>\n",
       "    .dataframe tbody tr th:only-of-type {\n",
       "        vertical-align: middle;\n",
       "    }\n",
       "\n",
       "    .dataframe tbody tr th {\n",
       "        vertical-align: top;\n",
       "    }\n",
       "\n",
       "    .dataframe thead th {\n",
       "        text-align: right;\n",
       "    }\n",
       "</style>\n",
       "<table border=\"1\" class=\"dataframe\">\n",
       "  <thead>\n",
       "    <tr style=\"text-align: right;\">\n",
       "      <th></th>\n",
       "      <th>budget</th>\n",
       "      <th>genres</th>\n",
       "      <th>homepage</th>\n",
       "      <th>id</th>\n",
       "      <th>keywords</th>\n",
       "      <th>original_language</th>\n",
       "      <th>original_title</th>\n",
       "      <th>overview</th>\n",
       "      <th>popularity</th>\n",
       "      <th>production_companies</th>\n",
       "      <th>production_countries</th>\n",
       "      <th>release_date</th>\n",
       "      <th>revenue</th>\n",
       "      <th>runtime</th>\n",
       "      <th>spoken_languages</th>\n",
       "      <th>status</th>\n",
       "      <th>tagline</th>\n",
       "      <th>title</th>\n",
       "      <th>vote_average</th>\n",
       "      <th>vote_count</th>\n",
       "    </tr>\n",
       "  </thead>\n",
       "  <tbody>\n",
       "    <tr>\n",
       "      <th>0</th>\n",
       "      <td>237000000</td>\n",
       "      <td>[{\"id\": 28, \"name\": \"Action\"}, {\"id\": 12, \"nam...</td>\n",
       "      <td>http://www.avatarmovie.com/</td>\n",
       "      <td>19995</td>\n",
       "      <td>[{\"id\": 1463, \"name\": \"culture clash\"}, {\"id\":...</td>\n",
       "      <td>en</td>\n",
       "      <td>Avatar</td>\n",
       "      <td>In the 22nd century, a paraplegic Marine is di...</td>\n",
       "      <td>150.437577</td>\n",
       "      <td>[{\"name\": \"Ingenious Film Partners\", \"id\": 289...</td>\n",
       "      <td>[{\"iso_3166_1\": \"US\", \"name\": \"United States o...</td>\n",
       "      <td>2009-12-10</td>\n",
       "      <td>2787965087</td>\n",
       "      <td>162.0</td>\n",
       "      <td>[{\"iso_639_1\": \"en\", \"name\": \"English\"}, {\"iso...</td>\n",
       "      <td>Released</td>\n",
       "      <td>Enter the World of Pandora.</td>\n",
       "      <td>Avatar</td>\n",
       "      <td>7.2</td>\n",
       "      <td>11800</td>\n",
       "    </tr>\n",
       "  </tbody>\n",
       "</table>\n",
       "</div>"
      ],
      "text/plain": [
       "      budget                                             genres  \\\n",
       "0  237000000  [{\"id\": 28, \"name\": \"Action\"}, {\"id\": 12, \"nam...   \n",
       "\n",
       "                      homepage     id  \\\n",
       "0  http://www.avatarmovie.com/  19995   \n",
       "\n",
       "                                            keywords original_language  \\\n",
       "0  [{\"id\": 1463, \"name\": \"culture clash\"}, {\"id\":...                en   \n",
       "\n",
       "  original_title                                           overview  \\\n",
       "0         Avatar  In the 22nd century, a paraplegic Marine is di...   \n",
       "\n",
       "   popularity                               production_companies  \\\n",
       "0  150.437577  [{\"name\": \"Ingenious Film Partners\", \"id\": 289...   \n",
       "\n",
       "                                production_countries release_date     revenue  \\\n",
       "0  [{\"iso_3166_1\": \"US\", \"name\": \"United States o...   2009-12-10  2787965087   \n",
       "\n",
       "   runtime                                   spoken_languages    status  \\\n",
       "0    162.0  [{\"iso_639_1\": \"en\", \"name\": \"English\"}, {\"iso...  Released   \n",
       "\n",
       "                       tagline   title  vote_average  vote_count  \n",
       "0  Enter the World of Pandora.  Avatar           7.2       11800  "
      ]
     },
     "execution_count": 40,
     "metadata": {},
     "output_type": "execute_result"
    }
   ],
   "source": [
    "movies.head(1)"
   ]
  },
  {
   "cell_type": "markdown",
   "id": "contained-sense",
   "metadata": {},
   "source": [
    "## Q2"
   ]
  },
  {
   "cell_type": "code",
   "execution_count": 6,
   "id": "ethical-location",
   "metadata": {},
   "outputs": [
    {
     "data": {
      "text/plain": [
       "395097847444"
      ]
     },
     "execution_count": 6,
     "metadata": {},
     "output_type": "execute_result"
    }
   ],
   "source": [
    "movies[\"revenue\"].sum()"
   ]
  },
  {
   "cell_type": "code",
   "execution_count": 8,
   "id": "specific-mandate",
   "metadata": {},
   "outputs": [
    {
     "data": {
      "text/plain": [
       "0       2787965087\n",
       "25      1845034188\n",
       "16      1519557910\n",
       "28      1513528810\n",
       "44      1506249360\n",
       "           ...    \n",
       "3200             0\n",
       "3199             0\n",
       "3197             0\n",
       "3194             0\n",
       "4802             0\n",
       "Name: revenue, Length: 4803, dtype: int64"
      ]
     },
     "execution_count": 8,
     "metadata": {},
     "output_type": "execute_result"
    }
   ],
   "source": [
    "movies[\"revenue\"].sort_values(ascending=False)"
   ]
  },
  {
   "cell_type": "markdown",
   "id": "lined-arbor",
   "metadata": {},
   "source": [
    "## Q3"
   ]
  },
  {
   "cell_type": "code",
   "execution_count": 10,
   "id": "careful-conditions",
   "metadata": {},
   "outputs": [],
   "source": [
    "# Q3.1 Créer une colonne release_year contenant l'année de sortie du film"
   ]
  },
  {
   "cell_type": "code",
   "execution_count": 18,
   "id": "voluntary-proceeding",
   "metadata": {},
   "outputs": [],
   "source": [
    "movies.dropna(subset=[\"release_date\"], inplace=True)"
   ]
  },
  {
   "cell_type": "code",
   "execution_count": 23,
   "id": "pacific-russell",
   "metadata": {},
   "outputs": [],
   "source": [
    "# Méthode 1\n",
    "movies[\"release_year\"] = movies[\"release_date\"].apply(lambda x: x.split(\"-\")[0])  # x[:4]"
   ]
  },
  {
   "cell_type": "code",
   "execution_count": 26,
   "id": "indian-aside",
   "metadata": {},
   "outputs": [],
   "source": [
    "# Méthode 2\n",
    "from datetime import datetime\n",
    "movies[\"release_year\"] = movies[\"release_date\"].apply(lambda x: datetime.strptime(x, \"%Y-%m-%d\").year)  # x[:4]"
   ]
  },
  {
   "cell_type": "code",
   "execution_count": 43,
   "id": "wrong-favorite",
   "metadata": {},
   "outputs": [],
   "source": [
    "# Méthode 3\n",
    "movies[\"release_year\"] = pd.to_datetime(movies[\"release_date\"]).dt.year"
   ]
  },
  {
   "cell_type": "code",
   "execution_count": 44,
   "id": "mediterranean-montana",
   "metadata": {},
   "outputs": [],
   "source": [
    "# Q3.2 Colonne profit\n",
    "movies[\"profit\"] = movies[\"revenue\"] - movies[\"budget\"]"
   ]
  },
  {
   "cell_type": "code",
   "execution_count": 52,
   "id": "sixth-broadcast",
   "metadata": {},
   "outputs": [
    {
     "data": {
      "text/html": [
       "<div>\n",
       "<style scoped>\n",
       "    .dataframe tbody tr th:only-of-type {\n",
       "        vertical-align: middle;\n",
       "    }\n",
       "\n",
       "    .dataframe tbody tr th {\n",
       "        vertical-align: top;\n",
       "    }\n",
       "\n",
       "    .dataframe thead th {\n",
       "        text-align: right;\n",
       "    }\n",
       "</style>\n",
       "<table border=\"1\" class=\"dataframe\">\n",
       "  <thead>\n",
       "    <tr style=\"text-align: right;\">\n",
       "      <th></th>\n",
       "      <th>release_year</th>\n",
       "      <th>profit</th>\n",
       "    </tr>\n",
       "  </thead>\n",
       "  <tbody>\n",
       "    <tr>\n",
       "      <th>0</th>\n",
       "      <td>2009.0</td>\n",
       "      <td>2550965087</td>\n",
       "    </tr>\n",
       "    <tr>\n",
       "      <th>1</th>\n",
       "      <td>2007.0</td>\n",
       "      <td>661000000</td>\n",
       "    </tr>\n",
       "    <tr>\n",
       "      <th>2</th>\n",
       "      <td>2015.0</td>\n",
       "      <td>635674609</td>\n",
       "    </tr>\n",
       "    <tr>\n",
       "      <th>3</th>\n",
       "      <td>2012.0</td>\n",
       "      <td>834939099</td>\n",
       "    </tr>\n",
       "    <tr>\n",
       "      <th>4</th>\n",
       "      <td>2012.0</td>\n",
       "      <td>24139100</td>\n",
       "    </tr>\n",
       "    <tr>\n",
       "      <th>...</th>\n",
       "      <td>...</td>\n",
       "      <td>...</td>\n",
       "    </tr>\n",
       "    <tr>\n",
       "      <th>4798</th>\n",
       "      <td>1992.0</td>\n",
       "      <td>1820920</td>\n",
       "    </tr>\n",
       "    <tr>\n",
       "      <th>4799</th>\n",
       "      <td>2011.0</td>\n",
       "      <td>-9000</td>\n",
       "    </tr>\n",
       "    <tr>\n",
       "      <th>4800</th>\n",
       "      <td>2013.0</td>\n",
       "      <td>0</td>\n",
       "    </tr>\n",
       "    <tr>\n",
       "      <th>4801</th>\n",
       "      <td>2012.0</td>\n",
       "      <td>0</td>\n",
       "    </tr>\n",
       "    <tr>\n",
       "      <th>4802</th>\n",
       "      <td>2005.0</td>\n",
       "      <td>0</td>\n",
       "    </tr>\n",
       "  </tbody>\n",
       "</table>\n",
       "<p>4803 rows × 2 columns</p>\n",
       "</div>"
      ],
      "text/plain": [
       "      release_year      profit\n",
       "0           2009.0  2550965087\n",
       "1           2007.0   661000000\n",
       "2           2015.0   635674609\n",
       "3           2012.0   834939099\n",
       "4           2012.0    24139100\n",
       "...            ...         ...\n",
       "4798        1992.0     1820920\n",
       "4799        2011.0       -9000\n",
       "4800        2013.0           0\n",
       "4801        2012.0           0\n",
       "4802        2005.0           0\n",
       "\n",
       "[4803 rows x 2 columns]"
      ]
     },
     "execution_count": 52,
     "metadata": {},
     "output_type": "execute_result"
    }
   ],
   "source": [
    "# Q3.3\n",
    "movies[[\"release_year\", \"profit\"]]"
   ]
  },
  {
   "cell_type": "code",
   "execution_count": 50,
   "id": "former-result",
   "metadata": {},
   "outputs": [
    {
     "data": {
      "text/plain": [
       "<AxesSubplot:xlabel='release_year'>"
      ]
     },
     "execution_count": 50,
     "metadata": {},
     "output_type": "execute_result"
    },
    {
     "data": {
      "image/png": "[encoded data removed]",
      "text/plain": [
       "<Figure size 432x288 with 1 Axes>"
      ]
     },
     "metadata": {
      "needs_background": "light"
     },
     "output_type": "display_data"
    }
   ],
   "source": [
    "movies.groupby(\"release_year\")[\"profit\"].sum().plot()"
   ]
  },
  {
   "cell_type": "markdown",
   "id": "comparative-writer",
   "metadata": {},
   "source": [
    "## Q4"
   ]
  },
  {
   "cell_type": "code",
   "execution_count": 56,
   "id": "aware-symposium",
   "metadata": {},
   "outputs": [
    {
     "data": {
      "text/plain": [
       "'Avatar'"
      ]
     },
     "execution_count": 56,
     "metadata": {},
     "output_type": "execute_result"
    }
   ],
   "source": [
    "movies.sort_values(\"profit\", ascending=False).loc[0, \"original_title\"]"
   ]
  },
  {
   "cell_type": "markdown",
   "id": "congressional-western",
   "metadata": {},
   "source": [
    "## Q5\n",
    "\n",
    "### Trouver le mot le plus présent dans les synopsis de films"
   ]
  },
  {
   "cell_type": "markdown",
   "id": "illegal-extreme",
   "metadata": {},
   "source": [
    "![Method q5](q5.jpg \"\")"
   ]
  },
  {
   "cell_type": "code",
   "execution_count": 61,
   "id": "christian-arcade",
   "metadata": {},
   "outputs": [],
   "source": [
    "# from collections import Counter"
   ]
  },
  {
   "cell_type": "code",
   "execution_count": 60,
   "id": "fundamental-restoration",
   "metadata": {},
   "outputs": [
    {
     "data": {
      "text/plain": [
       "0       In the 22nd century, a paraplegic Marine is di...\n",
       "1       Captain Barbossa, long believed to be dead, ha...\n",
       "2       A cryptic message from Bond’s past sends him o...\n",
       "3       Following the death of District Attorney Harve...\n",
       "4       John Carter is a war-weary, former military ca...\n",
       "                              ...                        \n",
       "4798    El Mariachi just wants to play his guitar and ...\n",
       "4799    A newlywed couple's honeymoon is upended by th...\n",
       "4800    \"Signed, Sealed, Delivered\" introduces a dedic...\n",
       "4801    When ambitious New York attorney Sam is sent t...\n",
       "4802    Ever since the second grade when he first saw ...\n",
       "Name: overview, Length: 4803, dtype: object"
      ]
     },
     "execution_count": 60,
     "metadata": {},
     "output_type": "execute_result"
    }
   ],
   "source": [
    "movies[\"overview\"]"
   ]
  },
  {
   "cell_type": "code",
   "execution_count": 62,
   "id": "lyric-conversation",
   "metadata": {},
   "outputs": [
    {
     "data": {
      "text/plain": [
       "0       [In, the, 22nd, century,, a, paraplegic, Marin...\n",
       "1       [Captain, Barbossa,, long, believed, to, be, d...\n",
       "2       [A, cryptic, message, from, Bond’s, past, send...\n",
       "3       [Following, the, death, of, District, Attorney...\n",
       "4       [John, Carter, is, a, war-weary,, former, mili...\n",
       "                              ...                        \n",
       "4798    [El, Mariachi, just, wants, to, play, his, gui...\n",
       "4799    [A, newlywed, couple's, honeymoon, is, upended...\n",
       "4800    [\"Signed,, Sealed,, Delivered\", introduces, a,...\n",
       "4801    [When, ambitious, New, York, attorney, Sam, is...\n",
       "4802    [Ever, since, the, second, grade, when, he, fi...\n",
       "Name: overview, Length: 4803, dtype: object"
      ]
     },
     "execution_count": 62,
     "metadata": {},
     "output_type": "execute_result"
    }
   ],
   "source": [
    "movies[\"overview\"].str.split(\" \")"
   ]
  },
  {
   "cell_type": "code",
   "execution_count": 71,
   "id": "italian-artwork",
   "metadata": {},
   "outputs": [
    {
     "data": {
      "text/plain": [
       "0       {'In': 1, 'the': 2, '22nd': 1, 'century,': 1, ...\n",
       "1       {'Captain': 1, 'Barbossa,': 1, 'long': 1, 'bel...\n",
       "2       {'A': 1, 'cryptic': 1, 'message': 1, 'from': 1...\n",
       "3       {'Following': 1, 'the': 5, 'death': 1, 'of': 1...\n",
       "4       {'John': 1, 'Carter': 2, 'is': 1, 'a': 2, 'war...\n",
       "                              ...                        \n",
       "4798    {'El': 2, 'Mariachi': 2, 'just': 1, 'wants': 1...\n",
       "4799    {'A': 1, 'newlywed': 1, 'couple's': 1, 'honeym...\n",
       "4800    {'\"Signed,': 1, 'Sealed,': 1, 'Delivered\"': 1,...\n",
       "4801    {'When': 1, 'ambitious': 1, 'New': 1, 'York': ...\n",
       "4802    {'Ever': 1, 'since': 1, 'the': 1, 'second': 1,...\n",
       "Name: overview, Length: 4803, dtype: object"
      ]
     },
     "execution_count": 71,
     "metadata": {},
     "output_type": "execute_result"
    }
   ],
   "source": [
    "from collections import Counter\n",
    "(\n",
    "    movies[\"overview\"]\n",
    "        .fillna(\"\")\n",
    "        .str.split(\" \")\n",
    "        .apply(lambda x: Counter(x))\n",
    ")"
   ]
  },
  {
   "cell_type": "code",
   "execution_count": 83,
   "id": "recognized-integral",
   "metadata": {},
   "outputs": [],
   "source": [
    "from collections import Counter\n",
    "all_counts = (\n",
    "    movies[\"overview\"]\n",
    "        .fillna(\"\")\n",
    "        .str.split(\" \")\n",
    "        .apply(lambda x: Counter(x))\n",
    "        .apply(lambda x: x.items())\n",
    ")"
   ]
  },
  {
   "cell_type": "code",
   "execution_count": 84,
   "id": "hindu-plane",
   "metadata": {},
   "outputs": [],
   "source": [
    "result = pd.DataFrame()\n",
    "result[\"word\"] = all_counts.explode().apply(lambda x: x[0])\n",
    "result[\"count\"] = all_counts.explode().apply(lambda x: x[1])"
   ]
  },
  {
   "cell_type": "code",
   "execution_count": 88,
   "id": "extensive-prescription",
   "metadata": {},
   "outputs": [],
   "source": [
    "result[\"word\"] = result[\"word\"].str.lower()"
   ]
  },
  {
   "cell_type": "code",
   "execution_count": 91,
   "id": "local-zealand",
   "metadata": {},
   "outputs": [
    {
     "data": {
      "text/plain": [
       "word\n",
       "the          13779\n",
       "a            10430\n",
       "to            7912\n",
       "and           7328\n",
       "of            6855\n",
       "             ...  \n",
       "guglione,        1\n",
       "guffman\"         1\n",
       "guessing         1\n",
       "guess:           1\n",
       "−                1\n",
       "Name: count, Length: 34283, dtype: int64"
      ]
     },
     "execution_count": 91,
     "metadata": {},
     "output_type": "execute_result"
    }
   ],
   "source": [
    "result.groupby(\"word\")[\"count\"].sum().sort_values(ascending=False)"
   ]
  },
  {
   "cell_type": "code",
   "execution_count": null,
   "id": "posted-recorder",
   "metadata": {},
   "outputs": [],
   "source": []
  }
 ],
 "metadata": {
  "kernelspec": {
   "display_name": "Python 3",
   "language": "python",
   "name": "python3"
  },
  "language_info": {
   "codemirror_mode": {
    "name": "ipython",
    "version": 3
   },
   "file_extension": ".py",
   "mimetype": "text/x-python",
   "name": "python",
   "nbconvert_exporter": "python",
   "pygments_lexer": "ipython3",
   "version": "3.8.7"
  }
 },
 "nbformat": 4,
 "nbformat_minor": 5
}
