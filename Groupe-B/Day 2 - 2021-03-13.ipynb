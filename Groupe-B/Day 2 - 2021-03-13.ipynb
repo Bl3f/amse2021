{
 "cells": [
  {
   "cell_type": "markdown",
   "id": "downtown-sector",
   "metadata": {},
   "source": [
    "## fruits.csv\n",
    "\n",
    "**Question: ouvrir le fichier `fruits.csv` en Python et donner la somme des prix des fruits**"
   ]
  },
  {
   "cell_type": "code",
   "execution_count": 1,
   "id": "commercial-desire",
   "metadata": {},
   "outputs": [],
   "source": [
    "with open(\"fruits.csv\", \"r\") as my_file:\n",
    "    content = my_file.read()"
   ]
  },
  {
   "cell_type": "code",
   "execution_count": 2,
   "id": "exposed-reputation",
   "metadata": {},
   "outputs": [
    {
     "data": {
      "text/plain": [
       "'name,price,color\\nbanane,3,jaune\\nkiwi,2,vert\\npomme,1,rouge'"
      ]
     },
     "execution_count": 2,
     "metadata": {},
     "output_type": "execute_result"
    }
   ],
   "source": [
    "content"
   ]
  },
  {
   "cell_type": "code",
   "execution_count": 3,
   "id": "expressed-draft",
   "metadata": {},
   "outputs": [
    {
     "data": {
      "text/plain": [
       "['name,price,color', 'banane,3,jaune', 'kiwi,2,vert', 'pomme,1,rouge']"
      ]
     },
     "execution_count": 3,
     "metadata": {},
     "output_type": "execute_result"
    }
   ],
   "source": [
    "content.split(\"\\n\")"
   ]
  },
  {
   "cell_type": "code",
   "execution_count": 12,
   "id": "dutch-gross",
   "metadata": {},
   "outputs": [
    {
     "name": "stdout",
     "output_type": "stream",
     "text": [
      "ligne: 3\n",
      "ligne: 2\n",
      "ligne: 1\n"
     ]
    }
   ],
   "source": [
    "somme = 0\n",
    "for row in content.split(\"\\n\")[1:]:\n",
    "    price = row.split(\",\")[1]\n",
    "    print(\"ligne:\", price)\n",
    "    \n",
    "    somme = somme + int(price)"
   ]
  },
  {
   "cell_type": "code",
   "execution_count": 13,
   "id": "commercial-christianity",
   "metadata": {},
   "outputs": [
    {
     "data": {
      "text/plain": [
       "6"
      ]
     },
     "execution_count": 13,
     "metadata": {},
     "output_type": "execute_result"
    }
   ],
   "source": [
    "somme"
   ]
  },
  {
   "cell_type": "code",
   "execution_count": 14,
   "id": "running-cuisine",
   "metadata": {},
   "outputs": [],
   "source": [
    "somme = 0\n",
    "for row in content.split(\"\\n\")[1:]:\n",
    "    price = row.split(\",\")[1]\n",
    "    somme += int(price)"
   ]
  },
  {
   "cell_type": "code",
   "execution_count": 15,
   "id": "described-obligation",
   "metadata": {},
   "outputs": [
    {
     "data": {
      "text/plain": [
       "6"
      ]
     },
     "execution_count": 15,
     "metadata": {},
     "output_type": "execute_result"
    }
   ],
   "source": [
    "sum([int(row.split(\",\")[1]) for row in content.split(\"\\n\")[1:]])"
   ]
  },
  {
   "cell_type": "code",
   "execution_count": 5,
   "id": "taken-treatment",
   "metadata": {},
   "outputs": [],
   "source": [
    "import pandas as pd\n",
    "\n",
    "df = pd.read_csv(\"fruits.csv\")"
   ]
  },
  {
   "cell_type": "code",
   "execution_count": 8,
   "id": "horizontal-industry",
   "metadata": {},
   "outputs": [
    {
     "data": {
      "text/plain": [
       "6"
      ]
     },
     "execution_count": 8,
     "metadata": {},
     "output_type": "execute_result"
    }
   ],
   "source": [
    "df[\"price\"].sum()"
   ]
  },
  {
   "cell_type": "markdown",
   "id": "bacterial-namibia",
   "metadata": {},
   "source": [
    "# 4. Write a “Rock-Paper-Scissors” game and play against the computer"
   ]
  },
  {
   "cell_type": "code",
   "execution_count": 20,
   "id": "typical-classification",
   "metadata": {},
   "outputs": [],
   "source": [
    "import random\n",
    "\n",
    "def play():\n",
    "    choices = [\"rock\", \"paper\", \"scissors\"]\n",
    "    human_choice = input(f\"{', '.join(choices)}?\")\n",
    "    \n",
    "    # La logique du jeu\n",
    "    computer_choice = random.choice(choices)\n",
    "    \n",
    "    score = choices.index(human_choice) - choices.index(computer_choice)\n",
    "    \n",
    "    if score % 3 == 1:\n",
    "        print(f\"You win! ({human_choice} vs {computer_choice})\")\n",
    "    if score % 3 == 2:\n",
    "        print(f\"You loose! ({human_choice} vs {computer_choice})\")\n",
    "    if score == 0:\n",
    "        print(f\"Draw! ({human_choice} vs {computer_choice})\")\n",
    "    \n",
    "    restart()\n",
    "    \n",
    "def restart():\n",
    "    continuing = input(\"Do you want to continue? (y/n)\")\n",
    "    \n",
    "    if continuing == \"y\":\n",
    "        play()"
   ]
  },
  {
   "cell_type": "code",
   "execution_count": null,
   "id": "racial-handle",
   "metadata": {},
   "outputs": [],
   "source": [
    "R = 0 P = 1 S = 2\n",
    "\n",
    "R - P = -1 L > -1 % 3 = 2\n",
    "R - S = -2 W > -2 % 3 = 1\n",
    "P - S = -1 L \n",
    "P - R = 1 W > 1 % 3 = 1\n",
    "S - R = 2 L > 2 % 3 = 2\n",
    "S - P = 1 W\n",
    "\n"
   ]
  },
  {
   "cell_type": "code",
   "execution_count": 21,
   "id": "ahead-welsh",
   "metadata": {},
   "outputs": [
    {
     "name": "stdout",
     "output_type": "stream",
     "text": [
      "rock, paper, scissors?rock\n",
      "You win! (rock vs scissors)\n",
      "Do you want to continue? (y/n)y\n",
      "rock, paper, scissors?paper\n",
      "You win! (paper vs rock)\n",
      "Do you want to continue? (y/n)y\n",
      "rock, paper, scissors?rock\n",
      "Draw! (rock vs rock)\n",
      "Do you want to continue? (y/n)y\n",
      "rock, paper, scissors?paper\n",
      "You win! (paper vs rock)\n",
      "Do you want to continue? (y/n)n\n"
     ]
    }
   ],
   "source": [
    "play()"
   ]
  },
  {
   "cell_type": "code",
   "execution_count": 24,
   "id": "smooth-moses",
   "metadata": {},
   "outputs": [
    {
     "name": "stdout",
     "output_type": "stream",
     "text": [
      "Do you wanna play Rock-Paper-Scissors? (y/n)y\n",
      "Do you wanna play Rock-Paper-Scissors? (y/n)y\n",
      "Do you wanna play Rock-Paper-Scissors? (y/n)y\n",
      "Do you wanna play Rock-Paper-Scissors? (y/n)y\n",
      "Do you wanna play Rock-Paper-Scissors? (y/n)y\n",
      "Do you wanna play Rock-Paper-Scissors? (y/n)y\n",
      "Do you wanna play Rock-Paper-Scissors? (y/n)y\n",
      "Do you wanna play Rock-Paper-Scissors? (y/n)y\n",
      "Do you wanna play Rock-Paper-Scissors? (y/n)y\n",
      "Do you wanna play Rock-Paper-Scissors? (y/n)yzzdfafzef\n"
     ]
    }
   ],
   "source": [
    "while True:\n",
    "    playing = input(\"Do you wanna play Rock-Paper-Scissors? (y/n)\")\n",
    "    if playing != \"y\":\n",
    "        break"
   ]
  },
  {
   "cell_type": "markdown",
   "id": "electric-runner",
   "metadata": {},
   "source": [
    "# 2. Write a function that compares a given date (YYYY-MM-DD) with the present date and returns true if superior and false if not"
   ]
  },
  {
   "cell_type": "code",
   "execution_count": 31,
   "id": "treated-victory",
   "metadata": {},
   "outputs": [],
   "source": [
    "from datetime import datetime\n",
    "\n",
    "def compare(date):\n",
    "    today = datetime.now()\n",
    "    \n",
    "    return datetime.strptime(date, \"%Y-%m-%d\") > today"
   ]
  },
  {
   "cell_type": "code",
   "execution_count": 33,
   "id": "skilled-thinking",
   "metadata": {},
   "outputs": [
    {
     "data": {
      "text/plain": [
       "False"
      ]
     },
     "execution_count": 33,
     "metadata": {},
     "output_type": "execute_result"
    }
   ],
   "source": [
    "compare(\"2020-01-01\")  # doit renvoyer True ou False"
   ]
  },
  {
   "cell_type": "code",
   "execution_count": 34,
   "id": "mighty-parameter",
   "metadata": {},
   "outputs": [
    {
     "data": {
      "text/plain": [
       "True"
      ]
     },
     "execution_count": 34,
     "metadata": {},
     "output_type": "execute_result"
    }
   ],
   "source": [
    "compare(\"2022-01-01\")  # doit renvoyer True ou False"
   ]
  },
  {
   "cell_type": "code",
   "execution_count": 35,
   "id": "ready-grenada",
   "metadata": {},
   "outputs": [],
   "source": [
    "from datetime import datetime\n",
    "\n",
    "def compare_2(date):\n",
    "    today = datetime.now()\n",
    "    \n",
    "    return date > today.strftime(\"%Y-%m-%d\")"
   ]
  },
  {
   "cell_type": "code",
   "execution_count": 36,
   "id": "affecting-columbus",
   "metadata": {},
   "outputs": [
    {
     "data": {
      "text/plain": [
       "False"
      ]
     },
     "execution_count": 36,
     "metadata": {},
     "output_type": "execute_result"
    }
   ],
   "source": [
    "compare_2(\"2020-01-01\")  # doit renvoyer True ou False"
   ]
  },
  {
   "cell_type": "markdown",
   "id": "short-madison",
   "metadata": {},
   "source": [
    "If we list all the natural numbers below 10 that are multiples of 3 or 5, we get 3, 5, 6 and 9. The sum of these multiples is 23.\n",
    "\n",
    "**Find the sum of all the multiples of 3 or 5 below 1000.**"
   ]
  },
  {
   "cell_type": "code",
   "execution_count": 50,
   "id": "matched-field",
   "metadata": {},
   "outputs": [],
   "source": [
    "somme = 0\n",
    "for i in range(1000):\n",
    "    if i % 3 == 0 or i % 5 == 0:\n",
    "        somme += i"
   ]
  },
  {
   "cell_type": "code",
   "execution_count": 51,
   "id": "tested-verse",
   "metadata": {},
   "outputs": [
    {
     "data": {
      "text/plain": [
       "233168"
      ]
     },
     "execution_count": 51,
     "metadata": {},
     "output_type": "execute_result"
    }
   ],
   "source": [
    "somme"
   ]
  },
  {
   "cell_type": "code",
   "execution_count": 54,
   "id": "secure-matrix",
   "metadata": {},
   "outputs": [
    {
     "data": {
      "text/plain": [
       "233168"
      ]
     },
     "execution_count": 54,
     "metadata": {},
     "output_type": "execute_result"
    }
   ],
   "source": [
    "sum([i for i in range(1000) if i % 3 == 0 or i % 5 == 0])"
   ]
  },
  {
   "cell_type": "code",
   "execution_count": null,
   "id": "basic-train",
   "metadata": {},
   "outputs": [],
   "source": [
    "somme = somme + i"
   ]
  },
  {
   "cell_type": "code",
   "execution_count": 52,
   "id": "forbidden-timer",
   "metadata": {},
   "outputs": [],
   "source": [
    "i += 1 # équivaut à i = i + 1"
   ]
  },
  {
   "cell_type": "markdown",
   "id": "prime-return",
   "metadata": {},
   "source": [
    "A palindromic number reads the same both ways. The largest palindrome made from the product of two 2-digit numbers is 9009 = 91 × 99.\n",
    "\n",
    "**Find the largest palindrome made from the product of two 3-digit numbers.**"
   ]
  },
  {
   "cell_type": "code",
   "execution_count": 55,
   "id": "patient-mission",
   "metadata": {},
   "outputs": [],
   "source": [
    "b = \"christophe\""
   ]
  },
  {
   "cell_type": "code",
   "execution_count": 56,
   "id": "unauthorized-programming",
   "metadata": {},
   "outputs": [
    {
     "data": {
      "text/plain": [
       "['c', 'e', 'h', 'h', 'i', 'o', 'p', 'r', 's', 't']"
      ]
     },
     "execution_count": 56,
     "metadata": {},
     "output_type": "execute_result"
    }
   ],
   "source": [
    "sorted(b)"
   ]
  },
  {
   "cell_type": "code",
   "execution_count": 80,
   "id": "hearing-assumption",
   "metadata": {},
   "outputs": [],
   "source": [
    "biggest = 0\n",
    "i_max, j_max = 0, 0\n",
    "for i in range(99, 1000):\n",
    "    for j in range(99, 1000):\n",
    "        product = str(i * j)\n",
    "        if product == product[::-1] and int(product) > biggest:\n",
    "            biggest = int(product)\n",
    "            i_max, j_max = i, j"
   ]
  },
  {
   "cell_type": "code",
   "execution_count": 81,
   "id": "decimal-leader",
   "metadata": {},
   "outputs": [
    {
     "data": {
      "text/plain": [
       "(906609, 913, 993)"
      ]
     },
     "execution_count": 81,
     "metadata": {},
     "output_type": "execute_result"
    }
   ],
   "source": [
    "biggest, i_max, j_max"
   ]
  },
  {
   "cell_type": "code",
   "execution_count": 84,
   "id": "taken-congo",
   "metadata": {},
   "outputs": [
    {
     "data": {
      "text/plain": [
       "'1089'"
      ]
     },
     "execution_count": 84,
     "metadata": {},
     "output_type": "execute_result"
    }
   ],
   "source": [
    "\"9801\"[::-1]"
   ]
  },
  {
   "cell_type": "code",
   "execution_count": 85,
   "id": "strange-airfare",
   "metadata": {},
   "outputs": [],
   "source": [
    "d = {\"key\": 5}"
   ]
  },
  {
   "cell_type": "code",
   "execution_count": 86,
   "id": "sensitive-sampling",
   "metadata": {},
   "outputs": [],
   "source": [
    "d = {\"key\": [8, 9, 1]}"
   ]
  },
  {
   "cell_type": "code",
   "execution_count": null,
   "id": "understanding-commander",
   "metadata": {},
   "outputs": [],
   "source": []
  }
 ],
 "metadata": {
  "kernelspec": {
   "display_name": "Python 3",
   "language": "python",
   "name": "python3"
  },
  "language_info": {
   "codemirror_mode": {
    "name": "ipython",
    "version": 3
   },
   "file_extension": ".py",
   "mimetype": "text/x-python",
   "name": "python",
   "nbconvert_exporter": "python",
   "pygments_lexer": "ipython3",
   "version": "3.8.5"
  }
 },
 "nbformat": 4,
 "nbformat_minor": 5
}
