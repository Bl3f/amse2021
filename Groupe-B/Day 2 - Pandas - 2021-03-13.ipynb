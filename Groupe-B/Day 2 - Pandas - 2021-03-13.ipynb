{
 "cells": [
  {
   "cell_type": "code",
   "execution_count": 3,
   "id": "previous-divorce",
   "metadata": {},
   "outputs": [],
   "source": [
    "import pandas as pd\n",
    "import numpy as np"
   ]
  },
  {
   "cell_type": "code",
   "execution_count": 58,
   "id": "stuck-reynolds",
   "metadata": {},
   "outputs": [],
   "source": [
    "s = pd.Series([0.2, 0.4, 0.8, 1.5])"
   ]
  },
  {
   "cell_type": "code",
   "execution_count": 59,
   "id": "champion-witch",
   "metadata": {},
   "outputs": [
    {
     "data": {
      "text/plain": [
       "0    0.2\n",
       "1    0.4\n",
       "2    0.8\n",
       "3    1.5\n",
       "dtype: float64"
      ]
     },
     "execution_count": 59,
     "metadata": {},
     "output_type": "execute_result"
    }
   ],
   "source": [
    "s"
   ]
  },
  {
   "cell_type": "code",
   "execution_count": 60,
   "id": "alert-flavor",
   "metadata": {},
   "outputs": [
    {
     "data": {
      "text/plain": [
       "0.2"
      ]
     },
     "execution_count": 60,
     "metadata": {},
     "output_type": "execute_result"
    }
   ],
   "source": [
    "s[0]"
   ]
  },
  {
   "cell_type": "code",
   "execution_count": 61,
   "id": "dirty-stability",
   "metadata": {},
   "outputs": [
    {
     "data": {
      "text/plain": [
       "0    0.2\n",
       "1    0.4\n",
       "dtype: float64"
      ]
     },
     "execution_count": 61,
     "metadata": {},
     "output_type": "execute_result"
    }
   ],
   "source": [
    "s[0:2]"
   ]
  },
  {
   "cell_type": "code",
   "execution_count": 62,
   "id": "included-gnome",
   "metadata": {},
   "outputs": [
    {
     "data": {
      "text/plain": [
       "RangeIndex(start=0, stop=4, step=1)"
      ]
     },
     "execution_count": 62,
     "metadata": {},
     "output_type": "execute_result"
    }
   ],
   "source": [
    "s.index"
   ]
  },
  {
   "cell_type": "code",
   "execution_count": 63,
   "id": "deluxe-layer",
   "metadata": {},
   "outputs": [
    {
     "data": {
      "text/plain": [
       "array([0.2, 0.4, 0.8, 1.5])"
      ]
     },
     "execution_count": 63,
     "metadata": {},
     "output_type": "execute_result"
    }
   ],
   "source": [
    "s.values"
   ]
  },
  {
   "cell_type": "code",
   "execution_count": 64,
   "id": "tired-homework",
   "metadata": {},
   "outputs": [],
   "source": [
    "s1 = pd.Series([1, 2, 3, 4], index=[\"un\", \"deux\", \"trois\", \"quatre\"])"
   ]
  },
  {
   "cell_type": "code",
   "execution_count": 65,
   "id": "cellular-innocent",
   "metadata": {},
   "outputs": [
    {
     "data": {
      "text/plain": [
       "3"
      ]
     },
     "execution_count": 65,
     "metadata": {},
     "output_type": "execute_result"
    }
   ],
   "source": [
    "s1[\"trois\"]"
   ]
  },
  {
   "cell_type": "code",
   "execution_count": 66,
   "id": "challenging-lindsay",
   "metadata": {},
   "outputs": [
    {
     "data": {
      "text/plain": [
       "trois     3\n",
       "quatre    4\n",
       "dtype: int64"
      ]
     },
     "execution_count": 66,
     "metadata": {},
     "output_type": "execute_result"
    }
   ],
   "source": [
    "s1[[\"trois\", \"quatre\"]]  # correspond au SELECT"
   ]
  },
  {
   "cell_type": "code",
   "execution_count": 67,
   "id": "adolescent-council",
   "metadata": {},
   "outputs": [
    {
     "data": {
      "text/plain": [
       "un      1\n",
       "deux    2\n",
       "dtype: int64"
      ]
     },
     "execution_count": 67,
     "metadata": {},
     "output_type": "execute_result"
    }
   ],
   "source": [
    "s1[\"un\":\"deux\"]"
   ]
  },
  {
   "cell_type": "code",
   "execution_count": 68,
   "id": "postal-canvas",
   "metadata": {},
   "outputs": [],
   "source": [
    "s2 = pd.Series({\"iris\": \"bleu\", \"tournesol\": \"rouge\", \"rose\": \"rose\"})"
   ]
  },
  {
   "cell_type": "code",
   "execution_count": 69,
   "id": "suspended-pavilion",
   "metadata": {},
   "outputs": [
    {
     "data": {
      "text/plain": [
       "iris          bleu\n",
       "tournesol    rouge\n",
       "rose          rose\n",
       "dtype: object"
      ]
     },
     "execution_count": 69,
     "metadata": {},
     "output_type": "execute_result"
    }
   ],
   "source": [
    "s2"
   ]
  },
  {
   "cell_type": "code",
   "execution_count": 70,
   "id": "absolute-conducting",
   "metadata": {},
   "outputs": [
    {
     "data": {
      "text/plain": [
       "un        1\n",
       "deux      2\n",
       "trois     3\n",
       "quatre    4\n",
       "dtype: int64"
      ]
     },
     "execution_count": 70,
     "metadata": {},
     "output_type": "execute_result"
    }
   ],
   "source": [
    "s1"
   ]
  },
  {
   "cell_type": "code",
   "execution_count": 71,
   "id": "composed-emphasis",
   "metadata": {},
   "outputs": [
    {
     "data": {
      "text/plain": [
       "un         True\n",
       "deux       True\n",
       "trois     False\n",
       "quatre    False\n",
       "dtype: bool"
      ]
     },
     "execution_count": 71,
     "metadata": {},
     "output_type": "execute_result"
    }
   ],
   "source": [
    "s1 < 3"
   ]
  },
  {
   "cell_type": "code",
   "execution_count": 72,
   "id": "legal-frank",
   "metadata": {},
   "outputs": [
    {
     "data": {
      "text/plain": [
       "un      1\n",
       "deux    2\n",
       "dtype: int64"
      ]
     },
     "execution_count": 72,
     "metadata": {},
     "output_type": "execute_result"
    }
   ],
   "source": [
    "s1[s1 < 3]  # équivaut au WHERE en SQL"
   ]
  },
  {
   "cell_type": "code",
   "execution_count": 73,
   "id": "attached-hospital",
   "metadata": {},
   "outputs": [
    {
     "data": {
      "text/plain": [
       "un    1\n",
       "dtype: int64"
      ]
     },
     "execution_count": 73,
     "metadata": {},
     "output_type": "execute_result"
    }
   ],
   "source": [
    "s1[[\"un\", \"deux\", \"trois\"]][s1 < 2]"
   ]
  },
  {
   "cell_type": "code",
   "execution_count": 74,
   "id": "alone-organ",
   "metadata": {},
   "outputs": [
    {
     "data": {
      "text/plain": [
       "un        2\n",
       "deux      4\n",
       "trois     6\n",
       "quatre    8\n",
       "dtype: int64"
      ]
     },
     "execution_count": 74,
     "metadata": {},
     "output_type": "execute_result"
    }
   ],
   "source": [
    "s1 * 2"
   ]
  },
  {
   "cell_type": "code",
   "execution_count": 75,
   "id": "understanding-nashville",
   "metadata": {},
   "outputs": [
    {
     "data": {
      "text/plain": [
       "un         2.718282\n",
       "deux       7.389056\n",
       "trois     20.085537\n",
       "quatre    54.598150\n",
       "dtype: float64"
      ]
     },
     "execution_count": 75,
     "metadata": {},
     "output_type": "execute_result"
    }
   ],
   "source": [
    "np.exp(s1)"
   ]
  },
  {
   "cell_type": "code",
   "execution_count": 76,
   "id": "impressed-retail",
   "metadata": {},
   "outputs": [
    {
     "data": {
      "text/plain": [
       "False"
      ]
     },
     "execution_count": 76,
     "metadata": {},
     "output_type": "execute_result"
    }
   ],
   "source": [
    "\"dix\" in s1"
   ]
  },
  {
   "cell_type": "code",
   "execution_count": 77,
   "id": "altered-ireland",
   "metadata": {},
   "outputs": [
    {
     "data": {
      "text/plain": [
       "True"
      ]
     },
     "execution_count": 77,
     "metadata": {},
     "output_type": "execute_result"
    }
   ],
   "source": [
    "\"trois\" in s1"
   ]
  },
  {
   "cell_type": "code",
   "execution_count": 78,
   "id": "approved-trash",
   "metadata": {},
   "outputs": [
    {
     "data": {
      "text/plain": [
       "un        1\n",
       "deux      2\n",
       "trois     3\n",
       "quatre    4\n",
       "dtype: int64"
      ]
     },
     "execution_count": 78,
     "metadata": {},
     "output_type": "execute_result"
    }
   ],
   "source": [
    "s1"
   ]
  },
  {
   "cell_type": "code",
   "execution_count": 79,
   "id": "israeli-payday",
   "metadata": {},
   "outputs": [],
   "source": [
    "s3 = pd.Series({\"un\": 5, \"deux\": 0, \"dix\": 10})"
   ]
  },
  {
   "cell_type": "code",
   "execution_count": 80,
   "id": "specialized-verification",
   "metadata": {},
   "outputs": [
    {
     "data": {
      "text/plain": [
       "un       5\n",
       "deux     0\n",
       "dix     10\n",
       "dtype: int64"
      ]
     },
     "execution_count": 80,
     "metadata": {},
     "output_type": "execute_result"
    }
   ],
   "source": [
    "s3"
   ]
  },
  {
   "cell_type": "code",
   "execution_count": 81,
   "id": "special-architect",
   "metadata": {},
   "outputs": [],
   "source": [
    "s4 = s1 + s3"
   ]
  },
  {
   "cell_type": "code",
   "execution_count": 82,
   "id": "intimate-stereo",
   "metadata": {},
   "outputs": [
    {
     "data": {
      "text/plain": [
       "deux      2.0\n",
       "dix       NaN\n",
       "quatre    NaN\n",
       "trois     NaN\n",
       "un        6.0\n",
       "dtype: float64"
      ]
     },
     "execution_count": 82,
     "metadata": {},
     "output_type": "execute_result"
    }
   ],
   "source": [
    "s4"
   ]
  },
  {
   "cell_type": "code",
   "execution_count": 83,
   "id": "enabling-morris",
   "metadata": {},
   "outputs": [],
   "source": [
    "# NaN ça veut dire \"Not A Number\""
   ]
  },
  {
   "cell_type": "code",
   "execution_count": 113,
   "id": "numerical-transformation",
   "metadata": {},
   "outputs": [
    {
     "data": {
      "text/plain": [
       "Series([], dtype: float64)"
      ]
     },
     "execution_count": 113,
     "metadata": {},
     "output_type": "execute_result"
    }
   ],
   "source": [
    "s4[s4.isnull()]"
   ]
  },
  {
   "cell_type": "code",
   "execution_count": 114,
   "id": "reliable-train",
   "metadata": {},
   "outputs": [
    {
     "data": {
      "text/plain": [
       "deux    2.0\n",
       "un      6.0\n",
       "dtype: float64"
      ]
     },
     "execution_count": 114,
     "metadata": {},
     "output_type": "execute_result"
    }
   ],
   "source": [
    "s4[s4.notnull()]"
   ]
  },
  {
   "cell_type": "code",
   "execution_count": 115,
   "id": "compound-register",
   "metadata": {},
   "outputs": [],
   "source": [
    "s4.dropna(inplace=True)"
   ]
  },
  {
   "cell_type": "code",
   "execution_count": 116,
   "id": "encouraging-schema",
   "metadata": {},
   "outputs": [
    {
     "data": {
      "text/plain": [
       "deux    2.0\n",
       "un      6.0\n",
       "dtype: float64"
      ]
     },
     "execution_count": 116,
     "metadata": {},
     "output_type": "execute_result"
    }
   ],
   "source": [
    "s4"
   ]
  },
  {
   "cell_type": "code",
   "execution_count": 117,
   "id": "right-deposit",
   "metadata": {},
   "outputs": [],
   "source": [
    "mask = (s1 > 2) | (s1 < 2)\n",
    "# \"|\" (operateur 'pipe' c'est un \"OU\" logique)\n",
    "# \"&\" (ampersand / esperluette c'est un \"ET\" logique)\n",
    "# > < <= >= != == ; vecteur.isin([]) ; \"\" in []"
   ]
  },
  {
   "cell_type": "code",
   "execution_count": 118,
   "id": "thorough-durham",
   "metadata": {},
   "outputs": [
    {
     "data": {
      "text/plain": [
       "un        1\n",
       "trois     3\n",
       "quatre    4\n",
       "dtype: int64"
      ]
     },
     "execution_count": 118,
     "metadata": {},
     "output_type": "execute_result"
    }
   ],
   "source": [
    "s1[mask]"
   ]
  },
  {
   "cell_type": "markdown",
   "id": "directed-start",
   "metadata": {},
   "source": [
    "## DataFrame"
   ]
  },
  {
   "cell_type": "code",
   "execution_count": 119,
   "id": "junior-schema",
   "metadata": {},
   "outputs": [],
   "source": [
    "data = {\n",
    "    \"city\": [\"Paris\", \"Berlin\", \"Marseille\", \"Rome\"],\n",
    "    \"population\": [3000000, 3500000, 1500000, 2800000],\n",
    "    \"area\": [105000, 819000, 240000, 1285000],\n",
    "}"
   ]
  },
  {
   "cell_type": "code",
   "execution_count": 120,
   "id": "special-authentication",
   "metadata": {},
   "outputs": [],
   "source": [
    "df = pd.DataFrame(data)"
   ]
  },
  {
   "cell_type": "code",
   "execution_count": 121,
   "id": "divine-amsterdam",
   "metadata": {},
   "outputs": [
    {
     "data": {
      "text/html": [
       "<div>\n",
       "<style scoped>\n",
       "    .dataframe tbody tr th:only-of-type {\n",
       "        vertical-align: middle;\n",
       "    }\n",
       "\n",
       "    .dataframe tbody tr th {\n",
       "        vertical-align: top;\n",
       "    }\n",
       "\n",
       "    .dataframe thead th {\n",
       "        text-align: right;\n",
       "    }\n",
       "</style>\n",
       "<table border=\"1\" class=\"dataframe\">\n",
       "  <thead>\n",
       "    <tr style=\"text-align: right;\">\n",
       "      <th></th>\n",
       "      <th>city</th>\n",
       "      <th>population</th>\n",
       "      <th>area</th>\n",
       "    </tr>\n",
       "  </thead>\n",
       "  <tbody>\n",
       "    <tr>\n",
       "      <th>0</th>\n",
       "      <td>Paris</td>\n",
       "      <td>3000000</td>\n",
       "      <td>105000</td>\n",
       "    </tr>\n",
       "    <tr>\n",
       "      <th>1</th>\n",
       "      <td>Berlin</td>\n",
       "      <td>3500000</td>\n",
       "      <td>819000</td>\n",
       "    </tr>\n",
       "    <tr>\n",
       "      <th>2</th>\n",
       "      <td>Marseille</td>\n",
       "      <td>1500000</td>\n",
       "      <td>240000</td>\n",
       "    </tr>\n",
       "    <tr>\n",
       "      <th>3</th>\n",
       "      <td>Rome</td>\n",
       "      <td>2800000</td>\n",
       "      <td>1285000</td>\n",
       "    </tr>\n",
       "  </tbody>\n",
       "</table>\n",
       "</div>"
      ],
      "text/plain": [
       "        city  population     area\n",
       "0      Paris     3000000   105000\n",
       "1     Berlin     3500000   819000\n",
       "2  Marseille     1500000   240000\n",
       "3       Rome     2800000  1285000"
      ]
     },
     "execution_count": 121,
     "metadata": {},
     "output_type": "execute_result"
    }
   ],
   "source": [
    "df"
   ]
  },
  {
   "cell_type": "code",
   "execution_count": 122,
   "id": "shaped-despite",
   "metadata": {},
   "outputs": [
    {
     "data": {
      "text/plain": [
       "0        Paris\n",
       "1       Berlin\n",
       "2    Marseille\n",
       "3         Rome\n",
       "Name: city, dtype: object"
      ]
     },
     "execution_count": 122,
     "metadata": {},
     "output_type": "execute_result"
    }
   ],
   "source": [
    "df[\"city\"]"
   ]
  },
  {
   "cell_type": "code",
   "execution_count": 123,
   "id": "prime-novel",
   "metadata": {},
   "outputs": [
    {
     "data": {
      "text/plain": [
       "pandas.core.frame.DataFrame"
      ]
     },
     "execution_count": 123,
     "metadata": {},
     "output_type": "execute_result"
    }
   ],
   "source": [
    "type(df)"
   ]
  },
  {
   "cell_type": "code",
   "execution_count": 124,
   "id": "egyptian-calendar",
   "metadata": {},
   "outputs": [
    {
     "data": {
      "text/plain": [
       "pandas.core.series.Series"
      ]
     },
     "execution_count": 124,
     "metadata": {},
     "output_type": "execute_result"
    }
   ],
   "source": [
    "type(df[\"city\"])"
   ]
  },
  {
   "cell_type": "code",
   "execution_count": 125,
   "id": "likely-substitute",
   "metadata": {},
   "outputs": [
    {
     "data": {
      "text/html": [
       "<div>\n",
       "<style scoped>\n",
       "    .dataframe tbody tr th:only-of-type {\n",
       "        vertical-align: middle;\n",
       "    }\n",
       "\n",
       "    .dataframe tbody tr th {\n",
       "        vertical-align: top;\n",
       "    }\n",
       "\n",
       "    .dataframe thead th {\n",
       "        text-align: right;\n",
       "    }\n",
       "</style>\n",
       "<table border=\"1\" class=\"dataframe\">\n",
       "  <thead>\n",
       "    <tr style=\"text-align: right;\">\n",
       "      <th></th>\n",
       "      <th>city</th>\n",
       "      <th>population</th>\n",
       "      <th>area</th>\n",
       "    </tr>\n",
       "  </thead>\n",
       "  <tbody>\n",
       "    <tr>\n",
       "      <th>0</th>\n",
       "      <td>Paris</td>\n",
       "      <td>3000000</td>\n",
       "      <td>105000</td>\n",
       "    </tr>\n",
       "    <tr>\n",
       "      <th>1</th>\n",
       "      <td>Berlin</td>\n",
       "      <td>3500000</td>\n",
       "      <td>819000</td>\n",
       "    </tr>\n",
       "    <tr>\n",
       "      <th>2</th>\n",
       "      <td>Marseille</td>\n",
       "      <td>1500000</td>\n",
       "      <td>240000</td>\n",
       "    </tr>\n",
       "    <tr>\n",
       "      <th>3</th>\n",
       "      <td>Rome</td>\n",
       "      <td>2800000</td>\n",
       "      <td>1285000</td>\n",
       "    </tr>\n",
       "  </tbody>\n",
       "</table>\n",
       "</div>"
      ],
      "text/plain": [
       "        city  population     area\n",
       "0      Paris     3000000   105000\n",
       "1     Berlin     3500000   819000\n",
       "2  Marseille     1500000   240000\n",
       "3       Rome     2800000  1285000"
      ]
     },
     "execution_count": 125,
     "metadata": {},
     "output_type": "execute_result"
    }
   ],
   "source": [
    "df"
   ]
  },
  {
   "cell_type": "code",
   "execution_count": 126,
   "id": "light-surfing",
   "metadata": {},
   "outputs": [
    {
     "data": {
      "text/plain": [
       "city          object\n",
       "population     int64\n",
       "area           int64\n",
       "dtype: object"
      ]
     },
     "execution_count": 126,
     "metadata": {},
     "output_type": "execute_result"
    }
   ],
   "source": [
    "df.dtypes"
   ]
  },
  {
   "cell_type": "code",
   "execution_count": 127,
   "id": "invisible-wesley",
   "metadata": {},
   "outputs": [
    {
     "name": "stdout",
     "output_type": "stream",
     "text": [
      "<class 'pandas.core.frame.DataFrame'>\n",
      "RangeIndex: 4 entries, 0 to 3\n",
      "Data columns (total 3 columns):\n",
      " #   Column      Non-Null Count  Dtype \n",
      "---  ------      --------------  ----- \n",
      " 0   city        4 non-null      object\n",
      " 1   population  4 non-null      int64 \n",
      " 2   area        4 non-null      int64 \n",
      "dtypes: int64(2), object(1)\n",
      "memory usage: 224.0+ bytes\n"
     ]
    }
   ],
   "source": [
    "df.info()"
   ]
  },
  {
   "cell_type": "code",
   "execution_count": 128,
   "id": "exceptional-oklahoma",
   "metadata": {},
   "outputs": [
    {
     "data": {
      "text/html": [
       "<div>\n",
       "<style scoped>\n",
       "    .dataframe tbody tr th:only-of-type {\n",
       "        vertical-align: middle;\n",
       "    }\n",
       "\n",
       "    .dataframe tbody tr th {\n",
       "        vertical-align: top;\n",
       "    }\n",
       "\n",
       "    .dataframe thead th {\n",
       "        text-align: right;\n",
       "    }\n",
       "</style>\n",
       "<table border=\"1\" class=\"dataframe\">\n",
       "  <thead>\n",
       "    <tr style=\"text-align: right;\">\n",
       "      <th></th>\n",
       "      <th>population</th>\n",
       "      <th>area</th>\n",
       "    </tr>\n",
       "  </thead>\n",
       "  <tbody>\n",
       "    <tr>\n",
       "      <th>count</th>\n",
       "      <td>4.000000e+00</td>\n",
       "      <td>4.000000e+00</td>\n",
       "    </tr>\n",
       "    <tr>\n",
       "      <th>mean</th>\n",
       "      <td>2.700000e+06</td>\n",
       "      <td>6.122500e+05</td>\n",
       "    </tr>\n",
       "    <tr>\n",
       "      <th>std</th>\n",
       "      <td>8.524475e+05</td>\n",
       "      <td>5.450415e+05</td>\n",
       "    </tr>\n",
       "    <tr>\n",
       "      <th>min</th>\n",
       "      <td>1.500000e+06</td>\n",
       "      <td>1.050000e+05</td>\n",
       "    </tr>\n",
       "    <tr>\n",
       "      <th>25%</th>\n",
       "      <td>2.475000e+06</td>\n",
       "      <td>2.062500e+05</td>\n",
       "    </tr>\n",
       "    <tr>\n",
       "      <th>50%</th>\n",
       "      <td>2.900000e+06</td>\n",
       "      <td>5.295000e+05</td>\n",
       "    </tr>\n",
       "    <tr>\n",
       "      <th>75%</th>\n",
       "      <td>3.125000e+06</td>\n",
       "      <td>9.355000e+05</td>\n",
       "    </tr>\n",
       "    <tr>\n",
       "      <th>max</th>\n",
       "      <td>3.500000e+06</td>\n",
       "      <td>1.285000e+06</td>\n",
       "    </tr>\n",
       "  </tbody>\n",
       "</table>\n",
       "</div>"
      ],
      "text/plain": [
       "         population          area\n",
       "count  4.000000e+00  4.000000e+00\n",
       "mean   2.700000e+06  6.122500e+05\n",
       "std    8.524475e+05  5.450415e+05\n",
       "min    1.500000e+06  1.050000e+05\n",
       "25%    2.475000e+06  2.062500e+05\n",
       "50%    2.900000e+06  5.295000e+05\n",
       "75%    3.125000e+06  9.355000e+05\n",
       "max    3.500000e+06  1.285000e+06"
      ]
     },
     "execution_count": 128,
     "metadata": {},
     "output_type": "execute_result"
    }
   ],
   "source": [
    "df.describe()"
   ]
  },
  {
   "cell_type": "markdown",
   "id": "failing-strength",
   "metadata": {},
   "source": [
    "```\n",
    "_ _ _ _ _ _ _ _\n",
    "```"
   ]
  },
  {
   "cell_type": "markdown",
   "id": "alpha-carroll",
   "metadata": {},
   "source": [
    "```\n",
    "_ _ _ _ 0 1 _ _ _ _ _ _ _ _ _ _ _ _ _ _ _ _ _ ... _ _ _ _\n",
    "\n",
    "```"
   ]
  },
  {
   "cell_type": "markdown",
   "id": "tight-colors",
   "metadata": {},
   "source": [
    "\"2020-01-01\" > timestamp nombre de secondes écoulées depuis \"1970-01-01\"\n",
    "\n",
    "2^32"
   ]
  },
  {
   "cell_type": "code",
   "execution_count": 129,
   "id": "hydraulic-grill",
   "metadata": {},
   "outputs": [
    {
     "data": {
      "text/plain": [
       "array([['Paris', 3000000, 105000],\n",
       "       ['Berlin', 3500000, 819000],\n",
       "       ['Marseille', 1500000, 240000],\n",
       "       ['Rome', 2800000, 1285000]], dtype=object)"
      ]
     },
     "execution_count": 129,
     "metadata": {},
     "output_type": "execute_result"
    }
   ],
   "source": [
    "df.values"
   ]
  },
  {
   "cell_type": "code",
   "execution_count": 130,
   "id": "trained-explanation",
   "metadata": {},
   "outputs": [
    {
     "data": {
      "text/plain": [
       "RangeIndex(start=0, stop=4, step=1)"
      ]
     },
     "execution_count": 130,
     "metadata": {},
     "output_type": "execute_result"
    }
   ],
   "source": [
    "df.index"
   ]
  },
  {
   "cell_type": "code",
   "execution_count": 131,
   "id": "legitimate-hungarian",
   "metadata": {},
   "outputs": [
    {
     "data": {
      "text/plain": [
       "Index(['city', 'population', 'area'], dtype='object')"
      ]
     },
     "execution_count": 131,
     "metadata": {},
     "output_type": "execute_result"
    }
   ],
   "source": [
    "df.columns"
   ]
  },
  {
   "cell_type": "code",
   "execution_count": 132,
   "id": "weird-drill",
   "metadata": {},
   "outputs": [],
   "source": [
    "df.columns = [\"city\", \"pop\", \"area\"]  # permet de renommer une colonne"
   ]
  },
  {
   "cell_type": "code",
   "execution_count": 133,
   "id": "celtic-strain",
   "metadata": {},
   "outputs": [
    {
     "data": {
      "text/html": [
       "<div>\n",
       "<style scoped>\n",
       "    .dataframe tbody tr th:only-of-type {\n",
       "        vertical-align: middle;\n",
       "    }\n",
       "\n",
       "    .dataframe tbody tr th {\n",
       "        vertical-align: top;\n",
       "    }\n",
       "\n",
       "    .dataframe thead th {\n",
       "        text-align: right;\n",
       "    }\n",
       "</style>\n",
       "<table border=\"1\" class=\"dataframe\">\n",
       "  <thead>\n",
       "    <tr style=\"text-align: right;\">\n",
       "      <th></th>\n",
       "      <th>city</th>\n",
       "      <th>pop</th>\n",
       "      <th>area</th>\n",
       "    </tr>\n",
       "  </thead>\n",
       "  <tbody>\n",
       "    <tr>\n",
       "      <th>0</th>\n",
       "      <td>Paris</td>\n",
       "      <td>3000000</td>\n",
       "      <td>105000</td>\n",
       "    </tr>\n",
       "    <tr>\n",
       "      <th>1</th>\n",
       "      <td>Berlin</td>\n",
       "      <td>3500000</td>\n",
       "      <td>819000</td>\n",
       "    </tr>\n",
       "    <tr>\n",
       "      <th>2</th>\n",
       "      <td>Marseille</td>\n",
       "      <td>1500000</td>\n",
       "      <td>240000</td>\n",
       "    </tr>\n",
       "    <tr>\n",
       "      <th>3</th>\n",
       "      <td>Rome</td>\n",
       "      <td>2800000</td>\n",
       "      <td>1285000</td>\n",
       "    </tr>\n",
       "  </tbody>\n",
       "</table>\n",
       "</div>"
      ],
      "text/plain": [
       "        city      pop     area\n",
       "0      Paris  3000000   105000\n",
       "1     Berlin  3500000   819000\n",
       "2  Marseille  1500000   240000\n",
       "3       Rome  2800000  1285000"
      ]
     },
     "execution_count": 133,
     "metadata": {},
     "output_type": "execute_result"
    }
   ],
   "source": [
    "df"
   ]
  },
  {
   "cell_type": "code",
   "execution_count": 134,
   "id": "systematic-apollo",
   "metadata": {},
   "outputs": [],
   "source": [
    "df[\"density\"] = df[\"pop\"] / df[\"area\"]"
   ]
  },
  {
   "cell_type": "code",
   "execution_count": 135,
   "id": "indian-camping",
   "metadata": {},
   "outputs": [
    {
     "data": {
      "text/html": [
       "<div>\n",
       "<style scoped>\n",
       "    .dataframe tbody tr th:only-of-type {\n",
       "        vertical-align: middle;\n",
       "    }\n",
       "\n",
       "    .dataframe tbody tr th {\n",
       "        vertical-align: top;\n",
       "    }\n",
       "\n",
       "    .dataframe thead th {\n",
       "        text-align: right;\n",
       "    }\n",
       "</style>\n",
       "<table border=\"1\" class=\"dataframe\">\n",
       "  <thead>\n",
       "    <tr style=\"text-align: right;\">\n",
       "      <th></th>\n",
       "      <th>city</th>\n",
       "      <th>pop</th>\n",
       "      <th>area</th>\n",
       "      <th>density</th>\n",
       "    </tr>\n",
       "  </thead>\n",
       "  <tbody>\n",
       "    <tr>\n",
       "      <th>0</th>\n",
       "      <td>Paris</td>\n",
       "      <td>3000000</td>\n",
       "      <td>105000</td>\n",
       "      <td>28.571429</td>\n",
       "    </tr>\n",
       "    <tr>\n",
       "      <th>1</th>\n",
       "      <td>Berlin</td>\n",
       "      <td>3500000</td>\n",
       "      <td>819000</td>\n",
       "      <td>4.273504</td>\n",
       "    </tr>\n",
       "    <tr>\n",
       "      <th>2</th>\n",
       "      <td>Marseille</td>\n",
       "      <td>1500000</td>\n",
       "      <td>240000</td>\n",
       "      <td>6.250000</td>\n",
       "    </tr>\n",
       "    <tr>\n",
       "      <th>3</th>\n",
       "      <td>Rome</td>\n",
       "      <td>2800000</td>\n",
       "      <td>1285000</td>\n",
       "      <td>2.178988</td>\n",
       "    </tr>\n",
       "  </tbody>\n",
       "</table>\n",
       "</div>"
      ],
      "text/plain": [
       "        city      pop     area    density\n",
       "0      Paris  3000000   105000  28.571429\n",
       "1     Berlin  3500000   819000   4.273504\n",
       "2  Marseille  1500000   240000   6.250000\n",
       "3       Rome  2800000  1285000   2.178988"
      ]
     },
     "execution_count": 135,
     "metadata": {},
     "output_type": "execute_result"
    }
   ],
   "source": [
    "df"
   ]
  },
  {
   "cell_type": "code",
   "execution_count": 136,
   "id": "stuck-setting",
   "metadata": {},
   "outputs": [
    {
     "data": {
      "text/html": [
       "<div>\n",
       "<style scoped>\n",
       "    .dataframe tbody tr th:only-of-type {\n",
       "        vertical-align: middle;\n",
       "    }\n",
       "\n",
       "    .dataframe tbody tr th {\n",
       "        vertical-align: top;\n",
       "    }\n",
       "\n",
       "    .dataframe thead th {\n",
       "        text-align: right;\n",
       "    }\n",
       "</style>\n",
       "<table border=\"1\" class=\"dataframe\">\n",
       "  <thead>\n",
       "    <tr style=\"text-align: right;\">\n",
       "      <th></th>\n",
       "      <th>city</th>\n",
       "      <th>density</th>\n",
       "    </tr>\n",
       "  </thead>\n",
       "  <tbody>\n",
       "    <tr>\n",
       "      <th>0</th>\n",
       "      <td>Paris</td>\n",
       "      <td>28.571429</td>\n",
       "    </tr>\n",
       "    <tr>\n",
       "      <th>1</th>\n",
       "      <td>Berlin</td>\n",
       "      <td>4.273504</td>\n",
       "    </tr>\n",
       "    <tr>\n",
       "      <th>2</th>\n",
       "      <td>Marseille</td>\n",
       "      <td>6.250000</td>\n",
       "    </tr>\n",
       "    <tr>\n",
       "      <th>3</th>\n",
       "      <td>Rome</td>\n",
       "      <td>2.178988</td>\n",
       "    </tr>\n",
       "  </tbody>\n",
       "</table>\n",
       "</div>"
      ],
      "text/plain": [
       "        city    density\n",
       "0      Paris  28.571429\n",
       "1     Berlin   4.273504\n",
       "2  Marseille   6.250000\n",
       "3       Rome   2.178988"
      ]
     },
     "execution_count": 136,
     "metadata": {},
     "output_type": "execute_result"
    }
   ],
   "source": [
    "df[[\"city\", \"density\"]]"
   ]
  },
  {
   "cell_type": "code",
   "execution_count": 137,
   "id": "trying-yield",
   "metadata": {},
   "outputs": [
    {
     "data": {
      "text/html": [
       "<div>\n",
       "<style scoped>\n",
       "    .dataframe tbody tr th:only-of-type {\n",
       "        vertical-align: middle;\n",
       "    }\n",
       "\n",
       "    .dataframe tbody tr th {\n",
       "        vertical-align: top;\n",
       "    }\n",
       "\n",
       "    .dataframe thead th {\n",
       "        text-align: right;\n",
       "    }\n",
       "</style>\n",
       "<table border=\"1\" class=\"dataframe\">\n",
       "  <thead>\n",
       "    <tr style=\"text-align: right;\">\n",
       "      <th></th>\n",
       "      <th>city</th>\n",
       "      <th>density</th>\n",
       "    </tr>\n",
       "  </thead>\n",
       "  <tbody>\n",
       "    <tr>\n",
       "      <th>0</th>\n",
       "      <td>Paris</td>\n",
       "      <td>28.571429</td>\n",
       "    </tr>\n",
       "    <tr>\n",
       "      <th>2</th>\n",
       "      <td>Marseille</td>\n",
       "      <td>6.250000</td>\n",
       "    </tr>\n",
       "  </tbody>\n",
       "</table>\n",
       "</div>"
      ],
      "text/plain": [
       "        city    density\n",
       "0      Paris  28.571429\n",
       "2  Marseille   6.250000"
      ]
     },
     "execution_count": 137,
     "metadata": {},
     "output_type": "execute_result"
    }
   ],
   "source": [
    "df[df[\"density\"] > 5][[\"city\", \"density\"]]"
   ]
  },
  {
   "cell_type": "code",
   "execution_count": 138,
   "id": "behind-captain",
   "metadata": {},
   "outputs": [
    {
     "data": {
      "text/html": [
       "<div>\n",
       "<style scoped>\n",
       "    .dataframe tbody tr th:only-of-type {\n",
       "        vertical-align: middle;\n",
       "    }\n",
       "\n",
       "    .dataframe tbody tr th {\n",
       "        vertical-align: top;\n",
       "    }\n",
       "\n",
       "    .dataframe thead th {\n",
       "        text-align: right;\n",
       "    }\n",
       "</style>\n",
       "<table border=\"1\" class=\"dataframe\">\n",
       "  <thead>\n",
       "    <tr style=\"text-align: right;\">\n",
       "      <th></th>\n",
       "      <th>city</th>\n",
       "      <th>pop</th>\n",
       "      <th>area</th>\n",
       "      <th>density</th>\n",
       "    </tr>\n",
       "  </thead>\n",
       "  <tbody>\n",
       "    <tr>\n",
       "      <th>0</th>\n",
       "      <td>Paris</td>\n",
       "      <td>3000000</td>\n",
       "      <td>105000</td>\n",
       "      <td>28.571429</td>\n",
       "    </tr>\n",
       "    <tr>\n",
       "      <th>1</th>\n",
       "      <td>Berlin</td>\n",
       "      <td>3500000</td>\n",
       "      <td>819000</td>\n",
       "      <td>4.273504</td>\n",
       "    </tr>\n",
       "    <tr>\n",
       "      <th>2</th>\n",
       "      <td>Marseille</td>\n",
       "      <td>1500000</td>\n",
       "      <td>240000</td>\n",
       "      <td>6.250000</td>\n",
       "    </tr>\n",
       "    <tr>\n",
       "      <th>3</th>\n",
       "      <td>Rome</td>\n",
       "      <td>2800000</td>\n",
       "      <td>1285000</td>\n",
       "      <td>2.178988</td>\n",
       "    </tr>\n",
       "  </tbody>\n",
       "</table>\n",
       "</div>"
      ],
      "text/plain": [
       "        city      pop     area    density\n",
       "0      Paris  3000000   105000  28.571429\n",
       "1     Berlin  3500000   819000   4.273504\n",
       "2  Marseille  1500000   240000   6.250000\n",
       "3       Rome  2800000  1285000   2.178988"
      ]
     },
     "execution_count": 138,
     "metadata": {},
     "output_type": "execute_result"
    }
   ],
   "source": [
    "df"
   ]
  },
  {
   "cell_type": "code",
   "execution_count": 139,
   "id": "controlled-progressive",
   "metadata": {},
   "outputs": [],
   "source": [
    "df.set_index(\"city\", inplace=True)  # ou df = df.set_index ..."
   ]
  },
  {
   "cell_type": "code",
   "execution_count": 140,
   "id": "measured-lindsay",
   "metadata": {},
   "outputs": [
    {
     "data": {
      "text/html": [
       "<div>\n",
       "<style scoped>\n",
       "    .dataframe tbody tr th:only-of-type {\n",
       "        vertical-align: middle;\n",
       "    }\n",
       "\n",
       "    .dataframe tbody tr th {\n",
       "        vertical-align: top;\n",
       "    }\n",
       "\n",
       "    .dataframe thead th {\n",
       "        text-align: right;\n",
       "    }\n",
       "</style>\n",
       "<table border=\"1\" class=\"dataframe\">\n",
       "  <thead>\n",
       "    <tr style=\"text-align: right;\">\n",
       "      <th></th>\n",
       "      <th>pop</th>\n",
       "      <th>area</th>\n",
       "      <th>density</th>\n",
       "    </tr>\n",
       "    <tr>\n",
       "      <th>city</th>\n",
       "      <th></th>\n",
       "      <th></th>\n",
       "      <th></th>\n",
       "    </tr>\n",
       "  </thead>\n",
       "  <tbody>\n",
       "    <tr>\n",
       "      <th>Paris</th>\n",
       "      <td>3000000</td>\n",
       "      <td>105000</td>\n",
       "      <td>28.571429</td>\n",
       "    </tr>\n",
       "    <tr>\n",
       "      <th>Berlin</th>\n",
       "      <td>3500000</td>\n",
       "      <td>819000</td>\n",
       "      <td>4.273504</td>\n",
       "    </tr>\n",
       "    <tr>\n",
       "      <th>Marseille</th>\n",
       "      <td>1500000</td>\n",
       "      <td>240000</td>\n",
       "      <td>6.250000</td>\n",
       "    </tr>\n",
       "    <tr>\n",
       "      <th>Rome</th>\n",
       "      <td>2800000</td>\n",
       "      <td>1285000</td>\n",
       "      <td>2.178988</td>\n",
       "    </tr>\n",
       "  </tbody>\n",
       "</table>\n",
       "</div>"
      ],
      "text/plain": [
       "               pop     area    density\n",
       "city                                  \n",
       "Paris      3000000   105000  28.571429\n",
       "Berlin     3500000   819000   4.273504\n",
       "Marseille  1500000   240000   6.250000\n",
       "Rome       2800000  1285000   2.178988"
      ]
     },
     "execution_count": 140,
     "metadata": {},
     "output_type": "execute_result"
    }
   ],
   "source": [
    "df"
   ]
  },
  {
   "cell_type": "code",
   "execution_count": 142,
   "id": "radical-syndication",
   "metadata": {},
   "outputs": [],
   "source": [
    "# pour récuperer la donnée dans une dataframe on a deux fonctions à disposition\n",
    "# df.iloc[] index location  ; mémo : ça commencer par i donc c'est les index numériques\n",
    "# df.loc[] ; mémo : ça commence par l donc c'est les labels\n",
    "\n",
    "# loc = location\n"
   ]
  },
  {
   "cell_type": "code",
   "execution_count": 145,
   "id": "touched-square",
   "metadata": {},
   "outputs": [
    {
     "data": {
      "text/plain": [
       "6.25"
      ]
     },
     "execution_count": 145,
     "metadata": {},
     "output_type": "execute_result"
    }
   ],
   "source": [
    "df.loc[\"Marseille\", \"density\"]\n",
    "#       ^ x (lignes)  ^ x (colonnes)      "
   ]
  },
  {
   "cell_type": "code",
   "execution_count": 148,
   "id": "earlier-assault",
   "metadata": {},
   "outputs": [
    {
     "data": {
      "text/html": [
       "<div>\n",
       "<style scoped>\n",
       "    .dataframe tbody tr th:only-of-type {\n",
       "        vertical-align: middle;\n",
       "    }\n",
       "\n",
       "    .dataframe tbody tr th {\n",
       "        vertical-align: top;\n",
       "    }\n",
       "\n",
       "    .dataframe thead th {\n",
       "        text-align: right;\n",
       "    }\n",
       "</style>\n",
       "<table border=\"1\" class=\"dataframe\">\n",
       "  <thead>\n",
       "    <tr style=\"text-align: right;\">\n",
       "      <th></th>\n",
       "      <th>pop</th>\n",
       "      <th>area</th>\n",
       "    </tr>\n",
       "    <tr>\n",
       "      <th>city</th>\n",
       "      <th></th>\n",
       "      <th></th>\n",
       "    </tr>\n",
       "  </thead>\n",
       "  <tbody>\n",
       "    <tr>\n",
       "      <th>Marseille</th>\n",
       "      <td>1500000</td>\n",
       "      <td>240000</td>\n",
       "    </tr>\n",
       "    <tr>\n",
       "      <th>Rome</th>\n",
       "      <td>2800000</td>\n",
       "      <td>1285000</td>\n",
       "    </tr>\n",
       "  </tbody>\n",
       "</table>\n",
       "</div>"
      ],
      "text/plain": [
       "               pop     area\n",
       "city                       \n",
       "Marseille  1500000   240000\n",
       "Rome       2800000  1285000"
      ]
     },
     "execution_count": 148,
     "metadata": {},
     "output_type": "execute_result"
    }
   ],
   "source": [
    "df.loc[[\"Marseille\", \"Rome\"], [\"pop\", \"area\"]]"
   ]
  },
  {
   "cell_type": "code",
   "execution_count": 150,
   "id": "monetary-setup",
   "metadata": {},
   "outputs": [
    {
     "data": {
      "text/html": [
       "<div>\n",
       "<style scoped>\n",
       "    .dataframe tbody tr th:only-of-type {\n",
       "        vertical-align: middle;\n",
       "    }\n",
       "\n",
       "    .dataframe tbody tr th {\n",
       "        vertical-align: top;\n",
       "    }\n",
       "\n",
       "    .dataframe thead th {\n",
       "        text-align: right;\n",
       "    }\n",
       "</style>\n",
       "<table border=\"1\" class=\"dataframe\">\n",
       "  <thead>\n",
       "    <tr style=\"text-align: right;\">\n",
       "      <th></th>\n",
       "      <th>pop</th>\n",
       "      <th>area</th>\n",
       "    </tr>\n",
       "    <tr>\n",
       "      <th>city</th>\n",
       "      <th></th>\n",
       "      <th></th>\n",
       "    </tr>\n",
       "  </thead>\n",
       "  <tbody>\n",
       "    <tr>\n",
       "      <th>Marseille</th>\n",
       "      <td>1500000</td>\n",
       "      <td>240000</td>\n",
       "    </tr>\n",
       "    <tr>\n",
       "      <th>Rome</th>\n",
       "      <td>2800000</td>\n",
       "      <td>1285000</td>\n",
       "    </tr>\n",
       "  </tbody>\n",
       "</table>\n",
       "</div>"
      ],
      "text/plain": [
       "               pop     area\n",
       "city                       \n",
       "Marseille  1500000   240000\n",
       "Rome       2800000  1285000"
      ]
     },
     "execution_count": 150,
     "metadata": {},
     "output_type": "execute_result"
    }
   ],
   "source": [
    "df.loc[[\"Marseille\", \"Rome\"], [\"pop\", \"area\"]]"
   ]
  },
  {
   "cell_type": "code",
   "execution_count": 153,
   "id": "stretch-ivory",
   "metadata": {},
   "outputs": [
    {
     "data": {
      "text/html": [
       "<div>\n",
       "<style scoped>\n",
       "    .dataframe tbody tr th:only-of-type {\n",
       "        vertical-align: middle;\n",
       "    }\n",
       "\n",
       "    .dataframe tbody tr th {\n",
       "        vertical-align: top;\n",
       "    }\n",
       "\n",
       "    .dataframe thead th {\n",
       "        text-align: right;\n",
       "    }\n",
       "</style>\n",
       "<table border=\"1\" class=\"dataframe\">\n",
       "  <thead>\n",
       "    <tr style=\"text-align: right;\">\n",
       "      <th></th>\n",
       "      <th>pop</th>\n",
       "      <th>area</th>\n",
       "    </tr>\n",
       "    <tr>\n",
       "      <th>city</th>\n",
       "      <th></th>\n",
       "      <th></th>\n",
       "    </tr>\n",
       "  </thead>\n",
       "  <tbody>\n",
       "    <tr>\n",
       "      <th>Marseille</th>\n",
       "      <td>1500000</td>\n",
       "      <td>240000</td>\n",
       "    </tr>\n",
       "    <tr>\n",
       "      <th>Rome</th>\n",
       "      <td>2800000</td>\n",
       "      <td>1285000</td>\n",
       "    </tr>\n",
       "  </tbody>\n",
       "</table>\n",
       "</div>"
      ],
      "text/plain": [
       "               pop     area\n",
       "city                       \n",
       "Marseille  1500000   240000\n",
       "Rome       2800000  1285000"
      ]
     },
     "execution_count": 153,
     "metadata": {},
     "output_type": "execute_result"
    }
   ],
   "source": [
    "df.loc[\"Marseille\":\"Rome\", \"pop\":\"area\"]"
   ]
  },
  {
   "cell_type": "code",
   "execution_count": 155,
   "id": "invalid-screen",
   "metadata": {},
   "outputs": [
    {
     "data": {
      "text/html": [
       "<div>\n",
       "<style scoped>\n",
       "    .dataframe tbody tr th:only-of-type {\n",
       "        vertical-align: middle;\n",
       "    }\n",
       "\n",
       "    .dataframe tbody tr th {\n",
       "        vertical-align: top;\n",
       "    }\n",
       "\n",
       "    .dataframe thead th {\n",
       "        text-align: right;\n",
       "    }\n",
       "</style>\n",
       "<table border=\"1\" class=\"dataframe\">\n",
       "  <thead>\n",
       "    <tr style=\"text-align: right;\">\n",
       "      <th></th>\n",
       "      <th>area</th>\n",
       "      <th>density</th>\n",
       "    </tr>\n",
       "    <tr>\n",
       "      <th>city</th>\n",
       "      <th></th>\n",
       "      <th></th>\n",
       "    </tr>\n",
       "  </thead>\n",
       "  <tbody>\n",
       "    <tr>\n",
       "      <th>Marseille</th>\n",
       "      <td>240000</td>\n",
       "      <td>6.250000</td>\n",
       "    </tr>\n",
       "    <tr>\n",
       "      <th>Rome</th>\n",
       "      <td>1285000</td>\n",
       "      <td>2.178988</td>\n",
       "    </tr>\n",
       "  </tbody>\n",
       "</table>\n",
       "</div>"
      ],
      "text/plain": [
       "              area   density\n",
       "city                        \n",
       "Marseille   240000  6.250000\n",
       "Rome       1285000  2.178988"
      ]
     },
     "execution_count": 155,
     "metadata": {},
     "output_type": "execute_result"
    }
   ],
   "source": [
    "df.loc[\"Marseille\":\"Rome\", \"area\":]"
   ]
  },
  {
   "cell_type": "code",
   "execution_count": 159,
   "id": "rubber-tennessee",
   "metadata": {},
   "outputs": [
    {
     "data": {
      "text/plain": [
       "2.178988326848249"
      ]
     },
     "execution_count": 159,
     "metadata": {},
     "output_type": "execute_result"
    }
   ],
   "source": [
    "df.iloc[-1, -1]"
   ]
  },
  {
   "cell_type": "code",
   "execution_count": 158,
   "id": "massive-agenda",
   "metadata": {},
   "outputs": [
    {
     "data": {
      "text/plain": [
       "819000"
      ]
     },
     "execution_count": 158,
     "metadata": {},
     "output_type": "execute_result"
    }
   ],
   "source": [
    "df.iloc[1, 1]"
   ]
  },
  {
   "cell_type": "code",
   "execution_count": 161,
   "id": "threatened-bacteria",
   "metadata": {},
   "outputs": [
    {
     "data": {
      "text/html": [
       "<div>\n",
       "<style scoped>\n",
       "    .dataframe tbody tr th:only-of-type {\n",
       "        vertical-align: middle;\n",
       "    }\n",
       "\n",
       "    .dataframe tbody tr th {\n",
       "        vertical-align: top;\n",
       "    }\n",
       "\n",
       "    .dataframe thead th {\n",
       "        text-align: right;\n",
       "    }\n",
       "</style>\n",
       "<table border=\"1\" class=\"dataframe\">\n",
       "  <thead>\n",
       "    <tr style=\"text-align: right;\">\n",
       "      <th></th>\n",
       "      <th>pop</th>\n",
       "      <th>area</th>\n",
       "      <th>density</th>\n",
       "    </tr>\n",
       "    <tr>\n",
       "      <th>city</th>\n",
       "      <th></th>\n",
       "      <th></th>\n",
       "      <th></th>\n",
       "    </tr>\n",
       "  </thead>\n",
       "  <tbody>\n",
       "    <tr>\n",
       "      <th>Paris</th>\n",
       "      <td>3000000</td>\n",
       "      <td>105000</td>\n",
       "      <td>28.571429</td>\n",
       "    </tr>\n",
       "    <tr>\n",
       "      <th>Rome</th>\n",
       "      <td>2800000</td>\n",
       "      <td>1285000</td>\n",
       "      <td>2.178988</td>\n",
       "    </tr>\n",
       "  </tbody>\n",
       "</table>\n",
       "</div>"
      ],
      "text/plain": [
       "           pop     area    density\n",
       "city                              \n",
       "Paris  3000000   105000  28.571429\n",
       "Rome   2800000  1285000   2.178988"
      ]
     },
     "execution_count": 161,
     "metadata": {},
     "output_type": "execute_result"
    }
   ],
   "source": [
    "df.iloc[[0,-1]]"
   ]
  },
  {
   "cell_type": "code",
   "execution_count": 165,
   "id": "labeled-clause",
   "metadata": {},
   "outputs": [
    {
     "data": {
      "text/plain": [
       "city\n",
       "Paris        105000\n",
       "Marseille    240000\n",
       "Name: area, dtype: int64"
      ]
     },
     "execution_count": 165,
     "metadata": {},
     "output_type": "execute_result"
    }
   ],
   "source": [
    "df.loc[df[\"density\"] > 6, \"area\"]"
   ]
  },
  {
   "cell_type": "code",
   "execution_count": 166,
   "id": "textile-filling",
   "metadata": {},
   "outputs": [
    {
     "data": {
      "text/plain": [
       "city\n",
       "Paris        105000\n",
       "Marseille    240000\n",
       "Name: area, dtype: int64"
      ]
     },
     "execution_count": 166,
     "metadata": {},
     "output_type": "execute_result"
    }
   ],
   "source": [
    "df[df[\"density\"] > 6][\"area\"]"
   ]
  },
  {
   "cell_type": "code",
   "execution_count": 168,
   "id": "commercial-consent",
   "metadata": {},
   "outputs": [
    {
     "data": {
      "text/html": [
       "<div>\n",
       "<style scoped>\n",
       "    .dataframe tbody tr th:only-of-type {\n",
       "        vertical-align: middle;\n",
       "    }\n",
       "\n",
       "    .dataframe tbody tr th {\n",
       "        vertical-align: top;\n",
       "    }\n",
       "\n",
       "    .dataframe thead th {\n",
       "        text-align: right;\n",
       "    }\n",
       "</style>\n",
       "<table border=\"1\" class=\"dataframe\">\n",
       "  <thead>\n",
       "    <tr style=\"text-align: right;\">\n",
       "      <th></th>\n",
       "      <th>pop</th>\n",
       "      <th>area</th>\n",
       "      <th>density</th>\n",
       "    </tr>\n",
       "    <tr>\n",
       "      <th>city</th>\n",
       "      <th></th>\n",
       "      <th></th>\n",
       "      <th></th>\n",
       "    </tr>\n",
       "  </thead>\n",
       "  <tbody>\n",
       "    <tr>\n",
       "      <th>Marseille</th>\n",
       "      <td>1500000</td>\n",
       "      <td>240000</td>\n",
       "      <td>6.250000</td>\n",
       "    </tr>\n",
       "    <tr>\n",
       "      <th>Rome</th>\n",
       "      <td>2800000</td>\n",
       "      <td>1285000</td>\n",
       "      <td>2.178988</td>\n",
       "    </tr>\n",
       "    <tr>\n",
       "      <th>Paris</th>\n",
       "      <td>3000000</td>\n",
       "      <td>105000</td>\n",
       "      <td>28.571429</td>\n",
       "    </tr>\n",
       "    <tr>\n",
       "      <th>Berlin</th>\n",
       "      <td>3500000</td>\n",
       "      <td>819000</td>\n",
       "      <td>4.273504</td>\n",
       "    </tr>\n",
       "  </tbody>\n",
       "</table>\n",
       "</div>"
      ],
      "text/plain": [
       "               pop     area    density\n",
       "city                                  \n",
       "Marseille  1500000   240000   6.250000\n",
       "Rome       2800000  1285000   2.178988\n",
       "Paris      3000000   105000  28.571429\n",
       "Berlin     3500000   819000   4.273504"
      ]
     },
     "execution_count": 168,
     "metadata": {},
     "output_type": "execute_result"
    }
   ],
   "source": [
    "df.sort_values(\"pop\")"
   ]
  },
  {
   "cell_type": "code",
   "execution_count": 169,
   "id": "excellent-phenomenon",
   "metadata": {},
   "outputs": [
    {
     "data": {
      "text/html": [
       "<div>\n",
       "<style scoped>\n",
       "    .dataframe tbody tr th:only-of-type {\n",
       "        vertical-align: middle;\n",
       "    }\n",
       "\n",
       "    .dataframe tbody tr th {\n",
       "        vertical-align: top;\n",
       "    }\n",
       "\n",
       "    .dataframe thead th {\n",
       "        text-align: right;\n",
       "    }\n",
       "</style>\n",
       "<table border=\"1\" class=\"dataframe\">\n",
       "  <thead>\n",
       "    <tr style=\"text-align: right;\">\n",
       "      <th></th>\n",
       "      <th>pop</th>\n",
       "      <th>area</th>\n",
       "      <th>density</th>\n",
       "    </tr>\n",
       "    <tr>\n",
       "      <th>city</th>\n",
       "      <th></th>\n",
       "      <th></th>\n",
       "      <th></th>\n",
       "    </tr>\n",
       "  </thead>\n",
       "  <tbody>\n",
       "    <tr>\n",
       "      <th>Berlin</th>\n",
       "      <td>3500000</td>\n",
       "      <td>819000</td>\n",
       "      <td>4.273504</td>\n",
       "    </tr>\n",
       "    <tr>\n",
       "      <th>Paris</th>\n",
       "      <td>3000000</td>\n",
       "      <td>105000</td>\n",
       "      <td>28.571429</td>\n",
       "    </tr>\n",
       "    <tr>\n",
       "      <th>Rome</th>\n",
       "      <td>2800000</td>\n",
       "      <td>1285000</td>\n",
       "      <td>2.178988</td>\n",
       "    </tr>\n",
       "    <tr>\n",
       "      <th>Marseille</th>\n",
       "      <td>1500000</td>\n",
       "      <td>240000</td>\n",
       "      <td>6.250000</td>\n",
       "    </tr>\n",
       "  </tbody>\n",
       "</table>\n",
       "</div>"
      ],
      "text/plain": [
       "               pop     area    density\n",
       "city                                  \n",
       "Berlin     3500000   819000   4.273504\n",
       "Paris      3000000   105000  28.571429\n",
       "Rome       2800000  1285000   2.178988\n",
       "Marseille  1500000   240000   6.250000"
      ]
     },
     "execution_count": 169,
     "metadata": {},
     "output_type": "execute_result"
    }
   ],
   "source": [
    "df.sort_values(\"pop\", ascending=False)"
   ]
  },
  {
   "cell_type": "code",
   "execution_count": 171,
   "id": "sunset-asbestos",
   "metadata": {},
   "outputs": [
    {
     "data": {
      "text/html": [
       "<div>\n",
       "<style scoped>\n",
       "    .dataframe tbody tr th:only-of-type {\n",
       "        vertical-align: middle;\n",
       "    }\n",
       "\n",
       "    .dataframe tbody tr th {\n",
       "        vertical-align: top;\n",
       "    }\n",
       "\n",
       "    .dataframe thead th {\n",
       "        text-align: right;\n",
       "    }\n",
       "</style>\n",
       "<table border=\"1\" class=\"dataframe\">\n",
       "  <thead>\n",
       "    <tr style=\"text-align: right;\">\n",
       "      <th></th>\n",
       "      <th>pop</th>\n",
       "      <th>area</th>\n",
       "      <th>density</th>\n",
       "    </tr>\n",
       "    <tr>\n",
       "      <th>city</th>\n",
       "      <th></th>\n",
       "      <th></th>\n",
       "      <th></th>\n",
       "    </tr>\n",
       "  </thead>\n",
       "  <tbody>\n",
       "    <tr>\n",
       "      <th>Rome</th>\n",
       "      <td>2800000</td>\n",
       "      <td>1285000</td>\n",
       "      <td>2.178988</td>\n",
       "    </tr>\n",
       "    <tr>\n",
       "      <th>Paris</th>\n",
       "      <td>3000000</td>\n",
       "      <td>105000</td>\n",
       "      <td>28.571429</td>\n",
       "    </tr>\n",
       "    <tr>\n",
       "      <th>Marseille</th>\n",
       "      <td>1500000</td>\n",
       "      <td>240000</td>\n",
       "      <td>6.250000</td>\n",
       "    </tr>\n",
       "    <tr>\n",
       "      <th>Berlin</th>\n",
       "      <td>3500000</td>\n",
       "      <td>819000</td>\n",
       "      <td>4.273504</td>\n",
       "    </tr>\n",
       "  </tbody>\n",
       "</table>\n",
       "</div>"
      ],
      "text/plain": [
       "               pop     area    density\n",
       "city                                  \n",
       "Rome       2800000  1285000   2.178988\n",
       "Paris      3000000   105000  28.571429\n",
       "Marseille  1500000   240000   6.250000\n",
       "Berlin     3500000   819000   4.273504"
      ]
     },
     "execution_count": 171,
     "metadata": {},
     "output_type": "execute_result"
    }
   ],
   "source": [
    "df.sort_index(ascending=False)"
   ]
  },
  {
   "cell_type": "markdown",
   "id": "figured-movement",
   "metadata": {},
   "source": [
    "## Premier exercice : les prenoms"
   ]
  },
  {
   "cell_type": "code",
   "execution_count": 174,
   "id": "international-patient",
   "metadata": {},
   "outputs": [],
   "source": [
    "df = pd.read_csv(\"prenoms.csv\", sep=\";\")  # CSV : Comma separated value (,)"
   ]
  },
  {
   "cell_type": "code",
   "execution_count": 175,
   "id": "incredible-stuart",
   "metadata": {},
   "outputs": [
    {
     "data": {
      "text/html": [
       "<div>\n",
       "<style scoped>\n",
       "    .dataframe tbody tr th:only-of-type {\n",
       "        vertical-align: middle;\n",
       "    }\n",
       "\n",
       "    .dataframe tbody tr th {\n",
       "        vertical-align: top;\n",
       "    }\n",
       "\n",
       "    .dataframe thead th {\n",
       "        text-align: right;\n",
       "    }\n",
       "</style>\n",
       "<table border=\"1\" class=\"dataframe\">\n",
       "  <thead>\n",
       "    <tr style=\"text-align: right;\">\n",
       "      <th></th>\n",
       "      <th>prenom</th>\n",
       "      <th>genre</th>\n",
       "      <th>nb</th>\n",
       "    </tr>\n",
       "  </thead>\n",
       "  <tbody>\n",
       "    <tr>\n",
       "      <th>0</th>\n",
       "      <td>Michel</td>\n",
       "      <td>M</td>\n",
       "      <td>14136</td>\n",
       "    </tr>\n",
       "    <tr>\n",
       "      <th>1</th>\n",
       "      <td>Alain</td>\n",
       "      <td>M</td>\n",
       "      <td>10646</td>\n",
       "    </tr>\n",
       "    <tr>\n",
       "      <th>2</th>\n",
       "      <td>Philippe</td>\n",
       "      <td>M</td>\n",
       "      <td>9903</td>\n",
       "    </tr>\n",
       "    <tr>\n",
       "      <th>3</th>\n",
       "      <td>Bernard</td>\n",
       "      <td>M</td>\n",
       "      <td>8992</td>\n",
       "    </tr>\n",
       "    <tr>\n",
       "      <th>4</th>\n",
       "      <td>Christian</td>\n",
       "      <td>M</td>\n",
       "      <td>8102</td>\n",
       "    </tr>\n",
       "  </tbody>\n",
       "</table>\n",
       "</div>"
      ],
      "text/plain": [
       "      prenom genre     nb\n",
       "0     Michel     M  14136\n",
       "1      Alain     M  10646\n",
       "2   Philippe     M   9903\n",
       "3    Bernard     M   8992\n",
       "4  Christian     M   8102"
      ]
     },
     "execution_count": 175,
     "metadata": {},
     "output_type": "execute_result"
    }
   ],
   "source": [
    "df.head()"
   ]
  },
  {
   "cell_type": "code",
   "execution_count": 176,
   "id": "expected-milton",
   "metadata": {},
   "outputs": [
    {
     "name": "stdout",
     "output_type": "stream",
     "text": [
      "<class 'pandas.core.frame.DataFrame'>\n",
      "RangeIndex: 12467 entries, 0 to 12466\n",
      "Data columns (total 3 columns):\n",
      " #   Column  Non-Null Count  Dtype \n",
      "---  ------  --------------  ----- \n",
      " 0   prenom  12465 non-null  object\n",
      " 1   genre   12467 non-null  object\n",
      " 2   nb      12467 non-null  int64 \n",
      "dtypes: int64(1), object(2)\n",
      "memory usage: 292.3+ KB\n"
     ]
    }
   ],
   "source": [
    "df.info()"
   ]
  },
  {
   "cell_type": "markdown",
   "id": "hundred-cabin",
   "metadata": {},
   "source": [
    "### Combien de personnes concernées par le dataset"
   ]
  },
  {
   "cell_type": "code",
   "execution_count": 180,
   "id": "demonstrated-front",
   "metadata": {},
   "outputs": [
    {
     "data": {
      "text/plain": [
       "526989"
      ]
     },
     "execution_count": 180,
     "metadata": {},
     "output_type": "execute_result"
    }
   ],
   "source": [
    "df[\"nb\"].sum()"
   ]
  },
  {
   "cell_type": "code",
   "execution_count": 181,
   "id": "offshore-contemporary",
   "metadata": {},
   "outputs": [
    {
     "data": {
      "text/plain": [
       "526989"
      ]
     },
     "execution_count": 181,
     "metadata": {},
     "output_type": "execute_result"
    }
   ],
   "source": [
    "sum(df[\"nb\"])  # ok mais moins optimisé pour des gros volumes"
   ]
  },
  {
   "cell_type": "markdown",
   "id": "mechanical-millennium",
   "metadata": {},
   "source": [
    "### Combien de prénoms F et de prénoms M ?"
   ]
  },
  {
   "cell_type": "code",
   "execution_count": 183,
   "id": "southwest-internship",
   "metadata": {},
   "outputs": [
    {
     "data": {
      "text/plain": [
       "12467"
      ]
     },
     "execution_count": 183,
     "metadata": {},
     "output_type": "execute_result"
    }
   ],
   "source": [
    "df[\"genre\"].count()"
   ]
  },
  {
   "cell_type": "code",
   "execution_count": 187,
   "id": "perceived-navigator",
   "metadata": {},
   "outputs": [
    {
     "data": {
      "text/plain": [
       "6581"
      ]
     },
     "execution_count": 187,
     "metadata": {},
     "output_type": "execute_result"
    }
   ],
   "source": [
    "df[df.genre == \"M\"][\"nb\"].count()"
   ]
  },
  {
   "cell_type": "code",
   "execution_count": 189,
   "id": "funny-integrity",
   "metadata": {},
   "outputs": [
    {
     "data": {
      "text/plain": [
       "5886"
      ]
     },
     "execution_count": 189,
     "metadata": {},
     "output_type": "execute_result"
    }
   ],
   "source": [
    "df[df.genre == \"F\"][\"nb\"].count()"
   ]
  },
  {
   "cell_type": "markdown",
   "id": "alternate-zealand",
   "metadata": {},
   "source": [
    "#### Avec un groupby"
   ]
  },
  {
   "cell_type": "code",
   "execution_count": 190,
   "id": "imperial-adaptation",
   "metadata": {},
   "outputs": [
    {
     "data": {
      "text/plain": [
       "genre\n",
       "F    5886\n",
       "M    6581\n",
       "Name: nb, dtype: int64"
      ]
     },
     "execution_count": 190,
     "metadata": {},
     "output_type": "execute_result"
    }
   ],
   "source": [
    "df.groupby(\"genre\")[\"nb\"].count()\n",
    "#\n",
    "# SELECT COUNT(nb)\n",
    "# FROM prenoms\n",
    "# GROUP BY genre"
   ]
  },
  {
   "cell_type": "code",
   "execution_count": 191,
   "id": "center-bennett",
   "metadata": {},
   "outputs": [
    {
     "data": {
      "text/plain": [
       "M    6581\n",
       "F    5886\n",
       "Name: genre, dtype: int64"
      ]
     },
     "execution_count": 191,
     "metadata": {},
     "output_type": "execute_result"
    }
   ],
   "source": [
    "df[\"genre\"].value_counts()"
   ]
  },
  {
   "cell_type": "code",
   "execution_count": 196,
   "id": "after-panama",
   "metadata": {},
   "outputs": [
    {
     "name": "stdout",
     "output_type": "stream",
     "text": [
      "['M' 'F']\n"
     ]
    }
   ],
   "source": [
    "df[\"genre\"].unique()\n",
    "# SELECT DISTINCT(genre)\n",
    "# FROM prenom"
   ]
  },
  {
   "cell_type": "code",
   "execution_count": 194,
   "id": "complex-budget",
   "metadata": {},
   "outputs": [
    {
     "data": {
      "text/plain": [
       "2"
      ]
     },
     "execution_count": 194,
     "metadata": {},
     "output_type": "execute_result"
    }
   ],
   "source": [
    "df[\"genre\"].nunique()"
   ]
  },
  {
   "cell_type": "markdown",
   "id": "trained-password",
   "metadata": {},
   "source": [
    "### Combien y'a-t-il de prénoms androgynes?"
   ]
  },
  {
   "cell_type": "code",
   "execution_count": 200,
   "id": "suitable-postcard",
   "metadata": {},
   "outputs": [
    {
     "data": {
      "text/html": [
       "<div>\n",
       "<style scoped>\n",
       "    .dataframe tbody tr th:only-of-type {\n",
       "        vertical-align: middle;\n",
       "    }\n",
       "\n",
       "    .dataframe tbody tr th {\n",
       "        vertical-align: top;\n",
       "    }\n",
       "\n",
       "    .dataframe thead th {\n",
       "        text-align: right;\n",
       "    }\n",
       "</style>\n",
       "<table border=\"1\" class=\"dataframe\">\n",
       "  <thead>\n",
       "    <tr style=\"text-align: right;\">\n",
       "      <th></th>\n",
       "      <th></th>\n",
       "      <th>nb</th>\n",
       "    </tr>\n",
       "    <tr>\n",
       "      <th>prenom</th>\n",
       "      <th>genre</th>\n",
       "      <th></th>\n",
       "    </tr>\n",
       "  </thead>\n",
       "  <tbody>\n",
       "    <tr>\n",
       "      <th>A Dominique</th>\n",
       "      <th>M</th>\n",
       "      <td>1</td>\n",
       "    </tr>\n",
       "    <tr>\n",
       "      <th>A Marie</th>\n",
       "      <th>F</th>\n",
       "      <td>1</td>\n",
       "    </tr>\n",
       "    <tr>\n",
       "      <th>A-Claude</th>\n",
       "      <th>F</th>\n",
       "      <td>1</td>\n",
       "    </tr>\n",
       "    <tr>\n",
       "      <th>A. Caroline</th>\n",
       "      <th>F</th>\n",
       "      <td>1</td>\n",
       "    </tr>\n",
       "    <tr>\n",
       "      <th>A. Marie</th>\n",
       "      <th>F</th>\n",
       "      <td>1</td>\n",
       "    </tr>\n",
       "    <tr>\n",
       "      <th>...</th>\n",
       "      <th>...</th>\n",
       "      <td>...</td>\n",
       "    </tr>\n",
       "    <tr>\n",
       "      <th>Éric</th>\n",
       "      <th>M</th>\n",
       "      <td>1</td>\n",
       "    </tr>\n",
       "    <tr>\n",
       "      <th>Érika</th>\n",
       "      <th>F</th>\n",
       "      <td>1</td>\n",
       "    </tr>\n",
       "    <tr>\n",
       "      <th>Étienne</th>\n",
       "      <th>M</th>\n",
       "      <td>1</td>\n",
       "    </tr>\n",
       "    <tr>\n",
       "      <th>Éva</th>\n",
       "      <th>F</th>\n",
       "      <td>1</td>\n",
       "    </tr>\n",
       "    <tr>\n",
       "      <th>Évelyne</th>\n",
       "      <th>F</th>\n",
       "      <td>1</td>\n",
       "    </tr>\n",
       "  </tbody>\n",
       "</table>\n",
       "<p>12465 rows × 1 columns</p>\n",
       "</div>"
      ],
      "text/plain": [
       "                   nb\n",
       "prenom      genre    \n",
       "A Dominique M       1\n",
       "A Marie     F       1\n",
       "A-Claude    F       1\n",
       "A. Caroline F       1\n",
       "A. Marie    F       1\n",
       "...                ..\n",
       "Éric        M       1\n",
       "Érika       F       1\n",
       "Étienne     M       1\n",
       "Éva         F       1\n",
       "Évelyne     F       1\n",
       "\n",
       "[12465 rows x 1 columns]"
      ]
     },
     "execution_count": 200,
     "metadata": {},
     "output_type": "execute_result"
    }
   ],
   "source": [
    "df.groupby([\"prenom\", \"genre\"]).count()"
   ]
  },
  {
   "cell_type": "code",
   "execution_count": 242,
   "id": "successful-status",
   "metadata": {},
   "outputs": [],
   "source": [
    "male_firstnames = df[(df.genre == \"M\") & (df.nb > 100)][\"prenom\"]"
   ]
  },
  {
   "cell_type": "code",
   "execution_count": 243,
   "id": "synthetic-oxygen",
   "metadata": {},
   "outputs": [
    {
     "data": {
      "text/plain": [
       "0                      Michel\n",
       "1                       Alain\n",
       "2                    Philippe\n",
       "3                     Bernard\n",
       "4                   Christian\n",
       "                 ...         \n",
       "12455             Elefthérios\n",
       "12456    Patrice Bernard Jean\n",
       "12457                  Desire\n",
       "12461            Pierre Emile\n",
       "12462               F.Jacques\n",
       "Name: prenom, Length: 6581, dtype: object"
      ]
     },
     "execution_count": 243,
     "metadata": {},
     "output_type": "execute_result"
    }
   ],
   "source": [
    "male_firstnames"
   ]
  },
  {
   "cell_type": "code",
   "execution_count": 246,
   "id": "blond-direction",
   "metadata": {},
   "outputs": [
    {
     "data": {
      "text/html": [
       "<div>\n",
       "<style scoped>\n",
       "    .dataframe tbody tr th:only-of-type {\n",
       "        vertical-align: middle;\n",
       "    }\n",
       "\n",
       "    .dataframe tbody tr th {\n",
       "        vertical-align: top;\n",
       "    }\n",
       "\n",
       "    .dataframe thead th {\n",
       "        text-align: right;\n",
       "    }\n",
       "</style>\n",
       "<table border=\"1\" class=\"dataframe\">\n",
       "  <thead>\n",
       "    <tr style=\"text-align: right;\">\n",
       "      <th></th>\n",
       "      <th>prenom</th>\n",
       "      <th>genre</th>\n",
       "      <th>nb</th>\n",
       "    </tr>\n",
       "  </thead>\n",
       "  <tbody>\n",
       "    <tr>\n",
       "      <th>22</th>\n",
       "      <td>Catherine</td>\n",
       "      <td>F</td>\n",
       "      <td>4389</td>\n",
       "    </tr>\n",
       "    <tr>\n",
       "      <th>23</th>\n",
       "      <td>Françoise</td>\n",
       "      <td>F</td>\n",
       "      <td>4334</td>\n",
       "    </tr>\n",
       "    <tr>\n",
       "      <th>24</th>\n",
       "      <td>Isabelle</td>\n",
       "      <td>F</td>\n",
       "      <td>4295</td>\n",
       "    </tr>\n",
       "    <tr>\n",
       "      <th>26</th>\n",
       "      <td>Sylvie</td>\n",
       "      <td>F</td>\n",
       "      <td>4197</td>\n",
       "    </tr>\n",
       "    <tr>\n",
       "      <th>28</th>\n",
       "      <td>Martine</td>\n",
       "      <td>F</td>\n",
       "      <td>4094</td>\n",
       "    </tr>\n",
       "    <tr>\n",
       "      <th>...</th>\n",
       "      <td>...</td>\n",
       "      <td>...</td>\n",
       "      <td>...</td>\n",
       "    </tr>\n",
       "    <tr>\n",
       "      <th>12202</th>\n",
       "      <td>Etienne</td>\n",
       "      <td>F</td>\n",
       "      <td>1</td>\n",
       "    </tr>\n",
       "    <tr>\n",
       "      <th>12248</th>\n",
       "      <td>Andrew</td>\n",
       "      <td>F</td>\n",
       "      <td>1</td>\n",
       "    </tr>\n",
       "    <tr>\n",
       "      <th>12342</th>\n",
       "      <td>Elen</td>\n",
       "      <td>F</td>\n",
       "      <td>1</td>\n",
       "    </tr>\n",
       "    <tr>\n",
       "      <th>12427</th>\n",
       "      <td>Maialen</td>\n",
       "      <td>F</td>\n",
       "      <td>1</td>\n",
       "    </tr>\n",
       "    <tr>\n",
       "      <th>12466</th>\n",
       "      <td>Florisse</td>\n",
       "      <td>F</td>\n",
       "      <td>1</td>\n",
       "    </tr>\n",
       "  </tbody>\n",
       "</table>\n",
       "<p>747 rows × 3 columns</p>\n",
       "</div>"
      ],
      "text/plain": [
       "          prenom genre    nb\n",
       "22     Catherine     F  4389\n",
       "23     Françoise     F  4334\n",
       "24      Isabelle     F  4295\n",
       "26        Sylvie     F  4197\n",
       "28       Martine     F  4094\n",
       "...          ...   ...   ...\n",
       "12202    Etienne     F     1\n",
       "12248     Andrew     F     1\n",
       "12342       Elen     F     1\n",
       "12427    Maialen     F     1\n",
       "12466   Florisse     F     1\n",
       "\n",
       "[747 rows x 3 columns]"
      ]
     },
     "execution_count": 246,
     "metadata": {},
     "output_type": "execute_result"
    }
   ],
   "source": [
    "df[(df.genre == \"F\") & (df[\"prenom\"].isin(male_firstnames))]"
   ]
  },
  {
   "cell_type": "markdown",
   "id": "biological-arabic",
   "metadata": {},
   "source": [
    "#### Seconde solution"
   ]
  },
  {
   "cell_type": "code",
   "execution_count": 228,
   "id": "patent-nudist",
   "metadata": {},
   "outputs": [],
   "source": [
    "duplicate_prenom = df[\"prenom\"].value_counts()"
   ]
  },
  {
   "cell_type": "code",
   "execution_count": 229,
   "id": "spoken-engagement",
   "metadata": {},
   "outputs": [
    {
     "data": {
      "text/plain": [
       "746"
      ]
     },
     "execution_count": 229,
     "metadata": {},
     "output_type": "execute_result"
    }
   ],
   "source": [
    "(duplicate_prenom >= 2).sum()"
   ]
  },
  {
   "cell_type": "code",
   "execution_count": 223,
   "id": "technological-karaoke",
   "metadata": {},
   "outputs": [
    {
     "data": {
      "text/plain": [
       "Janick      2\n",
       "Frédéric    2\n",
       "Leda        2\n",
       "Nicolas     2\n",
       "Cécile      2\n",
       "           ..\n",
       "Mario       2\n",
       "Valérie     2\n",
       "Gill        2\n",
       "Ludivine    2\n",
       "Marjorie    2\n",
       "Name: prenom, Length: 746, dtype: int64"
      ]
     },
     "execution_count": 223,
     "metadata": {},
     "output_type": "execute_result"
    }
   ],
   "source": [
    "duplicate_prenom[duplicate_prenom >= 2]"
   ]
  },
  {
   "cell_type": "markdown",
   "id": "hairy-omega",
   "metadata": {},
   "source": [
    "## Trouver le prénom le plus long"
   ]
  },
  {
   "cell_type": "code",
   "execution_count": 264,
   "id": "binary-sacrifice",
   "metadata": {},
   "outputs": [
    {
     "data": {
      "text/plain": [
       "('Christiane, Victoire Marie-Emm', 30)"
      ]
     },
     "execution_count": 264,
     "metadata": {},
     "output_type": "execute_result"
    }
   ],
   "source": [
    "max([(prenom, len(prenom)) for prenom in df[\"prenom\"].dropna().unique()], key=lambda x: x[1])"
   ]
  },
  {
   "cell_type": "markdown",
   "id": "informal-bandwidth",
   "metadata": {},
   "source": [
    "```\n",
    "[\n",
    "    (Christophe, 10),\n",
    "    (Alain, 5),\n",
    "    ....\n",
    "]\n",
    "```"
   ]
  },
  {
   "cell_type": "markdown",
   "id": "green-ethernet",
   "metadata": {},
   "source": [
    "#### Solution la plus élégante et optimisée"
   ]
  },
  {
   "cell_type": "code",
   "execution_count": 267,
   "id": "graphic-bible",
   "metadata": {},
   "outputs": [],
   "source": [
    "df[\"len_prenom\"] = df[\"prenom\"].str.len()"
   ]
  },
  {
   "cell_type": "code",
   "execution_count": 269,
   "id": "heard-covering",
   "metadata": {},
   "outputs": [
    {
     "data": {
      "text/html": [
       "<div>\n",
       "<style scoped>\n",
       "    .dataframe tbody tr th:only-of-type {\n",
       "        vertical-align: middle;\n",
       "    }\n",
       "\n",
       "    .dataframe tbody tr th {\n",
       "        vertical-align: top;\n",
       "    }\n",
       "\n",
       "    .dataframe thead th {\n",
       "        text-align: right;\n",
       "    }\n",
       "</style>\n",
       "<table border=\"1\" class=\"dataframe\">\n",
       "  <thead>\n",
       "    <tr style=\"text-align: right;\">\n",
       "      <th></th>\n",
       "      <th>prenom</th>\n",
       "      <th>genre</th>\n",
       "      <th>nb</th>\n",
       "      <th>len_prenom</th>\n",
       "    </tr>\n",
       "  </thead>\n",
       "  <tbody>\n",
       "    <tr>\n",
       "      <th>4874</th>\n",
       "      <td>Christiane, Victoire Marie-Emm</td>\n",
       "      <td>F</td>\n",
       "      <td>1</td>\n",
       "      <td>30.0</td>\n",
       "    </tr>\n",
       "    <tr>\n",
       "      <th>6750</th>\n",
       "      <td>Emilienne Marieta Atea Vahine</td>\n",
       "      <td>F</td>\n",
       "      <td>1</td>\n",
       "      <td>29.0</td>\n",
       "    </tr>\n",
       "    <tr>\n",
       "      <th>12231</th>\n",
       "      <td>Marie Lamberte Dite Alisette</td>\n",
       "      <td>F</td>\n",
       "      <td>1</td>\n",
       "      <td>28.0</td>\n",
       "    </tr>\n",
       "    <tr>\n",
       "      <th>11671</th>\n",
       "      <td>Freddy Tapunui Vane Dit Coco</td>\n",
       "      <td>M</td>\n",
       "      <td>1</td>\n",
       "      <td>28.0</td>\n",
       "    </tr>\n",
       "    <tr>\n",
       "      <th>4601</th>\n",
       "      <td>Law De Lauriston De Boubers</td>\n",
       "      <td>M</td>\n",
       "      <td>1</td>\n",
       "      <td>27.0</td>\n",
       "    </tr>\n",
       "    <tr>\n",
       "      <th>...</th>\n",
       "      <td>...</td>\n",
       "      <td>...</td>\n",
       "      <td>...</td>\n",
       "      <td>...</td>\n",
       "    </tr>\n",
       "    <tr>\n",
       "      <th>2690</th>\n",
       "      <td>Jo</td>\n",
       "      <td>M</td>\n",
       "      <td>3</td>\n",
       "      <td>2.0</td>\n",
       "    </tr>\n",
       "    <tr>\n",
       "      <th>8898</th>\n",
       "      <td>Ma</td>\n",
       "      <td>M</td>\n",
       "      <td>1</td>\n",
       "      <td>2.0</td>\n",
       "    </tr>\n",
       "    <tr>\n",
       "      <th>12016</th>\n",
       "      <td>Lu</td>\n",
       "      <td>F</td>\n",
       "      <td>1</td>\n",
       "      <td>2.0</td>\n",
       "    </tr>\n",
       "    <tr>\n",
       "      <th>2090</th>\n",
       "      <td>NaN</td>\n",
       "      <td>M</td>\n",
       "      <td>5</td>\n",
       "      <td>NaN</td>\n",
       "    </tr>\n",
       "    <tr>\n",
       "      <th>4224</th>\n",
       "      <td>NaN</td>\n",
       "      <td>F</td>\n",
       "      <td>2</td>\n",
       "      <td>NaN</td>\n",
       "    </tr>\n",
       "  </tbody>\n",
       "</table>\n",
       "<p>12467 rows × 4 columns</p>\n",
       "</div>"
      ],
      "text/plain": [
       "                               prenom genre  nb  len_prenom\n",
       "4874   Christiane, Victoire Marie-Emm     F   1        30.0\n",
       "6750    Emilienne Marieta Atea Vahine     F   1        29.0\n",
       "12231    Marie Lamberte Dite Alisette     F   1        28.0\n",
       "11671    Freddy Tapunui Vane Dit Coco     M   1        28.0\n",
       "4601      Law De Lauriston De Boubers     M   1        27.0\n",
       "...                               ...   ...  ..         ...\n",
       "2690                               Jo     M   3         2.0\n",
       "8898                               Ma     M   1         2.0\n",
       "12016                              Lu     F   1         2.0\n",
       "2090                              NaN     M   5         NaN\n",
       "4224                              NaN     F   2         NaN\n",
       "\n",
       "[12467 rows x 4 columns]"
      ]
     },
     "execution_count": 269,
     "metadata": {},
     "output_type": "execute_result"
    }
   ],
   "source": [
    "df.sort_values(\"len_prenom\", ascending=False)"
   ]
  },
  {
   "cell_type": "markdown",
   "id": "educational-bosnia",
   "metadata": {},
   "source": [
    "#### Solution alternative ok"
   ]
  },
  {
   "cell_type": "code",
   "execution_count": 276,
   "id": "sound-balance",
   "metadata": {},
   "outputs": [],
   "source": [
    "df[\"len_prenom_2\"] = df[\"prenom\"].fillna(\"\").apply(len)\n",
    "\n",
    "# df[\"len_prenom_2\"] = df[\"prenom\"].fillna(\"\").apply(lambda x: len(x))"
   ]
  },
  {
   "cell_type": "code",
   "execution_count": 275,
   "id": "intimate-hopkins",
   "metadata": {},
   "outputs": [
    {
     "data": {
      "text/html": [
       "<div>\n",
       "<style scoped>\n",
       "    .dataframe tbody tr th:only-of-type {\n",
       "        vertical-align: middle;\n",
       "    }\n",
       "\n",
       "    .dataframe tbody tr th {\n",
       "        vertical-align: top;\n",
       "    }\n",
       "\n",
       "    .dataframe thead th {\n",
       "        text-align: right;\n",
       "    }\n",
       "</style>\n",
       "<table border=\"1\" class=\"dataframe\">\n",
       "  <thead>\n",
       "    <tr style=\"text-align: right;\">\n",
       "      <th></th>\n",
       "      <th>prenom</th>\n",
       "      <th>genre</th>\n",
       "      <th>nb</th>\n",
       "      <th>len_prenom</th>\n",
       "      <th>len_prenom_2</th>\n",
       "    </tr>\n",
       "  </thead>\n",
       "  <tbody>\n",
       "    <tr>\n",
       "      <th>4874</th>\n",
       "      <td>Christiane, Victoire Marie-Emm</td>\n",
       "      <td>F</td>\n",
       "      <td>1</td>\n",
       "      <td>30.0</td>\n",
       "      <td>30</td>\n",
       "    </tr>\n",
       "    <tr>\n",
       "      <th>6750</th>\n",
       "      <td>Emilienne Marieta Atea Vahine</td>\n",
       "      <td>F</td>\n",
       "      <td>1</td>\n",
       "      <td>29.0</td>\n",
       "      <td>29</td>\n",
       "    </tr>\n",
       "    <tr>\n",
       "      <th>11671</th>\n",
       "      <td>Freddy Tapunui Vane Dit Coco</td>\n",
       "      <td>M</td>\n",
       "      <td>1</td>\n",
       "      <td>28.0</td>\n",
       "      <td>28</td>\n",
       "    </tr>\n",
       "    <tr>\n",
       "      <th>12231</th>\n",
       "      <td>Marie Lamberte Dite Alisette</td>\n",
       "      <td>F</td>\n",
       "      <td>1</td>\n",
       "      <td>28.0</td>\n",
       "      <td>28</td>\n",
       "    </tr>\n",
       "    <tr>\n",
       "      <th>11579</th>\n",
       "      <td>Sophie Yvonne Rosalie Marie</td>\n",
       "      <td>F</td>\n",
       "      <td>1</td>\n",
       "      <td>27.0</td>\n",
       "      <td>27</td>\n",
       "    </tr>\n",
       "    <tr>\n",
       "      <th>...</th>\n",
       "      <td>...</td>\n",
       "      <td>...</td>\n",
       "      <td>...</td>\n",
       "      <td>...</td>\n",
       "      <td>...</td>\n",
       "    </tr>\n",
       "    <tr>\n",
       "      <th>2690</th>\n",
       "      <td>Jo</td>\n",
       "      <td>M</td>\n",
       "      <td>3</td>\n",
       "      <td>2.0</td>\n",
       "      <td>2</td>\n",
       "    </tr>\n",
       "    <tr>\n",
       "      <th>8898</th>\n",
       "      <td>Ma</td>\n",
       "      <td>M</td>\n",
       "      <td>1</td>\n",
       "      <td>2.0</td>\n",
       "      <td>2</td>\n",
       "    </tr>\n",
       "    <tr>\n",
       "      <th>8005</th>\n",
       "      <td>Ge</td>\n",
       "      <td>M</td>\n",
       "      <td>1</td>\n",
       "      <td>2.0</td>\n",
       "      <td>2</td>\n",
       "    </tr>\n",
       "    <tr>\n",
       "      <th>2090</th>\n",
       "      <td>NaN</td>\n",
       "      <td>M</td>\n",
       "      <td>5</td>\n",
       "      <td>NaN</td>\n",
       "      <td>0</td>\n",
       "    </tr>\n",
       "    <tr>\n",
       "      <th>4224</th>\n",
       "      <td>NaN</td>\n",
       "      <td>F</td>\n",
       "      <td>2</td>\n",
       "      <td>NaN</td>\n",
       "      <td>0</td>\n",
       "    </tr>\n",
       "  </tbody>\n",
       "</table>\n",
       "<p>12467 rows × 5 columns</p>\n",
       "</div>"
      ],
      "text/plain": [
       "                               prenom genre  nb  len_prenom  len_prenom_2\n",
       "4874   Christiane, Victoire Marie-Emm     F   1        30.0            30\n",
       "6750    Emilienne Marieta Atea Vahine     F   1        29.0            29\n",
       "11671    Freddy Tapunui Vane Dit Coco     M   1        28.0            28\n",
       "12231    Marie Lamberte Dite Alisette     F   1        28.0            28\n",
       "11579     Sophie Yvonne Rosalie Marie     F   1        27.0            27\n",
       "...                               ...   ...  ..         ...           ...\n",
       "2690                               Jo     M   3         2.0             2\n",
       "8898                               Ma     M   1         2.0             2\n",
       "8005                               Ge     M   1         2.0             2\n",
       "2090                              NaN     M   5         NaN             0\n",
       "4224                              NaN     F   2         NaN             0\n",
       "\n",
       "[12467 rows x 5 columns]"
      ]
     },
     "execution_count": 275,
     "metadata": {},
     "output_type": "execute_result"
    }
   ],
   "source": [
    "df.sort_values(\"len_prenom_2\", ascending=False)"
   ]
  },
  {
   "cell_type": "code",
   "execution_count": 284,
   "id": "accepted-precipitation",
   "metadata": {},
   "outputs": [
    {
     "data": {
      "text/plain": [
       "0        6\n",
       "1        5\n",
       "2        8\n",
       "3        7\n",
       "4        9\n",
       "        ..\n",
       "12462    9\n",
       "12463    6\n",
       "12464    6\n",
       "12465    6\n",
       "12466    8\n",
       "Name: prenom, Length: 12467, dtype: int64"
      ]
     },
     "execution_count": 284,
     "metadata": {},
     "output_type": "execute_result"
    }
   ],
   "source": [
    "df[\"prenom\"].fillna(\"\").apply(len)  # f(x) = x + 1"
   ]
  },
  {
   "cell_type": "markdown",
   "id": "posted-repeat",
   "metadata": {},
   "source": [
    "## Explication du inplace"
   ]
  },
  {
   "cell_type": "code",
   "execution_count": 295,
   "id": "parliamentary-raise",
   "metadata": {},
   "outputs": [
    {
     "data": {
      "text/html": [
       "<div>\n",
       "<style scoped>\n",
       "    .dataframe tbody tr th:only-of-type {\n",
       "        vertical-align: middle;\n",
       "    }\n",
       "\n",
       "    .dataframe tbody tr th {\n",
       "        vertical-align: top;\n",
       "    }\n",
       "\n",
       "    .dataframe thead th {\n",
       "        text-align: right;\n",
       "    }\n",
       "</style>\n",
       "<table border=\"1\" class=\"dataframe\">\n",
       "  <thead>\n",
       "    <tr style=\"text-align: right;\">\n",
       "      <th></th>\n",
       "      <th>genre</th>\n",
       "      <th>nb</th>\n",
       "      <th>len_prenom</th>\n",
       "    </tr>\n",
       "    <tr>\n",
       "      <th>prenom</th>\n",
       "      <th></th>\n",
       "      <th></th>\n",
       "      <th></th>\n",
       "    </tr>\n",
       "  </thead>\n",
       "  <tbody>\n",
       "    <tr>\n",
       "      <th>Michel</th>\n",
       "      <td>M</td>\n",
       "      <td>14136</td>\n",
       "      <td>6.0</td>\n",
       "    </tr>\n",
       "    <tr>\n",
       "      <th>Alain</th>\n",
       "      <td>M</td>\n",
       "      <td>10646</td>\n",
       "      <td>5.0</td>\n",
       "    </tr>\n",
       "    <tr>\n",
       "      <th>Philippe</th>\n",
       "      <td>M</td>\n",
       "      <td>9903</td>\n",
       "      <td>8.0</td>\n",
       "    </tr>\n",
       "    <tr>\n",
       "      <th>Bernard</th>\n",
       "      <td>M</td>\n",
       "      <td>8992</td>\n",
       "      <td>7.0</td>\n",
       "    </tr>\n",
       "    <tr>\n",
       "      <th>Christian</th>\n",
       "      <td>M</td>\n",
       "      <td>8102</td>\n",
       "      <td>9.0</td>\n",
       "    </tr>\n",
       "    <tr>\n",
       "      <th>...</th>\n",
       "      <td>...</td>\n",
       "      <td>...</td>\n",
       "      <td>...</td>\n",
       "    </tr>\n",
       "    <tr>\n",
       "      <th>F.Jacques</th>\n",
       "      <td>M</td>\n",
       "      <td>1</td>\n",
       "      <td>9.0</td>\n",
       "    </tr>\n",
       "    <tr>\n",
       "      <th>Frédie</th>\n",
       "      <td>F</td>\n",
       "      <td>1</td>\n",
       "      <td>6.0</td>\n",
       "    </tr>\n",
       "    <tr>\n",
       "      <th>Efisia</th>\n",
       "      <td>F</td>\n",
       "      <td>1</td>\n",
       "      <td>6.0</td>\n",
       "    </tr>\n",
       "    <tr>\n",
       "      <th>Cosima</th>\n",
       "      <td>F</td>\n",
       "      <td>1</td>\n",
       "      <td>6.0</td>\n",
       "    </tr>\n",
       "    <tr>\n",
       "      <th>Florisse</th>\n",
       "      <td>F</td>\n",
       "      <td>1</td>\n",
       "      <td>8.0</td>\n",
       "    </tr>\n",
       "  </tbody>\n",
       "</table>\n",
       "<p>12467 rows × 3 columns</p>\n",
       "</div>"
      ],
      "text/plain": [
       "          genre     nb  len_prenom\n",
       "prenom                            \n",
       "Michel        M  14136         6.0\n",
       "Alain         M  10646         5.0\n",
       "Philippe      M   9903         8.0\n",
       "Bernard       M   8992         7.0\n",
       "Christian     M   8102         9.0\n",
       "...         ...    ...         ...\n",
       "F.Jacques     M      1         9.0\n",
       "Frédie        F      1         6.0\n",
       "Efisia        F      1         6.0\n",
       "Cosima        F      1         6.0\n",
       "Florisse      F      1         8.0\n",
       "\n",
       "[12467 rows x 3 columns]"
      ]
     },
     "execution_count": 295,
     "metadata": {},
     "output_type": "execute_result"
    }
   ],
   "source": [
    "df = df.set_index(\"prenom\")"
   ]
  },
  {
   "cell_type": "code",
   "execution_count": 297,
   "id": "developmental-homeless",
   "metadata": {},
   "outputs": [],
   "source": [
    "# ou on peut aussi faire\n",
    "df.set_index(\"prenom\", inplace=True)"
   ]
  },
  {
   "cell_type": "code",
   "execution_count": 299,
   "id": "unable-clarity",
   "metadata": {},
   "outputs": [],
   "source": [
    "df.reset_index(inplace=True)"
   ]
  },
  {
   "cell_type": "code",
   "execution_count": 300,
   "id": "alpha-controversy",
   "metadata": {},
   "outputs": [
    {
     "data": {
      "text/html": [
       "<div>\n",
       "<style scoped>\n",
       "    .dataframe tbody tr th:only-of-type {\n",
       "        vertical-align: middle;\n",
       "    }\n",
       "\n",
       "    .dataframe tbody tr th {\n",
       "        vertical-align: top;\n",
       "    }\n",
       "\n",
       "    .dataframe thead th {\n",
       "        text-align: right;\n",
       "    }\n",
       "</style>\n",
       "<table border=\"1\" class=\"dataframe\">\n",
       "  <thead>\n",
       "    <tr style=\"text-align: right;\">\n",
       "      <th></th>\n",
       "      <th>prenom</th>\n",
       "      <th>genre</th>\n",
       "      <th>nb</th>\n",
       "      <th>len_prenom</th>\n",
       "    </tr>\n",
       "  </thead>\n",
       "  <tbody>\n",
       "    <tr>\n",
       "      <th>0</th>\n",
       "      <td>Michel</td>\n",
       "      <td>M</td>\n",
       "      <td>14136</td>\n",
       "      <td>6.0</td>\n",
       "    </tr>\n",
       "    <tr>\n",
       "      <th>1</th>\n",
       "      <td>Alain</td>\n",
       "      <td>M</td>\n",
       "      <td>10646</td>\n",
       "      <td>5.0</td>\n",
       "    </tr>\n",
       "    <tr>\n",
       "      <th>2</th>\n",
       "      <td>Philippe</td>\n",
       "      <td>M</td>\n",
       "      <td>9903</td>\n",
       "      <td>8.0</td>\n",
       "    </tr>\n",
       "    <tr>\n",
       "      <th>3</th>\n",
       "      <td>Bernard</td>\n",
       "      <td>M</td>\n",
       "      <td>8992</td>\n",
       "      <td>7.0</td>\n",
       "    </tr>\n",
       "    <tr>\n",
       "      <th>4</th>\n",
       "      <td>Christian</td>\n",
       "      <td>M</td>\n",
       "      <td>8102</td>\n",
       "      <td>9.0</td>\n",
       "    </tr>\n",
       "    <tr>\n",
       "      <th>...</th>\n",
       "      <td>...</td>\n",
       "      <td>...</td>\n",
       "      <td>...</td>\n",
       "      <td>...</td>\n",
       "    </tr>\n",
       "    <tr>\n",
       "      <th>12462</th>\n",
       "      <td>F.Jacques</td>\n",
       "      <td>M</td>\n",
       "      <td>1</td>\n",
       "      <td>9.0</td>\n",
       "    </tr>\n",
       "    <tr>\n",
       "      <th>12463</th>\n",
       "      <td>Frédie</td>\n",
       "      <td>F</td>\n",
       "      <td>1</td>\n",
       "      <td>6.0</td>\n",
       "    </tr>\n",
       "    <tr>\n",
       "      <th>12464</th>\n",
       "      <td>Efisia</td>\n",
       "      <td>F</td>\n",
       "      <td>1</td>\n",
       "      <td>6.0</td>\n",
       "    </tr>\n",
       "    <tr>\n",
       "      <th>12465</th>\n",
       "      <td>Cosima</td>\n",
       "      <td>F</td>\n",
       "      <td>1</td>\n",
       "      <td>6.0</td>\n",
       "    </tr>\n",
       "    <tr>\n",
       "      <th>12466</th>\n",
       "      <td>Florisse</td>\n",
       "      <td>F</td>\n",
       "      <td>1</td>\n",
       "      <td>8.0</td>\n",
       "    </tr>\n",
       "  </tbody>\n",
       "</table>\n",
       "<p>12467 rows × 4 columns</p>\n",
       "</div>"
      ],
      "text/plain": [
       "          prenom genre     nb  len_prenom\n",
       "0         Michel     M  14136         6.0\n",
       "1          Alain     M  10646         5.0\n",
       "2       Philippe     M   9903         8.0\n",
       "3        Bernard     M   8992         7.0\n",
       "4      Christian     M   8102         9.0\n",
       "...          ...   ...    ...         ...\n",
       "12462  F.Jacques     M      1         9.0\n",
       "12463     Frédie     F      1         6.0\n",
       "12464     Efisia     F      1         6.0\n",
       "12465     Cosima     F      1         6.0\n",
       "12466   Florisse     F      1         8.0\n",
       "\n",
       "[12467 rows x 4 columns]"
      ]
     },
     "execution_count": 300,
     "metadata": {},
     "output_type": "execute_result"
    }
   ],
   "source": [
    "df"
   ]
  },
  {
   "cell_type": "markdown",
   "id": "alone-spending",
   "metadata": {},
   "source": [
    "## Les jointures"
   ]
  },
  {
   "cell_type": "code",
   "execution_count": 285,
   "id": "upper-voltage",
   "metadata": {},
   "outputs": [],
   "source": [
    "# En pandas on fait des jointures avec df.merge (ou df.join) mais je préfère df.merge"
   ]
  },
  {
   "cell_type": "code",
   "execution_count": 286,
   "id": "environmental-recommendation",
   "metadata": {},
   "outputs": [
    {
     "data": {
      "text/html": [
       "<div>\n",
       "<style scoped>\n",
       "    .dataframe tbody tr th:only-of-type {\n",
       "        vertical-align: middle;\n",
       "    }\n",
       "\n",
       "    .dataframe tbody tr th {\n",
       "        vertical-align: top;\n",
       "    }\n",
       "\n",
       "    .dataframe thead th {\n",
       "        text-align: right;\n",
       "    }\n",
       "</style>\n",
       "<table border=\"1\" class=\"dataframe\">\n",
       "  <thead>\n",
       "    <tr style=\"text-align: right;\">\n",
       "      <th></th>\n",
       "      <th>prenom</th>\n",
       "      <th>genre</th>\n",
       "      <th>nb</th>\n",
       "      <th>len_prenom</th>\n",
       "      <th>len_prenom_2</th>\n",
       "    </tr>\n",
       "  </thead>\n",
       "  <tbody>\n",
       "    <tr>\n",
       "      <th>0</th>\n",
       "      <td>Michel</td>\n",
       "      <td>M</td>\n",
       "      <td>14136</td>\n",
       "      <td>6.0</td>\n",
       "      <td>6</td>\n",
       "    </tr>\n",
       "    <tr>\n",
       "      <th>1</th>\n",
       "      <td>Alain</td>\n",
       "      <td>M</td>\n",
       "      <td>10646</td>\n",
       "      <td>5.0</td>\n",
       "      <td>5</td>\n",
       "    </tr>\n",
       "    <tr>\n",
       "      <th>2</th>\n",
       "      <td>Philippe</td>\n",
       "      <td>M</td>\n",
       "      <td>9903</td>\n",
       "      <td>8.0</td>\n",
       "      <td>8</td>\n",
       "    </tr>\n",
       "    <tr>\n",
       "      <th>3</th>\n",
       "      <td>Bernard</td>\n",
       "      <td>M</td>\n",
       "      <td>8992</td>\n",
       "      <td>7.0</td>\n",
       "      <td>7</td>\n",
       "    </tr>\n",
       "    <tr>\n",
       "      <th>4</th>\n",
       "      <td>Christian</td>\n",
       "      <td>M</td>\n",
       "      <td>8102</td>\n",
       "      <td>9.0</td>\n",
       "      <td>9</td>\n",
       "    </tr>\n",
       "    <tr>\n",
       "      <th>...</th>\n",
       "      <td>...</td>\n",
       "      <td>...</td>\n",
       "      <td>...</td>\n",
       "      <td>...</td>\n",
       "      <td>...</td>\n",
       "    </tr>\n",
       "    <tr>\n",
       "      <th>12462</th>\n",
       "      <td>F.Jacques</td>\n",
       "      <td>M</td>\n",
       "      <td>1</td>\n",
       "      <td>9.0</td>\n",
       "      <td>9</td>\n",
       "    </tr>\n",
       "    <tr>\n",
       "      <th>12463</th>\n",
       "      <td>Frédie</td>\n",
       "      <td>F</td>\n",
       "      <td>1</td>\n",
       "      <td>6.0</td>\n",
       "      <td>6</td>\n",
       "    </tr>\n",
       "    <tr>\n",
       "      <th>12464</th>\n",
       "      <td>Efisia</td>\n",
       "      <td>F</td>\n",
       "      <td>1</td>\n",
       "      <td>6.0</td>\n",
       "      <td>6</td>\n",
       "    </tr>\n",
       "    <tr>\n",
       "      <th>12465</th>\n",
       "      <td>Cosima</td>\n",
       "      <td>F</td>\n",
       "      <td>1</td>\n",
       "      <td>6.0</td>\n",
       "      <td>6</td>\n",
       "    </tr>\n",
       "    <tr>\n",
       "      <th>12466</th>\n",
       "      <td>Florisse</td>\n",
       "      <td>F</td>\n",
       "      <td>1</td>\n",
       "      <td>8.0</td>\n",
       "      <td>8</td>\n",
       "    </tr>\n",
       "  </tbody>\n",
       "</table>\n",
       "<p>12467 rows × 5 columns</p>\n",
       "</div>"
      ],
      "text/plain": [
       "          prenom genre     nb  len_prenom  len_prenom_2\n",
       "0         Michel     M  14136         6.0             6\n",
       "1          Alain     M  10646         5.0             5\n",
       "2       Philippe     M   9903         8.0             8\n",
       "3        Bernard     M   8992         7.0             7\n",
       "4      Christian     M   8102         9.0             9\n",
       "...          ...   ...    ...         ...           ...\n",
       "12462  F.Jacques     M      1         9.0             9\n",
       "12463     Frédie     F      1         6.0             6\n",
       "12464     Efisia     F      1         6.0             6\n",
       "12465     Cosima     F      1         6.0             6\n",
       "12466   Florisse     F      1         8.0             8\n",
       "\n",
       "[12467 rows x 5 columns]"
      ]
     },
     "execution_count": 286,
     "metadata": {},
     "output_type": "execute_result"
    }
   ],
   "source": [
    "df"
   ]
  },
  {
   "cell_type": "code",
   "execution_count": 289,
   "id": "fitting-offset",
   "metadata": {
    "collapsed": true
   },
   "outputs": [
    {
     "ename": "KeyError",
     "evalue": "\"['len_prenom_2'] not found in axis\"",
     "output_type": "error",
     "traceback": [
      "\u001b[0;31m---------------------------------------------------------------------------\u001b[0m",
      "\u001b[0;31mKeyError\u001b[0m                                  Traceback (most recent call last)",
      "\u001b[0;32m<ipython-input-289-0a3ff60cfc24>\u001b[0m in \u001b[0;36m<module>\u001b[0;34m\u001b[0m\n\u001b[0;32m----> 1\u001b[0;31m \u001b[0mdf\u001b[0m\u001b[0;34m.\u001b[0m\u001b[0mdrop\u001b[0m\u001b[0;34m(\u001b[0m\u001b[0;34m\"len_prenom_2\"\u001b[0m\u001b[0;34m,\u001b[0m \u001b[0maxis\u001b[0m\u001b[0;34m=\u001b[0m\u001b[0;36m1\u001b[0m\u001b[0;34m)\u001b[0m\u001b[0;34m\u001b[0m\u001b[0;34m\u001b[0m\u001b[0m\n\u001b[0m\u001b[1;32m      2\u001b[0m \u001b[0;34m\u001b[0m\u001b[0m\n\u001b[1;32m      3\u001b[0m \u001b[0;31m# mémo : axis = 1 ; 1 ---> | ----> vertical ---> colonne\u001b[0m\u001b[0;34m\u001b[0m\u001b[0;34m\u001b[0m\u001b[0;34m\u001b[0m\u001b[0m\n\u001b[1;32m      4\u001b[0m \u001b[0;31m# memo : axis = 0 ; c'est le contraire de l'autre donc les lignes\u001b[0m\u001b[0;34m\u001b[0m\u001b[0;34m\u001b[0m\u001b[0;34m\u001b[0m\u001b[0m\n",
      "\u001b[0;32m~/.virtualenvs/amse-2021-groupe-A/lib/python3.8/site-packages/pandas/core/frame.py\u001b[0m in \u001b[0;36mdrop\u001b[0;34m(self, labels, axis, index, columns, level, inplace, errors)\u001b[0m\n\u001b[1;32m   4306\u001b[0m                 \u001b[0mweight\u001b[0m  \u001b[0;36m1.0\u001b[0m     \u001b[0;36m0.8\u001b[0m\u001b[0;34m\u001b[0m\u001b[0;34m\u001b[0m\u001b[0m\n\u001b[1;32m   4307\u001b[0m         \"\"\"\n\u001b[0;32m-> 4308\u001b[0;31m         return super().drop(\n\u001b[0m\u001b[1;32m   4309\u001b[0m             \u001b[0mlabels\u001b[0m\u001b[0;34m=\u001b[0m\u001b[0mlabels\u001b[0m\u001b[0;34m,\u001b[0m\u001b[0;34m\u001b[0m\u001b[0;34m\u001b[0m\u001b[0m\n\u001b[1;32m   4310\u001b[0m             \u001b[0maxis\u001b[0m\u001b[0;34m=\u001b[0m\u001b[0maxis\u001b[0m\u001b[0;34m,\u001b[0m\u001b[0;34m\u001b[0m\u001b[0;34m\u001b[0m\u001b[0m\n",
      "\u001b[0;32m~/.virtualenvs/amse-2021-groupe-A/lib/python3.8/site-packages/pandas/core/generic.py\u001b[0m in \u001b[0;36mdrop\u001b[0;34m(self, labels, axis, index, columns, level, inplace, errors)\u001b[0m\n\u001b[1;32m   4151\u001b[0m         \u001b[0;32mfor\u001b[0m \u001b[0maxis\u001b[0m\u001b[0;34m,\u001b[0m \u001b[0mlabels\u001b[0m \u001b[0;32min\u001b[0m \u001b[0maxes\u001b[0m\u001b[0;34m.\u001b[0m\u001b[0mitems\u001b[0m\u001b[0;34m(\u001b[0m\u001b[0;34m)\u001b[0m\u001b[0;34m:\u001b[0m\u001b[0;34m\u001b[0m\u001b[0;34m\u001b[0m\u001b[0m\n\u001b[1;32m   4152\u001b[0m             \u001b[0;32mif\u001b[0m \u001b[0mlabels\u001b[0m \u001b[0;32mis\u001b[0m \u001b[0;32mnot\u001b[0m \u001b[0;32mNone\u001b[0m\u001b[0;34m:\u001b[0m\u001b[0;34m\u001b[0m\u001b[0;34m\u001b[0m\u001b[0m\n\u001b[0;32m-> 4153\u001b[0;31m                 \u001b[0mobj\u001b[0m \u001b[0;34m=\u001b[0m \u001b[0mobj\u001b[0m\u001b[0;34m.\u001b[0m\u001b[0m_drop_axis\u001b[0m\u001b[0;34m(\u001b[0m\u001b[0mlabels\u001b[0m\u001b[0;34m,\u001b[0m \u001b[0maxis\u001b[0m\u001b[0;34m,\u001b[0m \u001b[0mlevel\u001b[0m\u001b[0;34m=\u001b[0m\u001b[0mlevel\u001b[0m\u001b[0;34m,\u001b[0m \u001b[0merrors\u001b[0m\u001b[0;34m=\u001b[0m\u001b[0merrors\u001b[0m\u001b[0;34m)\u001b[0m\u001b[0;34m\u001b[0m\u001b[0;34m\u001b[0m\u001b[0m\n\u001b[0m\u001b[1;32m   4154\u001b[0m \u001b[0;34m\u001b[0m\u001b[0m\n\u001b[1;32m   4155\u001b[0m         \u001b[0;32mif\u001b[0m \u001b[0minplace\u001b[0m\u001b[0;34m:\u001b[0m\u001b[0;34m\u001b[0m\u001b[0;34m\u001b[0m\u001b[0m\n",
      "\u001b[0;32m~/.virtualenvs/amse-2021-groupe-A/lib/python3.8/site-packages/pandas/core/generic.py\u001b[0m in \u001b[0;36m_drop_axis\u001b[0;34m(self, labels, axis, level, errors)\u001b[0m\n\u001b[1;32m   4186\u001b[0m                 \u001b[0mnew_axis\u001b[0m \u001b[0;34m=\u001b[0m \u001b[0maxis\u001b[0m\u001b[0;34m.\u001b[0m\u001b[0mdrop\u001b[0m\u001b[0;34m(\u001b[0m\u001b[0mlabels\u001b[0m\u001b[0;34m,\u001b[0m \u001b[0mlevel\u001b[0m\u001b[0;34m=\u001b[0m\u001b[0mlevel\u001b[0m\u001b[0;34m,\u001b[0m \u001b[0merrors\u001b[0m\u001b[0;34m=\u001b[0m\u001b[0merrors\u001b[0m\u001b[0;34m)\u001b[0m\u001b[0;34m\u001b[0m\u001b[0;34m\u001b[0m\u001b[0m\n\u001b[1;32m   4187\u001b[0m             \u001b[0;32melse\u001b[0m\u001b[0;34m:\u001b[0m\u001b[0;34m\u001b[0m\u001b[0;34m\u001b[0m\u001b[0m\n\u001b[0;32m-> 4188\u001b[0;31m                 \u001b[0mnew_axis\u001b[0m \u001b[0;34m=\u001b[0m \u001b[0maxis\u001b[0m\u001b[0;34m.\u001b[0m\u001b[0mdrop\u001b[0m\u001b[0;34m(\u001b[0m\u001b[0mlabels\u001b[0m\u001b[0;34m,\u001b[0m \u001b[0merrors\u001b[0m\u001b[0;34m=\u001b[0m\u001b[0merrors\u001b[0m\u001b[0;34m)\u001b[0m\u001b[0;34m\u001b[0m\u001b[0;34m\u001b[0m\u001b[0m\n\u001b[0m\u001b[1;32m   4189\u001b[0m             \u001b[0mresult\u001b[0m \u001b[0;34m=\u001b[0m \u001b[0mself\u001b[0m\u001b[0;34m.\u001b[0m\u001b[0mreindex\u001b[0m\u001b[0;34m(\u001b[0m\u001b[0;34m**\u001b[0m\u001b[0;34m{\u001b[0m\u001b[0maxis_name\u001b[0m\u001b[0;34m:\u001b[0m \u001b[0mnew_axis\u001b[0m\u001b[0;34m}\u001b[0m\u001b[0;34m)\u001b[0m\u001b[0;34m\u001b[0m\u001b[0;34m\u001b[0m\u001b[0m\n\u001b[1;32m   4190\u001b[0m \u001b[0;34m\u001b[0m\u001b[0m\n",
      "\u001b[0;32m~/.virtualenvs/amse-2021-groupe-A/lib/python3.8/site-packages/pandas/core/indexes/base.py\u001b[0m in \u001b[0;36mdrop\u001b[0;34m(self, labels, errors)\u001b[0m\n\u001b[1;32m   5589\u001b[0m         \u001b[0;32mif\u001b[0m \u001b[0mmask\u001b[0m\u001b[0;34m.\u001b[0m\u001b[0many\u001b[0m\u001b[0;34m(\u001b[0m\u001b[0;34m)\u001b[0m\u001b[0;34m:\u001b[0m\u001b[0;34m\u001b[0m\u001b[0;34m\u001b[0m\u001b[0m\n\u001b[1;32m   5590\u001b[0m             \u001b[0;32mif\u001b[0m \u001b[0merrors\u001b[0m \u001b[0;34m!=\u001b[0m \u001b[0;34m\"ignore\"\u001b[0m\u001b[0;34m:\u001b[0m\u001b[0;34m\u001b[0m\u001b[0;34m\u001b[0m\u001b[0m\n\u001b[0;32m-> 5591\u001b[0;31m                 \u001b[0;32mraise\u001b[0m \u001b[0mKeyError\u001b[0m\u001b[0;34m(\u001b[0m\u001b[0;34mf\"{labels[mask]} not found in axis\"\u001b[0m\u001b[0;34m)\u001b[0m\u001b[0;34m\u001b[0m\u001b[0;34m\u001b[0m\u001b[0m\n\u001b[0m\u001b[1;32m   5592\u001b[0m             \u001b[0mindexer\u001b[0m \u001b[0;34m=\u001b[0m \u001b[0mindexer\u001b[0m\u001b[0;34m[\u001b[0m\u001b[0;34m~\u001b[0m\u001b[0mmask\u001b[0m\u001b[0;34m]\u001b[0m\u001b[0;34m\u001b[0m\u001b[0;34m\u001b[0m\u001b[0m\n\u001b[1;32m   5593\u001b[0m         \u001b[0;32mreturn\u001b[0m \u001b[0mself\u001b[0m\u001b[0;34m.\u001b[0m\u001b[0mdelete\u001b[0m\u001b[0;34m(\u001b[0m\u001b[0mindexer\u001b[0m\u001b[0;34m)\u001b[0m\u001b[0;34m\u001b[0m\u001b[0;34m\u001b[0m\u001b[0m\n",
      "\u001b[0;31mKeyError\u001b[0m: \"['len_prenom_2'] not found in axis\""
     ]
    }
   ],
   "source": [
    "df.drop(\"len_prenom_2\", axis=1, inplace=True)\n",
    "\n",
    "# mémo : axis = 1 ; 1 ---> | ----> vertical ---> colonne\n",
    "# memo : axis = 0 ; c'est le contraire de l'autre donc les lignes"
   ]
  },
  {
   "cell_type": "code",
   "execution_count": 291,
   "id": "searching-belief",
   "metadata": {},
   "outputs": [
    {
     "data": {
      "text/html": [
       "<div>\n",
       "<style scoped>\n",
       "    .dataframe tbody tr th:only-of-type {\n",
       "        vertical-align: middle;\n",
       "    }\n",
       "\n",
       "    .dataframe tbody tr th {\n",
       "        vertical-align: top;\n",
       "    }\n",
       "\n",
       "    .dataframe thead th {\n",
       "        text-align: right;\n",
       "    }\n",
       "</style>\n",
       "<table border=\"1\" class=\"dataframe\">\n",
       "  <thead>\n",
       "    <tr style=\"text-align: right;\">\n",
       "      <th></th>\n",
       "      <th>prenom</th>\n",
       "      <th>genre</th>\n",
       "      <th>nb</th>\n",
       "      <th>len_prenom</th>\n",
       "    </tr>\n",
       "  </thead>\n",
       "  <tbody>\n",
       "    <tr>\n",
       "      <th>0</th>\n",
       "      <td>Michel</td>\n",
       "      <td>M</td>\n",
       "      <td>14136</td>\n",
       "      <td>6.0</td>\n",
       "    </tr>\n",
       "    <tr>\n",
       "      <th>1</th>\n",
       "      <td>Alain</td>\n",
       "      <td>M</td>\n",
       "      <td>10646</td>\n",
       "      <td>5.0</td>\n",
       "    </tr>\n",
       "    <tr>\n",
       "      <th>2</th>\n",
       "      <td>Philippe</td>\n",
       "      <td>M</td>\n",
       "      <td>9903</td>\n",
       "      <td>8.0</td>\n",
       "    </tr>\n",
       "    <tr>\n",
       "      <th>3</th>\n",
       "      <td>Bernard</td>\n",
       "      <td>M</td>\n",
       "      <td>8992</td>\n",
       "      <td>7.0</td>\n",
       "    </tr>\n",
       "    <tr>\n",
       "      <th>4</th>\n",
       "      <td>Christian</td>\n",
       "      <td>M</td>\n",
       "      <td>8102</td>\n",
       "      <td>9.0</td>\n",
       "    </tr>\n",
       "    <tr>\n",
       "      <th>5</th>\n",
       "      <td>Daniel</td>\n",
       "      <td>M</td>\n",
       "      <td>7821</td>\n",
       "      <td>6.0</td>\n",
       "    </tr>\n",
       "    <tr>\n",
       "      <th>6</th>\n",
       "      <td>Gérard</td>\n",
       "      <td>M</td>\n",
       "      <td>7009</td>\n",
       "      <td>6.0</td>\n",
       "    </tr>\n",
       "    <tr>\n",
       "      <th>7</th>\n",
       "      <td>Jean-Pierre</td>\n",
       "      <td>M</td>\n",
       "      <td>6945</td>\n",
       "      <td>11.0</td>\n",
       "    </tr>\n",
       "    <tr>\n",
       "      <th>8</th>\n",
       "      <td>Patrick</td>\n",
       "      <td>M</td>\n",
       "      <td>6884</td>\n",
       "      <td>7.0</td>\n",
       "    </tr>\n",
       "    <tr>\n",
       "      <th>9</th>\n",
       "      <td>Pierre</td>\n",
       "      <td>M</td>\n",
       "      <td>6711</td>\n",
       "      <td>6.0</td>\n",
       "    </tr>\n",
       "  </tbody>\n",
       "</table>\n",
       "</div>"
      ],
      "text/plain": [
       "        prenom genre     nb  len_prenom\n",
       "0       Michel     M  14136         6.0\n",
       "1        Alain     M  10646         5.0\n",
       "2     Philippe     M   9903         8.0\n",
       "3      Bernard     M   8992         7.0\n",
       "4    Christian     M   8102         9.0\n",
       "5       Daniel     M   7821         6.0\n",
       "6       Gérard     M   7009         6.0\n",
       "7  Jean-Pierre     M   6945        11.0\n",
       "8      Patrick     M   6884         7.0\n",
       "9       Pierre     M   6711         6.0"
      ]
     },
     "execution_count": 291,
     "metadata": {},
     "output_type": "execute_result"
    }
   ],
   "source": [
    "df.head(10)"
   ]
  },
  {
   "cell_type": "code",
   "execution_count": 301,
   "id": "coated-damage",
   "metadata": {},
   "outputs": [],
   "source": [
    "reference = pd.DataFrame({\n",
    "    \"genre\": [\"M\", \"F\", \"O\"],\n",
    "    \"genre_label\": [\"Male\", \"Female\", \"Other\"],\n",
    "})"
   ]
  },
  {
   "cell_type": "code",
   "execution_count": 302,
   "id": "grand-ensemble",
   "metadata": {},
   "outputs": [
    {
     "data": {
      "text/html": [
       "<div>\n",
       "<style scoped>\n",
       "    .dataframe tbody tr th:only-of-type {\n",
       "        vertical-align: middle;\n",
       "    }\n",
       "\n",
       "    .dataframe tbody tr th {\n",
       "        vertical-align: top;\n",
       "    }\n",
       "\n",
       "    .dataframe thead th {\n",
       "        text-align: right;\n",
       "    }\n",
       "</style>\n",
       "<table border=\"1\" class=\"dataframe\">\n",
       "  <thead>\n",
       "    <tr style=\"text-align: right;\">\n",
       "      <th></th>\n",
       "      <th>genre</th>\n",
       "      <th>genre_label</th>\n",
       "    </tr>\n",
       "  </thead>\n",
       "  <tbody>\n",
       "    <tr>\n",
       "      <th>0</th>\n",
       "      <td>M</td>\n",
       "      <td>Male</td>\n",
       "    </tr>\n",
       "    <tr>\n",
       "      <th>1</th>\n",
       "      <td>F</td>\n",
       "      <td>Female</td>\n",
       "    </tr>\n",
       "    <tr>\n",
       "      <th>2</th>\n",
       "      <td>O</td>\n",
       "      <td>Other</td>\n",
       "    </tr>\n",
       "  </tbody>\n",
       "</table>\n",
       "</div>"
      ],
      "text/plain": [
       "  genre genre_label\n",
       "0     M        Male\n",
       "1     F      Female\n",
       "2     O       Other"
      ]
     },
     "execution_count": 302,
     "metadata": {},
     "output_type": "execute_result"
    }
   ],
   "source": [
    "reference"
   ]
  },
  {
   "cell_type": "code",
   "execution_count": 303,
   "id": "polished-british",
   "metadata": {},
   "outputs": [
    {
     "data": {
      "text/html": [
       "<div>\n",
       "<style scoped>\n",
       "    .dataframe tbody tr th:only-of-type {\n",
       "        vertical-align: middle;\n",
       "    }\n",
       "\n",
       "    .dataframe tbody tr th {\n",
       "        vertical-align: top;\n",
       "    }\n",
       "\n",
       "    .dataframe thead th {\n",
       "        text-align: right;\n",
       "    }\n",
       "</style>\n",
       "<table border=\"1\" class=\"dataframe\">\n",
       "  <thead>\n",
       "    <tr style=\"text-align: right;\">\n",
       "      <th></th>\n",
       "      <th>prenom</th>\n",
       "      <th>genre</th>\n",
       "      <th>nb</th>\n",
       "      <th>len_prenom</th>\n",
       "      <th>genre_label</th>\n",
       "    </tr>\n",
       "  </thead>\n",
       "  <tbody>\n",
       "    <tr>\n",
       "      <th>0</th>\n",
       "      <td>Michel</td>\n",
       "      <td>M</td>\n",
       "      <td>14136</td>\n",
       "      <td>6.0</td>\n",
       "      <td>Male</td>\n",
       "    </tr>\n",
       "    <tr>\n",
       "      <th>1</th>\n",
       "      <td>Alain</td>\n",
       "      <td>M</td>\n",
       "      <td>10646</td>\n",
       "      <td>5.0</td>\n",
       "      <td>Male</td>\n",
       "    </tr>\n",
       "    <tr>\n",
       "      <th>2</th>\n",
       "      <td>Philippe</td>\n",
       "      <td>M</td>\n",
       "      <td>9903</td>\n",
       "      <td>8.0</td>\n",
       "      <td>Male</td>\n",
       "    </tr>\n",
       "    <tr>\n",
       "      <th>3</th>\n",
       "      <td>Bernard</td>\n",
       "      <td>M</td>\n",
       "      <td>8992</td>\n",
       "      <td>7.0</td>\n",
       "      <td>Male</td>\n",
       "    </tr>\n",
       "    <tr>\n",
       "      <th>4</th>\n",
       "      <td>Christian</td>\n",
       "      <td>M</td>\n",
       "      <td>8102</td>\n",
       "      <td>9.0</td>\n",
       "      <td>Male</td>\n",
       "    </tr>\n",
       "    <tr>\n",
       "      <th>...</th>\n",
       "      <td>...</td>\n",
       "      <td>...</td>\n",
       "      <td>...</td>\n",
       "      <td>...</td>\n",
       "      <td>...</td>\n",
       "    </tr>\n",
       "    <tr>\n",
       "      <th>12462</th>\n",
       "      <td>Kimberley</td>\n",
       "      <td>F</td>\n",
       "      <td>1</td>\n",
       "      <td>9.0</td>\n",
       "      <td>Female</td>\n",
       "    </tr>\n",
       "    <tr>\n",
       "      <th>12463</th>\n",
       "      <td>Frédie</td>\n",
       "      <td>F</td>\n",
       "      <td>1</td>\n",
       "      <td>6.0</td>\n",
       "      <td>Female</td>\n",
       "    </tr>\n",
       "    <tr>\n",
       "      <th>12464</th>\n",
       "      <td>Efisia</td>\n",
       "      <td>F</td>\n",
       "      <td>1</td>\n",
       "      <td>6.0</td>\n",
       "      <td>Female</td>\n",
       "    </tr>\n",
       "    <tr>\n",
       "      <th>12465</th>\n",
       "      <td>Cosima</td>\n",
       "      <td>F</td>\n",
       "      <td>1</td>\n",
       "      <td>6.0</td>\n",
       "      <td>Female</td>\n",
       "    </tr>\n",
       "    <tr>\n",
       "      <th>12466</th>\n",
       "      <td>Florisse</td>\n",
       "      <td>F</td>\n",
       "      <td>1</td>\n",
       "      <td>8.0</td>\n",
       "      <td>Female</td>\n",
       "    </tr>\n",
       "  </tbody>\n",
       "</table>\n",
       "<p>12467 rows × 5 columns</p>\n",
       "</div>"
      ],
      "text/plain": [
       "          prenom genre     nb  len_prenom genre_label\n",
       "0         Michel     M  14136         6.0        Male\n",
       "1          Alain     M  10646         5.0        Male\n",
       "2       Philippe     M   9903         8.0        Male\n",
       "3        Bernard     M   8992         7.0        Male\n",
       "4      Christian     M   8102         9.0        Male\n",
       "...          ...   ...    ...         ...         ...\n",
       "12462  Kimberley     F      1         9.0      Female\n",
       "12463     Frédie     F      1         6.0      Female\n",
       "12464     Efisia     F      1         6.0      Female\n",
       "12465     Cosima     F      1         6.0      Female\n",
       "12466   Florisse     F      1         8.0      Female\n",
       "\n",
       "[12467 rows x 5 columns]"
      ]
     },
     "execution_count": 303,
     "metadata": {},
     "output_type": "execute_result"
    }
   ],
   "source": [
    "df.merge(reference, left_on=\"genre\", right_on=\"genre\")"
   ]
  },
  {
   "cell_type": "code",
   "execution_count": 307,
   "id": "indonesian-database",
   "metadata": {},
   "outputs": [],
   "source": [
    "df.iloc[:20, 1] = \"U\""
   ]
  },
  {
   "cell_type": "code",
   "execution_count": 314,
   "id": "excess-extra",
   "metadata": {},
   "outputs": [
    {
     "data": {
      "text/html": [
       "<div>\n",
       "<style scoped>\n",
       "    .dataframe tbody tr th:only-of-type {\n",
       "        vertical-align: middle;\n",
       "    }\n",
       "\n",
       "    .dataframe tbody tr th {\n",
       "        vertical-align: top;\n",
       "    }\n",
       "\n",
       "    .dataframe thead th {\n",
       "        text-align: right;\n",
       "    }\n",
       "</style>\n",
       "<table border=\"1\" class=\"dataframe\">\n",
       "  <thead>\n",
       "    <tr style=\"text-align: right;\">\n",
       "      <th></th>\n",
       "      <th>prenom</th>\n",
       "      <th>genre</th>\n",
       "      <th>nb</th>\n",
       "      <th>len_prenom</th>\n",
       "      <th>genre_label</th>\n",
       "    </tr>\n",
       "  </thead>\n",
       "  <tbody>\n",
       "    <tr>\n",
       "      <th>0</th>\n",
       "      <td>Michel</td>\n",
       "      <td>U</td>\n",
       "      <td>14136</td>\n",
       "      <td>6.0</td>\n",
       "      <td>NaN</td>\n",
       "    </tr>\n",
       "    <tr>\n",
       "      <th>1</th>\n",
       "      <td>Alain</td>\n",
       "      <td>U</td>\n",
       "      <td>10646</td>\n",
       "      <td>5.0</td>\n",
       "      <td>NaN</td>\n",
       "    </tr>\n",
       "    <tr>\n",
       "      <th>2</th>\n",
       "      <td>Philippe</td>\n",
       "      <td>U</td>\n",
       "      <td>9903</td>\n",
       "      <td>8.0</td>\n",
       "      <td>NaN</td>\n",
       "    </tr>\n",
       "    <tr>\n",
       "      <th>3</th>\n",
       "      <td>Bernard</td>\n",
       "      <td>U</td>\n",
       "      <td>8992</td>\n",
       "      <td>7.0</td>\n",
       "      <td>NaN</td>\n",
       "    </tr>\n",
       "    <tr>\n",
       "      <th>4</th>\n",
       "      <td>Christian</td>\n",
       "      <td>U</td>\n",
       "      <td>8102</td>\n",
       "      <td>9.0</td>\n",
       "      <td>NaN</td>\n",
       "    </tr>\n",
       "    <tr>\n",
       "      <th>...</th>\n",
       "      <td>...</td>\n",
       "      <td>...</td>\n",
       "      <td>...</td>\n",
       "      <td>...</td>\n",
       "      <td>...</td>\n",
       "    </tr>\n",
       "    <tr>\n",
       "      <th>12462</th>\n",
       "      <td>F.Jacques</td>\n",
       "      <td>M</td>\n",
       "      <td>1</td>\n",
       "      <td>9.0</td>\n",
       "      <td>Male</td>\n",
       "    </tr>\n",
       "    <tr>\n",
       "      <th>12463</th>\n",
       "      <td>Frédie</td>\n",
       "      <td>F</td>\n",
       "      <td>1</td>\n",
       "      <td>6.0</td>\n",
       "      <td>Female</td>\n",
       "    </tr>\n",
       "    <tr>\n",
       "      <th>12464</th>\n",
       "      <td>Efisia</td>\n",
       "      <td>F</td>\n",
       "      <td>1</td>\n",
       "      <td>6.0</td>\n",
       "      <td>Female</td>\n",
       "    </tr>\n",
       "    <tr>\n",
       "      <th>12465</th>\n",
       "      <td>Cosima</td>\n",
       "      <td>F</td>\n",
       "      <td>1</td>\n",
       "      <td>6.0</td>\n",
       "      <td>Female</td>\n",
       "    </tr>\n",
       "    <tr>\n",
       "      <th>12466</th>\n",
       "      <td>Florisse</td>\n",
       "      <td>F</td>\n",
       "      <td>1</td>\n",
       "      <td>8.0</td>\n",
       "      <td>Female</td>\n",
       "    </tr>\n",
       "  </tbody>\n",
       "</table>\n",
       "<p>12467 rows × 5 columns</p>\n",
       "</div>"
      ],
      "text/plain": [
       "          prenom genre     nb  len_prenom genre_label\n",
       "0         Michel     U  14136         6.0         NaN\n",
       "1          Alain     U  10646         5.0         NaN\n",
       "2       Philippe     U   9903         8.0         NaN\n",
       "3        Bernard     U   8992         7.0         NaN\n",
       "4      Christian     U   8102         9.0         NaN\n",
       "...          ...   ...    ...         ...         ...\n",
       "12462  F.Jacques     M      1         9.0        Male\n",
       "12463     Frédie     F      1         6.0      Female\n",
       "12464     Efisia     F      1         6.0      Female\n",
       "12465     Cosima     F      1         6.0      Female\n",
       "12466   Florisse     F      1         8.0      Female\n",
       "\n",
       "[12467 rows x 5 columns]"
      ]
     },
     "execution_count": 314,
     "metadata": {},
     "output_type": "execute_result"
    }
   ],
   "source": [
    "df.merge(reference, left_on=\"genre\", right_on=\"genre\", how=\"left\")\n",
    "# pour afficher l'aide je fais Maj + Tab avec le curseur sur la fonction"
   ]
  },
  {
   "cell_type": "markdown",
   "id": "artistic-promise",
   "metadata": {},
   "source": [
    "## Datavisualization"
   ]
  },
  {
   "cell_type": "code",
   "execution_count": 318,
   "id": "experimental-surname",
   "metadata": {},
   "outputs": [],
   "source": [
    "import matplotlib"
   ]
  },
  {
   "cell_type": "code",
   "execution_count": 319,
   "id": "substantial-vietnam",
   "metadata": {},
   "outputs": [
    {
     "data": {
      "text/plain": [
       "<AxesSubplot:ylabel='genre'>"
      ]
     },
     "execution_count": 319,
     "metadata": {},
     "output_type": "execute_result"
    },
    {
     "data": {
      "image/png": "[encoded data removed]",
      "text/plain": [
       "<Figure size 432x288 with 1 Axes>"
      ]
     },
     "metadata": {},
     "output_type": "display_data"
    }
   ],
   "source": [
    "df[\"genre\"].value_counts().plot(kind=\"pie\")"
   ]
  },
  {
   "cell_type": "code",
   "execution_count": 320,
   "id": "dressed-handy",
   "metadata": {},
   "outputs": [
    {
     "data": {
      "text/plain": [
       "<AxesSubplot:>"
      ]
     },
     "execution_count": 320,
     "metadata": {},
     "output_type": "execute_result"
    },
    {
     "data": {
      "image/png": "[encoded data removed]",
      "text/plain": [
       "<Figure size 432x288 with 1 Axes>"
      ]
     },
     "metadata": {
      "needs_background": "light"
     },
     "output_type": "display_data"
    }
   ],
   "source": [
    "df[\"genre\"].value_counts().plot(kind=\"bar\")"
   ]
  },
  {
   "cell_type": "code",
   "execution_count": 324,
   "id": "peripheral-intensity",
   "metadata": {},
   "outputs": [
    {
     "data": {
      "text/plain": [
       "<AxesSubplot:>"
      ]
     },
     "execution_count": 324,
     "metadata": {},
     "output_type": "execute_result"
    },
    {
     "data": {
      "image/png": "[encoded data removed]",
      "text/plain": [
       "<Figure size 432x288 with 1 Axes>"
      ]
     },
     "metadata": {
      "needs_background": "light"
     },
     "output_type": "display_data"
    }
   ],
   "source": [
    "df[df[\"nb\"] > 2000][\"nb\"].plot()"
   ]
  },
  {
   "cell_type": "code",
   "execution_count": 342,
   "id": "exact-progress",
   "metadata": {},
   "outputs": [
    {
     "data": {
      "text/plain": [
       "genre\n",
       "F    AxesSubplot(0.125,0.125;0.775x0.755)\n",
       "M    AxesSubplot(0.125,0.125;0.775x0.755)\n",
       "U    AxesSubplot(0.125,0.125;0.775x0.755)\n",
       "Name: nb, dtype: object"
      ]
     },
     "execution_count": 342,
     "metadata": {},
     "output_type": "execute_result"
    },
    {
     "data": {
      "image/png": "[encoded data removed]",
      "text/plain": [
       "<Figure size 432x288 with 1 Axes>"
      ]
     },
     "metadata": {
      "needs_background": "light"
     },
     "output_type": "display_data"
    }
   ],
   "source": [
    "df[df[\"nb\"] > 2000].groupby(\"genre\")[\"nb\"].plot(legend=True)"
   ]
  },
  {
   "cell_type": "code",
   "execution_count": 353,
   "id": "fitted-despite",
   "metadata": {},
   "outputs": [
    {
     "data": {
      "text/plain": [
       "genre\n",
       "M    AxesSubplot(0.125,0.125;0.775x0.755)\n",
       "Name: len_prenom, dtype: object"
      ]
     },
     "execution_count": 353,
     "metadata": {},
     "output_type": "execute_result"
    },
    {
     "data": {
      "image/png": "[encoded data removed]",
      "text/plain": [
       "<Figure size 432x288 with 1 Axes>"
      ]
     },
     "metadata": {
      "needs_background": "light"
     },
     "output_type": "display_data"
    }
   ],
   "source": [
    "df[df[\"genre\"] == \"M\"].groupby(\"genre\")[\"len_prenom\"].hist(bins=30)"
   ]
  },
  {
   "cell_type": "code",
   "execution_count": 354,
   "id": "adjacent-database",
   "metadata": {},
   "outputs": [
    {
     "data": {
      "text/plain": [
       "genre\n",
       "F    AxesSubplot(0.125,0.125;0.775x0.755)\n",
       "Name: len_prenom, dtype: object"
      ]
     },
     "execution_count": 354,
     "metadata": {},
     "output_type": "execute_result"
    },
    {
     "data": {
      "image/png": "[encoded data removed]",
      "text/plain": [
       "<Figure size 432x288 with 1 Axes>"
      ]
     },
     "metadata": {
      "needs_background": "light"
     },
     "output_type": "display_data"
    }
   ],
   "source": [
    "df[df[\"genre\"] == \"F\"].groupby(\"genre\")[\"len_prenom\"].hist(bins=30)"
   ]
  },
  {
   "cell_type": "code",
   "execution_count": 355,
   "id": "later-insertion",
   "metadata": {},
   "outputs": [
    {
     "data": {
      "text/html": [
       "<div>\n",
       "<style scoped>\n",
       "    .dataframe tbody tr th:only-of-type {\n",
       "        vertical-align: middle;\n",
       "    }\n",
       "\n",
       "    .dataframe tbody tr th {\n",
       "        vertical-align: top;\n",
       "    }\n",
       "\n",
       "    .dataframe thead th {\n",
       "        text-align: right;\n",
       "    }\n",
       "</style>\n",
       "<table border=\"1\" class=\"dataframe\">\n",
       "  <thead>\n",
       "    <tr style=\"text-align: right;\">\n",
       "      <th></th>\n",
       "      <th>prenom</th>\n",
       "      <th>genre</th>\n",
       "      <th>nb</th>\n",
       "      <th>len_prenom</th>\n",
       "    </tr>\n",
       "  </thead>\n",
       "  <tbody>\n",
       "    <tr>\n",
       "      <th>0</th>\n",
       "      <td>Michel</td>\n",
       "      <td>U</td>\n",
       "      <td>14136</td>\n",
       "      <td>6.0</td>\n",
       "    </tr>\n",
       "    <tr>\n",
       "      <th>1</th>\n",
       "      <td>Alain</td>\n",
       "      <td>U</td>\n",
       "      <td>10646</td>\n",
       "      <td>5.0</td>\n",
       "    </tr>\n",
       "    <tr>\n",
       "      <th>2</th>\n",
       "      <td>Philippe</td>\n",
       "      <td>U</td>\n",
       "      <td>9903</td>\n",
       "      <td>8.0</td>\n",
       "    </tr>\n",
       "    <tr>\n",
       "      <th>3</th>\n",
       "      <td>Bernard</td>\n",
       "      <td>U</td>\n",
       "      <td>8992</td>\n",
       "      <td>7.0</td>\n",
       "    </tr>\n",
       "    <tr>\n",
       "      <th>4</th>\n",
       "      <td>Christian</td>\n",
       "      <td>U</td>\n",
       "      <td>8102</td>\n",
       "      <td>9.0</td>\n",
       "    </tr>\n",
       "    <tr>\n",
       "      <th>...</th>\n",
       "      <td>...</td>\n",
       "      <td>...</td>\n",
       "      <td>...</td>\n",
       "      <td>...</td>\n",
       "    </tr>\n",
       "    <tr>\n",
       "      <th>12462</th>\n",
       "      <td>F.Jacques</td>\n",
       "      <td>M</td>\n",
       "      <td>1</td>\n",
       "      <td>9.0</td>\n",
       "    </tr>\n",
       "    <tr>\n",
       "      <th>12463</th>\n",
       "      <td>Frédie</td>\n",
       "      <td>F</td>\n",
       "      <td>1</td>\n",
       "      <td>6.0</td>\n",
       "    </tr>\n",
       "    <tr>\n",
       "      <th>12464</th>\n",
       "      <td>Efisia</td>\n",
       "      <td>F</td>\n",
       "      <td>1</td>\n",
       "      <td>6.0</td>\n",
       "    </tr>\n",
       "    <tr>\n",
       "      <th>12465</th>\n",
       "      <td>Cosima</td>\n",
       "      <td>F</td>\n",
       "      <td>1</td>\n",
       "      <td>6.0</td>\n",
       "    </tr>\n",
       "    <tr>\n",
       "      <th>12466</th>\n",
       "      <td>Florisse</td>\n",
       "      <td>F</td>\n",
       "      <td>1</td>\n",
       "      <td>8.0</td>\n",
       "    </tr>\n",
       "  </tbody>\n",
       "</table>\n",
       "<p>12467 rows × 4 columns</p>\n",
       "</div>"
      ],
      "text/plain": [
       "          prenom genre     nb  len_prenom\n",
       "0         Michel     U  14136         6.0\n",
       "1          Alain     U  10646         5.0\n",
       "2       Philippe     U   9903         8.0\n",
       "3        Bernard     U   8992         7.0\n",
       "4      Christian     U   8102         9.0\n",
       "...          ...   ...    ...         ...\n",
       "12462  F.Jacques     M      1         9.0\n",
       "12463     Frédie     F      1         6.0\n",
       "12464     Efisia     F      1         6.0\n",
       "12465     Cosima     F      1         6.0\n",
       "12466   Florisse     F      1         8.0\n",
       "\n",
       "[12467 rows x 4 columns]"
      ]
     },
     "execution_count": 355,
     "metadata": {},
     "output_type": "execute_result"
    }
   ],
   "source": [
    "df"
   ]
  },
  {
   "cell_type": "markdown",
   "id": "biblical-panic",
   "metadata": {},
   "source": [
    "## Exercice analyse population"
   ]
  },
  {
   "cell_type": "code",
   "execution_count": 4,
   "id": "environmental-provision",
   "metadata": {},
   "outputs": [],
   "source": [
    "import matplotlib"
   ]
  },
  {
   "cell_type": "code",
   "execution_count": 5,
   "id": "waiting-german",
   "metadata": {},
   "outputs": [],
   "source": [
    "df = pd.read_csv(\"population.csv\")"
   ]
  },
  {
   "cell_type": "code",
   "execution_count": 6,
   "id": "quality-segment",
   "metadata": {},
   "outputs": [
    {
     "data": {
      "text/html": [
       "<div>\n",
       "<style scoped>\n",
       "    .dataframe tbody tr th:only-of-type {\n",
       "        vertical-align: middle;\n",
       "    }\n",
       "\n",
       "    .dataframe tbody tr th {\n",
       "        vertical-align: top;\n",
       "    }\n",
       "\n",
       "    .dataframe thead th {\n",
       "        text-align: right;\n",
       "    }\n",
       "</style>\n",
       "<table border=\"1\" class=\"dataframe\">\n",
       "  <thead>\n",
       "    <tr style=\"text-align: right;\">\n",
       "      <th></th>\n",
       "      <th>Country Name</th>\n",
       "      <th>Country Code</th>\n",
       "      <th>Indicator Name</th>\n",
       "      <th>Indicator Code</th>\n",
       "      <th>1960</th>\n",
       "      <th>1961</th>\n",
       "      <th>1962</th>\n",
       "      <th>1963</th>\n",
       "      <th>1964</th>\n",
       "      <th>1965</th>\n",
       "      <th>...</th>\n",
       "      <th>2009</th>\n",
       "      <th>2010</th>\n",
       "      <th>2011</th>\n",
       "      <th>2012</th>\n",
       "      <th>2013</th>\n",
       "      <th>2014</th>\n",
       "      <th>2015</th>\n",
       "      <th>2016</th>\n",
       "      <th>2017</th>\n",
       "      <th>Unnamed: 62</th>\n",
       "    </tr>\n",
       "  </thead>\n",
       "  <tbody>\n",
       "    <tr>\n",
       "      <th>0</th>\n",
       "      <td>Aruba</td>\n",
       "      <td>ABW</td>\n",
       "      <td>Population, total</td>\n",
       "      <td>SP.POP.TOTL</td>\n",
       "      <td>54211.0</td>\n",
       "      <td>55438.0</td>\n",
       "      <td>56225.0</td>\n",
       "      <td>56695.0</td>\n",
       "      <td>57032.0</td>\n",
       "      <td>57360.0</td>\n",
       "      <td>...</td>\n",
       "      <td>101453.0</td>\n",
       "      <td>101669.0</td>\n",
       "      <td>102053.0</td>\n",
       "      <td>102577.0</td>\n",
       "      <td>103187.0</td>\n",
       "      <td>103795.0</td>\n",
       "      <td>104341.0</td>\n",
       "      <td>104822.0</td>\n",
       "      <td>105000.0</td>\n",
       "      <td>NaN</td>\n",
       "    </tr>\n",
       "    <tr>\n",
       "      <th>1</th>\n",
       "      <td>Afghanistan</td>\n",
       "      <td>AFG</td>\n",
       "      <td>Population, total</td>\n",
       "      <td>SP.POP.TOTL</td>\n",
       "      <td>8996351.0</td>\n",
       "      <td>9166764.0</td>\n",
       "      <td>9345868.0</td>\n",
       "      <td>9533954.0</td>\n",
       "      <td>9731361.0</td>\n",
       "      <td>9938414.0</td>\n",
       "      <td>...</td>\n",
       "      <td>28004331.0</td>\n",
       "      <td>28803167.0</td>\n",
       "      <td>29708599.0</td>\n",
       "      <td>30696958.0</td>\n",
       "      <td>31731688.0</td>\n",
       "      <td>32758020.0</td>\n",
       "      <td>33736494.0</td>\n",
       "      <td>34656032.0</td>\n",
       "      <td>35530000.0</td>\n",
       "      <td>NaN</td>\n",
       "    </tr>\n",
       "    <tr>\n",
       "      <th>2</th>\n",
       "      <td>Angola</td>\n",
       "      <td>AGO</td>\n",
       "      <td>Population, total</td>\n",
       "      <td>SP.POP.TOTL</td>\n",
       "      <td>5643182.0</td>\n",
       "      <td>5753024.0</td>\n",
       "      <td>5866061.0</td>\n",
       "      <td>5980417.0</td>\n",
       "      <td>6093321.0</td>\n",
       "      <td>6203299.0</td>\n",
       "      <td>...</td>\n",
       "      <td>22549547.0</td>\n",
       "      <td>23369131.0</td>\n",
       "      <td>24218565.0</td>\n",
       "      <td>25096150.0</td>\n",
       "      <td>25998340.0</td>\n",
       "      <td>26920466.0</td>\n",
       "      <td>27859305.0</td>\n",
       "      <td>28813463.0</td>\n",
       "      <td>29784000.0</td>\n",
       "      <td>NaN</td>\n",
       "    </tr>\n",
       "    <tr>\n",
       "      <th>3</th>\n",
       "      <td>Albania</td>\n",
       "      <td>ALB</td>\n",
       "      <td>Population, total</td>\n",
       "      <td>SP.POP.TOTL</td>\n",
       "      <td>1608800.0</td>\n",
       "      <td>1659800.0</td>\n",
       "      <td>1711319.0</td>\n",
       "      <td>1762621.0</td>\n",
       "      <td>1814135.0</td>\n",
       "      <td>1864791.0</td>\n",
       "      <td>...</td>\n",
       "      <td>2927519.0</td>\n",
       "      <td>2913021.0</td>\n",
       "      <td>2905195.0</td>\n",
       "      <td>2900401.0</td>\n",
       "      <td>2895092.0</td>\n",
       "      <td>2889104.0</td>\n",
       "      <td>2880703.0</td>\n",
       "      <td>2876101.0</td>\n",
       "      <td>2879000.0</td>\n",
       "      <td>NaN</td>\n",
       "    </tr>\n",
       "    <tr>\n",
       "      <th>4</th>\n",
       "      <td>Andorra</td>\n",
       "      <td>AND</td>\n",
       "      <td>Population, total</td>\n",
       "      <td>SP.POP.TOTL</td>\n",
       "      <td>13411.0</td>\n",
       "      <td>14375.0</td>\n",
       "      <td>15370.0</td>\n",
       "      <td>16412.0</td>\n",
       "      <td>17469.0</td>\n",
       "      <td>18549.0</td>\n",
       "      <td>...</td>\n",
       "      <td>84462.0</td>\n",
       "      <td>84449.0</td>\n",
       "      <td>83751.0</td>\n",
       "      <td>82431.0</td>\n",
       "      <td>80788.0</td>\n",
       "      <td>79223.0</td>\n",
       "      <td>78014.0</td>\n",
       "      <td>77281.0</td>\n",
       "      <td>77000.0</td>\n",
       "      <td>NaN</td>\n",
       "    </tr>\n",
       "  </tbody>\n",
       "</table>\n",
       "<p>5 rows × 63 columns</p>\n",
       "</div>"
      ],
      "text/plain": [
       "  Country Name Country Code     Indicator Name Indicator Code       1960  \\\n",
       "0        Aruba          ABW  Population, total    SP.POP.TOTL    54211.0   \n",
       "1  Afghanistan          AFG  Population, total    SP.POP.TOTL  8996351.0   \n",
       "2       Angola          AGO  Population, total    SP.POP.TOTL  5643182.0   \n",
       "3      Albania          ALB  Population, total    SP.POP.TOTL  1608800.0   \n",
       "4      Andorra          AND  Population, total    SP.POP.TOTL    13411.0   \n",
       "\n",
       "        1961       1962       1963       1964       1965  ...        2009  \\\n",
       "0    55438.0    56225.0    56695.0    57032.0    57360.0  ...    101453.0   \n",
       "1  9166764.0  9345868.0  9533954.0  9731361.0  9938414.0  ...  28004331.0   \n",
       "2  5753024.0  5866061.0  5980417.0  6093321.0  6203299.0  ...  22549547.0   \n",
       "3  1659800.0  1711319.0  1762621.0  1814135.0  1864791.0  ...   2927519.0   \n",
       "4    14375.0    15370.0    16412.0    17469.0    18549.0  ...     84462.0   \n",
       "\n",
       "         2010        2011        2012        2013        2014        2015  \\\n",
       "0    101669.0    102053.0    102577.0    103187.0    103795.0    104341.0   \n",
       "1  28803167.0  29708599.0  30696958.0  31731688.0  32758020.0  33736494.0   \n",
       "2  23369131.0  24218565.0  25096150.0  25998340.0  26920466.0  27859305.0   \n",
       "3   2913021.0   2905195.0   2900401.0   2895092.0   2889104.0   2880703.0   \n",
       "4     84449.0     83751.0     82431.0     80788.0     79223.0     78014.0   \n",
       "\n",
       "         2016        2017  Unnamed: 62  \n",
       "0    104822.0    105000.0          NaN  \n",
       "1  34656032.0  35530000.0          NaN  \n",
       "2  28813463.0  29784000.0          NaN  \n",
       "3   2876101.0   2879000.0          NaN  \n",
       "4     77281.0     77000.0          NaN  \n",
       "\n",
       "[5 rows x 63 columns]"
      ]
     },
     "execution_count": 6,
     "metadata": {},
     "output_type": "execute_result"
    }
   ],
   "source": [
    "df.head()"
   ]
  },
  {
   "cell_type": "markdown",
   "id": "collected-acquisition",
   "metadata": {},
   "source": [
    "## Afficher l'évolution de la population française entre 1960 et 2017"
   ]
  },
  {
   "cell_type": "code",
   "execution_count": 13,
   "id": "radical-storage",
   "metadata": {
    "collapsed": true
   },
   "outputs": [
    {
     "ename": "KeyError",
     "evalue": "'Country Name'",
     "output_type": "error",
     "traceback": [
      "\u001b[0;31m---------------------------------------------------------------------------\u001b[0m",
      "\u001b[0;31mKeyError\u001b[0m                                  Traceback (most recent call last)",
      "\u001b[0;32m~/.virtualenvs/amse-2021-groupe-B/lib/python3.8/site-packages/pandas/core/indexes/base.py\u001b[0m in \u001b[0;36mget_loc\u001b[0;34m(self, key, method, tolerance)\u001b[0m\n\u001b[1;32m   3079\u001b[0m             \u001b[0;32mtry\u001b[0m\u001b[0;34m:\u001b[0m\u001b[0;34m\u001b[0m\u001b[0;34m\u001b[0m\u001b[0m\n\u001b[0;32m-> 3080\u001b[0;31m                 \u001b[0;32mreturn\u001b[0m \u001b[0mself\u001b[0m\u001b[0;34m.\u001b[0m\u001b[0m_engine\u001b[0m\u001b[0;34m.\u001b[0m\u001b[0mget_loc\u001b[0m\u001b[0;34m(\u001b[0m\u001b[0mcasted_key\u001b[0m\u001b[0;34m)\u001b[0m\u001b[0;34m\u001b[0m\u001b[0;34m\u001b[0m\u001b[0m\n\u001b[0m\u001b[1;32m   3081\u001b[0m             \u001b[0;32mexcept\u001b[0m \u001b[0mKeyError\u001b[0m \u001b[0;32mas\u001b[0m \u001b[0merr\u001b[0m\u001b[0;34m:\u001b[0m\u001b[0;34m\u001b[0m\u001b[0;34m\u001b[0m\u001b[0m\n",
      "\u001b[0;32mpandas/_libs/index.pyx\u001b[0m in \u001b[0;36mpandas._libs.index.IndexEngine.get_loc\u001b[0;34m()\u001b[0m\n",
      "\u001b[0;32mpandas/_libs/index.pyx\u001b[0m in \u001b[0;36mpandas._libs.index.IndexEngine.get_loc\u001b[0;34m()\u001b[0m\n",
      "\u001b[0;32mpandas/_libs/hashtable_class_helper.pxi\u001b[0m in \u001b[0;36mpandas._libs.hashtable.PyObjectHashTable.get_item\u001b[0;34m()\u001b[0m\n",
      "\u001b[0;32mpandas/_libs/hashtable_class_helper.pxi\u001b[0m in \u001b[0;36mpandas._libs.hashtable.PyObjectHashTable.get_item\u001b[0;34m()\u001b[0m\n",
      "\u001b[0;31mKeyError\u001b[0m: 'Country Name'",
      "\nThe above exception was the direct cause of the following exception:\n",
      "\u001b[0;31mKeyError\u001b[0m                                  Traceback (most recent call last)",
      "\u001b[0;32m<ipython-input-13-517026391dd6>\u001b[0m in \u001b[0;36m<module>\u001b[0;34m\u001b[0m\n\u001b[0;32m----> 1\u001b[0;31m \u001b[0mdf\u001b[0m\u001b[0;34m.\u001b[0m\u001b[0mloc\u001b[0m\u001b[0;34m[\u001b[0m\u001b[0mdf\u001b[0m\u001b[0;34m[\u001b[0m\u001b[0;34m\"Country Name\"\u001b[0m\u001b[0;34m]\u001b[0m \u001b[0;34m==\u001b[0m \u001b[0;34m\"France\"\u001b[0m\u001b[0;34m,\u001b[0m \u001b[0;34m\"1960\"\u001b[0m\u001b[0;34m:\u001b[0m\u001b[0;34m\"2017\"\u001b[0m\u001b[0;34m]\u001b[0m\u001b[0;34m.\u001b[0m\u001b[0mT\u001b[0m\u001b[0;34m.\u001b[0m\u001b[0mplot\u001b[0m\u001b[0;34m(\u001b[0m\u001b[0;34m)\u001b[0m\u001b[0;34m\u001b[0m\u001b[0;34m\u001b[0m\u001b[0m\n\u001b[0m",
      "\u001b[0;32m~/.virtualenvs/amse-2021-groupe-B/lib/python3.8/site-packages/pandas/core/frame.py\u001b[0m in \u001b[0;36m__getitem__\u001b[0;34m(self, key)\u001b[0m\n\u001b[1;32m   3022\u001b[0m             \u001b[0;32mif\u001b[0m \u001b[0mself\u001b[0m\u001b[0;34m.\u001b[0m\u001b[0mcolumns\u001b[0m\u001b[0;34m.\u001b[0m\u001b[0mnlevels\u001b[0m \u001b[0;34m>\u001b[0m \u001b[0;36m1\u001b[0m\u001b[0;34m:\u001b[0m\u001b[0;34m\u001b[0m\u001b[0;34m\u001b[0m\u001b[0m\n\u001b[1;32m   3023\u001b[0m                 \u001b[0;32mreturn\u001b[0m \u001b[0mself\u001b[0m\u001b[0;34m.\u001b[0m\u001b[0m_getitem_multilevel\u001b[0m\u001b[0;34m(\u001b[0m\u001b[0mkey\u001b[0m\u001b[0;34m)\u001b[0m\u001b[0;34m\u001b[0m\u001b[0;34m\u001b[0m\u001b[0m\n\u001b[0;32m-> 3024\u001b[0;31m             \u001b[0mindexer\u001b[0m \u001b[0;34m=\u001b[0m \u001b[0mself\u001b[0m\u001b[0;34m.\u001b[0m\u001b[0mcolumns\u001b[0m\u001b[0;34m.\u001b[0m\u001b[0mget_loc\u001b[0m\u001b[0;34m(\u001b[0m\u001b[0mkey\u001b[0m\u001b[0;34m)\u001b[0m\u001b[0;34m\u001b[0m\u001b[0;34m\u001b[0m\u001b[0m\n\u001b[0m\u001b[1;32m   3025\u001b[0m             \u001b[0;32mif\u001b[0m \u001b[0mis_integer\u001b[0m\u001b[0;34m(\u001b[0m\u001b[0mindexer\u001b[0m\u001b[0;34m)\u001b[0m\u001b[0;34m:\u001b[0m\u001b[0;34m\u001b[0m\u001b[0;34m\u001b[0m\u001b[0m\n\u001b[1;32m   3026\u001b[0m                 \u001b[0mindexer\u001b[0m \u001b[0;34m=\u001b[0m \u001b[0;34m[\u001b[0m\u001b[0mindexer\u001b[0m\u001b[0;34m]\u001b[0m\u001b[0;34m\u001b[0m\u001b[0;34m\u001b[0m\u001b[0m\n",
      "\u001b[0;32m~/.virtualenvs/amse-2021-groupe-B/lib/python3.8/site-packages/pandas/core/indexes/base.py\u001b[0m in \u001b[0;36mget_loc\u001b[0;34m(self, key, method, tolerance)\u001b[0m\n\u001b[1;32m   3080\u001b[0m                 \u001b[0;32mreturn\u001b[0m \u001b[0mself\u001b[0m\u001b[0;34m.\u001b[0m\u001b[0m_engine\u001b[0m\u001b[0;34m.\u001b[0m\u001b[0mget_loc\u001b[0m\u001b[0;34m(\u001b[0m\u001b[0mcasted_key\u001b[0m\u001b[0;34m)\u001b[0m\u001b[0;34m\u001b[0m\u001b[0;34m\u001b[0m\u001b[0m\n\u001b[1;32m   3081\u001b[0m             \u001b[0;32mexcept\u001b[0m \u001b[0mKeyError\u001b[0m \u001b[0;32mas\u001b[0m \u001b[0merr\u001b[0m\u001b[0;34m:\u001b[0m\u001b[0;34m\u001b[0m\u001b[0;34m\u001b[0m\u001b[0m\n\u001b[0;32m-> 3082\u001b[0;31m                 \u001b[0;32mraise\u001b[0m \u001b[0mKeyError\u001b[0m\u001b[0;34m(\u001b[0m\u001b[0mkey\u001b[0m\u001b[0;34m)\u001b[0m \u001b[0;32mfrom\u001b[0m \u001b[0merr\u001b[0m\u001b[0;34m\u001b[0m\u001b[0;34m\u001b[0m\u001b[0m\n\u001b[0m\u001b[1;32m   3083\u001b[0m \u001b[0;34m\u001b[0m\u001b[0m\n\u001b[1;32m   3084\u001b[0m         \u001b[0;32mif\u001b[0m \u001b[0mtolerance\u001b[0m \u001b[0;32mis\u001b[0m \u001b[0;32mnot\u001b[0m \u001b[0;32mNone\u001b[0m\u001b[0;34m:\u001b[0m\u001b[0;34m\u001b[0m\u001b[0;34m\u001b[0m\u001b[0m\n",
      "\u001b[0;31mKeyError\u001b[0m: 'Country Name'"
     ]
    }
   ],
   "source": [
    "df.loc[df[\"Country Name\"] == \"France\", \"1960\":\"2017\"].T.plot()"
   ]
  },
  {
   "cell_type": "code",
   "execution_count": 8,
   "id": "recognized-gossip",
   "metadata": {},
   "outputs": [],
   "source": [
    "df.set_index(\"Country Name\", inplace=True)"
   ]
  },
  {
   "cell_type": "code",
   "execution_count": 17,
   "id": "gothic-death",
   "metadata": {},
   "outputs": [
    {
     "data": {
      "text/plain": [
       "<AxesSubplot:>"
      ]
     },
     "execution_count": 17,
     "metadata": {},
     "output_type": "execute_result"
    },
    {
     "data": {
      "image/png": "[encoded data removed]",
      "text/plain": [
       "<Figure size 432x288 with 1 Axes>"
      ]
     },
     "metadata": {
      "needs_background": "light"
     },
     "output_type": "display_data"
    }
   ],
   "source": [
    "df.loc[[\"France\", \"Germany\", \"Japan\"], \"1960\":\"2017\"].T.plot()"
   ]
  },
  {
   "cell_type": "markdown",
   "id": "complete-lucas",
   "metadata": {},
   "source": [
    "## Afficher dans un graphique 4x4 l'évolution des 16 pays les plus peuplés en 1960"
   ]
  },
  {
   "cell_type": "code",
   "execution_count": 20,
   "id": "fancy-mambo",
   "metadata": {},
   "outputs": [
    {
     "data": {
      "text/html": [
       "<div>\n",
       "<style scoped>\n",
       "    .dataframe tbody tr th:only-of-type {\n",
       "        vertical-align: middle;\n",
       "    }\n",
       "\n",
       "    .dataframe tbody tr th {\n",
       "        vertical-align: top;\n",
       "    }\n",
       "\n",
       "    .dataframe thead th {\n",
       "        text-align: right;\n",
       "    }\n",
       "</style>\n",
       "<table border=\"1\" class=\"dataframe\">\n",
       "  <thead>\n",
       "    <tr style=\"text-align: right;\">\n",
       "      <th></th>\n",
       "      <th>Country Code</th>\n",
       "      <th>Indicator Name</th>\n",
       "      <th>Indicator Code</th>\n",
       "      <th>1960</th>\n",
       "      <th>1961</th>\n",
       "      <th>1962</th>\n",
       "      <th>1963</th>\n",
       "      <th>1964</th>\n",
       "      <th>1965</th>\n",
       "      <th>1966</th>\n",
       "      <th>...</th>\n",
       "      <th>2009</th>\n",
       "      <th>2010</th>\n",
       "      <th>2011</th>\n",
       "      <th>2012</th>\n",
       "      <th>2013</th>\n",
       "      <th>2014</th>\n",
       "      <th>2015</th>\n",
       "      <th>2016</th>\n",
       "      <th>2017</th>\n",
       "      <th>Unnamed: 62</th>\n",
       "    </tr>\n",
       "    <tr>\n",
       "      <th>Country Name</th>\n",
       "      <th></th>\n",
       "      <th></th>\n",
       "      <th></th>\n",
       "      <th></th>\n",
       "      <th></th>\n",
       "      <th></th>\n",
       "      <th></th>\n",
       "      <th></th>\n",
       "      <th></th>\n",
       "      <th></th>\n",
       "      <th></th>\n",
       "      <th></th>\n",
       "      <th></th>\n",
       "      <th></th>\n",
       "      <th></th>\n",
       "      <th></th>\n",
       "      <th></th>\n",
       "      <th></th>\n",
       "      <th></th>\n",
       "      <th></th>\n",
       "      <th></th>\n",
       "    </tr>\n",
       "  </thead>\n",
       "  <tbody>\n",
       "    <tr>\n",
       "      <th>World</th>\n",
       "      <td>WLD</td>\n",
       "      <td>Population, total</td>\n",
       "      <td>SP.POP.TOTL</td>\n",
       "      <td>3.034193e+09</td>\n",
       "      <td>3.075115e+09</td>\n",
       "      <td>3.127961e+09</td>\n",
       "      <td>3.192794e+09</td>\n",
       "      <td>3.258201e+09</td>\n",
       "      <td>3.324952e+09</td>\n",
       "      <td>3.394865e+09</td>\n",
       "      <td>...</td>\n",
       "      <td>6.847215e+09</td>\n",
       "      <td>6.930657e+09</td>\n",
       "      <td>7.012844e+09</td>\n",
       "      <td>7.097401e+09</td>\n",
       "      <td>7.182860e+09</td>\n",
       "      <td>7.268986e+09</td>\n",
       "      <td>7.355220e+09</td>\n",
       "      <td>7.442136e+09</td>\n",
       "      <td>7.523997e+09</td>\n",
       "      <td>NaN</td>\n",
       "    </tr>\n",
       "    <tr>\n",
       "      <th>IDA &amp; IBRD total</th>\n",
       "      <td>IBT</td>\n",
       "      <td>Population, total</td>\n",
       "      <td>SP.POP.TOTL</td>\n",
       "      <td>2.301898e+09</td>\n",
       "      <td>2.331636e+09</td>\n",
       "      <td>2.374689e+09</td>\n",
       "      <td>2.429878e+09</td>\n",
       "      <td>2.485749e+09</td>\n",
       "      <td>2.543191e+09</td>\n",
       "      <td>2.604312e+09</td>\n",
       "      <td>...</td>\n",
       "      <td>5.725607e+09</td>\n",
       "      <td>5.801349e+09</td>\n",
       "      <td>5.877978e+09</td>\n",
       "      <td>5.955532e+09</td>\n",
       "      <td>6.033915e+09</td>\n",
       "      <td>6.112778e+09</td>\n",
       "      <td>6.191917e+09</td>\n",
       "      <td>6.271593e+09</td>\n",
       "      <td>6.348082e+09</td>\n",
       "      <td>NaN</td>\n",
       "    </tr>\n",
       "    <tr>\n",
       "      <th>Low &amp; middle income</th>\n",
       "      <td>LMY</td>\n",
       "      <td>Population, total</td>\n",
       "      <td>SP.POP.TOTL</td>\n",
       "      <td>2.279584e+09</td>\n",
       "      <td>2.309160e+09</td>\n",
       "      <td>2.352010e+09</td>\n",
       "      <td>2.406932e+09</td>\n",
       "      <td>2.462536e+09</td>\n",
       "      <td>2.519876e+09</td>\n",
       "      <td>2.581011e+09</td>\n",
       "      <td>...</td>\n",
       "      <td>5.705229e+09</td>\n",
       "      <td>5.781145e+09</td>\n",
       "      <td>5.857845e+09</td>\n",
       "      <td>5.935501e+09</td>\n",
       "      <td>6.014016e+09</td>\n",
       "      <td>6.093020e+09</td>\n",
       "      <td>6.172291e+09</td>\n",
       "      <td>6.252106e+09</td>\n",
       "      <td>6.328725e+09</td>\n",
       "      <td>NaN</td>\n",
       "    </tr>\n",
       "    <tr>\n",
       "      <th>Middle income</th>\n",
       "      <td>MIC</td>\n",
       "      <td>Population, total</td>\n",
       "      <td>SP.POP.TOTL</td>\n",
       "      <td>2.124914e+09</td>\n",
       "      <td>2.151091e+09</td>\n",
       "      <td>2.190460e+09</td>\n",
       "      <td>2.241781e+09</td>\n",
       "      <td>2.293605e+09</td>\n",
       "      <td>2.346946e+09</td>\n",
       "      <td>2.403852e+09</td>\n",
       "      <td>...</td>\n",
       "      <td>5.160329e+09</td>\n",
       "      <td>5.221138e+09</td>\n",
       "      <td>5.282272e+09</td>\n",
       "      <td>5.343924e+09</td>\n",
       "      <td>5.406029e+09</td>\n",
       "      <td>5.468260e+09</td>\n",
       "      <td>5.530432e+09</td>\n",
       "      <td>5.592833e+09</td>\n",
       "      <td>5.651718e+09</td>\n",
       "      <td>NaN</td>\n",
       "    </tr>\n",
       "    <tr>\n",
       "      <th>IBRD only</th>\n",
       "      <td>IBD</td>\n",
       "      <td>Population, total</td>\n",
       "      <td>SP.POP.TOTL</td>\n",
       "      <td>1.919408e+09</td>\n",
       "      <td>1.939836e+09</td>\n",
       "      <td>1.973218e+09</td>\n",
       "      <td>2.018350e+09</td>\n",
       "      <td>2.063747e+09</td>\n",
       "      <td>2.110280e+09</td>\n",
       "      <td>2.160019e+09</td>\n",
       "      <td>...</td>\n",
       "      <td>4.383581e+09</td>\n",
       "      <td>4.427798e+09</td>\n",
       "      <td>4.472296e+09</td>\n",
       "      <td>4.517417e+09</td>\n",
       "      <td>4.562691e+09</td>\n",
       "      <td>4.607808e+09</td>\n",
       "      <td>4.652578e+09</td>\n",
       "      <td>4.697247e+09</td>\n",
       "      <td>4.738332e+09</td>\n",
       "      <td>NaN</td>\n",
       "    </tr>\n",
       "    <tr>\n",
       "      <th>...</th>\n",
       "      <td>...</td>\n",
       "      <td>...</td>\n",
       "      <td>...</td>\n",
       "      <td>...</td>\n",
       "      <td>...</td>\n",
       "      <td>...</td>\n",
       "      <td>...</td>\n",
       "      <td>...</td>\n",
       "      <td>...</td>\n",
       "      <td>...</td>\n",
       "      <td>...</td>\n",
       "      <td>...</td>\n",
       "      <td>...</td>\n",
       "      <td>...</td>\n",
       "      <td>...</td>\n",
       "      <td>...</td>\n",
       "      <td>...</td>\n",
       "      <td>...</td>\n",
       "      <td>...</td>\n",
       "      <td>...</td>\n",
       "      <td>...</td>\n",
       "    </tr>\n",
       "    <tr>\n",
       "      <th>St. Martin (French part)</th>\n",
       "      <td>MAF</td>\n",
       "      <td>Population, total</td>\n",
       "      <td>SP.POP.TOTL</td>\n",
       "      <td>4.279000e+03</td>\n",
       "      <td>4.453000e+03</td>\n",
       "      <td>4.566000e+03</td>\n",
       "      <td>4.656000e+03</td>\n",
       "      <td>4.748000e+03</td>\n",
       "      <td>4.841000e+03</td>\n",
       "      <td>4.936000e+03</td>\n",
       "      <td>...</td>\n",
       "      <td>2.982000e+04</td>\n",
       "      <td>3.023500e+04</td>\n",
       "      <td>3.061500e+04</td>\n",
       "      <td>3.095900e+04</td>\n",
       "      <td>3.126400e+04</td>\n",
       "      <td>3.153000e+04</td>\n",
       "      <td>3.175400e+04</td>\n",
       "      <td>3.194900e+04</td>\n",
       "      <td>NaN</td>\n",
       "      <td>NaN</td>\n",
       "    </tr>\n",
       "    <tr>\n",
       "      <th>Not classified</th>\n",
       "      <td>INX</td>\n",
       "      <td>Population, total</td>\n",
       "      <td>SP.POP.TOTL</td>\n",
       "      <td>NaN</td>\n",
       "      <td>NaN</td>\n",
       "      <td>NaN</td>\n",
       "      <td>NaN</td>\n",
       "      <td>NaN</td>\n",
       "      <td>NaN</td>\n",
       "      <td>NaN</td>\n",
       "      <td>...</td>\n",
       "      <td>NaN</td>\n",
       "      <td>NaN</td>\n",
       "      <td>NaN</td>\n",
       "      <td>NaN</td>\n",
       "      <td>NaN</td>\n",
       "      <td>NaN</td>\n",
       "      <td>NaN</td>\n",
       "      <td>NaN</td>\n",
       "      <td>NaN</td>\n",
       "      <td>NaN</td>\n",
       "    </tr>\n",
       "    <tr>\n",
       "      <th>West Bank and Gaza</th>\n",
       "      <td>PSE</td>\n",
       "      <td>Population, total</td>\n",
       "      <td>SP.POP.TOTL</td>\n",
       "      <td>NaN</td>\n",
       "      <td>NaN</td>\n",
       "      <td>NaN</td>\n",
       "      <td>NaN</td>\n",
       "      <td>NaN</td>\n",
       "      <td>NaN</td>\n",
       "      <td>NaN</td>\n",
       "      <td>...</td>\n",
       "      <td>3.702218e+06</td>\n",
       "      <td>3.811102e+06</td>\n",
       "      <td>3.927051e+06</td>\n",
       "      <td>4.046901e+06</td>\n",
       "      <td>4.169506e+06</td>\n",
       "      <td>4.294682e+06</td>\n",
       "      <td>4.422143e+06</td>\n",
       "      <td>4.551566e+06</td>\n",
       "      <td>4.674000e+06</td>\n",
       "      <td>NaN</td>\n",
       "    </tr>\n",
       "    <tr>\n",
       "      <th>Serbia</th>\n",
       "      <td>SRB</td>\n",
       "      <td>Population, total</td>\n",
       "      <td>SP.POP.TOTL</td>\n",
       "      <td>NaN</td>\n",
       "      <td>NaN</td>\n",
       "      <td>NaN</td>\n",
       "      <td>NaN</td>\n",
       "      <td>NaN</td>\n",
       "      <td>NaN</td>\n",
       "      <td>NaN</td>\n",
       "      <td>...</td>\n",
       "      <td>7.320807e+06</td>\n",
       "      <td>7.291436e+06</td>\n",
       "      <td>7.234099e+06</td>\n",
       "      <td>7.199077e+06</td>\n",
       "      <td>7.164132e+06</td>\n",
       "      <td>7.130576e+06</td>\n",
       "      <td>7.095383e+06</td>\n",
       "      <td>7.057412e+06</td>\n",
       "      <td>7.031000e+06</td>\n",
       "      <td>NaN</td>\n",
       "    </tr>\n",
       "    <tr>\n",
       "      <th>Sint Maarten (Dutch part)</th>\n",
       "      <td>SXM</td>\n",
       "      <td>Population, total</td>\n",
       "      <td>SP.POP.TOTL</td>\n",
       "      <td>NaN</td>\n",
       "      <td>NaN</td>\n",
       "      <td>NaN</td>\n",
       "      <td>NaN</td>\n",
       "      <td>NaN</td>\n",
       "      <td>NaN</td>\n",
       "      <td>NaN</td>\n",
       "      <td>...</td>\n",
       "      <td>3.913300e+04</td>\n",
       "      <td>3.547400e+04</td>\n",
       "      <td>3.343500e+04</td>\n",
       "      <td>3.464000e+04</td>\n",
       "      <td>3.660700e+04</td>\n",
       "      <td>3.768500e+04</td>\n",
       "      <td>3.882400e+04</td>\n",
       "      <td>4.000500e+04</td>\n",
       "      <td>NaN</td>\n",
       "      <td>NaN</td>\n",
       "    </tr>\n",
       "  </tbody>\n",
       "</table>\n",
       "<p>264 rows × 62 columns</p>\n",
       "</div>"
      ],
      "text/plain": [
       "                          Country Code     Indicator Name Indicator Code  \\\n",
       "Country Name                                                               \n",
       "World                              WLD  Population, total    SP.POP.TOTL   \n",
       "IDA & IBRD total                   IBT  Population, total    SP.POP.TOTL   \n",
       "Low & middle income                LMY  Population, total    SP.POP.TOTL   \n",
       "Middle income                      MIC  Population, total    SP.POP.TOTL   \n",
       "IBRD only                          IBD  Population, total    SP.POP.TOTL   \n",
       "...                                ...                ...            ...   \n",
       "St. Martin (French part)           MAF  Population, total    SP.POP.TOTL   \n",
       "Not classified                     INX  Population, total    SP.POP.TOTL   \n",
       "West Bank and Gaza                 PSE  Population, total    SP.POP.TOTL   \n",
       "Serbia                             SRB  Population, total    SP.POP.TOTL   \n",
       "Sint Maarten (Dutch part)          SXM  Population, total    SP.POP.TOTL   \n",
       "\n",
       "                                   1960          1961          1962  \\\n",
       "Country Name                                                          \n",
       "World                      3.034193e+09  3.075115e+09  3.127961e+09   \n",
       "IDA & IBRD total           2.301898e+09  2.331636e+09  2.374689e+09   \n",
       "Low & middle income        2.279584e+09  2.309160e+09  2.352010e+09   \n",
       "Middle income              2.124914e+09  2.151091e+09  2.190460e+09   \n",
       "IBRD only                  1.919408e+09  1.939836e+09  1.973218e+09   \n",
       "...                                 ...           ...           ...   \n",
       "St. Martin (French part)   4.279000e+03  4.453000e+03  4.566000e+03   \n",
       "Not classified                      NaN           NaN           NaN   \n",
       "West Bank and Gaza                  NaN           NaN           NaN   \n",
       "Serbia                              NaN           NaN           NaN   \n",
       "Sint Maarten (Dutch part)           NaN           NaN           NaN   \n",
       "\n",
       "                                   1963          1964          1965  \\\n",
       "Country Name                                                          \n",
       "World                      3.192794e+09  3.258201e+09  3.324952e+09   \n",
       "IDA & IBRD total           2.429878e+09  2.485749e+09  2.543191e+09   \n",
       "Low & middle income        2.406932e+09  2.462536e+09  2.519876e+09   \n",
       "Middle income              2.241781e+09  2.293605e+09  2.346946e+09   \n",
       "IBRD only                  2.018350e+09  2.063747e+09  2.110280e+09   \n",
       "...                                 ...           ...           ...   \n",
       "St. Martin (French part)   4.656000e+03  4.748000e+03  4.841000e+03   \n",
       "Not classified                      NaN           NaN           NaN   \n",
       "West Bank and Gaza                  NaN           NaN           NaN   \n",
       "Serbia                              NaN           NaN           NaN   \n",
       "Sint Maarten (Dutch part)           NaN           NaN           NaN   \n",
       "\n",
       "                                   1966  ...          2009          2010  \\\n",
       "Country Name                             ...                               \n",
       "World                      3.394865e+09  ...  6.847215e+09  6.930657e+09   \n",
       "IDA & IBRD total           2.604312e+09  ...  5.725607e+09  5.801349e+09   \n",
       "Low & middle income        2.581011e+09  ...  5.705229e+09  5.781145e+09   \n",
       "Middle income              2.403852e+09  ...  5.160329e+09  5.221138e+09   \n",
       "IBRD only                  2.160019e+09  ...  4.383581e+09  4.427798e+09   \n",
       "...                                 ...  ...           ...           ...   \n",
       "St. Martin (French part)   4.936000e+03  ...  2.982000e+04  3.023500e+04   \n",
       "Not classified                      NaN  ...           NaN           NaN   \n",
       "West Bank and Gaza                  NaN  ...  3.702218e+06  3.811102e+06   \n",
       "Serbia                              NaN  ...  7.320807e+06  7.291436e+06   \n",
       "Sint Maarten (Dutch part)           NaN  ...  3.913300e+04  3.547400e+04   \n",
       "\n",
       "                                   2011          2012          2013  \\\n",
       "Country Name                                                          \n",
       "World                      7.012844e+09  7.097401e+09  7.182860e+09   \n",
       "IDA & IBRD total           5.877978e+09  5.955532e+09  6.033915e+09   \n",
       "Low & middle income        5.857845e+09  5.935501e+09  6.014016e+09   \n",
       "Middle income              5.282272e+09  5.343924e+09  5.406029e+09   \n",
       "IBRD only                  4.472296e+09  4.517417e+09  4.562691e+09   \n",
       "...                                 ...           ...           ...   \n",
       "St. Martin (French part)   3.061500e+04  3.095900e+04  3.126400e+04   \n",
       "Not classified                      NaN           NaN           NaN   \n",
       "West Bank and Gaza         3.927051e+06  4.046901e+06  4.169506e+06   \n",
       "Serbia                     7.234099e+06  7.199077e+06  7.164132e+06   \n",
       "Sint Maarten (Dutch part)  3.343500e+04  3.464000e+04  3.660700e+04   \n",
       "\n",
       "                                   2014          2015          2016  \\\n",
       "Country Name                                                          \n",
       "World                      7.268986e+09  7.355220e+09  7.442136e+09   \n",
       "IDA & IBRD total           6.112778e+09  6.191917e+09  6.271593e+09   \n",
       "Low & middle income        6.093020e+09  6.172291e+09  6.252106e+09   \n",
       "Middle income              5.468260e+09  5.530432e+09  5.592833e+09   \n",
       "IBRD only                  4.607808e+09  4.652578e+09  4.697247e+09   \n",
       "...                                 ...           ...           ...   \n",
       "St. Martin (French part)   3.153000e+04  3.175400e+04  3.194900e+04   \n",
       "Not classified                      NaN           NaN           NaN   \n",
       "West Bank and Gaza         4.294682e+06  4.422143e+06  4.551566e+06   \n",
       "Serbia                     7.130576e+06  7.095383e+06  7.057412e+06   \n",
       "Sint Maarten (Dutch part)  3.768500e+04  3.882400e+04  4.000500e+04   \n",
       "\n",
       "                                   2017  Unnamed: 62  \n",
       "Country Name                                          \n",
       "World                      7.523997e+09          NaN  \n",
       "IDA & IBRD total           6.348082e+09          NaN  \n",
       "Low & middle income        6.328725e+09          NaN  \n",
       "Middle income              5.651718e+09          NaN  \n",
       "IBRD only                  4.738332e+09          NaN  \n",
       "...                                 ...          ...  \n",
       "St. Martin (French part)            NaN          NaN  \n",
       "Not classified                      NaN          NaN  \n",
       "West Bank and Gaza         4.674000e+06          NaN  \n",
       "Serbia                     7.031000e+06          NaN  \n",
       "Sint Maarten (Dutch part)           NaN          NaN  \n",
       "\n",
       "[264 rows x 62 columns]"
      ]
     },
     "execution_count": 20,
     "metadata": {},
     "output_type": "execute_result"
    }
   ],
   "source": [
    "pd.set_option('display.max_rows', 50)\n",
    "df.sort_values(\"1960\", ascending=False)"
   ]
  },
  {
   "cell_type": "code",
   "execution_count": 18,
   "id": "tropical-williams",
   "metadata": {},
   "outputs": [],
   "source": [
    "isocodes = pd.read_csv(\"iso_3_v1.csv\")"
   ]
  },
  {
   "cell_type": "code",
   "execution_count": 19,
   "id": "breathing-literacy",
   "metadata": {},
   "outputs": [
    {
     "data": {
      "text/html": [
       "<div>\n",
       "<style scoped>\n",
       "    .dataframe tbody tr th:only-of-type {\n",
       "        vertical-align: middle;\n",
       "    }\n",
       "\n",
       "    .dataframe tbody tr th {\n",
       "        vertical-align: top;\n",
       "    }\n",
       "\n",
       "    .dataframe thead th {\n",
       "        text-align: right;\n",
       "    }\n",
       "</style>\n",
       "<table border=\"1\" class=\"dataframe\">\n",
       "  <thead>\n",
       "    <tr style=\"text-align: right;\">\n",
       "      <th></th>\n",
       "      <th>Isocode</th>\n",
       "      <th>Country Name</th>\n",
       "    </tr>\n",
       "  </thead>\n",
       "  <tbody>\n",
       "    <tr>\n",
       "      <th>0</th>\n",
       "      <td>ABW</td>\n",
       "      <td>Aruba</td>\n",
       "    </tr>\n",
       "    <tr>\n",
       "      <th>1</th>\n",
       "      <td>AFG</td>\n",
       "      <td>Afghanistan</td>\n",
       "    </tr>\n",
       "    <tr>\n",
       "      <th>2</th>\n",
       "      <td>AGO</td>\n",
       "      <td>Angola</td>\n",
       "    </tr>\n",
       "    <tr>\n",
       "      <th>3</th>\n",
       "      <td>AIA</td>\n",
       "      <td>Anguilla</td>\n",
       "    </tr>\n",
       "    <tr>\n",
       "      <th>4</th>\n",
       "      <td>ALA</td>\n",
       "      <td>Åland Islands</td>\n",
       "    </tr>\n",
       "  </tbody>\n",
       "</table>\n",
       "</div>"
      ],
      "text/plain": [
       "  Isocode   Country Name\n",
       "0     ABW          Aruba\n",
       "1     AFG    Afghanistan\n",
       "2     AGO         Angola\n",
       "3     AIA       Anguilla\n",
       "4     ALA  Åland Islands"
      ]
     },
     "execution_count": 19,
     "metadata": {},
     "output_type": "execute_result"
    }
   ],
   "source": [
    "isocodes.head()"
   ]
  },
  {
   "cell_type": "code",
   "execution_count": 23,
   "id": "likely-whole",
   "metadata": {},
   "outputs": [],
   "source": [
    "world_population = df.merge(isocodes, left_on=\"Country Code\", right_on=\"Isocode\", how=\"inner\").set_index(\"Country Name\")"
   ]
  },
  {
   "cell_type": "code",
   "execution_count": 37,
   "id": "unavailable-extraction",
   "metadata": {},
   "outputs": [],
   "source": [
    "data_16 = world_population.sort_values(\"1960\", ascending=False).iloc[:16,3:-2].T"
   ]
  },
  {
   "cell_type": "code",
   "execution_count": 39,
   "id": "genuine-travel",
   "metadata": {
    "collapsed": true
   },
   "outputs": [
    {
     "data": {
      "text/html": [
       "<div>\n",
       "<style scoped>\n",
       "    .dataframe tbody tr th:only-of-type {\n",
       "        vertical-align: middle;\n",
       "    }\n",
       "\n",
       "    .dataframe tbody tr th {\n",
       "        vertical-align: top;\n",
       "    }\n",
       "\n",
       "    .dataframe thead th {\n",
       "        text-align: right;\n",
       "    }\n",
       "</style>\n",
       "<table border=\"1\" class=\"dataframe\">\n",
       "  <thead>\n",
       "    <tr style=\"text-align: right;\">\n",
       "      <th>Country Name</th>\n",
       "      <th>China</th>\n",
       "      <th>India</th>\n",
       "      <th>United States of America</th>\n",
       "      <th>Russian Federation</th>\n",
       "      <th>Japan</th>\n",
       "      <th>Indonesia</th>\n",
       "      <th>Germany</th>\n",
       "      <th>Brazil</th>\n",
       "      <th>United Kingdom of Great Britain and Northern Ireland</th>\n",
       "      <th>Italy</th>\n",
       "      <th>Bangladesh</th>\n",
       "      <th>France</th>\n",
       "      <th>Nigeria</th>\n",
       "      <th>Pakistan</th>\n",
       "      <th>Ukraine</th>\n",
       "      <th>Mexico</th>\n",
       "    </tr>\n",
       "  </thead>\n",
       "  <tbody>\n",
       "    <tr>\n",
       "      <th>1960</th>\n",
       "      <td>667070000.0</td>\n",
       "      <td>449480608.0</td>\n",
       "      <td>180671000.0</td>\n",
       "      <td>119897000.0</td>\n",
       "      <td>92500572.0</td>\n",
       "      <td>87792515.0</td>\n",
       "      <td>72814900.0</td>\n",
       "      <td>72207554.0</td>\n",
       "      <td>52400000.0</td>\n",
       "      <td>50199700.0</td>\n",
       "      <td>48199747.0</td>\n",
       "      <td>46814237.0</td>\n",
       "      <td>45137812.0</td>\n",
       "      <td>44908293.0</td>\n",
       "      <td>42662149.0</td>\n",
       "      <td>38174112.0</td>\n",
       "    </tr>\n",
       "    <tr>\n",
       "      <th>1961</th>\n",
       "      <td>660330000.0</td>\n",
       "      <td>458494963.0</td>\n",
       "      <td>183691000.0</td>\n",
       "      <td>121236000.0</td>\n",
       "      <td>94943000.0</td>\n",
       "      <td>90138235.0</td>\n",
       "      <td>73377632.0</td>\n",
       "      <td>74351763.0</td>\n",
       "      <td>52800000.0</td>\n",
       "      <td>50536350.0</td>\n",
       "      <td>49592802.0</td>\n",
       "      <td>47444751.0</td>\n",
       "      <td>46062905.0</td>\n",
       "      <td>45984892.0</td>\n",
       "      <td>43203635.0</td>\n",
       "      <td>39394126.0</td>\n",
       "    </tr>\n",
       "    <tr>\n",
       "      <th>1962</th>\n",
       "      <td>665770000.0</td>\n",
       "      <td>467852537.0</td>\n",
       "      <td>186538000.0</td>\n",
       "      <td>122591000.0</td>\n",
       "      <td>95832000.0</td>\n",
       "      <td>92558005.0</td>\n",
       "      <td>74025784.0</td>\n",
       "      <td>76573248.0</td>\n",
       "      <td>53250000.0</td>\n",
       "      <td>50879450.0</td>\n",
       "      <td>51030137.0</td>\n",
       "      <td>48119649.0</td>\n",
       "      <td>47029140.0</td>\n",
       "      <td>47119361.0</td>\n",
       "      <td>43749470.0</td>\n",
       "      <td>40649588.0</td>\n",
       "    </tr>\n",
       "    <tr>\n",
       "      <th>1963</th>\n",
       "      <td>682335000.0</td>\n",
       "      <td>477527970.0</td>\n",
       "      <td>189242000.0</td>\n",
       "      <td>123960000.0</td>\n",
       "      <td>96812000.0</td>\n",
       "      <td>95055665.0</td>\n",
       "      <td>74714353.0</td>\n",
       "      <td>78854019.0</td>\n",
       "      <td>53650000.0</td>\n",
       "      <td>51252000.0</td>\n",
       "      <td>52532417.0</td>\n",
       "      <td>48803680.0</td>\n",
       "      <td>48032246.0</td>\n",
       "      <td>48309315.0</td>\n",
       "      <td>44285899.0</td>\n",
       "      <td>41939880.0</td>\n",
       "    </tr>\n",
       "    <tr>\n",
       "      <th>1964</th>\n",
       "      <td>698355000.0</td>\n",
       "      <td>487484535.0</td>\n",
       "      <td>191889000.0</td>\n",
       "      <td>125345000.0</td>\n",
       "      <td>97826000.0</td>\n",
       "      <td>97638029.0</td>\n",
       "      <td>75318337.0</td>\n",
       "      <td>81168654.0</td>\n",
       "      <td>54000000.0</td>\n",
       "      <td>51675350.0</td>\n",
       "      <td>54129100.0</td>\n",
       "      <td>49449403.0</td>\n",
       "      <td>49066059.0</td>\n",
       "      <td>49551904.0</td>\n",
       "      <td>44794327.0</td>\n",
       "      <td>43264272.0</td>\n",
       "    </tr>\n",
       "  </tbody>\n",
       "</table>\n",
       "</div>"
      ],
      "text/plain": [
       "Country Name        China        India  United States of America  \\\n",
       "1960          667070000.0  449480608.0               180671000.0   \n",
       "1961          660330000.0  458494963.0               183691000.0   \n",
       "1962          665770000.0  467852537.0               186538000.0   \n",
       "1963          682335000.0  477527970.0               189242000.0   \n",
       "1964          698355000.0  487484535.0               191889000.0   \n",
       "\n",
       "Country Name  Russian Federation       Japan   Indonesia     Germany  \\\n",
       "1960                 119897000.0  92500572.0  87792515.0  72814900.0   \n",
       "1961                 121236000.0  94943000.0  90138235.0  73377632.0   \n",
       "1962                 122591000.0  95832000.0  92558005.0  74025784.0   \n",
       "1963                 123960000.0  96812000.0  95055665.0  74714353.0   \n",
       "1964                 125345000.0  97826000.0  97638029.0  75318337.0   \n",
       "\n",
       "Country Name      Brazil  \\\n",
       "1960          72207554.0   \n",
       "1961          74351763.0   \n",
       "1962          76573248.0   \n",
       "1963          78854019.0   \n",
       "1964          81168654.0   \n",
       "\n",
       "Country Name  United Kingdom of Great Britain and Northern Ireland  \\\n",
       "1960                                                 52400000.0      \n",
       "1961                                                 52800000.0      \n",
       "1962                                                 53250000.0      \n",
       "1963                                                 53650000.0      \n",
       "1964                                                 54000000.0      \n",
       "\n",
       "Country Name       Italy  Bangladesh      France     Nigeria    Pakistan  \\\n",
       "1960          50199700.0  48199747.0  46814237.0  45137812.0  44908293.0   \n",
       "1961          50536350.0  49592802.0  47444751.0  46062905.0  45984892.0   \n",
       "1962          50879450.0  51030137.0  48119649.0  47029140.0  47119361.0   \n",
       "1963          51252000.0  52532417.0  48803680.0  48032246.0  48309315.0   \n",
       "1964          51675350.0  54129100.0  49449403.0  49066059.0  49551904.0   \n",
       "\n",
       "Country Name     Ukraine      Mexico  \n",
       "1960          42662149.0  38174112.0  \n",
       "1961          43203635.0  39394126.0  \n",
       "1962          43749470.0  40649588.0  \n",
       "1963          44285899.0  41939880.0  \n",
       "1964          44794327.0  43264272.0  "
      ]
     },
     "execution_count": 39,
     "metadata": {},
     "output_type": "execute_result"
    }
   ],
   "source": [
    "data_16.head()"
   ]
  },
  {
   "cell_type": "code",
   "execution_count": 34,
   "id": "alert-approval",
   "metadata": {},
   "outputs": [],
   "source": [
    "import matplotlib.pyplot as plt"
   ]
  },
  {
   "cell_type": "markdown",
   "id": "international-rescue",
   "metadata": {},
   "source": [
    "```\n",
    "N   x y\n",
    "0 : 0 0\n",
    "1 : 0 1\n",
    "2 : 0 2\n",
    "3 : 0 3\n",
    "4 : 1 0\n",
    "5 : 1 1\n",
    "    \n",
    "x = N // 4\n",
    "y = N % 4\n",
    "```"
   ]
  },
  {
   "cell_type": "code",
   "execution_count": 75,
   "id": "immune-eligibility",
   "metadata": {},
   "outputs": [
    {
     "data": {
      "image/png": "[encoded data removed]",
      "text/plain": [
       "<Figure size 1440x720 with 16 Axes>"
      ]
     },
     "metadata": {
      "needs_background": "light"
     },
     "output_type": "display_data"
    }
   ],
   "source": [
    "data_16 = world_population.sort_values(\"2017\", ascending=False).iloc[:16,3:-2].T\n",
    "\n",
    "fig, axs = plt.subplots(4, 4, figsize=(20,10))\n",
    "# for i in range(16):\n",
    "#    axs[i // 4, i % 4].plot(data_16.iloc[:,i])\n",
    "#    axs[i // 4, i % 4].set_title(data_16.columns[i])\n",
    "\n",
    "for i, col in enumerate(data_16.columns):\n",
    "    axs[i // 4, i % 4].plot(data_16.loc[:,col])\n",
    "    axs[i // 4, i % 4].set_title(col)\n",
    "\n",
    "plt.setp(axs, xticks=[\"1960\", \"1970\", \"1980\", \"1990\", \"2000\", \"2017\"])\n",
    "plt.subplots_adjust(top=1, bottom=0.5)\n",
    "plt.savefig(\"top16.jpg\")"
   ]
  },
  {
   "cell_type": "code",
   "execution_count": null,
   "id": "indonesian-vision",
   "metadata": {},
   "outputs": [],
   "source": []
  }
 ],
 "metadata": {
  "kernelspec": {
   "display_name": "Python 3",
   "language": "python",
   "name": "python3"
  },
  "language_info": {
   "codemirror_mode": {
    "name": "ipython",
    "version": 3
   },
   "file_extension": ".py",
   "mimetype": "text/x-python",
   "name": "python",
   "nbconvert_exporter": "python",
   "pygments_lexer": "ipython3",
   "version": "3.8.7"
  }
 },
 "nbformat": 4,
 "nbformat_minor": 5
}
