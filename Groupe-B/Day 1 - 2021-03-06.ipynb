{
 "cells": [
  {
   "cell_type": "markdown",
   "id": "musical-federation",
   "metadata": {},
   "source": [
    "Éxécution de cellule :\n",
    "- Maj + Entrée\n",
    "- Ctrl + Entrée\n",
    "\n",
    "Ajouter une cellule :\n",
    "- au-dessus -> a\n",
    "- en-dessous -> b\n",
    "\n",
    "Supprimer une cellule : x\n",
    "\n",
    "Passer en Markdown : m\n",
    "\n",
    "Passer en mode code : y"
   ]
  },
  {
   "cell_type": "markdown",
   "id": "alike-sleeve",
   "metadata": {},
   "source": [
    "### Variables"
   ]
  },
  {
   "cell_type": "code",
   "execution_count": 61,
   "id": "tutorial-measure",
   "metadata": {},
   "outputs": [],
   "source": [
    "mon_numero_prefere = 4"
   ]
  },
  {
   "cell_type": "code",
   "execution_count": 51,
   "id": "certified-jacksonville",
   "metadata": {},
   "outputs": [
    {
     "data": {
      "text/plain": [
       "4"
      ]
     },
     "execution_count": 51,
     "metadata": {},
     "output_type": "execute_result"
    }
   ],
   "source": [
    "a"
   ]
  },
  {
   "cell_type": "code",
   "execution_count": 52,
   "id": "abandoned-excellence",
   "metadata": {},
   "outputs": [],
   "source": [
    "a = 2"
   ]
  },
  {
   "cell_type": "code",
   "execution_count": 53,
   "id": "quarterly-register",
   "metadata": {},
   "outputs": [
    {
     "data": {
      "text/plain": [
       "2"
      ]
     },
     "execution_count": 53,
     "metadata": {},
     "output_type": "execute_result"
    }
   ],
   "source": [
    "a"
   ]
  },
  {
   "cell_type": "code",
   "execution_count": 54,
   "id": "supported-malaysia",
   "metadata": {},
   "outputs": [],
   "source": [
    "b = 20"
   ]
  },
  {
   "cell_type": "code",
   "execution_count": 55,
   "id": "lasting-declaration",
   "metadata": {},
   "outputs": [],
   "source": [
    "c = a + b"
   ]
  },
  {
   "cell_type": "code",
   "execution_count": 56,
   "id": "abroad-heaven",
   "metadata": {},
   "outputs": [
    {
     "data": {
      "text/plain": [
       "22"
      ]
     },
     "execution_count": 56,
     "metadata": {},
     "output_type": "execute_result"
    }
   ],
   "source": [
    "c"
   ]
  },
  {
   "cell_type": "code",
   "execution_count": 57,
   "id": "interim-lemon",
   "metadata": {},
   "outputs": [
    {
     "name": "stdout",
     "output_type": "stream",
     "text": [
      "22\n"
     ]
    }
   ],
   "source": [
    "print(c)"
   ]
  },
  {
   "cell_type": "code",
   "execution_count": 58,
   "id": "essential-halifax",
   "metadata": {},
   "outputs": [],
   "source": [
    "d, e, f = 1, 2, 4"
   ]
  },
  {
   "cell_type": "code",
   "execution_count": 60,
   "id": "fantastic-fabric",
   "metadata": {},
   "outputs": [],
   "source": [
    "TVA = 20"
   ]
  },
  {
   "cell_type": "markdown",
   "id": "plain-commander",
   "metadata": {},
   "source": [
    "### Types"
   ]
  },
  {
   "cell_type": "code",
   "execution_count": 63,
   "id": "removable-poker",
   "metadata": {},
   "outputs": [],
   "source": [
    "c = 42"
   ]
  },
  {
   "cell_type": "code",
   "execution_count": 64,
   "id": "acting-today",
   "metadata": {},
   "outputs": [
    {
     "data": {
      "text/plain": [
       "int"
      ]
     },
     "execution_count": 64,
     "metadata": {},
     "output_type": "execute_result"
    }
   ],
   "source": [
    "type(c)"
   ]
  },
  {
   "cell_type": "code",
   "execution_count": 65,
   "id": "textile-budget",
   "metadata": {},
   "outputs": [],
   "source": [
    "d = 4.2"
   ]
  },
  {
   "cell_type": "code",
   "execution_count": 66,
   "id": "flexible-germany",
   "metadata": {},
   "outputs": [
    {
     "data": {
      "text/plain": [
       "float"
      ]
     },
     "execution_count": 66,
     "metadata": {},
     "output_type": "execute_result"
    }
   ],
   "source": [
    "type(d)"
   ]
  },
  {
   "cell_type": "code",
   "execution_count": 67,
   "id": "split-sailing",
   "metadata": {},
   "outputs": [],
   "source": [
    "my_string = \"Hello world!\""
   ]
  },
  {
   "cell_type": "code",
   "execution_count": 68,
   "id": "hindu-scope",
   "metadata": {},
   "outputs": [
    {
     "data": {
      "text/plain": [
       "str"
      ]
     },
     "execution_count": 68,
     "metadata": {},
     "output_type": "execute_result"
    }
   ],
   "source": [
    "type(my_string)"
   ]
  },
  {
   "cell_type": "code",
   "execution_count": 69,
   "id": "bearing-debut",
   "metadata": {},
   "outputs": [],
   "source": [
    "my_list = [1, 2, 3, 4]"
   ]
  },
  {
   "cell_type": "code",
   "execution_count": 70,
   "id": "hollow-trinity",
   "metadata": {},
   "outputs": [
    {
     "data": {
      "text/plain": [
       "list"
      ]
     },
     "execution_count": 70,
     "metadata": {},
     "output_type": "execute_result"
    }
   ],
   "source": [
    "type(my_list)"
   ]
  },
  {
   "cell_type": "code",
   "execution_count": 71,
   "id": "connected-warehouse",
   "metadata": {},
   "outputs": [],
   "source": [
    "my_dictionary = {\"barack\": 59, \"francois\": 66, \"angela\": 66}"
   ]
  },
  {
   "cell_type": "code",
   "execution_count": 72,
   "id": "looking-rotation",
   "metadata": {},
   "outputs": [
    {
     "data": {
      "text/plain": [
       "dict"
      ]
     },
     "execution_count": 72,
     "metadata": {},
     "output_type": "execute_result"
    }
   ],
   "source": [
    "type(my_dictionary)"
   ]
  },
  {
   "cell_type": "code",
   "execution_count": 73,
   "id": "plain-journalist",
   "metadata": {},
   "outputs": [],
   "source": [
    "my_range = range(10)"
   ]
  },
  {
   "cell_type": "code",
   "execution_count": 74,
   "id": "rising-studio",
   "metadata": {},
   "outputs": [
    {
     "data": {
      "text/plain": [
       "range"
      ]
     },
     "execution_count": 74,
     "metadata": {},
     "output_type": "execute_result"
    }
   ],
   "source": [
    "type(my_range)"
   ]
  },
  {
   "cell_type": "code",
   "execution_count": 75,
   "id": "silent-gnome",
   "metadata": {},
   "outputs": [
    {
     "name": "stdout",
     "output_type": "stream",
     "text": [
      "range(0, 10)\n"
     ]
    }
   ],
   "source": [
    "print(my_range)"
   ]
  },
  {
   "cell_type": "code",
   "execution_count": 76,
   "id": "liberal-showcase",
   "metadata": {},
   "outputs": [
    {
     "data": {
      "text/plain": [
       "[0, 1, 2, 3, 4, 5, 6, 7, 8, 9]"
      ]
     },
     "execution_count": 76,
     "metadata": {},
     "output_type": "execute_result"
    }
   ],
   "source": [
    "list(my_range)"
   ]
  },
  {
   "cell_type": "code",
   "execution_count": 78,
   "id": "about-interview",
   "metadata": {},
   "outputs": [
    {
     "data": {
      "text/plain": [
       "NoneType"
      ]
     },
     "execution_count": 78,
     "metadata": {},
     "output_type": "execute_result"
    }
   ],
   "source": [
    "type(None)"
   ]
  },
  {
   "cell_type": "code",
   "execution_count": 82,
   "id": "paperback-purse",
   "metadata": {},
   "outputs": [],
   "source": [
    "i = None"
   ]
  },
  {
   "cell_type": "code",
   "execution_count": 83,
   "id": "usual-bubble",
   "metadata": {},
   "outputs": [
    {
     "data": {
      "text/plain": [
       "NoneType"
      ]
     },
     "execution_count": 83,
     "metadata": {},
     "output_type": "execute_result"
    }
   ],
   "source": [
    "type(i)"
   ]
  },
  {
   "cell_type": "markdown",
   "id": "detected-metabolism",
   "metadata": {},
   "source": [
    "### Types operations"
   ]
  },
  {
   "cell_type": "code",
   "execution_count": 84,
   "id": "renewable-denial",
   "metadata": {},
   "outputs": [],
   "source": [
    "a = 4\n",
    "b = -4"
   ]
  },
  {
   "cell_type": "code",
   "execution_count": 85,
   "id": "protective-stylus",
   "metadata": {},
   "outputs": [
    {
     "name": "stdout",
     "output_type": "stream",
     "text": [
      "-16\n"
     ]
    }
   ],
   "source": [
    "print(a * b)"
   ]
  },
  {
   "cell_type": "code",
   "execution_count": 86,
   "id": "loaded-annex",
   "metadata": {},
   "outputs": [],
   "source": [
    "e = 23 % 2"
   ]
  },
  {
   "cell_type": "code",
   "execution_count": 87,
   "id": "norman-calcium",
   "metadata": {},
   "outputs": [
    {
     "data": {
      "text/plain": [
       "1"
      ]
     },
     "execution_count": 87,
     "metadata": {},
     "output_type": "execute_result"
    }
   ],
   "source": [
    "e"
   ]
  },
  {
   "cell_type": "code",
   "execution_count": 88,
   "id": "macro-duration",
   "metadata": {},
   "outputs": [
    {
     "data": {
      "text/plain": [
       "11"
      ]
     },
     "execution_count": 88,
     "metadata": {},
     "output_type": "execute_result"
    }
   ],
   "source": [
    "23 // 2"
   ]
  },
  {
   "cell_type": "code",
   "execution_count": 89,
   "id": "charitable-expense",
   "metadata": {},
   "outputs": [
    {
     "data": {
      "text/plain": [
       "11.5"
      ]
     },
     "execution_count": 89,
     "metadata": {},
     "output_type": "execute_result"
    }
   ],
   "source": [
    "23 / 2"
   ]
  },
  {
   "cell_type": "code",
   "execution_count": 90,
   "id": "standard-polyester",
   "metadata": {},
   "outputs": [],
   "source": [
    "c = 1.5\n",
    "d = 2.5"
   ]
  },
  {
   "cell_type": "code",
   "execution_count": 91,
   "id": "composed-request",
   "metadata": {},
   "outputs": [
    {
     "name": "stdout",
     "output_type": "stream",
     "text": [
      "3.75\n"
     ]
    }
   ],
   "source": [
    "print(c * d)"
   ]
  },
  {
   "cell_type": "code",
   "execution_count": 92,
   "id": "automated-compatibility",
   "metadata": {},
   "outputs": [
    {
     "data": {
      "text/plain": [
       "0.6"
      ]
     },
     "execution_count": 92,
     "metadata": {},
     "output_type": "execute_result"
    }
   ],
   "source": [
    "c / d"
   ]
  },
  {
   "cell_type": "code",
   "execution_count": 93,
   "id": "general-decimal",
   "metadata": {},
   "outputs": [
    {
     "data": {
      "text/plain": [
       "6.0"
      ]
     },
     "execution_count": 93,
     "metadata": {},
     "output_type": "execute_result"
    }
   ],
   "source": [
    "a * c"
   ]
  },
  {
   "cell_type": "code",
   "execution_count": 94,
   "id": "paperback-mouse",
   "metadata": {},
   "outputs": [
    {
     "data": {
      "text/plain": [
       "0.25"
      ]
     },
     "execution_count": 94,
     "metadata": {},
     "output_type": "execute_result"
    }
   ],
   "source": [
    "2 / 8"
   ]
  },
  {
   "cell_type": "code",
   "execution_count": 95,
   "id": "radio-election",
   "metadata": {},
   "outputs": [
    {
     "data": {
      "text/plain": [
       "0"
      ]
     },
     "execution_count": 95,
     "metadata": {},
     "output_type": "execute_result"
    }
   ],
   "source": [
    "2 // 8"
   ]
  },
  {
   "cell_type": "code",
   "execution_count": 96,
   "id": "angry-stewart",
   "metadata": {},
   "outputs": [
    {
     "data": {
      "text/plain": [
       "0"
      ]
     },
     "execution_count": 96,
     "metadata": {},
     "output_type": "execute_result"
    }
   ],
   "source": [
    "int(2 / 8)"
   ]
  },
  {
   "cell_type": "code",
   "execution_count": 97,
   "id": "important-armenia",
   "metadata": {},
   "outputs": [
    {
     "data": {
      "text/plain": [
       "(0, 2)"
      ]
     },
     "execution_count": 97,
     "metadata": {},
     "output_type": "execute_result"
    }
   ],
   "source": [
    "divmod(2, 8)"
   ]
  },
  {
   "cell_type": "markdown",
   "id": "expressed-breakdown",
   "metadata": {},
   "source": [
    "#### Listes"
   ]
  },
  {
   "cell_type": "code",
   "execution_count": 98,
   "id": "revolutionary-mailman",
   "metadata": {},
   "outputs": [],
   "source": [
    "a = []"
   ]
  },
  {
   "cell_type": "code",
   "execution_count": 99,
   "id": "peaceful-retreat",
   "metadata": {},
   "outputs": [],
   "source": [
    "a = list()"
   ]
  },
  {
   "cell_type": "code",
   "execution_count": 100,
   "id": "practical-butterfly",
   "metadata": {},
   "outputs": [],
   "source": [
    "b = [1, 2, 4, 6, 8]\n",
    "c = [\"hello\", \"how\", \"are\", \"you?\"]"
   ]
  },
  {
   "cell_type": "code",
   "execution_count": 101,
   "id": "ranging-politics",
   "metadata": {},
   "outputs": [],
   "source": [
    "d = [1, 1.5, \"hello\"]"
   ]
  },
  {
   "cell_type": "code",
   "execution_count": 103,
   "id": "amended-monday",
   "metadata": {},
   "outputs": [
    {
     "data": {
      "text/plain": [
       "1"
      ]
     },
     "execution_count": 103,
     "metadata": {},
     "output_type": "execute_result"
    }
   ],
   "source": [
    "b[0]"
   ]
  },
  {
   "cell_type": "code",
   "execution_count": 104,
   "id": "shaped-baker",
   "metadata": {},
   "outputs": [
    {
     "data": {
      "text/plain": [
       "8"
      ]
     },
     "execution_count": 104,
     "metadata": {},
     "output_type": "execute_result"
    }
   ],
   "source": [
    "b[-1]"
   ]
  },
  {
   "cell_type": "code",
   "execution_count": 105,
   "id": "alternate-nylon",
   "metadata": {},
   "outputs": [
    {
     "data": {
      "text/plain": [
       "[8, 6, 4, 2, 1]"
      ]
     },
     "execution_count": 105,
     "metadata": {},
     "output_type": "execute_result"
    }
   ],
   "source": [
    "b[::-1]"
   ]
  },
  {
   "cell_type": "code",
   "execution_count": 115,
   "id": "crude-degree",
   "metadata": {},
   "outputs": [
    {
     "data": {
      "text/plain": [
       "[8, 6, 4, 2, 1]"
      ]
     },
     "execution_count": 115,
     "metadata": {},
     "output_type": "execute_result"
    }
   ],
   "source": [
    "b[-1::-1]"
   ]
  },
  {
   "cell_type": "code",
   "execution_count": 116,
   "id": "after-royalty",
   "metadata": {},
   "outputs": [
    {
     "data": {
      "text/plain": [
       "[2, 4]"
      ]
     },
     "execution_count": 116,
     "metadata": {},
     "output_type": "execute_result"
    }
   ],
   "source": [
    "b[1:3]"
   ]
  },
  {
   "cell_type": "markdown",
   "id": "figured-priority",
   "metadata": {},
   "source": [
    "[1, 2, 4, 6, 8]\n",
    " 0 [1  2 [3  4"
   ]
  },
  {
   "cell_type": "code",
   "execution_count": 129,
   "id": "dirty-increase",
   "metadata": {},
   "outputs": [],
   "source": [
    "a.append(10)"
   ]
  },
  {
   "cell_type": "code",
   "execution_count": 130,
   "id": "biblical-architect",
   "metadata": {},
   "outputs": [
    {
     "data": {
      "text/plain": [
       "[10, 10, 10, 10, 10, 10, 10, 10, 10, 10, 10, 10]"
      ]
     },
     "execution_count": 130,
     "metadata": {},
     "output_type": "execute_result"
    }
   ],
   "source": [
    "a"
   ]
  },
  {
   "cell_type": "code",
   "execution_count": 131,
   "id": "intermediate-manchester",
   "metadata": {},
   "outputs": [
    {
     "data": {
      "text/plain": [
       "'hello'"
      ]
     },
     "execution_count": 131,
     "metadata": {},
     "output_type": "execute_result"
    }
   ],
   "source": [
    "d.pop()"
   ]
  },
  {
   "cell_type": "code",
   "execution_count": 132,
   "id": "hourly-comedy",
   "metadata": {},
   "outputs": [
    {
     "data": {
      "text/plain": [
       "[1, 1.5]"
      ]
     },
     "execution_count": 132,
     "metadata": {},
     "output_type": "execute_result"
    }
   ],
   "source": [
    "d"
   ]
  },
  {
   "cell_type": "code",
   "execution_count": 133,
   "id": "verified-gabriel",
   "metadata": {},
   "outputs": [
    {
     "data": {
      "text/plain": [
       "12"
      ]
     },
     "execution_count": 133,
     "metadata": {},
     "output_type": "execute_result"
    }
   ],
   "source": [
    "len(a)"
   ]
  },
  {
   "cell_type": "code",
   "execution_count": 136,
   "id": "binding-remains",
   "metadata": {},
   "outputs": [
    {
     "data": {
      "text/plain": [
       "'hello how are you?'"
      ]
     },
     "execution_count": 136,
     "metadata": {},
     "output_type": "execute_result"
    }
   ],
   "source": [
    "\" \".join(c)"
   ]
  },
  {
   "cell_type": "code",
   "execution_count": 137,
   "id": "endangered-press",
   "metadata": {},
   "outputs": [
    {
     "data": {
      "text/plain": [
       "120"
      ]
     },
     "execution_count": 137,
     "metadata": {},
     "output_type": "execute_result"
    }
   ],
   "source": [
    "sum(a)"
   ]
  },
  {
   "cell_type": "markdown",
   "id": "integrated-assurance",
   "metadata": {},
   "source": [
    "Apparté question : Quelle est la différence entre une méthode et une fonction ?\n",
    "\n",
    "- fonction (renvoie une valeur)\n",
    "- méthode (ne renvoie pas de valeur)\n",
    "- procédure (ne renvoie pas de valeur)\n",
    "\n",
    "\n",
    "```\n",
    "def my_function():\n",
    "    1 + 1\n",
    "    blala\n",
    "```"
   ]
  },
  {
   "cell_type": "markdown",
   "id": "enclosed-better",
   "metadata": {},
   "source": [
    "#### Strings"
   ]
  },
  {
   "cell_type": "code",
   "execution_count": 140,
   "id": "intense-triple",
   "metadata": {},
   "outputs": [],
   "source": [
    "a = \"\""
   ]
  },
  {
   "cell_type": "code",
   "execution_count": 152,
   "id": "seeing-capacity",
   "metadata": {},
   "outputs": [],
   "source": [
    "b = \"Christophe\""
   ]
  },
  {
   "cell_type": "code",
   "execution_count": 150,
   "id": "critical-poultry",
   "metadata": {},
   "outputs": [],
   "source": [
    "b = 'Christophe'"
   ]
  },
  {
   "cell_type": "code",
   "execution_count": 153,
   "id": "progressive-milan",
   "metadata": {},
   "outputs": [],
   "source": [
    "z = \"\"\"Christophe a dit : \"comment ça va?\".\"\"\""
   ]
  },
  {
   "cell_type": "code",
   "execution_count": 154,
   "id": "enormous-shoot",
   "metadata": {},
   "outputs": [
    {
     "data": {
      "text/plain": [
       "'C'"
      ]
     },
     "execution_count": 154,
     "metadata": {},
     "output_type": "execute_result"
    }
   ],
   "source": [
    "b[0]"
   ]
  },
  {
   "cell_type": "code",
   "execution_count": 155,
   "id": "dying-conservation",
   "metadata": {},
   "outputs": [
    {
     "data": {
      "text/plain": [
       "10"
      ]
     },
     "execution_count": 155,
     "metadata": {},
     "output_type": "execute_result"
    }
   ],
   "source": [
    "len(b)"
   ]
  },
  {
   "cell_type": "code",
   "execution_count": 167,
   "id": "strange-model",
   "metadata": {},
   "outputs": [
    {
     "data": {
      "text/plain": [
       "'Hello my name is Christophe'"
      ]
     },
     "execution_count": 167,
     "metadata": {},
     "output_type": "execute_result"
    }
   ],
   "source": [
    "\"Hello my name is %s\" % b \n",
    "# <<< Ancienne ancienne très ancienne méthode à ne pas utiliser"
   ]
  },
  {
   "cell_type": "code",
   "execution_count": 168,
   "id": "identical-values",
   "metadata": {},
   "outputs": [
    {
     "data": {
      "text/plain": [
       "'Hello my name is Christophe'"
      ]
     },
     "execution_count": 168,
     "metadata": {},
     "output_type": "execute_result"
    }
   ],
   "source": [
    "\"Hello my name is {0}\".format(b)"
   ]
  },
  {
   "cell_type": "code",
   "execution_count": 156,
   "id": "traditional-terrain",
   "metadata": {},
   "outputs": [],
   "source": [
    "e = f\"Hello my name is {b}\""
   ]
  },
  {
   "cell_type": "code",
   "execution_count": 157,
   "id": "available-vintage",
   "metadata": {},
   "outputs": [
    {
     "data": {
      "text/plain": [
       "'Hello my name is Christophe'"
      ]
     },
     "execution_count": 157,
     "metadata": {},
     "output_type": "execute_result"
    }
   ],
   "source": [
    "e"
   ]
  },
  {
   "cell_type": "code",
   "execution_count": 162,
   "id": "weekly-alpha",
   "metadata": {},
   "outputs": [
    {
     "data": {
      "text/plain": [
       "['Age', 'Name', 'Firstname']"
      ]
     },
     "execution_count": 162,
     "metadata": {},
     "output_type": "execute_result"
    }
   ],
   "source": [
    "\"Age;Name;Firstname\".split(\";\")"
   ]
  },
  {
   "cell_type": "code",
   "execution_count": 163,
   "id": "whole-salvation",
   "metadata": {},
   "outputs": [
    {
     "data": {
      "text/plain": [
       "'CHRISTOPHE'"
      ]
     },
     "execution_count": 163,
     "metadata": {},
     "output_type": "execute_result"
    }
   ],
   "source": [
    "b.upper()"
   ]
  },
  {
   "cell_type": "code",
   "execution_count": 164,
   "id": "spatial-anniversary",
   "metadata": {},
   "outputs": [
    {
     "data": {
      "text/plain": [
       "'christophe'"
      ]
     },
     "execution_count": 164,
     "metadata": {},
     "output_type": "execute_result"
    }
   ],
   "source": [
    "b.lower()"
   ]
  },
  {
   "cell_type": "code",
   "execution_count": 165,
   "id": "burning-reply",
   "metadata": {},
   "outputs": [
    {
     "data": {
      "text/plain": [
       "1"
      ]
     },
     "execution_count": 165,
     "metadata": {},
     "output_type": "execute_result"
    }
   ],
   "source": [
    "b.count(\"ophe\")"
   ]
  },
  {
   "cell_type": "code",
   "execution_count": 171,
   "id": "hindu-clock",
   "metadata": {},
   "outputs": [
    {
     "data": {
      "text/plain": [
       "1"
      ]
     },
     "execution_count": 171,
     "metadata": {},
     "output_type": "execute_result"
    }
   ],
   "source": [
    "b.find(\"h\")"
   ]
  },
  {
   "cell_type": "code",
   "execution_count": 172,
   "id": "liquid-investment",
   "metadata": {},
   "outputs": [
    {
     "data": {
      "text/plain": [
       "True"
      ]
     },
     "execution_count": 172,
     "metadata": {},
     "output_type": "execute_result"
    }
   ],
   "source": [
    "b.isalpha()"
   ]
  },
  {
   "cell_type": "code",
   "execution_count": 183,
   "id": "bacterial-local",
   "metadata": {},
   "outputs": [],
   "source": [
    "c = \"Christophe Blefari\""
   ]
  },
  {
   "cell_type": "code",
   "execution_count": 185,
   "id": "unable-extraction",
   "metadata": {},
   "outputs": [
    {
     "data": {
      "text/plain": [
       "False"
      ]
     },
     "execution_count": 185,
     "metadata": {},
     "output_type": "execute_result"
    }
   ],
   "source": [
    "c.isalpha()\n",
    "# Caractères alphanumériques = [a-zA-Z0-9]"
   ]
  },
  {
   "cell_type": "code",
   "execution_count": 179,
   "id": "stretch-farmer",
   "metadata": {},
   "outputs": [
    {
     "data": {
      "text/plain": [
       "False"
      ]
     },
     "execution_count": 179,
     "metadata": {},
     "output_type": "execute_result"
    }
   ],
   "source": [
    "b.isdigit()"
   ]
  },
  {
   "cell_type": "code",
   "execution_count": 180,
   "id": "modified-differential",
   "metadata": {},
   "outputs": [
    {
     "data": {
      "text/plain": [
       "True"
      ]
     },
     "execution_count": 180,
     "metadata": {},
     "output_type": "execute_result"
    }
   ],
   "source": [
    "\"1234\".isdigit()"
   ]
  },
  {
   "cell_type": "code",
   "execution_count": 181,
   "id": "environmental-determination",
   "metadata": {},
   "outputs": [
    {
     "data": {
      "text/plain": [
       "'Christine'"
      ]
     },
     "execution_count": 181,
     "metadata": {},
     "output_type": "execute_result"
    }
   ],
   "source": [
    "b.replace(\"ophe\", \"ine\")"
   ]
  },
  {
   "cell_type": "code",
   "execution_count": 182,
   "id": "combined-stick",
   "metadata": {},
   "outputs": [
    {
     "data": {
      "text/plain": [
       "'Christophe'"
      ]
     },
     "execution_count": 182,
     "metadata": {},
     "output_type": "execute_result"
    }
   ],
   "source": [
    "b"
   ]
  },
  {
   "cell_type": "markdown",
   "id": "utility-communist",
   "metadata": {},
   "source": [
    "#### Dict"
   ]
  },
  {
   "cell_type": "code",
   "execution_count": 186,
   "id": "corrected-burton",
   "metadata": {},
   "outputs": [],
   "source": [
    "my_dictionary = {\"barack\": 59, \"francois\": 66, \"angela\": 66}"
   ]
  },
  {
   "cell_type": "code",
   "execution_count": 187,
   "id": "boxed-understanding",
   "metadata": {},
   "outputs": [
    {
     "data": {
      "text/plain": [
       "dict_values([59, 66, 66])"
      ]
     },
     "execution_count": 187,
     "metadata": {},
     "output_type": "execute_result"
    }
   ],
   "source": [
    "my_dictionary.values()"
   ]
  },
  {
   "cell_type": "code",
   "execution_count": 188,
   "id": "certified-sitting",
   "metadata": {},
   "outputs": [
    {
     "data": {
      "text/plain": [
       "dict_keys(['barack', 'francois', 'angela'])"
      ]
     },
     "execution_count": 188,
     "metadata": {},
     "output_type": "execute_result"
    }
   ],
   "source": [
    "my_dictionary.keys()"
   ]
  },
  {
   "cell_type": "code",
   "execution_count": 189,
   "id": "medieval-cliff",
   "metadata": {},
   "outputs": [
    {
     "data": {
      "text/plain": [
       "dict_items([('barack', 59), ('francois', 66), ('angela', 66)])"
      ]
     },
     "execution_count": 189,
     "metadata": {},
     "output_type": "execute_result"
    }
   ],
   "source": [
    "my_dictionary.items()"
   ]
  },
  {
   "cell_type": "code",
   "execution_count": 190,
   "id": "compressed-lucas",
   "metadata": {},
   "outputs": [
    {
     "data": {
      "text/plain": [
       "66"
      ]
     },
     "execution_count": 190,
     "metadata": {},
     "output_type": "execute_result"
    }
   ],
   "source": [
    "my_dictionary[\"angela\"]"
   ]
  },
  {
   "cell_type": "code",
   "execution_count": 191,
   "id": "blind-bedroom",
   "metadata": {},
   "outputs": [],
   "source": [
    "my_dictionary[\"angela\"] = 20"
   ]
  },
  {
   "cell_type": "code",
   "execution_count": 192,
   "id": "reliable-effectiveness",
   "metadata": {},
   "outputs": [
    {
     "data": {
      "text/plain": [
       "{'barack': 59, 'francois': 66, 'angela': 20}"
      ]
     },
     "execution_count": 192,
     "metadata": {},
     "output_type": "execute_result"
    }
   ],
   "source": [
    "my_dictionary"
   ]
  },
  {
   "cell_type": "code",
   "execution_count": 193,
   "id": "exterior-japanese",
   "metadata": {},
   "outputs": [
    {
     "data": {
      "text/plain": [
       "3"
      ]
     },
     "execution_count": 193,
     "metadata": {},
     "output_type": "execute_result"
    }
   ],
   "source": [
    "len(my_dictionary)"
   ]
  },
  {
   "cell_type": "markdown",
   "id": "greenhouse-stadium",
   "metadata": {},
   "source": [
    "### Boucles"
   ]
  },
  {
   "cell_type": "markdown",
   "id": "planned-opposition",
   "metadata": {},
   "source": [
    "for et le while"
   ]
  },
  {
   "cell_type": "code",
   "execution_count": 194,
   "id": "beneficial-attempt",
   "metadata": {},
   "outputs": [],
   "source": [
    "a = [1, 2, 3, 4, 5]"
   ]
  },
  {
   "cell_type": "code",
   "execution_count": 195,
   "id": "other-latter",
   "metadata": {},
   "outputs": [
    {
     "name": "stdout",
     "output_type": "stream",
     "text": [
      "2\n",
      "4\n",
      "6\n",
      "8\n",
      "10\n"
     ]
    }
   ],
   "source": [
    "for element in a:\n",
    "    print(element * 2)"
   ]
  },
  {
   "cell_type": "code",
   "execution_count": 197,
   "id": "dominican-courage",
   "metadata": {},
   "outputs": [
    {
     "name": "stdout",
     "output_type": "stream",
     "text": [
      "0\n",
      "1\n",
      "2\n",
      "3\n",
      "4\n",
      "5\n",
      "6\n",
      "7\n",
      "8\n",
      "9\n"
     ]
    }
   ],
   "source": [
    "for i in range(10):\n",
    "    print(i)"
   ]
  },
  {
   "cell_type": "code",
   "execution_count": 199,
   "id": "plastic-johnston",
   "metadata": {},
   "outputs": [
    {
     "name": "stdout",
     "output_type": "stream",
     "text": [
      "C\n",
      "H\n",
      "R\n",
      "I\n",
      "S\n",
      "T\n",
      "O\n",
      "P\n",
      "H\n",
      "E\n"
     ]
    }
   ],
   "source": [
    "for letter in \"Christophe\":\n",
    "    print(letter.upper())"
   ]
  },
  {
   "cell_type": "code",
   "execution_count": 201,
   "id": "damaged-routine",
   "metadata": {},
   "outputs": [
    {
     "name": "stdout",
     "output_type": "stream",
     "text": [
      "barack is 59 years old\n",
      "francois is 66 years old\n",
      "angela is 20 years old\n"
     ]
    }
   ],
   "source": [
    "for name, age in my_dictionary.items():\n",
    "    print(f\"{name} is {age} years old\")"
   ]
  },
  {
   "cell_type": "markdown",
   "id": "suffering-flooring",
   "metadata": {},
   "source": [
    "### if"
   ]
  },
  {
   "cell_type": "code",
   "execution_count": 206,
   "id": "worldwide-announcement",
   "metadata": {},
   "outputs": [],
   "source": [
    "a = 40"
   ]
  },
  {
   "cell_type": "code",
   "execution_count": 203,
   "id": "charged-newman",
   "metadata": {},
   "outputs": [],
   "source": [
    "if a > 20:\n",
    "    print(\"yes!\")"
   ]
  },
  {
   "cell_type": "code",
   "execution_count": 204,
   "id": "certified-helmet",
   "metadata": {},
   "outputs": [],
   "source": [
    "b = 34"
   ]
  },
  {
   "cell_type": "code",
   "execution_count": 207,
   "id": "bigger-shuttle",
   "metadata": {},
   "outputs": [
    {
     "name": "stdout",
     "output_type": "stream",
     "text": [
      "Bouh :(\n"
     ]
    }
   ],
   "source": [
    "if a < 20 and a < b:\n",
    "    pass\n",
    "else:\n",
    "    print(\"Bouh :(\")"
   ]
  },
  {
   "cell_type": "markdown",
   "id": "atomic-nepal",
   "metadata": {},
   "source": [
    "### List advanced"
   ]
  },
  {
   "cell_type": "code",
   "execution_count": 208,
   "id": "martial-cincinnati",
   "metadata": {},
   "outputs": [],
   "source": [
    "ITEMS = [1, 2, 3, 4, 5]"
   ]
  },
  {
   "cell_type": "code",
   "execution_count": 209,
   "id": "corporate-graduation",
   "metadata": {},
   "outputs": [
    {
     "data": {
      "text/plain": [
       "[1, 2, 3, 4, 5, 1, 2, 3, 4, 5]"
      ]
     },
     "execution_count": 209,
     "metadata": {},
     "output_type": "execute_result"
    }
   ],
   "source": [
    "ITEMS * 2"
   ]
  },
  {
   "cell_type": "code",
   "execution_count": 210,
   "id": "negative-private",
   "metadata": {},
   "outputs": [
    {
     "data": {
      "text/plain": [
       "[1, 2, 3, 4, 5, 1, 2, 3, 4, 5]"
      ]
     },
     "execution_count": 210,
     "metadata": {},
     "output_type": "execute_result"
    }
   ],
   "source": [
    "ITEMS + ITEMS"
   ]
  },
  {
   "cell_type": "code",
   "execution_count": 212,
   "id": "governmental-venture",
   "metadata": {},
   "outputs": [],
   "source": [
    "NEW_ITEMS = []\n",
    "for i in ITEMS:\n",
    "    NEW_ITEMS.append(i * 2)"
   ]
  },
  {
   "cell_type": "code",
   "execution_count": 213,
   "id": "loose-session",
   "metadata": {},
   "outputs": [
    {
     "data": {
      "text/plain": [
       "[2, 4, 6, 8, 10]"
      ]
     },
     "execution_count": 213,
     "metadata": {},
     "output_type": "execute_result"
    }
   ],
   "source": [
    "NEW_ITEMS"
   ]
  },
  {
   "cell_type": "code",
   "execution_count": 215,
   "id": "greek-celtic",
   "metadata": {},
   "outputs": [],
   "source": [
    "NEW_ITEMS = [i * 2 for i in ITEMS]"
   ]
  },
  {
   "cell_type": "code",
   "execution_count": 218,
   "id": "imposed-missouri",
   "metadata": {},
   "outputs": [
    {
     "data": {
      "text/plain": [
       "[2, 4, 6, 8, 10]"
      ]
     },
     "execution_count": 218,
     "metadata": {},
     "output_type": "execute_result"
    }
   ],
   "source": [
    "list(map(lambda x: x * 2, ITEMS))"
   ]
  },
  {
   "cell_type": "code",
   "execution_count": 216,
   "id": "selected-adobe",
   "metadata": {},
   "outputs": [],
   "source": [
    "# \"lambda x: x * 2\" equivaut à \"f(x) = x * 2\""
   ]
  },
  {
   "cell_type": "code",
   "execution_count": 219,
   "id": "secure-forum",
   "metadata": {},
   "outputs": [
    {
     "data": {
      "text/plain": [
       "[2, 4]"
      ]
     },
     "execution_count": 219,
     "metadata": {},
     "output_type": "execute_result"
    }
   ],
   "source": [
    "list(filter(lambda x: x % 2 == 0, ITEMS))"
   ]
  },
  {
   "cell_type": "markdown",
   "id": "graduate-restaurant",
   "metadata": {},
   "source": [
    "### Fonctions"
   ]
  },
  {
   "cell_type": "code",
   "execution_count": 220,
   "id": "ongoing-safety",
   "metadata": {},
   "outputs": [],
   "source": [
    "def greetings(name):\n",
    "    sentence = f\"Hello {name}\"\n",
    "    print(sentence)\n",
    "    return sentence"
   ]
  },
  {
   "cell_type": "code",
   "execution_count": 221,
   "id": "impaired-benchmark",
   "metadata": {},
   "outputs": [
    {
     "name": "stdout",
     "output_type": "stream",
     "text": [
      "Hello Christophe\n"
     ]
    }
   ],
   "source": [
    "greetings(\"Christophe\")"
   ]
  },
  {
   "cell_type": "code",
   "execution_count": 222,
   "id": "affecting-installation",
   "metadata": {},
   "outputs": [
    {
     "name": "stdout",
     "output_type": "stream",
     "text": [
      "Hello Julie\n"
     ]
    }
   ],
   "source": [
    "greetings(\"Julie\")"
   ]
  },
  {
   "cell_type": "code",
   "execution_count": 227,
   "id": "emerging-liver",
   "metadata": {},
   "outputs": [],
   "source": [
    "def add(a, b=10):\n",
    "    \"\"\"\n",
    "        This method returns the addition between a and b given parameters\n",
    "        :param a: left part\n",
    "        :param b: right part\n",
    "    \"\"\"\n",
    "    return a + b"
   ]
  },
  {
   "cell_type": "code",
   "execution_count": 224,
   "id": "white-sweet",
   "metadata": {},
   "outputs": [
    {
     "data": {
      "text/plain": [
       "57"
      ]
     },
     "execution_count": 224,
     "metadata": {},
     "output_type": "execute_result"
    }
   ],
   "source": [
    "add(1, 56)"
   ]
  },
  {
   "cell_type": "code",
   "execution_count": 225,
   "id": "constant-updating",
   "metadata": {},
   "outputs": [
    {
     "data": {
      "text/plain": [
       "57"
      ]
     },
     "execution_count": 225,
     "metadata": {},
     "output_type": "execute_result"
    }
   ],
   "source": [
    "add(a=1, b=56)"
   ]
  },
  {
   "cell_type": "code",
   "execution_count": 226,
   "id": "crucial-richardson",
   "metadata": {},
   "outputs": [
    {
     "data": {
      "text/plain": [
       "57"
      ]
     },
     "execution_count": 226,
     "metadata": {},
     "output_type": "execute_result"
    }
   ],
   "source": [
    "add(b=56, a=1)"
   ]
  },
  {
   "cell_type": "code",
   "execution_count": 228,
   "id": "honest-agent",
   "metadata": {},
   "outputs": [
    {
     "data": {
      "text/plain": [
       "11"
      ]
     },
     "execution_count": 228,
     "metadata": {},
     "output_type": "execute_result"
    }
   ],
   "source": [
    "add(1)"
   ]
  },
  {
   "cell_type": "markdown",
   "id": "photographic-witness",
   "metadata": {},
   "source": [
    "### Open and read/write files"
   ]
  },
  {
   "cell_type": "code",
   "execution_count": 229,
   "id": "available-migration",
   "metadata": {},
   "outputs": [],
   "source": [
    "with open(\"slide35.txt\", \"r\") as my_file:\n",
    "    content = my_file.read()"
   ]
  },
  {
   "cell_type": "code",
   "execution_count": 231,
   "id": "proof-small",
   "metadata": {},
   "outputs": [
    {
     "data": {
      "text/plain": [
       "['Bonjour', 'Les', 'Gens']"
      ]
     },
     "execution_count": 231,
     "metadata": {},
     "output_type": "execute_result"
    }
   ],
   "source": [
    "content.split(\"\\n\")"
   ]
  },
  {
   "cell_type": "code",
   "execution_count": 236,
   "id": "variable-engine",
   "metadata": {},
   "outputs": [],
   "source": [
    "data = [\n",
    "    [\"Angela\", \"Barack\", \"Francois\"],\n",
    "    [\"66\", \"59\", \"66\"],\n",
    "]"
   ]
  },
  {
   "cell_type": "code",
   "execution_count": 238,
   "id": "mineral-future",
   "metadata": {},
   "outputs": [],
   "source": [
    "with open(\"slide36.txt\", \"w\") as my_file:\n",
    "    for row in data:\n",
    "        my_file.write(\",\".join(row) + \"\\n\")"
   ]
  },
  {
   "cell_type": "markdown",
   "id": "juvenile-richmond",
   "metadata": {},
   "source": [
    "### imports"
   ]
  },
  {
   "cell_type": "code",
   "execution_count": 239,
   "id": "atlantic-vitamin",
   "metadata": {},
   "outputs": [],
   "source": [
    "import datetime"
   ]
  },
  {
   "cell_type": "code",
   "execution_count": 240,
   "id": "subsequent-madagascar",
   "metadata": {},
   "outputs": [
    {
     "data": {
      "text/plain": [
       "datetime.datetime(2021, 3, 6, 11, 45, 14, 764071)"
      ]
     },
     "execution_count": 240,
     "metadata": {},
     "output_type": "execute_result"
    }
   ],
   "source": [
    "datetime.datetime.now()"
   ]
  },
  {
   "cell_type": "code",
   "execution_count": 241,
   "id": "above-advance",
   "metadata": {},
   "outputs": [],
   "source": [
    "from datetime import datetime"
   ]
  },
  {
   "cell_type": "code",
   "execution_count": 242,
   "id": "arabic-centre",
   "metadata": {},
   "outputs": [
    {
     "data": {
      "text/plain": [
       "datetime.datetime(2021, 3, 6, 11, 45, 47, 788209)"
      ]
     },
     "execution_count": 242,
     "metadata": {},
     "output_type": "execute_result"
    }
   ],
   "source": [
    "datetime.now()"
   ]
  },
  {
   "cell_type": "code",
   "execution_count": 243,
   "id": "macro-valve",
   "metadata": {},
   "outputs": [],
   "source": [
    "today = datetime.now()"
   ]
  },
  {
   "cell_type": "code",
   "execution_count": 244,
   "id": "surgical-expression",
   "metadata": {},
   "outputs": [
    {
     "data": {
      "text/plain": [
       "datetime.date(2021, 3, 6)"
      ]
     },
     "execution_count": 244,
     "metadata": {},
     "output_type": "execute_result"
    }
   ],
   "source": [
    "today.date()"
   ]
  },
  {
   "cell_type": "code",
   "execution_count": 246,
   "id": "final-interest",
   "metadata": {},
   "outputs": [
    {
     "data": {
      "text/plain": [
       "'2021-------03'"
      ]
     },
     "execution_count": 246,
     "metadata": {},
     "output_type": "execute_result"
    }
   ],
   "source": [
    "today.strftime(\"%Y-------%m\")"
   ]
  },
  {
   "cell_type": "code",
   "execution_count": 249,
   "id": "material-ribbon",
   "metadata": {},
   "outputs": [
    {
     "data": {
      "text/plain": [
       "datetime.datetime(2021, 1, 1, 0, 0)"
      ]
     },
     "execution_count": 249,
     "metadata": {},
     "output_type": "execute_result"
    }
   ],
   "source": [
    "datetime.strptime(\"2021-01-01\", \"%Y-%m-%d\")"
   ]
  },
  {
   "cell_type": "markdown",
   "id": "formed-sphere",
   "metadata": {},
   "source": [
    "### Exceptions"
   ]
  },
  {
   "cell_type": "code",
   "execution_count": 250,
   "id": "special-extra",
   "metadata": {},
   "outputs": [
    {
     "ename": "ZeroDivisionError",
     "evalue": "division by zero",
     "output_type": "error",
     "traceback": [
      "\u001b[0;31m---------------------------------------------------------------------------\u001b[0m",
      "\u001b[0;31mZeroDivisionError\u001b[0m                         Traceback (most recent call last)",
      "\u001b[0;32m<ipython-input-250-87ac9c94a8c2>\u001b[0m in \u001b[0;36m<module>\u001b[0;34m\u001b[0m\n\u001b[0;32m----> 1\u001b[0;31m \u001b[0;36m4\u001b[0m \u001b[0;34m/\u001b[0m \u001b[0;36m0\u001b[0m\u001b[0;34m\u001b[0m\u001b[0;34m\u001b[0m\u001b[0m\n\u001b[0m",
      "\u001b[0;31mZeroDivisionError\u001b[0m: division by zero"
     ]
    }
   ],
   "source": [
    "4 / 0"
   ]
  },
  {
   "cell_type": "code",
   "execution_count": 255,
   "id": "informed-candy",
   "metadata": {},
   "outputs": [
    {
     "ename": "TypeError",
     "evalue": "unsupported operand type(s) for +: 'int' and 'str'",
     "output_type": "error",
     "traceback": [
      "\u001b[0;31m---------------------------------------------------------------------------\u001b[0m",
      "\u001b[0;31mTypeError\u001b[0m                                 Traceback (most recent call last)",
      "\u001b[0;32m<ipython-input-255-d10773884512>\u001b[0m in \u001b[0;36m<module>\u001b[0;34m\u001b[0m\n\u001b[0;32m----> 1\u001b[0;31m \u001b[0;36m5\u001b[0m \u001b[0;34m+\u001b[0m \u001b[0;34m\"rrr\"\u001b[0m\u001b[0;34m\u001b[0m\u001b[0;34m\u001b[0m\u001b[0m\n\u001b[0m",
      "\u001b[0;31mTypeError\u001b[0m: unsupported operand type(s) for +: 'int' and 'str'"
     ]
    }
   ],
   "source": [
    "5 + \"rrr\""
   ]
  },
  {
   "cell_type": "code",
   "execution_count": 256,
   "id": "alternate-bibliography",
   "metadata": {},
   "outputs": [],
   "source": [
    "class CantBeNegative(Exception):\n",
    "    pass"
   ]
  },
  {
   "cell_type": "code",
   "execution_count": 260,
   "id": "developmental-daisy",
   "metadata": {},
   "outputs": [],
   "source": [
    "def print_positive_number(number):\n",
    "    if number < 0:\n",
    "        raise CantBeNegative(f\"A number can not be negative: {str(number)}\")\n",
    "    print(number)"
   ]
  },
  {
   "cell_type": "code",
   "execution_count": 261,
   "id": "beneficial-cartridge",
   "metadata": {},
   "outputs": [
    {
     "name": "stdout",
     "output_type": "stream",
     "text": [
      "10\n"
     ]
    }
   ],
   "source": [
    "print_positive_number(10)"
   ]
  },
  {
   "cell_type": "code",
   "execution_count": 262,
   "id": "stuck-people",
   "metadata": {},
   "outputs": [
    {
     "ename": "CantBeNegative",
     "evalue": "A number can not be negative: -20",
     "output_type": "error",
     "traceback": [
      "\u001b[0;31m---------------------------------------------------------------------------\u001b[0m",
      "\u001b[0;31mCantBeNegative\u001b[0m                            Traceback (most recent call last)",
      "\u001b[0;32m<ipython-input-262-5e3ea3e29b76>\u001b[0m in \u001b[0;36m<module>\u001b[0;34m\u001b[0m\n\u001b[0;32m----> 1\u001b[0;31m \u001b[0mprint_positive_number\u001b[0m\u001b[0;34m(\u001b[0m\u001b[0;34m-\u001b[0m\u001b[0;36m20\u001b[0m\u001b[0;34m)\u001b[0m\u001b[0;34m\u001b[0m\u001b[0;34m\u001b[0m\u001b[0m\n\u001b[0m",
      "\u001b[0;32m<ipython-input-260-e6a83964bf60>\u001b[0m in \u001b[0;36mprint_positive_number\u001b[0;34m(number)\u001b[0m\n\u001b[1;32m      1\u001b[0m \u001b[0;32mdef\u001b[0m \u001b[0mprint_positive_number\u001b[0m\u001b[0;34m(\u001b[0m\u001b[0mnumber\u001b[0m\u001b[0;34m)\u001b[0m\u001b[0;34m:\u001b[0m\u001b[0;34m\u001b[0m\u001b[0;34m\u001b[0m\u001b[0m\n\u001b[1;32m      2\u001b[0m     \u001b[0;32mif\u001b[0m \u001b[0mnumber\u001b[0m \u001b[0;34m<\u001b[0m \u001b[0;36m0\u001b[0m\u001b[0;34m:\u001b[0m\u001b[0;34m\u001b[0m\u001b[0;34m\u001b[0m\u001b[0m\n\u001b[0;32m----> 3\u001b[0;31m         \u001b[0;32mraise\u001b[0m \u001b[0mCantBeNegative\u001b[0m\u001b[0;34m(\u001b[0m\u001b[0;34mf\"A number can not be negative: {str(number)}\"\u001b[0m\u001b[0;34m)\u001b[0m\u001b[0;34m\u001b[0m\u001b[0;34m\u001b[0m\u001b[0m\n\u001b[0m\u001b[1;32m      4\u001b[0m     \u001b[0mprint\u001b[0m\u001b[0;34m(\u001b[0m\u001b[0mnumber\u001b[0m\u001b[0;34m)\u001b[0m\u001b[0;34m\u001b[0m\u001b[0;34m\u001b[0m\u001b[0m\n",
      "\u001b[0;31mCantBeNegative\u001b[0m: A number can not be negative: -20"
     ]
    }
   ],
   "source": [
    "print_positive_number(-20)"
   ]
  },
  {
   "cell_type": "markdown",
   "id": "stuck-characterization",
   "metadata": {},
   "source": [
    "# Exercice 1"
   ]
  },
  {
   "cell_type": "code",
   "execution_count": 267,
   "id": "chinese-mystery",
   "metadata": {},
   "outputs": [],
   "source": [
    "message = \"Qebobfpkljbpp^db\""
   ]
  },
  {
   "cell_type": "code",
   "execution_count": 271,
   "id": "understood-finger",
   "metadata": {},
   "outputs": [
    {
     "data": {
      "text/plain": [
       "'Thereisnomessage'"
      ]
     },
     "execution_count": 271,
     "metadata": {},
     "output_type": "execute_result"
    }
   ],
   "source": [
    "\"\".join([chr(ord(letter) + 3) for letter in message])"
   ]
  },
  {
   "cell_type": "code",
   "execution_count": 272,
   "id": "monetary-rebel",
   "metadata": {},
   "outputs": [],
   "source": [
    "result = \"\"\n",
    "for letter in message:\n",
    "    result += chr(ord(letter) + 3)"
   ]
  },
  {
   "cell_type": "code",
   "execution_count": 273,
   "id": "sapphire-junior",
   "metadata": {},
   "outputs": [
    {
     "data": {
      "text/plain": [
       "'Thereisnomessage'"
      ]
     },
     "execution_count": 273,
     "metadata": {},
     "output_type": "execute_result"
    }
   ],
   "source": [
    "result"
   ]
  },
  {
   "cell_type": "code",
   "execution_count": 276,
   "id": "complimentary-intermediate",
   "metadata": {},
   "outputs": [
    {
     "name": "stdout",
     "output_type": "stream",
     "text": [
      "Thereisnolessage\n"
     ]
    }
   ],
   "source": [
    "message = \"Qebobfpklibpp^db\"\n",
    "result = []\n",
    "for letter in message:\n",
    "    result.append(chr(ord(letter) + 3))\n",
    "print(\"\".join(result))"
   ]
  },
  {
   "cell_type": "code",
   "execution_count": null,
   "id": "later-mechanism",
   "metadata": {},
   "outputs": [],
   "source": [
    "result = result + 1 # équivaut à result += 1"
   ]
  },
  {
   "cell_type": "code",
   "execution_count": 278,
   "id": "young-relationship",
   "metadata": {},
   "outputs": [
    {
     "data": {
      "text/plain": [
       "97"
      ]
     },
     "execution_count": 278,
     "metadata": {},
     "output_type": "execute_result"
    }
   ],
   "source": [
    "ord(\"a\")"
   ]
  },
  {
   "cell_type": "code",
   "execution_count": 279,
   "id": "promising-westminster",
   "metadata": {},
   "outputs": [
    {
     "data": {
      "text/plain": [
       "274877906944"
      ]
     },
     "execution_count": 279,
     "metadata": {},
     "output_type": "execute_result"
    }
   ],
   "source": [
    "2 ** 38"
   ]
  },
  {
   "cell_type": "code",
   "execution_count": null,
   "id": "sufficient-tuner",
   "metadata": {},
   "outputs": [],
   "source": []
  }
 ],
 "metadata": {
  "kernelspec": {
   "display_name": "Python 3",
   "language": "python",
   "name": "python3"
  },
  "language_info": {
   "codemirror_mode": {
    "name": "ipython",
    "version": 3
   },
   "file_extension": ".py",
   "mimetype": "text/x-python",
   "name": "python",
   "nbconvert_exporter": "python",
   "pygments_lexer": "ipython3",
   "version": "3.8.5"
  }
 },
 "nbformat": 4,
 "nbformat_minor": 5
}
